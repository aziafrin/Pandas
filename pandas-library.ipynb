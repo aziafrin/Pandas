{
 "cells": [
  {
   "cell_type": "markdown",
   "id": "f772a022",
   "metadata": {
    "_cell_guid": "b1076dfc-b9ad-4769-8c92-a6c4dae69d19",
    "_uuid": "8f2839f25d086af736a60e9eeb907d3b93b6e0e5",
    "papermill": {
     "duration": 0.011713,
     "end_time": "2022-12-03T05:55:36.814086",
     "exception": false,
     "start_time": "2022-12-03T05:55:36.802373",
     "status": "completed"
    },
    "tags": []
   },
   "source": [
    "Working with series data type in python"
   ]
  },
  {
   "cell_type": "code",
   "execution_count": 1,
   "id": "51ac722f",
   "metadata": {
    "execution": {
     "iopub.execute_input": "2022-12-03T05:55:36.839891Z",
     "iopub.status.busy": "2022-12-03T05:55:36.838747Z",
     "iopub.status.idle": "2022-12-03T05:55:36.852862Z",
     "shell.execute_reply": "2022-12-03T05:55:36.851869Z"
    },
    "papermill": {
     "duration": 0.028933,
     "end_time": "2022-12-03T05:55:36.856120",
     "exception": false,
     "start_time": "2022-12-03T05:55:36.827187",
     "status": "completed"
    },
    "tags": []
   },
   "outputs": [],
   "source": [
    "import numpy as np"
   ]
  },
  {
   "cell_type": "code",
   "execution_count": 2,
   "id": "0d5ed6eb",
   "metadata": {
    "execution": {
     "iopub.execute_input": "2022-12-03T05:55:36.880508Z",
     "iopub.status.busy": "2022-12-03T05:55:36.879772Z",
     "iopub.status.idle": "2022-12-03T05:55:36.884045Z",
     "shell.execute_reply": "2022-12-03T05:55:36.883177Z"
    },
    "papermill": {
     "duration": 0.019463,
     "end_time": "2022-12-03T05:55:36.886316",
     "exception": false,
     "start_time": "2022-12-03T05:55:36.866853",
     "status": "completed"
    },
    "tags": []
   },
   "outputs": [],
   "source": [
    "import pandas as pd"
   ]
  },
  {
   "cell_type": "code",
   "execution_count": 3,
   "id": "025c35a0",
   "metadata": {
    "execution": {
     "iopub.execute_input": "2022-12-03T05:55:36.902924Z",
     "iopub.status.busy": "2022-12-03T05:55:36.902185Z",
     "iopub.status.idle": "2022-12-03T05:55:36.909659Z",
     "shell.execute_reply": "2022-12-03T05:55:36.907352Z"
    },
    "papermill": {
     "duration": 0.019392,
     "end_time": "2022-12-03T05:55:36.912819",
     "exception": false,
     "start_time": "2022-12-03T05:55:36.893427",
     "status": "completed"
    },
    "tags": []
   },
   "outputs": [],
   "source": [
    "a1=['a','b','c']\n",
    "my_data=[50,70,30]\n",
    "ar=np.array(my_data)\n",
    "d={'a':50,'b':70,'c':30}"
   ]
  },
  {
   "cell_type": "code",
   "execution_count": 4,
   "id": "645214bf",
   "metadata": {
    "execution": {
     "iopub.execute_input": "2022-12-03T05:55:36.929796Z",
     "iopub.status.busy": "2022-12-03T05:55:36.929025Z",
     "iopub.status.idle": "2022-12-03T05:55:36.946544Z",
     "shell.execute_reply": "2022-12-03T05:55:36.945243Z"
    },
    "papermill": {
     "duration": 0.029169,
     "end_time": "2022-12-03T05:55:36.949295",
     "exception": false,
     "start_time": "2022-12-03T05:55:36.920126",
     "status": "completed"
    },
    "tags": []
   },
   "outputs": [
    {
     "data": {
      "text/plain": [
       "a    50\n",
       "b    70\n",
       "c    30\n",
       "dtype: int64"
      ]
     },
     "execution_count": 4,
     "metadata": {},
     "output_type": "execute_result"
    }
   ],
   "source": [
    "pd.Series(data=my_data, index=a1)"
   ]
  },
  {
   "cell_type": "code",
   "execution_count": 5,
   "id": "7711bb2e",
   "metadata": {
    "execution": {
     "iopub.execute_input": "2022-12-03T05:55:36.967770Z",
     "iopub.status.busy": "2022-12-03T05:55:36.967090Z",
     "iopub.status.idle": "2022-12-03T05:55:36.975568Z",
     "shell.execute_reply": "2022-12-03T05:55:36.974375Z"
    },
    "papermill": {
     "duration": 0.021381,
     "end_time": "2022-12-03T05:55:36.977972",
     "exception": false,
     "start_time": "2022-12-03T05:55:36.956591",
     "status": "completed"
    },
    "tags": []
   },
   "outputs": [
    {
     "data": {
      "text/plain": [
       "a    50\n",
       "b    70\n",
       "c    30\n",
       "dtype: int64"
      ]
     },
     "execution_count": 5,
     "metadata": {},
     "output_type": "execute_result"
    }
   ],
   "source": [
    "#same thing could be done with\n",
    "pd.Series(my_data,a1)"
   ]
  },
  {
   "cell_type": "code",
   "execution_count": 6,
   "id": "29549507",
   "metadata": {
    "execution": {
     "iopub.execute_input": "2022-12-03T05:55:36.994908Z",
     "iopub.status.busy": "2022-12-03T05:55:36.994196Z",
     "iopub.status.idle": "2022-12-03T05:55:37.003423Z",
     "shell.execute_reply": "2022-12-03T05:55:37.001923Z"
    },
    "papermill": {
     "duration": 0.020779,
     "end_time": "2022-12-03T05:55:37.006031",
     "exception": false,
     "start_time": "2022-12-03T05:55:36.985252",
     "status": "completed"
    },
    "tags": []
   },
   "outputs": [
    {
     "data": {
      "text/plain": [
       "a    50\n",
       "b    70\n",
       "c    30\n",
       "dtype: int64"
      ]
     },
     "execution_count": 6,
     "metadata": {},
     "output_type": "execute_result"
    }
   ],
   "source": [
    "pd.Series(d)"
   ]
  },
  {
   "cell_type": "code",
   "execution_count": 7,
   "id": "4461a1f5",
   "metadata": {
    "execution": {
     "iopub.execute_input": "2022-12-03T05:55:37.028159Z",
     "iopub.status.busy": "2022-12-03T05:55:37.027583Z",
     "iopub.status.idle": "2022-12-03T05:55:37.039255Z",
     "shell.execute_reply": "2022-12-03T05:55:37.037618Z"
    },
    "papermill": {
     "duration": 0.02855,
     "end_time": "2022-12-03T05:55:37.042095",
     "exception": false,
     "start_time": "2022-12-03T05:55:37.013545",
     "status": "completed"
    },
    "tags": []
   },
   "outputs": [
    {
     "data": {
      "text/plain": [
       "0      <built-in function sum>\n",
       "1    <built-in function print>\n",
       "2      <built-in function len>\n",
       "dtype: object"
      ]
     },
     "execution_count": 7,
     "metadata": {},
     "output_type": "execute_result"
    }
   ],
   "source": [
    "pd.Series(data=[sum,print,len])"
   ]
  },
  {
   "cell_type": "code",
   "execution_count": 8,
   "id": "be2e47a1",
   "metadata": {
    "execution": {
     "iopub.execute_input": "2022-12-03T05:55:37.063159Z",
     "iopub.status.busy": "2022-12-03T05:55:37.062573Z",
     "iopub.status.idle": "2022-12-03T05:55:37.069487Z",
     "shell.execute_reply": "2022-12-03T05:55:37.068291Z"
    },
    "papermill": {
     "duration": 0.021773,
     "end_time": "2022-12-03T05:55:37.072637",
     "exception": false,
     "start_time": "2022-12-03T05:55:37.050864",
     "status": "completed"
    },
    "tags": []
   },
   "outputs": [],
   "source": [
    "series1=pd.Series([1,2,3,4],['A','B','C','D'])"
   ]
  },
  {
   "cell_type": "code",
   "execution_count": 9,
   "id": "4e6abaf0",
   "metadata": {
    "execution": {
     "iopub.execute_input": "2022-12-03T05:55:37.096341Z",
     "iopub.status.busy": "2022-12-03T05:55:37.095364Z",
     "iopub.status.idle": "2022-12-03T05:55:37.104557Z",
     "shell.execute_reply": "2022-12-03T05:55:37.103174Z"
    },
    "papermill": {
     "duration": 0.023084,
     "end_time": "2022-12-03T05:55:37.107705",
     "exception": false,
     "start_time": "2022-12-03T05:55:37.084621",
     "status": "completed"
    },
    "tags": []
   },
   "outputs": [
    {
     "data": {
      "text/plain": [
       "A    1\n",
       "B    2\n",
       "C    3\n",
       "D    4\n",
       "dtype: int64"
      ]
     },
     "execution_count": 9,
     "metadata": {},
     "output_type": "execute_result"
    }
   ],
   "source": [
    "series1"
   ]
  },
  {
   "cell_type": "code",
   "execution_count": 10,
   "id": "a11e67e6",
   "metadata": {
    "execution": {
     "iopub.execute_input": "2022-12-03T05:55:37.126605Z",
     "iopub.status.busy": "2022-12-03T05:55:37.126186Z",
     "iopub.status.idle": "2022-12-03T05:55:37.137416Z",
     "shell.execute_reply": "2022-12-03T05:55:37.136170Z"
    },
    "papermill": {
     "duration": 0.022954,
     "end_time": "2022-12-03T05:55:37.139834",
     "exception": false,
     "start_time": "2022-12-03T05:55:37.116880",
     "status": "completed"
    },
    "tags": []
   },
   "outputs": [
    {
     "data": {
      "text/plain": [
       "1"
      ]
     },
     "execution_count": 10,
     "metadata": {},
     "output_type": "execute_result"
    }
   ],
   "source": [
    "series1['A']"
   ]
  },
  {
   "cell_type": "markdown",
   "id": "ff12a0a7",
   "metadata": {
    "papermill": {
     "duration": 0.00733,
     "end_time": "2022-12-03T05:55:37.155029",
     "exception": false,
     "start_time": "2022-12-03T05:55:37.147699",
     "status": "completed"
    },
    "tags": []
   },
   "source": [
    "## Pandas-Dataframes"
   ]
  },
  {
   "cell_type": "code",
   "execution_count": 11,
   "id": "bc09c95f",
   "metadata": {
    "execution": {
     "iopub.execute_input": "2022-12-03T05:55:37.172062Z",
     "iopub.status.busy": "2022-12-03T05:55:37.171672Z",
     "iopub.status.idle": "2022-12-03T05:55:37.176595Z",
     "shell.execute_reply": "2022-12-03T05:55:37.175400Z"
    },
    "papermill": {
     "duration": 0.016149,
     "end_time": "2022-12-03T05:55:37.178876",
     "exception": false,
     "start_time": "2022-12-03T05:55:37.162727",
     "status": "completed"
    },
    "tags": []
   },
   "outputs": [],
   "source": [
    "import numpy as np\n",
    "import pandas as pd"
   ]
  },
  {
   "cell_type": "code",
   "execution_count": 12,
   "id": "e37eb1d7",
   "metadata": {
    "execution": {
     "iopub.execute_input": "2022-12-03T05:55:37.196181Z",
     "iopub.status.busy": "2022-12-03T05:55:37.195795Z",
     "iopub.status.idle": "2022-12-03T05:55:37.200888Z",
     "shell.execute_reply": "2022-12-03T05:55:37.199744Z"
    },
    "papermill": {
     "duration": 0.016572,
     "end_time": "2022-12-03T05:55:37.203244",
     "exception": false,
     "start_time": "2022-12-03T05:55:37.186672",
     "status": "completed"
    },
    "tags": []
   },
   "outputs": [],
   "source": [
    "from numpy.random import randn"
   ]
  },
  {
   "cell_type": "code",
   "execution_count": 13,
   "id": "384e603e",
   "metadata": {
    "execution": {
     "iopub.execute_input": "2022-12-03T05:55:37.221049Z",
     "iopub.status.busy": "2022-12-03T05:55:37.220147Z",
     "iopub.status.idle": "2022-12-03T05:55:37.225935Z",
     "shell.execute_reply": "2022-12-03T05:55:37.225072Z"
    },
    "papermill": {
     "duration": 0.017305,
     "end_time": "2022-12-03T05:55:37.228343",
     "exception": false,
     "start_time": "2022-12-03T05:55:37.211038",
     "status": "completed"
    },
    "tags": []
   },
   "outputs": [],
   "source": [
    "np.random.seed(101)"
   ]
  },
  {
   "cell_type": "code",
   "execution_count": 14,
   "id": "f7da08b7",
   "metadata": {
    "execution": {
     "iopub.execute_input": "2022-12-03T05:55:37.245463Z",
     "iopub.status.busy": "2022-12-03T05:55:37.245045Z",
     "iopub.status.idle": "2022-12-03T05:55:37.273732Z",
     "shell.execute_reply": "2022-12-03T05:55:37.272539Z"
    },
    "papermill": {
     "duration": 0.0401,
     "end_time": "2022-12-03T05:55:37.276147",
     "exception": false,
     "start_time": "2022-12-03T05:55:37.236047",
     "status": "completed"
    },
    "tags": []
   },
   "outputs": [
    {
     "data": {
      "text/html": [
       "<div>\n",
       "<style scoped>\n",
       "    .dataframe tbody tr th:only-of-type {\n",
       "        vertical-align: middle;\n",
       "    }\n",
       "\n",
       "    .dataframe tbody tr th {\n",
       "        vertical-align: top;\n",
       "    }\n",
       "\n",
       "    .dataframe thead th {\n",
       "        text-align: right;\n",
       "    }\n",
       "</style>\n",
       "<table border=\"1\" class=\"dataframe\">\n",
       "  <thead>\n",
       "    <tr style=\"text-align: right;\">\n",
       "      <th></th>\n",
       "      <th>W</th>\n",
       "      <th>X</th>\n",
       "      <th>Y</th>\n",
       "      <th>Z</th>\n",
       "    </tr>\n",
       "  </thead>\n",
       "  <tbody>\n",
       "    <tr>\n",
       "      <th>A</th>\n",
       "      <td>2.706850</td>\n",
       "      <td>0.628133</td>\n",
       "      <td>0.907969</td>\n",
       "      <td>0.503826</td>\n",
       "    </tr>\n",
       "    <tr>\n",
       "      <th>B</th>\n",
       "      <td>0.651118</td>\n",
       "      <td>-0.319318</td>\n",
       "      <td>-0.848077</td>\n",
       "      <td>0.605965</td>\n",
       "    </tr>\n",
       "    <tr>\n",
       "      <th>C</th>\n",
       "      <td>-2.018168</td>\n",
       "      <td>0.740122</td>\n",
       "      <td>0.528813</td>\n",
       "      <td>-0.589001</td>\n",
       "    </tr>\n",
       "    <tr>\n",
       "      <th>D</th>\n",
       "      <td>0.188695</td>\n",
       "      <td>-0.758872</td>\n",
       "      <td>-0.933237</td>\n",
       "      <td>0.955057</td>\n",
       "    </tr>\n",
       "    <tr>\n",
       "      <th>E</th>\n",
       "      <td>0.190794</td>\n",
       "      <td>1.978757</td>\n",
       "      <td>2.605967</td>\n",
       "      <td>0.683509</td>\n",
       "    </tr>\n",
       "  </tbody>\n",
       "</table>\n",
       "</div>"
      ],
      "text/plain": [
       "          W         X         Y         Z\n",
       "A  2.706850  0.628133  0.907969  0.503826\n",
       "B  0.651118 -0.319318 -0.848077  0.605965\n",
       "C -2.018168  0.740122  0.528813 -0.589001\n",
       "D  0.188695 -0.758872 -0.933237  0.955057\n",
       "E  0.190794  1.978757  2.605967  0.683509"
      ]
     },
     "execution_count": 14,
     "metadata": {},
     "output_type": "execute_result"
    }
   ],
   "source": [
    "df=pd.DataFrame(randn(5,4),['A','B','C','D','E'],['W','X','Y','Z'])\n",
    "df"
   ]
  },
  {
   "cell_type": "code",
   "execution_count": 15,
   "id": "1fa857ec",
   "metadata": {
    "execution": {
     "iopub.execute_input": "2022-12-03T05:55:37.294738Z",
     "iopub.status.busy": "2022-12-03T05:55:37.293740Z",
     "iopub.status.idle": "2022-12-03T05:55:37.302427Z",
     "shell.execute_reply": "2022-12-03T05:55:37.301367Z"
    },
    "papermill": {
     "duration": 0.02061,
     "end_time": "2022-12-03T05:55:37.304828",
     "exception": false,
     "start_time": "2022-12-03T05:55:37.284218",
     "status": "completed"
    },
    "tags": []
   },
   "outputs": [
    {
     "data": {
      "text/plain": [
       "A    2.706850\n",
       "B    0.651118\n",
       "C   -2.018168\n",
       "D    0.188695\n",
       "E    0.190794\n",
       "Name: W, dtype: float64"
      ]
     },
     "execution_count": 15,
     "metadata": {},
     "output_type": "execute_result"
    }
   ],
   "source": [
    "#if we want to grab the column 'W',output gives a series\n",
    "df['W']"
   ]
  },
  {
   "cell_type": "code",
   "execution_count": 16,
   "id": "23df78bc",
   "metadata": {
    "execution": {
     "iopub.execute_input": "2022-12-03T05:55:37.324382Z",
     "iopub.status.busy": "2022-12-03T05:55:37.323220Z",
     "iopub.status.idle": "2022-12-03T05:55:37.331706Z",
     "shell.execute_reply": "2022-12-03T05:55:37.330639Z"
    },
    "papermill": {
     "duration": 0.020357,
     "end_time": "2022-12-03T05:55:37.333947",
     "exception": false,
     "start_time": "2022-12-03T05:55:37.313590",
     "status": "completed"
    },
    "tags": []
   },
   "outputs": [
    {
     "data": {
      "text/plain": [
       "A    2.706850\n",
       "B    0.651118\n",
       "C   -2.018168\n",
       "D    0.188695\n",
       "E    0.190794\n",
       "Name: W, dtype: float64"
      ]
     },
     "execution_count": 16,
     "metadata": {},
     "output_type": "execute_result"
    }
   ],
   "source": [
    "#another way to grab a column lie sql\n",
    "df.W"
   ]
  },
  {
   "cell_type": "code",
   "execution_count": 17,
   "id": "8d230858",
   "metadata": {
    "execution": {
     "iopub.execute_input": "2022-12-03T05:55:37.351974Z",
     "iopub.status.busy": "2022-12-03T05:55:37.351556Z",
     "iopub.status.idle": "2022-12-03T05:55:37.368055Z",
     "shell.execute_reply": "2022-12-03T05:55:37.366922Z"
    },
    "papermill": {
     "duration": 0.028124,
     "end_time": "2022-12-03T05:55:37.370294",
     "exception": false,
     "start_time": "2022-12-03T05:55:37.342170",
     "status": "completed"
    },
    "tags": []
   },
   "outputs": [
    {
     "data": {
      "text/html": [
       "<div>\n",
       "<style scoped>\n",
       "    .dataframe tbody tr th:only-of-type {\n",
       "        vertical-align: middle;\n",
       "    }\n",
       "\n",
       "    .dataframe tbody tr th {\n",
       "        vertical-align: top;\n",
       "    }\n",
       "\n",
       "    .dataframe thead th {\n",
       "        text-align: right;\n",
       "    }\n",
       "</style>\n",
       "<table border=\"1\" class=\"dataframe\">\n",
       "  <thead>\n",
       "    <tr style=\"text-align: right;\">\n",
       "      <th></th>\n",
       "      <th>W</th>\n",
       "      <th>Z</th>\n",
       "    </tr>\n",
       "  </thead>\n",
       "  <tbody>\n",
       "    <tr>\n",
       "      <th>A</th>\n",
       "      <td>2.706850</td>\n",
       "      <td>0.503826</td>\n",
       "    </tr>\n",
       "    <tr>\n",
       "      <th>B</th>\n",
       "      <td>0.651118</td>\n",
       "      <td>0.605965</td>\n",
       "    </tr>\n",
       "    <tr>\n",
       "      <th>C</th>\n",
       "      <td>-2.018168</td>\n",
       "      <td>-0.589001</td>\n",
       "    </tr>\n",
       "    <tr>\n",
       "      <th>D</th>\n",
       "      <td>0.188695</td>\n",
       "      <td>0.955057</td>\n",
       "    </tr>\n",
       "    <tr>\n",
       "      <th>E</th>\n",
       "      <td>0.190794</td>\n",
       "      <td>0.683509</td>\n",
       "    </tr>\n",
       "  </tbody>\n",
       "</table>\n",
       "</div>"
      ],
      "text/plain": [
       "          W         Z\n",
       "A  2.706850  0.503826\n",
       "B  0.651118  0.605965\n",
       "C -2.018168 -0.589001\n",
       "D  0.188695  0.955057\n",
       "E  0.190794  0.683509"
      ]
     },
     "execution_count": 17,
     "metadata": {},
     "output_type": "execute_result"
    }
   ],
   "source": [
    "#if we want to grab multiple column ,output gives a dataframe\n",
    "df[['W','Z']]"
   ]
  },
  {
   "cell_type": "code",
   "execution_count": 18,
   "id": "da36a571",
   "metadata": {
    "execution": {
     "iopub.execute_input": "2022-12-03T05:55:37.389470Z",
     "iopub.status.busy": "2022-12-03T05:55:37.389030Z",
     "iopub.status.idle": "2022-12-03T05:55:37.396260Z",
     "shell.execute_reply": "2022-12-03T05:55:37.394987Z"
    },
    "papermill": {
     "duration": 0.019962,
     "end_time": "2022-12-03T05:55:37.398694",
     "exception": false,
     "start_time": "2022-12-03T05:55:37.378732",
     "status": "completed"
    },
    "tags": []
   },
   "outputs": [
    {
     "data": {
      "text/plain": [
       "pandas.core.frame.DataFrame"
      ]
     },
     "execution_count": 18,
     "metadata": {},
     "output_type": "execute_result"
    }
   ],
   "source": [
    "type(df)"
   ]
  },
  {
   "cell_type": "code",
   "execution_count": 19,
   "id": "519824ef",
   "metadata": {
    "execution": {
     "iopub.execute_input": "2022-12-03T05:55:37.417510Z",
     "iopub.status.busy": "2022-12-03T05:55:37.417037Z",
     "iopub.status.idle": "2022-12-03T05:55:37.425720Z",
     "shell.execute_reply": "2022-12-03T05:55:37.424566Z"
    },
    "papermill": {
     "duration": 0.020821,
     "end_time": "2022-12-03T05:55:37.428048",
     "exception": false,
     "start_time": "2022-12-03T05:55:37.407227",
     "status": "completed"
    },
    "tags": []
   },
   "outputs": [],
   "source": [
    "#add a column\n",
    "df['H']=df['W']+df['Z']"
   ]
  },
  {
   "cell_type": "code",
   "execution_count": 20,
   "id": "2af7545b",
   "metadata": {
    "execution": {
     "iopub.execute_input": "2022-12-03T05:55:37.446809Z",
     "iopub.status.busy": "2022-12-03T05:55:37.446394Z",
     "iopub.status.idle": "2022-12-03T05:55:37.460358Z",
     "shell.execute_reply": "2022-12-03T05:55:37.459173Z"
    },
    "papermill": {
     "duration": 0.02609,
     "end_time": "2022-12-03T05:55:37.462732",
     "exception": false,
     "start_time": "2022-12-03T05:55:37.436642",
     "status": "completed"
    },
    "tags": []
   },
   "outputs": [
    {
     "data": {
      "text/html": [
       "<div>\n",
       "<style scoped>\n",
       "    .dataframe tbody tr th:only-of-type {\n",
       "        vertical-align: middle;\n",
       "    }\n",
       "\n",
       "    .dataframe tbody tr th {\n",
       "        vertical-align: top;\n",
       "    }\n",
       "\n",
       "    .dataframe thead th {\n",
       "        text-align: right;\n",
       "    }\n",
       "</style>\n",
       "<table border=\"1\" class=\"dataframe\">\n",
       "  <thead>\n",
       "    <tr style=\"text-align: right;\">\n",
       "      <th></th>\n",
       "      <th>W</th>\n",
       "      <th>X</th>\n",
       "      <th>Y</th>\n",
       "      <th>Z</th>\n",
       "      <th>H</th>\n",
       "    </tr>\n",
       "  </thead>\n",
       "  <tbody>\n",
       "    <tr>\n",
       "      <th>A</th>\n",
       "      <td>2.706850</td>\n",
       "      <td>0.628133</td>\n",
       "      <td>0.907969</td>\n",
       "      <td>0.503826</td>\n",
       "      <td>3.210676</td>\n",
       "    </tr>\n",
       "    <tr>\n",
       "      <th>B</th>\n",
       "      <td>0.651118</td>\n",
       "      <td>-0.319318</td>\n",
       "      <td>-0.848077</td>\n",
       "      <td>0.605965</td>\n",
       "      <td>1.257083</td>\n",
       "    </tr>\n",
       "    <tr>\n",
       "      <th>C</th>\n",
       "      <td>-2.018168</td>\n",
       "      <td>0.740122</td>\n",
       "      <td>0.528813</td>\n",
       "      <td>-0.589001</td>\n",
       "      <td>-2.607169</td>\n",
       "    </tr>\n",
       "    <tr>\n",
       "      <th>D</th>\n",
       "      <td>0.188695</td>\n",
       "      <td>-0.758872</td>\n",
       "      <td>-0.933237</td>\n",
       "      <td>0.955057</td>\n",
       "      <td>1.143752</td>\n",
       "    </tr>\n",
       "    <tr>\n",
       "      <th>E</th>\n",
       "      <td>0.190794</td>\n",
       "      <td>1.978757</td>\n",
       "      <td>2.605967</td>\n",
       "      <td>0.683509</td>\n",
       "      <td>0.874303</td>\n",
       "    </tr>\n",
       "  </tbody>\n",
       "</table>\n",
       "</div>"
      ],
      "text/plain": [
       "          W         X         Y         Z         H\n",
       "A  2.706850  0.628133  0.907969  0.503826  3.210676\n",
       "B  0.651118 -0.319318 -0.848077  0.605965  1.257083\n",
       "C -2.018168  0.740122  0.528813 -0.589001 -2.607169\n",
       "D  0.188695 -0.758872 -0.933237  0.955057  1.143752\n",
       "E  0.190794  1.978757  2.605967  0.683509  0.874303"
      ]
     },
     "execution_count": 20,
     "metadata": {},
     "output_type": "execute_result"
    }
   ],
   "source": [
    "df"
   ]
  },
  {
   "cell_type": "code",
   "execution_count": 21,
   "id": "72881b5d",
   "metadata": {
    "execution": {
     "iopub.execute_input": "2022-12-03T05:55:37.482801Z",
     "iopub.status.busy": "2022-12-03T05:55:37.482396Z",
     "iopub.status.idle": "2022-12-03T05:55:37.495619Z",
     "shell.execute_reply": "2022-12-03T05:55:37.494538Z"
    },
    "papermill": {
     "duration": 0.026241,
     "end_time": "2022-12-03T05:55:37.498424",
     "exception": false,
     "start_time": "2022-12-03T05:55:37.472183",
     "status": "completed"
    },
    "tags": []
   },
   "outputs": [
    {
     "data": {
      "text/html": [
       "<div>\n",
       "<style scoped>\n",
       "    .dataframe tbody tr th:only-of-type {\n",
       "        vertical-align: middle;\n",
       "    }\n",
       "\n",
       "    .dataframe tbody tr th {\n",
       "        vertical-align: top;\n",
       "    }\n",
       "\n",
       "    .dataframe thead th {\n",
       "        text-align: right;\n",
       "    }\n",
       "</style>\n",
       "<table border=\"1\" class=\"dataframe\">\n",
       "  <thead>\n",
       "    <tr style=\"text-align: right;\">\n",
       "      <th></th>\n",
       "      <th>W</th>\n",
       "      <th>X</th>\n",
       "      <th>Y</th>\n",
       "      <th>Z</th>\n",
       "    </tr>\n",
       "  </thead>\n",
       "  <tbody>\n",
       "    <tr>\n",
       "      <th>A</th>\n",
       "      <td>2.706850</td>\n",
       "      <td>0.628133</td>\n",
       "      <td>0.907969</td>\n",
       "      <td>0.503826</td>\n",
       "    </tr>\n",
       "    <tr>\n",
       "      <th>B</th>\n",
       "      <td>0.651118</td>\n",
       "      <td>-0.319318</td>\n",
       "      <td>-0.848077</td>\n",
       "      <td>0.605965</td>\n",
       "    </tr>\n",
       "    <tr>\n",
       "      <th>C</th>\n",
       "      <td>-2.018168</td>\n",
       "      <td>0.740122</td>\n",
       "      <td>0.528813</td>\n",
       "      <td>-0.589001</td>\n",
       "    </tr>\n",
       "    <tr>\n",
       "      <th>D</th>\n",
       "      <td>0.188695</td>\n",
       "      <td>-0.758872</td>\n",
       "      <td>-0.933237</td>\n",
       "      <td>0.955057</td>\n",
       "    </tr>\n",
       "    <tr>\n",
       "      <th>E</th>\n",
       "      <td>0.190794</td>\n",
       "      <td>1.978757</td>\n",
       "      <td>2.605967</td>\n",
       "      <td>0.683509</td>\n",
       "    </tr>\n",
       "  </tbody>\n",
       "</table>\n",
       "</div>"
      ],
      "text/plain": [
       "          W         X         Y         Z\n",
       "A  2.706850  0.628133  0.907969  0.503826\n",
       "B  0.651118 -0.319318 -0.848077  0.605965\n",
       "C -2.018168  0.740122  0.528813 -0.589001\n",
       "D  0.188695 -0.758872 -0.933237  0.955057\n",
       "E  0.190794  1.978757  2.605967  0.683509"
      ]
     },
     "execution_count": 21,
     "metadata": {},
     "output_type": "execute_result"
    }
   ],
   "source": [
    "#delete a column\n",
    "df.drop('H',axis=1)\n",
    "#but if you run again the dataframe new column is still there, so we have to add another argument"
   ]
  },
  {
   "cell_type": "code",
   "execution_count": 22,
   "id": "53b5d226",
   "metadata": {
    "execution": {
     "iopub.execute_input": "2022-12-03T05:55:37.519052Z",
     "iopub.status.busy": "2022-12-03T05:55:37.518397Z",
     "iopub.status.idle": "2022-12-03T05:55:37.524205Z",
     "shell.execute_reply": "2022-12-03T05:55:37.523427Z"
    },
    "papermill": {
     "duration": 0.019066,
     "end_time": "2022-12-03T05:55:37.526498",
     "exception": false,
     "start_time": "2022-12-03T05:55:37.507432",
     "status": "completed"
    },
    "tags": []
   },
   "outputs": [],
   "source": [
    "df.drop('H',axis=1,inplace=True) \n",
    "#this parmanently delete the column"
   ]
  },
  {
   "cell_type": "code",
   "execution_count": 23,
   "id": "149a6717",
   "metadata": {
    "execution": {
     "iopub.execute_input": "2022-12-03T05:55:37.546977Z",
     "iopub.status.busy": "2022-12-03T05:55:37.546060Z",
     "iopub.status.idle": "2022-12-03T05:55:37.559663Z",
     "shell.execute_reply": "2022-12-03T05:55:37.558330Z"
    },
    "papermill": {
     "duration": 0.026573,
     "end_time": "2022-12-03T05:55:37.562077",
     "exception": false,
     "start_time": "2022-12-03T05:55:37.535504",
     "status": "completed"
    },
    "tags": []
   },
   "outputs": [
    {
     "data": {
      "text/html": [
       "<div>\n",
       "<style scoped>\n",
       "    .dataframe tbody tr th:only-of-type {\n",
       "        vertical-align: middle;\n",
       "    }\n",
       "\n",
       "    .dataframe tbody tr th {\n",
       "        vertical-align: top;\n",
       "    }\n",
       "\n",
       "    .dataframe thead th {\n",
       "        text-align: right;\n",
       "    }\n",
       "</style>\n",
       "<table border=\"1\" class=\"dataframe\">\n",
       "  <thead>\n",
       "    <tr style=\"text-align: right;\">\n",
       "      <th></th>\n",
       "      <th>W</th>\n",
       "      <th>X</th>\n",
       "      <th>Y</th>\n",
       "      <th>Z</th>\n",
       "    </tr>\n",
       "  </thead>\n",
       "  <tbody>\n",
       "    <tr>\n",
       "      <th>A</th>\n",
       "      <td>2.706850</td>\n",
       "      <td>0.628133</td>\n",
       "      <td>0.907969</td>\n",
       "      <td>0.503826</td>\n",
       "    </tr>\n",
       "    <tr>\n",
       "      <th>B</th>\n",
       "      <td>0.651118</td>\n",
       "      <td>-0.319318</td>\n",
       "      <td>-0.848077</td>\n",
       "      <td>0.605965</td>\n",
       "    </tr>\n",
       "    <tr>\n",
       "      <th>C</th>\n",
       "      <td>-2.018168</td>\n",
       "      <td>0.740122</td>\n",
       "      <td>0.528813</td>\n",
       "      <td>-0.589001</td>\n",
       "    </tr>\n",
       "    <tr>\n",
       "      <th>D</th>\n",
       "      <td>0.188695</td>\n",
       "      <td>-0.758872</td>\n",
       "      <td>-0.933237</td>\n",
       "      <td>0.955057</td>\n",
       "    </tr>\n",
       "    <tr>\n",
       "      <th>E</th>\n",
       "      <td>0.190794</td>\n",
       "      <td>1.978757</td>\n",
       "      <td>2.605967</td>\n",
       "      <td>0.683509</td>\n",
       "    </tr>\n",
       "  </tbody>\n",
       "</table>\n",
       "</div>"
      ],
      "text/plain": [
       "          W         X         Y         Z\n",
       "A  2.706850  0.628133  0.907969  0.503826\n",
       "B  0.651118 -0.319318 -0.848077  0.605965\n",
       "C -2.018168  0.740122  0.528813 -0.589001\n",
       "D  0.188695 -0.758872 -0.933237  0.955057\n",
       "E  0.190794  1.978757  2.605967  0.683509"
      ]
     },
     "execution_count": 23,
     "metadata": {},
     "output_type": "execute_result"
    }
   ],
   "source": [
    "df"
   ]
  },
  {
   "cell_type": "code",
   "execution_count": 24,
   "id": "196d938e",
   "metadata": {
    "execution": {
     "iopub.execute_input": "2022-12-03T05:55:37.583213Z",
     "iopub.status.busy": "2022-12-03T05:55:37.582546Z",
     "iopub.status.idle": "2022-12-03T05:55:37.590643Z",
     "shell.execute_reply": "2022-12-03T05:55:37.589549Z"
    },
    "papermill": {
     "duration": 0.02167,
     "end_time": "2022-12-03T05:55:37.592887",
     "exception": false,
     "start_time": "2022-12-03T05:55:37.571217",
     "status": "completed"
    },
    "tags": []
   },
   "outputs": [
    {
     "data": {
      "text/plain": [
       "W    2.706850\n",
       "X    0.628133\n",
       "Y    0.907969\n",
       "Z    0.503826\n",
       "Name: A, dtype: float64"
      ]
     },
     "execution_count": 24,
     "metadata": {},
     "output_type": "execute_result"
    }
   ],
   "source": [
    "#selecting rows,labelbased index\n",
    "df.loc['A']"
   ]
  },
  {
   "cell_type": "code",
   "execution_count": 25,
   "id": "83847b2b",
   "metadata": {
    "execution": {
     "iopub.execute_input": "2022-12-03T05:55:37.614172Z",
     "iopub.status.busy": "2022-12-03T05:55:37.613526Z",
     "iopub.status.idle": "2022-12-03T05:55:37.622255Z",
     "shell.execute_reply": "2022-12-03T05:55:37.621085Z"
    },
    "papermill": {
     "duration": 0.022093,
     "end_time": "2022-12-03T05:55:37.624614",
     "exception": false,
     "start_time": "2022-12-03T05:55:37.602521",
     "status": "completed"
    },
    "tags": []
   },
   "outputs": [
    {
     "data": {
      "text/plain": [
       "W   -2.018168\n",
       "X    0.740122\n",
       "Y    0.528813\n",
       "Z   -0.589001\n",
       "Name: C, dtype: float64"
      ]
     },
     "execution_count": 25,
     "metadata": {},
     "output_type": "execute_result"
    }
   ],
   "source": [
    "#index based\n",
    "df.iloc[2]"
   ]
  },
  {
   "cell_type": "code",
   "execution_count": 26,
   "id": "281ce878",
   "metadata": {
    "execution": {
     "iopub.execute_input": "2022-12-03T05:55:37.646476Z",
     "iopub.status.busy": "2022-12-03T05:55:37.645801Z",
     "iopub.status.idle": "2022-12-03T05:55:37.653003Z",
     "shell.execute_reply": "2022-12-03T05:55:37.651884Z"
    },
    "papermill": {
     "duration": 0.020676,
     "end_time": "2022-12-03T05:55:37.655162",
     "exception": false,
     "start_time": "2022-12-03T05:55:37.634486",
     "status": "completed"
    },
    "tags": []
   },
   "outputs": [
    {
     "data": {
      "text/plain": [
       "-0.8480769834036315"
      ]
     },
     "execution_count": 26,
     "metadata": {},
     "output_type": "execute_result"
    }
   ],
   "source": [
    "df.loc['B','Y']"
   ]
  },
  {
   "cell_type": "code",
   "execution_count": 27,
   "id": "0eb61304",
   "metadata": {
    "execution": {
     "iopub.execute_input": "2022-12-03T05:55:37.676156Z",
     "iopub.status.busy": "2022-12-03T05:55:37.675510Z",
     "iopub.status.idle": "2022-12-03T05:55:37.687734Z",
     "shell.execute_reply": "2022-12-03T05:55:37.686615Z"
    },
    "papermill": {
     "duration": 0.025295,
     "end_time": "2022-12-03T05:55:37.689938",
     "exception": false,
     "start_time": "2022-12-03T05:55:37.664643",
     "status": "completed"
    },
    "tags": []
   },
   "outputs": [
    {
     "data": {
      "text/html": [
       "<div>\n",
       "<style scoped>\n",
       "    .dataframe tbody tr th:only-of-type {\n",
       "        vertical-align: middle;\n",
       "    }\n",
       "\n",
       "    .dataframe tbody tr th {\n",
       "        vertical-align: top;\n",
       "    }\n",
       "\n",
       "    .dataframe thead th {\n",
       "        text-align: right;\n",
       "    }\n",
       "</style>\n",
       "<table border=\"1\" class=\"dataframe\">\n",
       "  <thead>\n",
       "    <tr style=\"text-align: right;\">\n",
       "      <th></th>\n",
       "      <th>W</th>\n",
       "      <th>Y</th>\n",
       "    </tr>\n",
       "  </thead>\n",
       "  <tbody>\n",
       "    <tr>\n",
       "      <th>A</th>\n",
       "      <td>2.706850</td>\n",
       "      <td>0.907969</td>\n",
       "    </tr>\n",
       "    <tr>\n",
       "      <th>B</th>\n",
       "      <td>0.651118</td>\n",
       "      <td>-0.848077</td>\n",
       "    </tr>\n",
       "  </tbody>\n",
       "</table>\n",
       "</div>"
      ],
      "text/plain": [
       "          W         Y\n",
       "A  2.706850  0.907969\n",
       "B  0.651118 -0.848077"
      ]
     },
     "execution_count": 27,
     "metadata": {},
     "output_type": "execute_result"
    }
   ],
   "source": [
    "df.loc[['A','B'],['W','Y']]"
   ]
  },
  {
   "cell_type": "code",
   "execution_count": null,
   "id": "bd41764f",
   "metadata": {
    "papermill": {
     "duration": 0.010161,
     "end_time": "2022-12-03T05:55:37.710691",
     "exception": false,
     "start_time": "2022-12-03T05:55:37.700530",
     "status": "completed"
    },
    "tags": []
   },
   "outputs": [],
   "source": []
  }
 ],
 "metadata": {
  "kernelspec": {
   "display_name": "Python 3",
   "language": "python",
   "name": "python3"
  },
  "language_info": {
   "codemirror_mode": {
    "name": "ipython",
    "version": 3
   },
   "file_extension": ".py",
   "mimetype": "text/x-python",
   "name": "python",
   "nbconvert_exporter": "python",
   "pygments_lexer": "ipython3",
   "version": "3.7.12"
  },
  "papermill": {
   "default_parameters": {},
   "duration": 10.805164,
   "end_time": "2022-12-03T05:55:38.443159",
   "environment_variables": {},
   "exception": null,
   "input_path": "__notebook__.ipynb",
   "output_path": "__notebook__.ipynb",
   "parameters": {},
   "start_time": "2022-12-03T05:55:27.637995",
   "version": "2.3.4"
  }
 },
 "nbformat": 4,
 "nbformat_minor": 5
}
