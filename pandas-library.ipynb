{
 "cells": [
  {
   "cell_type": "markdown",
   "id": "233bf5f2",
   "metadata": {
    "_cell_guid": "b1076dfc-b9ad-4769-8c92-a6c4dae69d19",
    "_uuid": "8f2839f25d086af736a60e9eeb907d3b93b6e0e5",
    "papermill": {
     "duration": 0.016914,
     "end_time": "2022-12-05T11:01:40.214417",
     "exception": false,
     "start_time": "2022-12-05T11:01:40.197503",
     "status": "completed"
    },
    "tags": []
   },
   "source": [
    "Working with series data type in python"
   ]
  },
  {
   "cell_type": "code",
   "execution_count": 1,
   "id": "a08254a2",
   "metadata": {
    "execution": {
     "iopub.execute_input": "2022-12-05T11:01:40.250685Z",
     "iopub.status.busy": "2022-12-05T11:01:40.249117Z",
     "iopub.status.idle": "2022-12-05T11:01:40.261066Z",
     "shell.execute_reply": "2022-12-05T11:01:40.260194Z"
    },
    "papermill": {
     "duration": 0.032862,
     "end_time": "2022-12-05T11:01:40.263297",
     "exception": false,
     "start_time": "2022-12-05T11:01:40.230435",
     "status": "completed"
    },
    "tags": []
   },
   "outputs": [],
   "source": [
    "import numpy as np"
   ]
  },
  {
   "cell_type": "code",
   "execution_count": 2,
   "id": "040a82d4",
   "metadata": {
    "execution": {
     "iopub.execute_input": "2022-12-05T11:01:40.294958Z",
     "iopub.status.busy": "2022-12-05T11:01:40.294156Z",
     "iopub.status.idle": "2022-12-05T11:01:40.299093Z",
     "shell.execute_reply": "2022-12-05T11:01:40.298127Z"
    },
    "papermill": {
     "duration": 0.023429,
     "end_time": "2022-12-05T11:01:40.301282",
     "exception": false,
     "start_time": "2022-12-05T11:01:40.277853",
     "status": "completed"
    },
    "tags": []
   },
   "outputs": [],
   "source": [
    "import pandas as pd"
   ]
  },
  {
   "cell_type": "code",
   "execution_count": 3,
   "id": "c0299da4",
   "metadata": {
    "execution": {
     "iopub.execute_input": "2022-12-05T11:01:40.332724Z",
     "iopub.status.busy": "2022-12-05T11:01:40.331791Z",
     "iopub.status.idle": "2022-12-05T11:01:40.337637Z",
     "shell.execute_reply": "2022-12-05T11:01:40.336578Z"
    },
    "papermill": {
     "duration": 0.024003,
     "end_time": "2022-12-05T11:01:40.339889",
     "exception": false,
     "start_time": "2022-12-05T11:01:40.315886",
     "status": "completed"
    },
    "tags": []
   },
   "outputs": [],
   "source": [
    "a1=['a','b','c']\n",
    "my_data=[50,70,30]\n",
    "ar=np.array(my_data)\n",
    "d={'a':50,'b':70,'c':30}"
   ]
  },
  {
   "cell_type": "code",
   "execution_count": 4,
   "id": "4eead85c",
   "metadata": {
    "execution": {
     "iopub.execute_input": "2022-12-05T11:01:40.371623Z",
     "iopub.status.busy": "2022-12-05T11:01:40.370279Z",
     "iopub.status.idle": "2022-12-05T11:01:40.391885Z",
     "shell.execute_reply": "2022-12-05T11:01:40.390038Z"
    },
    "papermill": {
     "duration": 0.04304,
     "end_time": "2022-12-05T11:01:40.397251",
     "exception": false,
     "start_time": "2022-12-05T11:01:40.354211",
     "status": "completed"
    },
    "tags": []
   },
   "outputs": [
    {
     "data": {
      "text/plain": [
       "a    50\n",
       "b    70\n",
       "c    30\n",
       "dtype: int64"
      ]
     },
     "execution_count": 4,
     "metadata": {},
     "output_type": "execute_result"
    }
   ],
   "source": [
    "pd.Series(data=my_data, index=a1)"
   ]
  },
  {
   "cell_type": "code",
   "execution_count": 5,
   "id": "7348bde7",
   "metadata": {
    "execution": {
     "iopub.execute_input": "2022-12-05T11:01:40.431886Z",
     "iopub.status.busy": "2022-12-05T11:01:40.431260Z",
     "iopub.status.idle": "2022-12-05T11:01:40.441280Z",
     "shell.execute_reply": "2022-12-05T11:01:40.440067Z"
    },
    "papermill": {
     "duration": 0.030374,
     "end_time": "2022-12-05T11:01:40.443624",
     "exception": false,
     "start_time": "2022-12-05T11:01:40.413250",
     "status": "completed"
    },
    "tags": []
   },
   "outputs": [
    {
     "data": {
      "text/plain": [
       "a    50\n",
       "b    70\n",
       "c    30\n",
       "dtype: int64"
      ]
     },
     "execution_count": 5,
     "metadata": {},
     "output_type": "execute_result"
    }
   ],
   "source": [
    "#same thing could be done with\n",
    "pd.Series(my_data,a1)"
   ]
  },
  {
   "cell_type": "code",
   "execution_count": 6,
   "id": "60dbf6d4",
   "metadata": {
    "execution": {
     "iopub.execute_input": "2022-12-05T11:01:40.477820Z",
     "iopub.status.busy": "2022-12-05T11:01:40.477043Z",
     "iopub.status.idle": "2022-12-05T11:01:40.486496Z",
     "shell.execute_reply": "2022-12-05T11:01:40.485427Z"
    },
    "papermill": {
     "duration": 0.0303,
     "end_time": "2022-12-05T11:01:40.489491",
     "exception": false,
     "start_time": "2022-12-05T11:01:40.459191",
     "status": "completed"
    },
    "tags": []
   },
   "outputs": [
    {
     "data": {
      "text/plain": [
       "a    50\n",
       "b    70\n",
       "c    30\n",
       "dtype: int64"
      ]
     },
     "execution_count": 6,
     "metadata": {},
     "output_type": "execute_result"
    }
   ],
   "source": [
    "pd.Series(d)"
   ]
  },
  {
   "cell_type": "code",
   "execution_count": 7,
   "id": "130d1712",
   "metadata": {
    "execution": {
     "iopub.execute_input": "2022-12-05T11:01:40.523108Z",
     "iopub.status.busy": "2022-12-05T11:01:40.522436Z",
     "iopub.status.idle": "2022-12-05T11:01:40.530509Z",
     "shell.execute_reply": "2022-12-05T11:01:40.529235Z"
    },
    "papermill": {
     "duration": 0.027945,
     "end_time": "2022-12-05T11:01:40.533143",
     "exception": false,
     "start_time": "2022-12-05T11:01:40.505198",
     "status": "completed"
    },
    "tags": []
   },
   "outputs": [
    {
     "data": {
      "text/plain": [
       "0      <built-in function sum>\n",
       "1    <built-in function print>\n",
       "2      <built-in function len>\n",
       "dtype: object"
      ]
     },
     "execution_count": 7,
     "metadata": {},
     "output_type": "execute_result"
    }
   ],
   "source": [
    "pd.Series(data=[sum,print,len])"
   ]
  },
  {
   "cell_type": "code",
   "execution_count": 8,
   "id": "ea90354f",
   "metadata": {
    "execution": {
     "iopub.execute_input": "2022-12-05T11:01:40.567108Z",
     "iopub.status.busy": "2022-12-05T11:01:40.566704Z",
     "iopub.status.idle": "2022-12-05T11:01:40.572614Z",
     "shell.execute_reply": "2022-12-05T11:01:40.571326Z"
    },
    "papermill": {
     "duration": 0.025447,
     "end_time": "2022-12-05T11:01:40.575161",
     "exception": false,
     "start_time": "2022-12-05T11:01:40.549714",
     "status": "completed"
    },
    "tags": []
   },
   "outputs": [],
   "source": [
    "series1=pd.Series([1,2,3,4],['A','B','C','D'])"
   ]
  },
  {
   "cell_type": "code",
   "execution_count": 9,
   "id": "4add543a",
   "metadata": {
    "execution": {
     "iopub.execute_input": "2022-12-05T11:01:40.609226Z",
     "iopub.status.busy": "2022-12-05T11:01:40.608584Z",
     "iopub.status.idle": "2022-12-05T11:01:40.615801Z",
     "shell.execute_reply": "2022-12-05T11:01:40.614760Z"
    },
    "papermill": {
     "duration": 0.032367,
     "end_time": "2022-12-05T11:01:40.622608",
     "exception": false,
     "start_time": "2022-12-05T11:01:40.590241",
     "status": "completed"
    },
    "tags": []
   },
   "outputs": [
    {
     "data": {
      "text/plain": [
       "A    1\n",
       "B    2\n",
       "C    3\n",
       "D    4\n",
       "dtype: int64"
      ]
     },
     "execution_count": 9,
     "metadata": {},
     "output_type": "execute_result"
    }
   ],
   "source": [
    "series1"
   ]
  },
  {
   "cell_type": "code",
   "execution_count": 10,
   "id": "4c55e683",
   "metadata": {
    "execution": {
     "iopub.execute_input": "2022-12-05T11:01:40.661596Z",
     "iopub.status.busy": "2022-12-05T11:01:40.660808Z",
     "iopub.status.idle": "2022-12-05T11:01:40.677005Z",
     "shell.execute_reply": "2022-12-05T11:01:40.676077Z"
    },
    "papermill": {
     "duration": 0.04161,
     "end_time": "2022-12-05T11:01:40.679623",
     "exception": false,
     "start_time": "2022-12-05T11:01:40.638013",
     "status": "completed"
    },
    "tags": []
   },
   "outputs": [
    {
     "data": {
      "text/plain": [
       "1"
      ]
     },
     "execution_count": 10,
     "metadata": {},
     "output_type": "execute_result"
    }
   ],
   "source": [
    "series1['A']"
   ]
  },
  {
   "cell_type": "markdown",
   "id": "7d45ebe5",
   "metadata": {
    "papermill": {
     "duration": 0.018859,
     "end_time": "2022-12-05T11:01:40.715926",
     "exception": false,
     "start_time": "2022-12-05T11:01:40.697067",
     "status": "completed"
    },
    "tags": []
   },
   "source": [
    "## Pandas-Dataframes"
   ]
  },
  {
   "cell_type": "code",
   "execution_count": 11,
   "id": "f3470d54",
   "metadata": {
    "execution": {
     "iopub.execute_input": "2022-12-05T11:01:40.748160Z",
     "iopub.status.busy": "2022-12-05T11:01:40.747661Z",
     "iopub.status.idle": "2022-12-05T11:01:40.752874Z",
     "shell.execute_reply": "2022-12-05T11:01:40.751565Z"
    },
    "papermill": {
     "duration": 0.024335,
     "end_time": "2022-12-05T11:01:40.755069",
     "exception": false,
     "start_time": "2022-12-05T11:01:40.730734",
     "status": "completed"
    },
    "tags": []
   },
   "outputs": [],
   "source": [
    "import numpy as np\n",
    "import pandas as pd"
   ]
  },
  {
   "cell_type": "code",
   "execution_count": 12,
   "id": "9a39a071",
   "metadata": {
    "execution": {
     "iopub.execute_input": "2022-12-05T11:01:40.787216Z",
     "iopub.status.busy": "2022-12-05T11:01:40.786671Z",
     "iopub.status.idle": "2022-12-05T11:01:40.793185Z",
     "shell.execute_reply": "2022-12-05T11:01:40.791606Z"
    },
    "papermill": {
     "duration": 0.02712,
     "end_time": "2022-12-05T11:01:40.796856",
     "exception": false,
     "start_time": "2022-12-05T11:01:40.769736",
     "status": "completed"
    },
    "tags": []
   },
   "outputs": [],
   "source": [
    "from numpy.random import randn"
   ]
  },
  {
   "cell_type": "code",
   "execution_count": 13,
   "id": "017e1890",
   "metadata": {
    "execution": {
     "iopub.execute_input": "2022-12-05T11:01:40.836283Z",
     "iopub.status.busy": "2022-12-05T11:01:40.835323Z",
     "iopub.status.idle": "2022-12-05T11:01:40.841213Z",
     "shell.execute_reply": "2022-12-05T11:01:40.840216Z"
    },
    "papermill": {
     "duration": 0.032725,
     "end_time": "2022-12-05T11:01:40.846067",
     "exception": false,
     "start_time": "2022-12-05T11:01:40.813342",
     "status": "completed"
    },
    "tags": []
   },
   "outputs": [],
   "source": [
    "np.random.seed(101)"
   ]
  },
  {
   "cell_type": "code",
   "execution_count": 14,
   "id": "20995e47",
   "metadata": {
    "execution": {
     "iopub.execute_input": "2022-12-05T11:01:40.884259Z",
     "iopub.status.busy": "2022-12-05T11:01:40.882703Z",
     "iopub.status.idle": "2022-12-05T11:01:40.916016Z",
     "shell.execute_reply": "2022-12-05T11:01:40.913422Z"
    },
    "papermill": {
     "duration": 0.054685,
     "end_time": "2022-12-05T11:01:40.918927",
     "exception": false,
     "start_time": "2022-12-05T11:01:40.864242",
     "status": "completed"
    },
    "tags": []
   },
   "outputs": [
    {
     "data": {
      "text/html": [
       "<div>\n",
       "<style scoped>\n",
       "    .dataframe tbody tr th:only-of-type {\n",
       "        vertical-align: middle;\n",
       "    }\n",
       "\n",
       "    .dataframe tbody tr th {\n",
       "        vertical-align: top;\n",
       "    }\n",
       "\n",
       "    .dataframe thead th {\n",
       "        text-align: right;\n",
       "    }\n",
       "</style>\n",
       "<table border=\"1\" class=\"dataframe\">\n",
       "  <thead>\n",
       "    <tr style=\"text-align: right;\">\n",
       "      <th></th>\n",
       "      <th>W</th>\n",
       "      <th>X</th>\n",
       "      <th>Y</th>\n",
       "      <th>Z</th>\n",
       "    </tr>\n",
       "  </thead>\n",
       "  <tbody>\n",
       "    <tr>\n",
       "      <th>A</th>\n",
       "      <td>2.706850</td>\n",
       "      <td>0.628133</td>\n",
       "      <td>0.907969</td>\n",
       "      <td>0.503826</td>\n",
       "    </tr>\n",
       "    <tr>\n",
       "      <th>B</th>\n",
       "      <td>0.651118</td>\n",
       "      <td>-0.319318</td>\n",
       "      <td>-0.848077</td>\n",
       "      <td>0.605965</td>\n",
       "    </tr>\n",
       "    <tr>\n",
       "      <th>C</th>\n",
       "      <td>-2.018168</td>\n",
       "      <td>0.740122</td>\n",
       "      <td>0.528813</td>\n",
       "      <td>-0.589001</td>\n",
       "    </tr>\n",
       "    <tr>\n",
       "      <th>D</th>\n",
       "      <td>0.188695</td>\n",
       "      <td>-0.758872</td>\n",
       "      <td>-0.933237</td>\n",
       "      <td>0.955057</td>\n",
       "    </tr>\n",
       "    <tr>\n",
       "      <th>E</th>\n",
       "      <td>0.190794</td>\n",
       "      <td>1.978757</td>\n",
       "      <td>2.605967</td>\n",
       "      <td>0.683509</td>\n",
       "    </tr>\n",
       "  </tbody>\n",
       "</table>\n",
       "</div>"
      ],
      "text/plain": [
       "          W         X         Y         Z\n",
       "A  2.706850  0.628133  0.907969  0.503826\n",
       "B  0.651118 -0.319318 -0.848077  0.605965\n",
       "C -2.018168  0.740122  0.528813 -0.589001\n",
       "D  0.188695 -0.758872 -0.933237  0.955057\n",
       "E  0.190794  1.978757  2.605967  0.683509"
      ]
     },
     "execution_count": 14,
     "metadata": {},
     "output_type": "execute_result"
    }
   ],
   "source": [
    "df=pd.DataFrame(randn(5,4),['A','B','C','D','E'],['W','X','Y','Z'])\n",
    "df"
   ]
  },
  {
   "cell_type": "code",
   "execution_count": 15,
   "id": "9d715ffb",
   "metadata": {
    "execution": {
     "iopub.execute_input": "2022-12-05T11:01:40.954166Z",
     "iopub.status.busy": "2022-12-05T11:01:40.953734Z",
     "iopub.status.idle": "2022-12-05T11:01:40.963516Z",
     "shell.execute_reply": "2022-12-05T11:01:40.962062Z"
    },
    "papermill": {
     "duration": 0.030469,
     "end_time": "2022-12-05T11:01:40.966059",
     "exception": false,
     "start_time": "2022-12-05T11:01:40.935590",
     "status": "completed"
    },
    "tags": []
   },
   "outputs": [
    {
     "data": {
      "text/plain": [
       "A    2.706850\n",
       "B    0.651118\n",
       "C   -2.018168\n",
       "D    0.188695\n",
       "E    0.190794\n",
       "Name: W, dtype: float64"
      ]
     },
     "execution_count": 15,
     "metadata": {},
     "output_type": "execute_result"
    }
   ],
   "source": [
    "#if we want to grab the column 'W',output gives a series\n",
    "df['W']"
   ]
  },
  {
   "cell_type": "code",
   "execution_count": 16,
   "id": "92a51d2b",
   "metadata": {
    "execution": {
     "iopub.execute_input": "2022-12-05T11:01:41.003423Z",
     "iopub.status.busy": "2022-12-05T11:01:41.002659Z",
     "iopub.status.idle": "2022-12-05T11:01:41.014664Z",
     "shell.execute_reply": "2022-12-05T11:01:41.013215Z"
    },
    "papermill": {
     "duration": 0.035573,
     "end_time": "2022-12-05T11:01:41.017269",
     "exception": false,
     "start_time": "2022-12-05T11:01:40.981696",
     "status": "completed"
    },
    "tags": []
   },
   "outputs": [
    {
     "data": {
      "text/plain": [
       "A    2.706850\n",
       "B    0.651118\n",
       "C   -2.018168\n",
       "D    0.188695\n",
       "E    0.190794\n",
       "Name: W, dtype: float64"
      ]
     },
     "execution_count": 16,
     "metadata": {},
     "output_type": "execute_result"
    }
   ],
   "source": [
    "#another way to grab a column lie sql\n",
    "df.W"
   ]
  },
  {
   "cell_type": "code",
   "execution_count": 17,
   "id": "104ddf04",
   "metadata": {
    "execution": {
     "iopub.execute_input": "2022-12-05T11:01:41.063630Z",
     "iopub.status.busy": "2022-12-05T11:01:41.062734Z",
     "iopub.status.idle": "2022-12-05T11:01:41.083041Z",
     "shell.execute_reply": "2022-12-05T11:01:41.081853Z"
    },
    "papermill": {
     "duration": 0.052005,
     "end_time": "2022-12-05T11:01:41.086235",
     "exception": false,
     "start_time": "2022-12-05T11:01:41.034230",
     "status": "completed"
    },
    "tags": []
   },
   "outputs": [
    {
     "data": {
      "text/html": [
       "<div>\n",
       "<style scoped>\n",
       "    .dataframe tbody tr th:only-of-type {\n",
       "        vertical-align: middle;\n",
       "    }\n",
       "\n",
       "    .dataframe tbody tr th {\n",
       "        vertical-align: top;\n",
       "    }\n",
       "\n",
       "    .dataframe thead th {\n",
       "        text-align: right;\n",
       "    }\n",
       "</style>\n",
       "<table border=\"1\" class=\"dataframe\">\n",
       "  <thead>\n",
       "    <tr style=\"text-align: right;\">\n",
       "      <th></th>\n",
       "      <th>W</th>\n",
       "      <th>Z</th>\n",
       "    </tr>\n",
       "  </thead>\n",
       "  <tbody>\n",
       "    <tr>\n",
       "      <th>A</th>\n",
       "      <td>2.706850</td>\n",
       "      <td>0.503826</td>\n",
       "    </tr>\n",
       "    <tr>\n",
       "      <th>B</th>\n",
       "      <td>0.651118</td>\n",
       "      <td>0.605965</td>\n",
       "    </tr>\n",
       "    <tr>\n",
       "      <th>C</th>\n",
       "      <td>-2.018168</td>\n",
       "      <td>-0.589001</td>\n",
       "    </tr>\n",
       "    <tr>\n",
       "      <th>D</th>\n",
       "      <td>0.188695</td>\n",
       "      <td>0.955057</td>\n",
       "    </tr>\n",
       "    <tr>\n",
       "      <th>E</th>\n",
       "      <td>0.190794</td>\n",
       "      <td>0.683509</td>\n",
       "    </tr>\n",
       "  </tbody>\n",
       "</table>\n",
       "</div>"
      ],
      "text/plain": [
       "          W         Z\n",
       "A  2.706850  0.503826\n",
       "B  0.651118  0.605965\n",
       "C -2.018168 -0.589001\n",
       "D  0.188695  0.955057\n",
       "E  0.190794  0.683509"
      ]
     },
     "execution_count": 17,
     "metadata": {},
     "output_type": "execute_result"
    }
   ],
   "source": [
    "#if we want to grab multiple column ,output gives a dataframe\n",
    "df[['W','Z']]"
   ]
  },
  {
   "cell_type": "code",
   "execution_count": 18,
   "id": "ed7da922",
   "metadata": {
    "execution": {
     "iopub.execute_input": "2022-12-05T11:01:41.126534Z",
     "iopub.status.busy": "2022-12-05T11:01:41.126042Z",
     "iopub.status.idle": "2022-12-05T11:01:41.132822Z",
     "shell.execute_reply": "2022-12-05T11:01:41.131983Z"
    },
    "papermill": {
     "duration": 0.026835,
     "end_time": "2022-12-05T11:01:41.135048",
     "exception": false,
     "start_time": "2022-12-05T11:01:41.108213",
     "status": "completed"
    },
    "tags": []
   },
   "outputs": [
    {
     "data": {
      "text/plain": [
       "pandas.core.frame.DataFrame"
      ]
     },
     "execution_count": 18,
     "metadata": {},
     "output_type": "execute_result"
    }
   ],
   "source": [
    "type(df)"
   ]
  },
  {
   "cell_type": "code",
   "execution_count": 19,
   "id": "32e387ce",
   "metadata": {
    "execution": {
     "iopub.execute_input": "2022-12-05T11:01:41.169495Z",
     "iopub.status.busy": "2022-12-05T11:01:41.168355Z",
     "iopub.status.idle": "2022-12-05T11:01:41.177784Z",
     "shell.execute_reply": "2022-12-05T11:01:41.176533Z"
    },
    "papermill": {
     "duration": 0.029018,
     "end_time": "2022-12-05T11:01:41.180010",
     "exception": false,
     "start_time": "2022-12-05T11:01:41.150992",
     "status": "completed"
    },
    "tags": []
   },
   "outputs": [],
   "source": [
    "#add a column\n",
    "df['H']=df['W']+df['Z']"
   ]
  },
  {
   "cell_type": "code",
   "execution_count": 20,
   "id": "6e7b7f34",
   "metadata": {
    "execution": {
     "iopub.execute_input": "2022-12-05T11:01:41.215646Z",
     "iopub.status.busy": "2022-12-05T11:01:41.215248Z",
     "iopub.status.idle": "2022-12-05T11:01:41.228413Z",
     "shell.execute_reply": "2022-12-05T11:01:41.227331Z"
    },
    "papermill": {
     "duration": 0.033945,
     "end_time": "2022-12-05T11:01:41.230875",
     "exception": false,
     "start_time": "2022-12-05T11:01:41.196930",
     "status": "completed"
    },
    "tags": []
   },
   "outputs": [
    {
     "data": {
      "text/html": [
       "<div>\n",
       "<style scoped>\n",
       "    .dataframe tbody tr th:only-of-type {\n",
       "        vertical-align: middle;\n",
       "    }\n",
       "\n",
       "    .dataframe tbody tr th {\n",
       "        vertical-align: top;\n",
       "    }\n",
       "\n",
       "    .dataframe thead th {\n",
       "        text-align: right;\n",
       "    }\n",
       "</style>\n",
       "<table border=\"1\" class=\"dataframe\">\n",
       "  <thead>\n",
       "    <tr style=\"text-align: right;\">\n",
       "      <th></th>\n",
       "      <th>W</th>\n",
       "      <th>X</th>\n",
       "      <th>Y</th>\n",
       "      <th>Z</th>\n",
       "      <th>H</th>\n",
       "    </tr>\n",
       "  </thead>\n",
       "  <tbody>\n",
       "    <tr>\n",
       "      <th>A</th>\n",
       "      <td>2.706850</td>\n",
       "      <td>0.628133</td>\n",
       "      <td>0.907969</td>\n",
       "      <td>0.503826</td>\n",
       "      <td>3.210676</td>\n",
       "    </tr>\n",
       "    <tr>\n",
       "      <th>B</th>\n",
       "      <td>0.651118</td>\n",
       "      <td>-0.319318</td>\n",
       "      <td>-0.848077</td>\n",
       "      <td>0.605965</td>\n",
       "      <td>1.257083</td>\n",
       "    </tr>\n",
       "    <tr>\n",
       "      <th>C</th>\n",
       "      <td>-2.018168</td>\n",
       "      <td>0.740122</td>\n",
       "      <td>0.528813</td>\n",
       "      <td>-0.589001</td>\n",
       "      <td>-2.607169</td>\n",
       "    </tr>\n",
       "    <tr>\n",
       "      <th>D</th>\n",
       "      <td>0.188695</td>\n",
       "      <td>-0.758872</td>\n",
       "      <td>-0.933237</td>\n",
       "      <td>0.955057</td>\n",
       "      <td>1.143752</td>\n",
       "    </tr>\n",
       "    <tr>\n",
       "      <th>E</th>\n",
       "      <td>0.190794</td>\n",
       "      <td>1.978757</td>\n",
       "      <td>2.605967</td>\n",
       "      <td>0.683509</td>\n",
       "      <td>0.874303</td>\n",
       "    </tr>\n",
       "  </tbody>\n",
       "</table>\n",
       "</div>"
      ],
      "text/plain": [
       "          W         X         Y         Z         H\n",
       "A  2.706850  0.628133  0.907969  0.503826  3.210676\n",
       "B  0.651118 -0.319318 -0.848077  0.605965  1.257083\n",
       "C -2.018168  0.740122  0.528813 -0.589001 -2.607169\n",
       "D  0.188695 -0.758872 -0.933237  0.955057  1.143752\n",
       "E  0.190794  1.978757  2.605967  0.683509  0.874303"
      ]
     },
     "execution_count": 20,
     "metadata": {},
     "output_type": "execute_result"
    }
   ],
   "source": [
    "df"
   ]
  },
  {
   "cell_type": "code",
   "execution_count": 21,
   "id": "012c0b0c",
   "metadata": {
    "execution": {
     "iopub.execute_input": "2022-12-05T11:01:41.264715Z",
     "iopub.status.busy": "2022-12-05T11:01:41.263974Z",
     "iopub.status.idle": "2022-12-05T11:01:41.277373Z",
     "shell.execute_reply": "2022-12-05T11:01:41.276530Z"
    },
    "papermill": {
     "duration": 0.032818,
     "end_time": "2022-12-05T11:01:41.279578",
     "exception": false,
     "start_time": "2022-12-05T11:01:41.246760",
     "status": "completed"
    },
    "tags": []
   },
   "outputs": [
    {
     "data": {
      "text/html": [
       "<div>\n",
       "<style scoped>\n",
       "    .dataframe tbody tr th:only-of-type {\n",
       "        vertical-align: middle;\n",
       "    }\n",
       "\n",
       "    .dataframe tbody tr th {\n",
       "        vertical-align: top;\n",
       "    }\n",
       "\n",
       "    .dataframe thead th {\n",
       "        text-align: right;\n",
       "    }\n",
       "</style>\n",
       "<table border=\"1\" class=\"dataframe\">\n",
       "  <thead>\n",
       "    <tr style=\"text-align: right;\">\n",
       "      <th></th>\n",
       "      <th>W</th>\n",
       "      <th>X</th>\n",
       "      <th>Y</th>\n",
       "      <th>Z</th>\n",
       "    </tr>\n",
       "  </thead>\n",
       "  <tbody>\n",
       "    <tr>\n",
       "      <th>A</th>\n",
       "      <td>2.706850</td>\n",
       "      <td>0.628133</td>\n",
       "      <td>0.907969</td>\n",
       "      <td>0.503826</td>\n",
       "    </tr>\n",
       "    <tr>\n",
       "      <th>B</th>\n",
       "      <td>0.651118</td>\n",
       "      <td>-0.319318</td>\n",
       "      <td>-0.848077</td>\n",
       "      <td>0.605965</td>\n",
       "    </tr>\n",
       "    <tr>\n",
       "      <th>C</th>\n",
       "      <td>-2.018168</td>\n",
       "      <td>0.740122</td>\n",
       "      <td>0.528813</td>\n",
       "      <td>-0.589001</td>\n",
       "    </tr>\n",
       "    <tr>\n",
       "      <th>D</th>\n",
       "      <td>0.188695</td>\n",
       "      <td>-0.758872</td>\n",
       "      <td>-0.933237</td>\n",
       "      <td>0.955057</td>\n",
       "    </tr>\n",
       "    <tr>\n",
       "      <th>E</th>\n",
       "      <td>0.190794</td>\n",
       "      <td>1.978757</td>\n",
       "      <td>2.605967</td>\n",
       "      <td>0.683509</td>\n",
       "    </tr>\n",
       "  </tbody>\n",
       "</table>\n",
       "</div>"
      ],
      "text/plain": [
       "          W         X         Y         Z\n",
       "A  2.706850  0.628133  0.907969  0.503826\n",
       "B  0.651118 -0.319318 -0.848077  0.605965\n",
       "C -2.018168  0.740122  0.528813 -0.589001\n",
       "D  0.188695 -0.758872 -0.933237  0.955057\n",
       "E  0.190794  1.978757  2.605967  0.683509"
      ]
     },
     "execution_count": 21,
     "metadata": {},
     "output_type": "execute_result"
    }
   ],
   "source": [
    "#delete a column\n",
    "df.drop('H',axis=1)\n",
    "#but if you run again the dataframe new column is still there, so we have to add another argument"
   ]
  },
  {
   "cell_type": "code",
   "execution_count": 22,
   "id": "f5b20e2b",
   "metadata": {
    "execution": {
     "iopub.execute_input": "2022-12-05T11:01:41.313324Z",
     "iopub.status.busy": "2022-12-05T11:01:41.312583Z",
     "iopub.status.idle": "2022-12-05T11:01:41.318290Z",
     "shell.execute_reply": "2022-12-05T11:01:41.317515Z"
    },
    "papermill": {
     "duration": 0.025199,
     "end_time": "2022-12-05T11:01:41.320618",
     "exception": false,
     "start_time": "2022-12-05T11:01:41.295419",
     "status": "completed"
    },
    "tags": []
   },
   "outputs": [],
   "source": [
    "df.drop('H',axis=1,inplace=True) \n",
    "#this parmanently delete the column"
   ]
  },
  {
   "cell_type": "code",
   "execution_count": 23,
   "id": "9f6998b0",
   "metadata": {
    "execution": {
     "iopub.execute_input": "2022-12-05T11:01:41.355048Z",
     "iopub.status.busy": "2022-12-05T11:01:41.354425Z",
     "iopub.status.idle": "2022-12-05T11:01:41.367248Z",
     "shell.execute_reply": "2022-12-05T11:01:41.366173Z"
    },
    "papermill": {
     "duration": 0.032947,
     "end_time": "2022-12-05T11:01:41.369497",
     "exception": false,
     "start_time": "2022-12-05T11:01:41.336550",
     "status": "completed"
    },
    "tags": []
   },
   "outputs": [
    {
     "data": {
      "text/html": [
       "<div>\n",
       "<style scoped>\n",
       "    .dataframe tbody tr th:only-of-type {\n",
       "        vertical-align: middle;\n",
       "    }\n",
       "\n",
       "    .dataframe tbody tr th {\n",
       "        vertical-align: top;\n",
       "    }\n",
       "\n",
       "    .dataframe thead th {\n",
       "        text-align: right;\n",
       "    }\n",
       "</style>\n",
       "<table border=\"1\" class=\"dataframe\">\n",
       "  <thead>\n",
       "    <tr style=\"text-align: right;\">\n",
       "      <th></th>\n",
       "      <th>W</th>\n",
       "      <th>X</th>\n",
       "      <th>Y</th>\n",
       "      <th>Z</th>\n",
       "    </tr>\n",
       "  </thead>\n",
       "  <tbody>\n",
       "    <tr>\n",
       "      <th>A</th>\n",
       "      <td>2.706850</td>\n",
       "      <td>0.628133</td>\n",
       "      <td>0.907969</td>\n",
       "      <td>0.503826</td>\n",
       "    </tr>\n",
       "    <tr>\n",
       "      <th>B</th>\n",
       "      <td>0.651118</td>\n",
       "      <td>-0.319318</td>\n",
       "      <td>-0.848077</td>\n",
       "      <td>0.605965</td>\n",
       "    </tr>\n",
       "    <tr>\n",
       "      <th>C</th>\n",
       "      <td>-2.018168</td>\n",
       "      <td>0.740122</td>\n",
       "      <td>0.528813</td>\n",
       "      <td>-0.589001</td>\n",
       "    </tr>\n",
       "    <tr>\n",
       "      <th>D</th>\n",
       "      <td>0.188695</td>\n",
       "      <td>-0.758872</td>\n",
       "      <td>-0.933237</td>\n",
       "      <td>0.955057</td>\n",
       "    </tr>\n",
       "    <tr>\n",
       "      <th>E</th>\n",
       "      <td>0.190794</td>\n",
       "      <td>1.978757</td>\n",
       "      <td>2.605967</td>\n",
       "      <td>0.683509</td>\n",
       "    </tr>\n",
       "  </tbody>\n",
       "</table>\n",
       "</div>"
      ],
      "text/plain": [
       "          W         X         Y         Z\n",
       "A  2.706850  0.628133  0.907969  0.503826\n",
       "B  0.651118 -0.319318 -0.848077  0.605965\n",
       "C -2.018168  0.740122  0.528813 -0.589001\n",
       "D  0.188695 -0.758872 -0.933237  0.955057\n",
       "E  0.190794  1.978757  2.605967  0.683509"
      ]
     },
     "execution_count": 23,
     "metadata": {},
     "output_type": "execute_result"
    }
   ],
   "source": [
    "df"
   ]
  },
  {
   "cell_type": "code",
   "execution_count": 24,
   "id": "d650a6f9",
   "metadata": {
    "execution": {
     "iopub.execute_input": "2022-12-05T11:01:41.403723Z",
     "iopub.status.busy": "2022-12-05T11:01:41.403205Z",
     "iopub.status.idle": "2022-12-05T11:01:41.412378Z",
     "shell.execute_reply": "2022-12-05T11:01:41.410800Z"
    },
    "papermill": {
     "duration": 0.029377,
     "end_time": "2022-12-05T11:01:41.414955",
     "exception": false,
     "start_time": "2022-12-05T11:01:41.385578",
     "status": "completed"
    },
    "tags": []
   },
   "outputs": [
    {
     "data": {
      "text/plain": [
       "W    2.706850\n",
       "X    0.628133\n",
       "Y    0.907969\n",
       "Z    0.503826\n",
       "Name: A, dtype: float64"
      ]
     },
     "execution_count": 24,
     "metadata": {},
     "output_type": "execute_result"
    }
   ],
   "source": [
    "#selecting rows,labelbased index\n",
    "df.loc['A']"
   ]
  },
  {
   "cell_type": "code",
   "execution_count": 25,
   "id": "0d00915c",
   "metadata": {
    "execution": {
     "iopub.execute_input": "2022-12-05T11:01:41.449092Z",
     "iopub.status.busy": "2022-12-05T11:01:41.448696Z",
     "iopub.status.idle": "2022-12-05T11:01:41.457365Z",
     "shell.execute_reply": "2022-12-05T11:01:41.456392Z"
    },
    "papermill": {
     "duration": 0.02867,
     "end_time": "2022-12-05T11:01:41.459744",
     "exception": false,
     "start_time": "2022-12-05T11:01:41.431074",
     "status": "completed"
    },
    "tags": []
   },
   "outputs": [
    {
     "data": {
      "text/plain": [
       "W   -2.018168\n",
       "X    0.740122\n",
       "Y    0.528813\n",
       "Z   -0.589001\n",
       "Name: C, dtype: float64"
      ]
     },
     "execution_count": 25,
     "metadata": {},
     "output_type": "execute_result"
    }
   ],
   "source": [
    "#index based\n",
    "df.iloc[2]"
   ]
  },
  {
   "cell_type": "code",
   "execution_count": 26,
   "id": "8512ca69",
   "metadata": {
    "execution": {
     "iopub.execute_input": "2022-12-05T11:01:41.494568Z",
     "iopub.status.busy": "2022-12-05T11:01:41.493869Z",
     "iopub.status.idle": "2022-12-05T11:01:41.501230Z",
     "shell.execute_reply": "2022-12-05T11:01:41.500286Z"
    },
    "papermill": {
     "duration": 0.027394,
     "end_time": "2022-12-05T11:01:41.503304",
     "exception": false,
     "start_time": "2022-12-05T11:01:41.475910",
     "status": "completed"
    },
    "tags": []
   },
   "outputs": [
    {
     "data": {
      "text/plain": [
       "-0.8480769834036315"
      ]
     },
     "execution_count": 26,
     "metadata": {},
     "output_type": "execute_result"
    }
   ],
   "source": [
    "df.loc['B','Y']"
   ]
  },
  {
   "cell_type": "code",
   "execution_count": 27,
   "id": "8b4258c4",
   "metadata": {
    "execution": {
     "iopub.execute_input": "2022-12-05T11:01:41.537859Z",
     "iopub.status.busy": "2022-12-05T11:01:41.537124Z",
     "iopub.status.idle": "2022-12-05T11:01:41.549060Z",
     "shell.execute_reply": "2022-12-05T11:01:41.548106Z"
    },
    "papermill": {
     "duration": 0.031903,
     "end_time": "2022-12-05T11:01:41.551208",
     "exception": false,
     "start_time": "2022-12-05T11:01:41.519305",
     "status": "completed"
    },
    "tags": []
   },
   "outputs": [
    {
     "data": {
      "text/html": [
       "<div>\n",
       "<style scoped>\n",
       "    .dataframe tbody tr th:only-of-type {\n",
       "        vertical-align: middle;\n",
       "    }\n",
       "\n",
       "    .dataframe tbody tr th {\n",
       "        vertical-align: top;\n",
       "    }\n",
       "\n",
       "    .dataframe thead th {\n",
       "        text-align: right;\n",
       "    }\n",
       "</style>\n",
       "<table border=\"1\" class=\"dataframe\">\n",
       "  <thead>\n",
       "    <tr style=\"text-align: right;\">\n",
       "      <th></th>\n",
       "      <th>W</th>\n",
       "      <th>Y</th>\n",
       "    </tr>\n",
       "  </thead>\n",
       "  <tbody>\n",
       "    <tr>\n",
       "      <th>A</th>\n",
       "      <td>2.706850</td>\n",
       "      <td>0.907969</td>\n",
       "    </tr>\n",
       "    <tr>\n",
       "      <th>B</th>\n",
       "      <td>0.651118</td>\n",
       "      <td>-0.848077</td>\n",
       "    </tr>\n",
       "  </tbody>\n",
       "</table>\n",
       "</div>"
      ],
      "text/plain": [
       "          W         Y\n",
       "A  2.706850  0.907969\n",
       "B  0.651118 -0.848077"
      ]
     },
     "execution_count": 27,
     "metadata": {},
     "output_type": "execute_result"
    }
   ],
   "source": [
    "df.loc[['A','B'],['W','Y']]"
   ]
  },
  {
   "cell_type": "markdown",
   "id": "82e5a906",
   "metadata": {
    "papermill": {
     "duration": 0.01637,
     "end_time": "2022-12-05T11:01:41.584129",
     "exception": false,
     "start_time": "2022-12-05T11:01:41.567759",
     "status": "completed"
    },
    "tags": []
   },
   "source": [
    "# More on dataframes"
   ]
  },
  {
   "cell_type": "code",
   "execution_count": 28,
   "id": "ee2f7c40",
   "metadata": {
    "execution": {
     "iopub.execute_input": "2022-12-05T11:01:41.621205Z",
     "iopub.status.busy": "2022-12-05T11:01:41.620487Z",
     "iopub.status.idle": "2022-12-05T11:01:41.632313Z",
     "shell.execute_reply": "2022-12-05T11:01:41.631463Z"
    },
    "papermill": {
     "duration": 0.034087,
     "end_time": "2022-12-05T11:01:41.634443",
     "exception": false,
     "start_time": "2022-12-05T11:01:41.600356",
     "status": "completed"
    },
    "tags": []
   },
   "outputs": [
    {
     "data": {
      "text/html": [
       "<div>\n",
       "<style scoped>\n",
       "    .dataframe tbody tr th:only-of-type {\n",
       "        vertical-align: middle;\n",
       "    }\n",
       "\n",
       "    .dataframe tbody tr th {\n",
       "        vertical-align: top;\n",
       "    }\n",
       "\n",
       "    .dataframe thead th {\n",
       "        text-align: right;\n",
       "    }\n",
       "</style>\n",
       "<table border=\"1\" class=\"dataframe\">\n",
       "  <thead>\n",
       "    <tr style=\"text-align: right;\">\n",
       "      <th></th>\n",
       "      <th>W</th>\n",
       "      <th>X</th>\n",
       "      <th>Y</th>\n",
       "      <th>Z</th>\n",
       "    </tr>\n",
       "  </thead>\n",
       "  <tbody>\n",
       "    <tr>\n",
       "      <th>A</th>\n",
       "      <td>2.706850</td>\n",
       "      <td>0.628133</td>\n",
       "      <td>0.907969</td>\n",
       "      <td>0.503826</td>\n",
       "    </tr>\n",
       "    <tr>\n",
       "      <th>B</th>\n",
       "      <td>0.651118</td>\n",
       "      <td>-0.319318</td>\n",
       "      <td>-0.848077</td>\n",
       "      <td>0.605965</td>\n",
       "    </tr>\n",
       "    <tr>\n",
       "      <th>C</th>\n",
       "      <td>-2.018168</td>\n",
       "      <td>0.740122</td>\n",
       "      <td>0.528813</td>\n",
       "      <td>-0.589001</td>\n",
       "    </tr>\n",
       "    <tr>\n",
       "      <th>D</th>\n",
       "      <td>0.188695</td>\n",
       "      <td>-0.758872</td>\n",
       "      <td>-0.933237</td>\n",
       "      <td>0.955057</td>\n",
       "    </tr>\n",
       "    <tr>\n",
       "      <th>E</th>\n",
       "      <td>0.190794</td>\n",
       "      <td>1.978757</td>\n",
       "      <td>2.605967</td>\n",
       "      <td>0.683509</td>\n",
       "    </tr>\n",
       "  </tbody>\n",
       "</table>\n",
       "</div>"
      ],
      "text/plain": [
       "          W         X         Y         Z\n",
       "A  2.706850  0.628133  0.907969  0.503826\n",
       "B  0.651118 -0.319318 -0.848077  0.605965\n",
       "C -2.018168  0.740122  0.528813 -0.589001\n",
       "D  0.188695 -0.758872 -0.933237  0.955057\n",
       "E  0.190794  1.978757  2.605967  0.683509"
      ]
     },
     "execution_count": 28,
     "metadata": {},
     "output_type": "execute_result"
    }
   ],
   "source": [
    "df"
   ]
  },
  {
   "cell_type": "code",
   "execution_count": 29,
   "id": "d5d731b7",
   "metadata": {
    "execution": {
     "iopub.execute_input": "2022-12-05T11:01:41.670267Z",
     "iopub.status.busy": "2022-12-05T11:01:41.669604Z",
     "iopub.status.idle": "2022-12-05T11:01:41.682032Z",
     "shell.execute_reply": "2022-12-05T11:01:41.680760Z"
    },
    "papermill": {
     "duration": 0.033123,
     "end_time": "2022-12-05T11:01:41.684343",
     "exception": false,
     "start_time": "2022-12-05T11:01:41.651220",
     "status": "completed"
    },
    "tags": []
   },
   "outputs": [
    {
     "data": {
      "text/html": [
       "<div>\n",
       "<style scoped>\n",
       "    .dataframe tbody tr th:only-of-type {\n",
       "        vertical-align: middle;\n",
       "    }\n",
       "\n",
       "    .dataframe tbody tr th {\n",
       "        vertical-align: top;\n",
       "    }\n",
       "\n",
       "    .dataframe thead th {\n",
       "        text-align: right;\n",
       "    }\n",
       "</style>\n",
       "<table border=\"1\" class=\"dataframe\">\n",
       "  <thead>\n",
       "    <tr style=\"text-align: right;\">\n",
       "      <th></th>\n",
       "      <th>W</th>\n",
       "      <th>X</th>\n",
       "      <th>Y</th>\n",
       "      <th>Z</th>\n",
       "    </tr>\n",
       "  </thead>\n",
       "  <tbody>\n",
       "    <tr>\n",
       "      <th>A</th>\n",
       "      <td>True</td>\n",
       "      <td>True</td>\n",
       "      <td>True</td>\n",
       "      <td>True</td>\n",
       "    </tr>\n",
       "    <tr>\n",
       "      <th>B</th>\n",
       "      <td>True</td>\n",
       "      <td>False</td>\n",
       "      <td>False</td>\n",
       "      <td>True</td>\n",
       "    </tr>\n",
       "    <tr>\n",
       "      <th>C</th>\n",
       "      <td>False</td>\n",
       "      <td>True</td>\n",
       "      <td>True</td>\n",
       "      <td>False</td>\n",
       "    </tr>\n",
       "    <tr>\n",
       "      <th>D</th>\n",
       "      <td>True</td>\n",
       "      <td>False</td>\n",
       "      <td>False</td>\n",
       "      <td>True</td>\n",
       "    </tr>\n",
       "    <tr>\n",
       "      <th>E</th>\n",
       "      <td>True</td>\n",
       "      <td>True</td>\n",
       "      <td>True</td>\n",
       "      <td>True</td>\n",
       "    </tr>\n",
       "  </tbody>\n",
       "</table>\n",
       "</div>"
      ],
      "text/plain": [
       "       W      X      Y      Z\n",
       "A   True   True   True   True\n",
       "B   True  False  False   True\n",
       "C  False   True   True  False\n",
       "D   True  False  False   True\n",
       "E   True   True   True   True"
      ]
     },
     "execution_count": 29,
     "metadata": {},
     "output_type": "execute_result"
    }
   ],
   "source": [
    "#conditional selection\n",
    "df>0"
   ]
  },
  {
   "cell_type": "code",
   "execution_count": 30,
   "id": "0fd52a8d",
   "metadata": {
    "execution": {
     "iopub.execute_input": "2022-12-05T11:01:41.720424Z",
     "iopub.status.busy": "2022-12-05T11:01:41.720024Z",
     "iopub.status.idle": "2022-12-05T11:01:41.725847Z",
     "shell.execute_reply": "2022-12-05T11:01:41.724696Z"
    },
    "papermill": {
     "duration": 0.026481,
     "end_time": "2022-12-05T11:01:41.728000",
     "exception": false,
     "start_time": "2022-12-05T11:01:41.701519",
     "status": "completed"
    },
    "tags": []
   },
   "outputs": [],
   "source": [
    "booldf=df>0"
   ]
  },
  {
   "cell_type": "code",
   "execution_count": 31,
   "id": "02c4127c",
   "metadata": {
    "execution": {
     "iopub.execute_input": "2022-12-05T11:01:41.763600Z",
     "iopub.status.busy": "2022-12-05T11:01:41.763093Z",
     "iopub.status.idle": "2022-12-05T11:01:41.777415Z",
     "shell.execute_reply": "2022-12-05T11:01:41.776180Z"
    },
    "papermill": {
     "duration": 0.034993,
     "end_time": "2022-12-05T11:01:41.779748",
     "exception": false,
     "start_time": "2022-12-05T11:01:41.744755",
     "status": "completed"
    },
    "tags": []
   },
   "outputs": [
    {
     "data": {
      "text/html": [
       "<div>\n",
       "<style scoped>\n",
       "    .dataframe tbody tr th:only-of-type {\n",
       "        vertical-align: middle;\n",
       "    }\n",
       "\n",
       "    .dataframe tbody tr th {\n",
       "        vertical-align: top;\n",
       "    }\n",
       "\n",
       "    .dataframe thead th {\n",
       "        text-align: right;\n",
       "    }\n",
       "</style>\n",
       "<table border=\"1\" class=\"dataframe\">\n",
       "  <thead>\n",
       "    <tr style=\"text-align: right;\">\n",
       "      <th></th>\n",
       "      <th>W</th>\n",
       "      <th>X</th>\n",
       "      <th>Y</th>\n",
       "      <th>Z</th>\n",
       "    </tr>\n",
       "  </thead>\n",
       "  <tbody>\n",
       "    <tr>\n",
       "      <th>A</th>\n",
       "      <td>2.706850</td>\n",
       "      <td>0.628133</td>\n",
       "      <td>0.907969</td>\n",
       "      <td>0.503826</td>\n",
       "    </tr>\n",
       "    <tr>\n",
       "      <th>B</th>\n",
       "      <td>0.651118</td>\n",
       "      <td>NaN</td>\n",
       "      <td>NaN</td>\n",
       "      <td>0.605965</td>\n",
       "    </tr>\n",
       "    <tr>\n",
       "      <th>C</th>\n",
       "      <td>NaN</td>\n",
       "      <td>0.740122</td>\n",
       "      <td>0.528813</td>\n",
       "      <td>NaN</td>\n",
       "    </tr>\n",
       "    <tr>\n",
       "      <th>D</th>\n",
       "      <td>0.188695</td>\n",
       "      <td>NaN</td>\n",
       "      <td>NaN</td>\n",
       "      <td>0.955057</td>\n",
       "    </tr>\n",
       "    <tr>\n",
       "      <th>E</th>\n",
       "      <td>0.190794</td>\n",
       "      <td>1.978757</td>\n",
       "      <td>2.605967</td>\n",
       "      <td>0.683509</td>\n",
       "    </tr>\n",
       "  </tbody>\n",
       "</table>\n",
       "</div>"
      ],
      "text/plain": [
       "          W         X         Y         Z\n",
       "A  2.706850  0.628133  0.907969  0.503826\n",
       "B  0.651118       NaN       NaN  0.605965\n",
       "C       NaN  0.740122  0.528813       NaN\n",
       "D  0.188695       NaN       NaN  0.955057\n",
       "E  0.190794  1.978757  2.605967  0.683509"
      ]
     },
     "execution_count": 31,
     "metadata": {},
     "output_type": "execute_result"
    }
   ],
   "source": [
    "df[booldf]"
   ]
  },
  {
   "cell_type": "code",
   "execution_count": 32,
   "id": "c972b096",
   "metadata": {
    "execution": {
     "iopub.execute_input": "2022-12-05T11:01:41.815975Z",
     "iopub.status.busy": "2022-12-05T11:01:41.815374Z",
     "iopub.status.idle": "2022-12-05T11:01:41.831365Z",
     "shell.execute_reply": "2022-12-05T11:01:41.829814Z"
    },
    "papermill": {
     "duration": 0.037012,
     "end_time": "2022-12-05T11:01:41.833832",
     "exception": false,
     "start_time": "2022-12-05T11:01:41.796820",
     "status": "completed"
    },
    "tags": []
   },
   "outputs": [
    {
     "data": {
      "text/html": [
       "<div>\n",
       "<style scoped>\n",
       "    .dataframe tbody tr th:only-of-type {\n",
       "        vertical-align: middle;\n",
       "    }\n",
       "\n",
       "    .dataframe tbody tr th {\n",
       "        vertical-align: top;\n",
       "    }\n",
       "\n",
       "    .dataframe thead th {\n",
       "        text-align: right;\n",
       "    }\n",
       "</style>\n",
       "<table border=\"1\" class=\"dataframe\">\n",
       "  <thead>\n",
       "    <tr style=\"text-align: right;\">\n",
       "      <th></th>\n",
       "      <th>W</th>\n",
       "      <th>X</th>\n",
       "      <th>Y</th>\n",
       "      <th>Z</th>\n",
       "    </tr>\n",
       "  </thead>\n",
       "  <tbody>\n",
       "    <tr>\n",
       "      <th>A</th>\n",
       "      <td>2.706850</td>\n",
       "      <td>0.628133</td>\n",
       "      <td>0.907969</td>\n",
       "      <td>0.503826</td>\n",
       "    </tr>\n",
       "    <tr>\n",
       "      <th>B</th>\n",
       "      <td>0.651118</td>\n",
       "      <td>NaN</td>\n",
       "      <td>NaN</td>\n",
       "      <td>0.605965</td>\n",
       "    </tr>\n",
       "    <tr>\n",
       "      <th>C</th>\n",
       "      <td>NaN</td>\n",
       "      <td>0.740122</td>\n",
       "      <td>0.528813</td>\n",
       "      <td>NaN</td>\n",
       "    </tr>\n",
       "    <tr>\n",
       "      <th>D</th>\n",
       "      <td>0.188695</td>\n",
       "      <td>NaN</td>\n",
       "      <td>NaN</td>\n",
       "      <td>0.955057</td>\n",
       "    </tr>\n",
       "    <tr>\n",
       "      <th>E</th>\n",
       "      <td>0.190794</td>\n",
       "      <td>1.978757</td>\n",
       "      <td>2.605967</td>\n",
       "      <td>0.683509</td>\n",
       "    </tr>\n",
       "  </tbody>\n",
       "</table>\n",
       "</div>"
      ],
      "text/plain": [
       "          W         X         Y         Z\n",
       "A  2.706850  0.628133  0.907969  0.503826\n",
       "B  0.651118       NaN       NaN  0.605965\n",
       "C       NaN  0.740122  0.528813       NaN\n",
       "D  0.188695       NaN       NaN  0.955057\n",
       "E  0.190794  1.978757  2.605967  0.683509"
      ]
     },
     "execution_count": 32,
     "metadata": {},
     "output_type": "execute_result"
    }
   ],
   "source": [
    "df[df>0]"
   ]
  },
  {
   "cell_type": "code",
   "execution_count": 33,
   "id": "2ee64072",
   "metadata": {
    "execution": {
     "iopub.execute_input": "2022-12-05T11:01:41.870186Z",
     "iopub.status.busy": "2022-12-05T11:01:41.869704Z",
     "iopub.status.idle": "2022-12-05T11:01:41.879565Z",
     "shell.execute_reply": "2022-12-05T11:01:41.878386Z"
    },
    "papermill": {
     "duration": 0.030959,
     "end_time": "2022-12-05T11:01:41.882060",
     "exception": false,
     "start_time": "2022-12-05T11:01:41.851101",
     "status": "completed"
    },
    "tags": []
   },
   "outputs": [
    {
     "data": {
      "text/plain": [
       "A     True\n",
       "B     True\n",
       "C    False\n",
       "D     True\n",
       "E     True\n",
       "Name: W, dtype: bool"
      ]
     },
     "execution_count": 33,
     "metadata": {},
     "output_type": "execute_result"
    }
   ],
   "source": [
    "#for aparticular row/column\n",
    "df['W']>0"
   ]
  },
  {
   "cell_type": "code",
   "execution_count": 34,
   "id": "11a81d66",
   "metadata": {
    "execution": {
     "iopub.execute_input": "2022-12-05T11:01:41.918955Z",
     "iopub.status.busy": "2022-12-05T11:01:41.918556Z",
     "iopub.status.idle": "2022-12-05T11:01:41.931688Z",
     "shell.execute_reply": "2022-12-05T11:01:41.930537Z"
    },
    "papermill": {
     "duration": 0.034557,
     "end_time": "2022-12-05T11:01:41.934226",
     "exception": false,
     "start_time": "2022-12-05T11:01:41.899669",
     "status": "completed"
    },
    "tags": []
   },
   "outputs": [
    {
     "data": {
      "text/html": [
       "<div>\n",
       "<style scoped>\n",
       "    .dataframe tbody tr th:only-of-type {\n",
       "        vertical-align: middle;\n",
       "    }\n",
       "\n",
       "    .dataframe tbody tr th {\n",
       "        vertical-align: top;\n",
       "    }\n",
       "\n",
       "    .dataframe thead th {\n",
       "        text-align: right;\n",
       "    }\n",
       "</style>\n",
       "<table border=\"1\" class=\"dataframe\">\n",
       "  <thead>\n",
       "    <tr style=\"text-align: right;\">\n",
       "      <th></th>\n",
       "      <th>W</th>\n",
       "      <th>X</th>\n",
       "      <th>Y</th>\n",
       "      <th>Z</th>\n",
       "    </tr>\n",
       "  </thead>\n",
       "  <tbody>\n",
       "    <tr>\n",
       "      <th>A</th>\n",
       "      <td>2.706850</td>\n",
       "      <td>0.628133</td>\n",
       "      <td>0.907969</td>\n",
       "      <td>0.503826</td>\n",
       "    </tr>\n",
       "    <tr>\n",
       "      <th>B</th>\n",
       "      <td>0.651118</td>\n",
       "      <td>-0.319318</td>\n",
       "      <td>-0.848077</td>\n",
       "      <td>0.605965</td>\n",
       "    </tr>\n",
       "    <tr>\n",
       "      <th>D</th>\n",
       "      <td>0.188695</td>\n",
       "      <td>-0.758872</td>\n",
       "      <td>-0.933237</td>\n",
       "      <td>0.955057</td>\n",
       "    </tr>\n",
       "    <tr>\n",
       "      <th>E</th>\n",
       "      <td>0.190794</td>\n",
       "      <td>1.978757</td>\n",
       "      <td>2.605967</td>\n",
       "      <td>0.683509</td>\n",
       "    </tr>\n",
       "  </tbody>\n",
       "</table>\n",
       "</div>"
      ],
      "text/plain": [
       "          W         X         Y         Z\n",
       "A  2.706850  0.628133  0.907969  0.503826\n",
       "B  0.651118 -0.319318 -0.848077  0.605965\n",
       "D  0.188695 -0.758872 -0.933237  0.955057\n",
       "E  0.190794  1.978757  2.605967  0.683509"
      ]
     },
     "execution_count": 34,
     "metadata": {},
     "output_type": "execute_result"
    }
   ],
   "source": [
    "df[df['W']>0]\n",
    "#gives a result without c column as it was false for the condition\n"
   ]
  },
  {
   "cell_type": "code",
   "execution_count": 35,
   "id": "13ccff36",
   "metadata": {
    "execution": {
     "iopub.execute_input": "2022-12-05T11:01:41.971922Z",
     "iopub.status.busy": "2022-12-05T11:01:41.971550Z",
     "iopub.status.idle": "2022-12-05T11:01:41.983764Z",
     "shell.execute_reply": "2022-12-05T11:01:41.982512Z"
    },
    "papermill": {
     "duration": 0.033836,
     "end_time": "2022-12-05T11:01:41.986214",
     "exception": false,
     "start_time": "2022-12-05T11:01:41.952378",
     "status": "completed"
    },
    "tags": []
   },
   "outputs": [
    {
     "data": {
      "text/html": [
       "<div>\n",
       "<style scoped>\n",
       "    .dataframe tbody tr th:only-of-type {\n",
       "        vertical-align: middle;\n",
       "    }\n",
       "\n",
       "    .dataframe tbody tr th {\n",
       "        vertical-align: top;\n",
       "    }\n",
       "\n",
       "    .dataframe thead th {\n",
       "        text-align: right;\n",
       "    }\n",
       "</style>\n",
       "<table border=\"1\" class=\"dataframe\">\n",
       "  <thead>\n",
       "    <tr style=\"text-align: right;\">\n",
       "      <th></th>\n",
       "      <th>W</th>\n",
       "      <th>X</th>\n",
       "      <th>Y</th>\n",
       "      <th>Z</th>\n",
       "    </tr>\n",
       "  </thead>\n",
       "  <tbody>\n",
       "    <tr>\n",
       "      <th>C</th>\n",
       "      <td>-2.018168</td>\n",
       "      <td>0.740122</td>\n",
       "      <td>0.528813</td>\n",
       "      <td>-0.589001</td>\n",
       "    </tr>\n",
       "  </tbody>\n",
       "</table>\n",
       "</div>"
      ],
      "text/plain": [
       "          W         X         Y         Z\n",
       "C -2.018168  0.740122  0.528813 -0.589001"
      ]
     },
     "execution_count": 35,
     "metadata": {},
     "output_type": "execute_result"
    }
   ],
   "source": [
    "df[df['Z']<0]"
   ]
  },
  {
   "cell_type": "code",
   "execution_count": 36,
   "id": "8a28f409",
   "metadata": {
    "execution": {
     "iopub.execute_input": "2022-12-05T11:01:42.024825Z",
     "iopub.status.busy": "2022-12-05T11:01:42.024426Z",
     "iopub.status.idle": "2022-12-05T11:01:42.033621Z",
     "shell.execute_reply": "2022-12-05T11:01:42.032393Z"
    },
    "papermill": {
     "duration": 0.031943,
     "end_time": "2022-12-05T11:01:42.035913",
     "exception": false,
     "start_time": "2022-12-05T11:01:42.003970",
     "status": "completed"
    },
    "tags": []
   },
   "outputs": [
    {
     "data": {
      "text/plain": [
       "A    0.628133\n",
       "B   -0.319318\n",
       "D   -0.758872\n",
       "E    1.978757\n",
       "Name: X, dtype: float64"
      ]
     },
     "execution_count": 36,
     "metadata": {},
     "output_type": "execute_result"
    }
   ],
   "source": [
    "df[df['W']>0]['X']"
   ]
  },
  {
   "cell_type": "code",
   "execution_count": 37,
   "id": "6143dd6b",
   "metadata": {
    "execution": {
     "iopub.execute_input": "2022-12-05T11:01:42.073323Z",
     "iopub.status.busy": "2022-12-05T11:01:42.072947Z",
     "iopub.status.idle": "2022-12-05T11:01:42.084934Z",
     "shell.execute_reply": "2022-12-05T11:01:42.083739Z"
    },
    "papermill": {
     "duration": 0.03344,
     "end_time": "2022-12-05T11:01:42.087147",
     "exception": false,
     "start_time": "2022-12-05T11:01:42.053707",
     "status": "completed"
    },
    "tags": []
   },
   "outputs": [
    {
     "data": {
      "text/html": [
       "<div>\n",
       "<style scoped>\n",
       "    .dataframe tbody tr th:only-of-type {\n",
       "        vertical-align: middle;\n",
       "    }\n",
       "\n",
       "    .dataframe tbody tr th {\n",
       "        vertical-align: top;\n",
       "    }\n",
       "\n",
       "    .dataframe thead th {\n",
       "        text-align: right;\n",
       "    }\n",
       "</style>\n",
       "<table border=\"1\" class=\"dataframe\">\n",
       "  <thead>\n",
       "    <tr style=\"text-align: right;\">\n",
       "      <th></th>\n",
       "      <th>Y</th>\n",
       "      <th>X</th>\n",
       "    </tr>\n",
       "  </thead>\n",
       "  <tbody>\n",
       "    <tr>\n",
       "      <th>A</th>\n",
       "      <td>0.907969</td>\n",
       "      <td>0.628133</td>\n",
       "    </tr>\n",
       "    <tr>\n",
       "      <th>B</th>\n",
       "      <td>-0.848077</td>\n",
       "      <td>-0.319318</td>\n",
       "    </tr>\n",
       "    <tr>\n",
       "      <th>D</th>\n",
       "      <td>-0.933237</td>\n",
       "      <td>-0.758872</td>\n",
       "    </tr>\n",
       "    <tr>\n",
       "      <th>E</th>\n",
       "      <td>2.605967</td>\n",
       "      <td>1.978757</td>\n",
       "    </tr>\n",
       "  </tbody>\n",
       "</table>\n",
       "</div>"
      ],
      "text/plain": [
       "          Y         X\n",
       "A  0.907969  0.628133\n",
       "B -0.848077 -0.319318\n",
       "D -0.933237 -0.758872\n",
       "E  2.605967  1.978757"
      ]
     },
     "execution_count": 37,
     "metadata": {},
     "output_type": "execute_result"
    }
   ],
   "source": [
    "df[df['W']>0][['Y','X']]"
   ]
  },
  {
   "cell_type": "code",
   "execution_count": 38,
   "id": "8d6cc7d0",
   "metadata": {
    "execution": {
     "iopub.execute_input": "2022-12-05T11:01:42.126061Z",
     "iopub.status.busy": "2022-12-05T11:01:42.124415Z",
     "iopub.status.idle": "2022-12-05T11:01:42.131262Z",
     "shell.execute_reply": "2022-12-05T11:01:42.129906Z"
    },
    "papermill": {
     "duration": 0.028817,
     "end_time": "2022-12-05T11:01:42.133828",
     "exception": false,
     "start_time": "2022-12-05T11:01:42.105011",
     "status": "completed"
    },
    "tags": []
   },
   "outputs": [],
   "source": [
    "boolser=df['W']>0"
   ]
  },
  {
   "cell_type": "code",
   "execution_count": 39,
   "id": "94930f32",
   "metadata": {
    "execution": {
     "iopub.execute_input": "2022-12-05T11:01:42.172311Z",
     "iopub.status.busy": "2022-12-05T11:01:42.171278Z",
     "iopub.status.idle": "2022-12-05T11:01:42.176918Z",
     "shell.execute_reply": "2022-12-05T11:01:42.176008Z"
    },
    "papermill": {
     "duration": 0.027439,
     "end_time": "2022-12-05T11:01:42.179139",
     "exception": false,
     "start_time": "2022-12-05T11:01:42.151700",
     "status": "completed"
    },
    "tags": []
   },
   "outputs": [],
   "source": [
    "rs=df[boolser]"
   ]
  },
  {
   "cell_type": "code",
   "execution_count": 40,
   "id": "6e0ac12d",
   "metadata": {
    "execution": {
     "iopub.execute_input": "2022-12-05T11:01:42.217560Z",
     "iopub.status.busy": "2022-12-05T11:01:42.217062Z",
     "iopub.status.idle": "2022-12-05T11:01:42.231213Z",
     "shell.execute_reply": "2022-12-05T11:01:42.229679Z"
    },
    "papermill": {
     "duration": 0.036259,
     "end_time": "2022-12-05T11:01:42.233667",
     "exception": false,
     "start_time": "2022-12-05T11:01:42.197408",
     "status": "completed"
    },
    "tags": []
   },
   "outputs": [
    {
     "data": {
      "text/html": [
       "<div>\n",
       "<style scoped>\n",
       "    .dataframe tbody tr th:only-of-type {\n",
       "        vertical-align: middle;\n",
       "    }\n",
       "\n",
       "    .dataframe tbody tr th {\n",
       "        vertical-align: top;\n",
       "    }\n",
       "\n",
       "    .dataframe thead th {\n",
       "        text-align: right;\n",
       "    }\n",
       "</style>\n",
       "<table border=\"1\" class=\"dataframe\">\n",
       "  <thead>\n",
       "    <tr style=\"text-align: right;\">\n",
       "      <th></th>\n",
       "      <th>W</th>\n",
       "      <th>X</th>\n",
       "      <th>Y</th>\n",
       "      <th>Z</th>\n",
       "    </tr>\n",
       "  </thead>\n",
       "  <tbody>\n",
       "    <tr>\n",
       "      <th>A</th>\n",
       "      <td>2.706850</td>\n",
       "      <td>0.628133</td>\n",
       "      <td>0.907969</td>\n",
       "      <td>0.503826</td>\n",
       "    </tr>\n",
       "    <tr>\n",
       "      <th>B</th>\n",
       "      <td>0.651118</td>\n",
       "      <td>-0.319318</td>\n",
       "      <td>-0.848077</td>\n",
       "      <td>0.605965</td>\n",
       "    </tr>\n",
       "    <tr>\n",
       "      <th>D</th>\n",
       "      <td>0.188695</td>\n",
       "      <td>-0.758872</td>\n",
       "      <td>-0.933237</td>\n",
       "      <td>0.955057</td>\n",
       "    </tr>\n",
       "    <tr>\n",
       "      <th>E</th>\n",
       "      <td>0.190794</td>\n",
       "      <td>1.978757</td>\n",
       "      <td>2.605967</td>\n",
       "      <td>0.683509</td>\n",
       "    </tr>\n",
       "  </tbody>\n",
       "</table>\n",
       "</div>"
      ],
      "text/plain": [
       "          W         X         Y         Z\n",
       "A  2.706850  0.628133  0.907969  0.503826\n",
       "B  0.651118 -0.319318 -0.848077  0.605965\n",
       "D  0.188695 -0.758872 -0.933237  0.955057\n",
       "E  0.190794  1.978757  2.605967  0.683509"
      ]
     },
     "execution_count": 40,
     "metadata": {},
     "output_type": "execute_result"
    }
   ],
   "source": [
    "rs"
   ]
  },
  {
   "cell_type": "code",
   "execution_count": 41,
   "id": "e7c5194c",
   "metadata": {
    "execution": {
     "iopub.execute_input": "2022-12-05T11:01:42.273059Z",
     "iopub.status.busy": "2022-12-05T11:01:42.272570Z",
     "iopub.status.idle": "2022-12-05T11:01:42.286609Z",
     "shell.execute_reply": "2022-12-05T11:01:42.285479Z"
    },
    "papermill": {
     "duration": 0.036589,
     "end_time": "2022-12-05T11:01:42.288723",
     "exception": false,
     "start_time": "2022-12-05T11:01:42.252134",
     "status": "completed"
    },
    "tags": []
   },
   "outputs": [
    {
     "data": {
      "text/html": [
       "<div>\n",
       "<style scoped>\n",
       "    .dataframe tbody tr th:only-of-type {\n",
       "        vertical-align: middle;\n",
       "    }\n",
       "\n",
       "    .dataframe tbody tr th {\n",
       "        vertical-align: top;\n",
       "    }\n",
       "\n",
       "    .dataframe thead th {\n",
       "        text-align: right;\n",
       "    }\n",
       "</style>\n",
       "<table border=\"1\" class=\"dataframe\">\n",
       "  <thead>\n",
       "    <tr style=\"text-align: right;\">\n",
       "      <th></th>\n",
       "      <th>W</th>\n",
       "      <th>X</th>\n",
       "      <th>Y</th>\n",
       "      <th>Z</th>\n",
       "    </tr>\n",
       "  </thead>\n",
       "  <tbody>\n",
       "    <tr>\n",
       "      <th>E</th>\n",
       "      <td>0.190794</td>\n",
       "      <td>1.978757</td>\n",
       "      <td>2.605967</td>\n",
       "      <td>0.683509</td>\n",
       "    </tr>\n",
       "  </tbody>\n",
       "</table>\n",
       "</div>"
      ],
      "text/plain": [
       "          W         X         Y         Z\n",
       "E  0.190794  1.978757  2.605967  0.683509"
      ]
     },
     "execution_count": 41,
     "metadata": {},
     "output_type": "execute_result"
    }
   ],
   "source": [
    "#multiple condition\n",
    "df[(df['W']>0) & (df['Y']>1)]"
   ]
  },
  {
   "cell_type": "code",
   "execution_count": 42,
   "id": "5c4c8b30",
   "metadata": {
    "execution": {
     "iopub.execute_input": "2022-12-05T11:01:42.327136Z",
     "iopub.status.busy": "2022-12-05T11:01:42.326635Z",
     "iopub.status.idle": "2022-12-05T11:01:42.342407Z",
     "shell.execute_reply": "2022-12-05T11:01:42.340927Z"
    },
    "papermill": {
     "duration": 0.038225,
     "end_time": "2022-12-05T11:01:42.345134",
     "exception": false,
     "start_time": "2022-12-05T11:01:42.306909",
     "status": "completed"
    },
    "tags": []
   },
   "outputs": [
    {
     "data": {
      "text/html": [
       "<div>\n",
       "<style scoped>\n",
       "    .dataframe tbody tr th:only-of-type {\n",
       "        vertical-align: middle;\n",
       "    }\n",
       "\n",
       "    .dataframe tbody tr th {\n",
       "        vertical-align: top;\n",
       "    }\n",
       "\n",
       "    .dataframe thead th {\n",
       "        text-align: right;\n",
       "    }\n",
       "</style>\n",
       "<table border=\"1\" class=\"dataframe\">\n",
       "  <thead>\n",
       "    <tr style=\"text-align: right;\">\n",
       "      <th></th>\n",
       "      <th>W</th>\n",
       "      <th>X</th>\n",
       "      <th>Y</th>\n",
       "      <th>Z</th>\n",
       "    </tr>\n",
       "  </thead>\n",
       "  <tbody>\n",
       "    <tr>\n",
       "      <th>A</th>\n",
       "      <td>2.706850</td>\n",
       "      <td>0.628133</td>\n",
       "      <td>0.907969</td>\n",
       "      <td>0.503826</td>\n",
       "    </tr>\n",
       "    <tr>\n",
       "      <th>B</th>\n",
       "      <td>0.651118</td>\n",
       "      <td>-0.319318</td>\n",
       "      <td>-0.848077</td>\n",
       "      <td>0.605965</td>\n",
       "    </tr>\n",
       "    <tr>\n",
       "      <th>D</th>\n",
       "      <td>0.188695</td>\n",
       "      <td>-0.758872</td>\n",
       "      <td>-0.933237</td>\n",
       "      <td>0.955057</td>\n",
       "    </tr>\n",
       "    <tr>\n",
       "      <th>E</th>\n",
       "      <td>0.190794</td>\n",
       "      <td>1.978757</td>\n",
       "      <td>2.605967</td>\n",
       "      <td>0.683509</td>\n",
       "    </tr>\n",
       "  </tbody>\n",
       "</table>\n",
       "</div>"
      ],
      "text/plain": [
       "          W         X         Y         Z\n",
       "A  2.706850  0.628133  0.907969  0.503826\n",
       "B  0.651118 -0.319318 -0.848077  0.605965\n",
       "D  0.188695 -0.758872 -0.933237  0.955057\n",
       "E  0.190794  1.978757  2.605967  0.683509"
      ]
     },
     "execution_count": 42,
     "metadata": {},
     "output_type": "execute_result"
    }
   ],
   "source": [
    "df[(df['W']>0) | (df['Y']>1)]"
   ]
  },
  {
   "cell_type": "code",
   "execution_count": 43,
   "id": "48140bb7",
   "metadata": {
    "execution": {
     "iopub.execute_input": "2022-12-05T11:01:42.384179Z",
     "iopub.status.busy": "2022-12-05T11:01:42.383705Z",
     "iopub.status.idle": "2022-12-05T11:01:42.398019Z",
     "shell.execute_reply": "2022-12-05T11:01:42.397016Z"
    },
    "papermill": {
     "duration": 0.036218,
     "end_time": "2022-12-05T11:01:42.400117",
     "exception": false,
     "start_time": "2022-12-05T11:01:42.363899",
     "status": "completed"
    },
    "tags": []
   },
   "outputs": [
    {
     "data": {
      "text/html": [
       "<div>\n",
       "<style scoped>\n",
       "    .dataframe tbody tr th:only-of-type {\n",
       "        vertical-align: middle;\n",
       "    }\n",
       "\n",
       "    .dataframe tbody tr th {\n",
       "        vertical-align: top;\n",
       "    }\n",
       "\n",
       "    .dataframe thead th {\n",
       "        text-align: right;\n",
       "    }\n",
       "</style>\n",
       "<table border=\"1\" class=\"dataframe\">\n",
       "  <thead>\n",
       "    <tr style=\"text-align: right;\">\n",
       "      <th></th>\n",
       "      <th>index</th>\n",
       "      <th>W</th>\n",
       "      <th>X</th>\n",
       "      <th>Y</th>\n",
       "      <th>Z</th>\n",
       "    </tr>\n",
       "  </thead>\n",
       "  <tbody>\n",
       "    <tr>\n",
       "      <th>0</th>\n",
       "      <td>A</td>\n",
       "      <td>2.706850</td>\n",
       "      <td>0.628133</td>\n",
       "      <td>0.907969</td>\n",
       "      <td>0.503826</td>\n",
       "    </tr>\n",
       "    <tr>\n",
       "      <th>1</th>\n",
       "      <td>B</td>\n",
       "      <td>0.651118</td>\n",
       "      <td>-0.319318</td>\n",
       "      <td>-0.848077</td>\n",
       "      <td>0.605965</td>\n",
       "    </tr>\n",
       "    <tr>\n",
       "      <th>2</th>\n",
       "      <td>C</td>\n",
       "      <td>-2.018168</td>\n",
       "      <td>0.740122</td>\n",
       "      <td>0.528813</td>\n",
       "      <td>-0.589001</td>\n",
       "    </tr>\n",
       "    <tr>\n",
       "      <th>3</th>\n",
       "      <td>D</td>\n",
       "      <td>0.188695</td>\n",
       "      <td>-0.758872</td>\n",
       "      <td>-0.933237</td>\n",
       "      <td>0.955057</td>\n",
       "    </tr>\n",
       "    <tr>\n",
       "      <th>4</th>\n",
       "      <td>E</td>\n",
       "      <td>0.190794</td>\n",
       "      <td>1.978757</td>\n",
       "      <td>2.605967</td>\n",
       "      <td>0.683509</td>\n",
       "    </tr>\n",
       "  </tbody>\n",
       "</table>\n",
       "</div>"
      ],
      "text/plain": [
       "  index         W         X         Y         Z\n",
       "0     A  2.706850  0.628133  0.907969  0.503826\n",
       "1     B  0.651118 -0.319318 -0.848077  0.605965\n",
       "2     C -2.018168  0.740122  0.528813 -0.589001\n",
       "3     D  0.188695 -0.758872 -0.933237  0.955057\n",
       "4     E  0.190794  1.978757  2.605967  0.683509"
      ]
     },
     "execution_count": 43,
     "metadata": {},
     "output_type": "execute_result"
    }
   ],
   "source": [
    "df.reset_index()"
   ]
  },
  {
   "cell_type": "code",
   "execution_count": 44,
   "id": "a29a5ee2",
   "metadata": {
    "execution": {
     "iopub.execute_input": "2022-12-05T11:01:42.439831Z",
     "iopub.status.busy": "2022-12-05T11:01:42.439324Z",
     "iopub.status.idle": "2022-12-05T11:01:42.444933Z",
     "shell.execute_reply": "2022-12-05T11:01:42.443644Z"
    },
    "papermill": {
     "duration": 0.029187,
     "end_time": "2022-12-05T11:01:42.447724",
     "exception": false,
     "start_time": "2022-12-05T11:01:42.418537",
     "status": "completed"
    },
    "tags": []
   },
   "outputs": [],
   "source": [
    "#spliting into a series\n",
    "newind='CA NY WY OR CO'.split()"
   ]
  },
  {
   "cell_type": "code",
   "execution_count": 45,
   "id": "bb87eb86",
   "metadata": {
    "execution": {
     "iopub.execute_input": "2022-12-05T11:01:42.490632Z",
     "iopub.status.busy": "2022-12-05T11:01:42.490162Z",
     "iopub.status.idle": "2022-12-05T11:01:42.497322Z",
     "shell.execute_reply": "2022-12-05T11:01:42.496262Z"
    },
    "papermill": {
     "duration": 0.032164,
     "end_time": "2022-12-05T11:01:42.499910",
     "exception": false,
     "start_time": "2022-12-05T11:01:42.467746",
     "status": "completed"
    },
    "tags": []
   },
   "outputs": [
    {
     "data": {
      "text/plain": [
       "['CA', 'NY', 'WY', 'OR', 'CO']"
      ]
     },
     "execution_count": 45,
     "metadata": {},
     "output_type": "execute_result"
    }
   ],
   "source": [
    "newind"
   ]
  },
  {
   "cell_type": "code",
   "execution_count": 46,
   "id": "0f1aaa43",
   "metadata": {
    "execution": {
     "iopub.execute_input": "2022-12-05T11:01:42.540621Z",
     "iopub.status.busy": "2022-12-05T11:01:42.540199Z",
     "iopub.status.idle": "2022-12-05T11:01:42.546146Z",
     "shell.execute_reply": "2022-12-05T11:01:42.544974Z"
    },
    "papermill": {
     "duration": 0.029851,
     "end_time": "2022-12-05T11:01:42.549090",
     "exception": false,
     "start_time": "2022-12-05T11:01:42.519239",
     "status": "completed"
    },
    "tags": []
   },
   "outputs": [],
   "source": [
    "#add this into a column to our dataframe\n",
    "df['States']=newind"
   ]
  },
  {
   "cell_type": "code",
   "execution_count": 47,
   "id": "e9863cc5",
   "metadata": {
    "execution": {
     "iopub.execute_input": "2022-12-05T11:01:42.591037Z",
     "iopub.status.busy": "2022-12-05T11:01:42.590570Z",
     "iopub.status.idle": "2022-12-05T11:01:42.604654Z",
     "shell.execute_reply": "2022-12-05T11:01:42.603763Z"
    },
    "papermill": {
     "duration": 0.037776,
     "end_time": "2022-12-05T11:01:42.607201",
     "exception": false,
     "start_time": "2022-12-05T11:01:42.569425",
     "status": "completed"
    },
    "tags": []
   },
   "outputs": [
    {
     "data": {
      "text/html": [
       "<div>\n",
       "<style scoped>\n",
       "    .dataframe tbody tr th:only-of-type {\n",
       "        vertical-align: middle;\n",
       "    }\n",
       "\n",
       "    .dataframe tbody tr th {\n",
       "        vertical-align: top;\n",
       "    }\n",
       "\n",
       "    .dataframe thead th {\n",
       "        text-align: right;\n",
       "    }\n",
       "</style>\n",
       "<table border=\"1\" class=\"dataframe\">\n",
       "  <thead>\n",
       "    <tr style=\"text-align: right;\">\n",
       "      <th></th>\n",
       "      <th>W</th>\n",
       "      <th>X</th>\n",
       "      <th>Y</th>\n",
       "      <th>Z</th>\n",
       "      <th>States</th>\n",
       "    </tr>\n",
       "  </thead>\n",
       "  <tbody>\n",
       "    <tr>\n",
       "      <th>A</th>\n",
       "      <td>2.706850</td>\n",
       "      <td>0.628133</td>\n",
       "      <td>0.907969</td>\n",
       "      <td>0.503826</td>\n",
       "      <td>CA</td>\n",
       "    </tr>\n",
       "    <tr>\n",
       "      <th>B</th>\n",
       "      <td>0.651118</td>\n",
       "      <td>-0.319318</td>\n",
       "      <td>-0.848077</td>\n",
       "      <td>0.605965</td>\n",
       "      <td>NY</td>\n",
       "    </tr>\n",
       "    <tr>\n",
       "      <th>C</th>\n",
       "      <td>-2.018168</td>\n",
       "      <td>0.740122</td>\n",
       "      <td>0.528813</td>\n",
       "      <td>-0.589001</td>\n",
       "      <td>WY</td>\n",
       "    </tr>\n",
       "    <tr>\n",
       "      <th>D</th>\n",
       "      <td>0.188695</td>\n",
       "      <td>-0.758872</td>\n",
       "      <td>-0.933237</td>\n",
       "      <td>0.955057</td>\n",
       "      <td>OR</td>\n",
       "    </tr>\n",
       "    <tr>\n",
       "      <th>E</th>\n",
       "      <td>0.190794</td>\n",
       "      <td>1.978757</td>\n",
       "      <td>2.605967</td>\n",
       "      <td>0.683509</td>\n",
       "      <td>CO</td>\n",
       "    </tr>\n",
       "  </tbody>\n",
       "</table>\n",
       "</div>"
      ],
      "text/plain": [
       "          W         X         Y         Z States\n",
       "A  2.706850  0.628133  0.907969  0.503826     CA\n",
       "B  0.651118 -0.319318 -0.848077  0.605965     NY\n",
       "C -2.018168  0.740122  0.528813 -0.589001     WY\n",
       "D  0.188695 -0.758872 -0.933237  0.955057     OR\n",
       "E  0.190794  1.978757  2.605967  0.683509     CO"
      ]
     },
     "execution_count": 47,
     "metadata": {},
     "output_type": "execute_result"
    }
   ],
   "source": [
    "df"
   ]
  },
  {
   "cell_type": "code",
   "execution_count": 48,
   "id": "39057291",
   "metadata": {
    "execution": {
     "iopub.execute_input": "2022-12-05T11:01:42.659597Z",
     "iopub.status.busy": "2022-12-05T11:01:42.659037Z",
     "iopub.status.idle": "2022-12-05T11:01:42.680962Z",
     "shell.execute_reply": "2022-12-05T11:01:42.677076Z"
    },
    "papermill": {
     "duration": 0.051728,
     "end_time": "2022-12-05T11:01:42.685738",
     "exception": false,
     "start_time": "2022-12-05T11:01:42.634010",
     "status": "completed"
    },
    "tags": []
   },
   "outputs": [
    {
     "data": {
      "text/html": [
       "<div>\n",
       "<style scoped>\n",
       "    .dataframe tbody tr th:only-of-type {\n",
       "        vertical-align: middle;\n",
       "    }\n",
       "\n",
       "    .dataframe tbody tr th {\n",
       "        vertical-align: top;\n",
       "    }\n",
       "\n",
       "    .dataframe thead th {\n",
       "        text-align: right;\n",
       "    }\n",
       "</style>\n",
       "<table border=\"1\" class=\"dataframe\">\n",
       "  <thead>\n",
       "    <tr style=\"text-align: right;\">\n",
       "      <th></th>\n",
       "      <th>W</th>\n",
       "      <th>X</th>\n",
       "      <th>Y</th>\n",
       "      <th>Z</th>\n",
       "    </tr>\n",
       "    <tr>\n",
       "      <th>States</th>\n",
       "      <th></th>\n",
       "      <th></th>\n",
       "      <th></th>\n",
       "      <th></th>\n",
       "    </tr>\n",
       "  </thead>\n",
       "  <tbody>\n",
       "    <tr>\n",
       "      <th>CA</th>\n",
       "      <td>2.706850</td>\n",
       "      <td>0.628133</td>\n",
       "      <td>0.907969</td>\n",
       "      <td>0.503826</td>\n",
       "    </tr>\n",
       "    <tr>\n",
       "      <th>NY</th>\n",
       "      <td>0.651118</td>\n",
       "      <td>-0.319318</td>\n",
       "      <td>-0.848077</td>\n",
       "      <td>0.605965</td>\n",
       "    </tr>\n",
       "    <tr>\n",
       "      <th>WY</th>\n",
       "      <td>-2.018168</td>\n",
       "      <td>0.740122</td>\n",
       "      <td>0.528813</td>\n",
       "      <td>-0.589001</td>\n",
       "    </tr>\n",
       "    <tr>\n",
       "      <th>OR</th>\n",
       "      <td>0.188695</td>\n",
       "      <td>-0.758872</td>\n",
       "      <td>-0.933237</td>\n",
       "      <td>0.955057</td>\n",
       "    </tr>\n",
       "    <tr>\n",
       "      <th>CO</th>\n",
       "      <td>0.190794</td>\n",
       "      <td>1.978757</td>\n",
       "      <td>2.605967</td>\n",
       "      <td>0.683509</td>\n",
       "    </tr>\n",
       "  </tbody>\n",
       "</table>\n",
       "</div>"
      ],
      "text/plain": [
       "               W         X         Y         Z\n",
       "States                                        \n",
       "CA      2.706850  0.628133  0.907969  0.503826\n",
       "NY      0.651118 -0.319318 -0.848077  0.605965\n",
       "WY     -2.018168  0.740122  0.528813 -0.589001\n",
       "OR      0.188695 -0.758872 -0.933237  0.955057\n",
       "CO      0.190794  1.978757  2.605967  0.683509"
      ]
     },
     "execution_count": 48,
     "metadata": {},
     "output_type": "execute_result"
    }
   ],
   "source": [
    "#making a column into a index\n",
    "df.set_index('States')\n"
   ]
  },
  {
   "cell_type": "markdown",
   "id": "8c7cf3ee",
   "metadata": {
    "papermill": {
     "duration": 0.028841,
     "end_time": "2022-12-05T11:01:42.738658",
     "exception": false,
     "start_time": "2022-12-05T11:01:42.709817",
     "status": "completed"
    },
    "tags": []
   },
   "source": [
    "# DataFrames once again"
   ]
  },
  {
   "cell_type": "markdown",
   "id": "fc7a0bcb",
   "metadata": {
    "papermill": {
     "duration": 0.019612,
     "end_time": "2022-12-05T11:01:42.780616",
     "exception": false,
     "start_time": "2022-12-05T11:01:42.761004",
     "status": "completed"
    },
    "tags": []
   },
   "source": [
    "multiltvel index or index higher key"
   ]
  },
  {
   "cell_type": "code",
   "execution_count": 49,
   "id": "71b7c531",
   "metadata": {
    "execution": {
     "iopub.execute_input": "2022-12-05T11:01:42.823720Z",
     "iopub.status.busy": "2022-12-05T11:01:42.822392Z",
     "iopub.status.idle": "2022-12-05T11:01:42.828064Z",
     "shell.execute_reply": "2022-12-05T11:01:42.827284Z"
    },
    "papermill": {
     "duration": 0.029729,
     "end_time": "2022-12-05T11:01:42.830324",
     "exception": false,
     "start_time": "2022-12-05T11:01:42.800595",
     "status": "completed"
    },
    "tags": []
   },
   "outputs": [],
   "source": [
    "import numpy as np\n",
    "import pandas as pd"
   ]
  },
  {
   "cell_type": "code",
   "execution_count": 50,
   "id": "d20cdfd9",
   "metadata": {
    "execution": {
     "iopub.execute_input": "2022-12-05T11:01:42.873690Z",
     "iopub.status.busy": "2022-12-05T11:01:42.872310Z",
     "iopub.status.idle": "2022-12-05T11:01:42.882904Z",
     "shell.execute_reply": "2022-12-05T11:01:42.881951Z"
    },
    "papermill": {
     "duration": 0.034426,
     "end_time": "2022-12-05T11:01:42.885517",
     "exception": false,
     "start_time": "2022-12-05T11:01:42.851091",
     "status": "completed"
    },
    "tags": []
   },
   "outputs": [],
   "source": [
    "outside=['G1','G1','G1','G2','G2','G2']\n",
    "inside=[1,2,3,1,2,3]\n",
    "hi_index=list(zip(outside,inside))\n",
    "hi_index=pd.MultiIndex.from_tuples(hi_index)"
   ]
  },
  {
   "cell_type": "code",
   "execution_count": 51,
   "id": "6e1966c9",
   "metadata": {
    "execution": {
     "iopub.execute_input": "2022-12-05T11:01:42.928254Z",
     "iopub.status.busy": "2022-12-05T11:01:42.927193Z",
     "iopub.status.idle": "2022-12-05T11:01:42.933134Z",
     "shell.execute_reply": "2022-12-05T11:01:42.932189Z"
    },
    "papermill": {
     "duration": 0.029702,
     "end_time": "2022-12-05T11:01:42.935337",
     "exception": false,
     "start_time": "2022-12-05T11:01:42.905635",
     "status": "completed"
    },
    "tags": []
   },
   "outputs": [],
   "source": [
    "df=pd.DataFrame(randn(6,2),hi_index,['A','B'])"
   ]
  },
  {
   "cell_type": "code",
   "execution_count": 52,
   "id": "8ade8b17",
   "metadata": {
    "execution": {
     "iopub.execute_input": "2022-12-05T11:01:42.976206Z",
     "iopub.status.busy": "2022-12-05T11:01:42.975810Z",
     "iopub.status.idle": "2022-12-05T11:01:42.989469Z",
     "shell.execute_reply": "2022-12-05T11:01:42.988198Z"
    },
    "papermill": {
     "duration": 0.037278,
     "end_time": "2022-12-05T11:01:42.991823",
     "exception": false,
     "start_time": "2022-12-05T11:01:42.954545",
     "status": "completed"
    },
    "tags": []
   },
   "outputs": [
    {
     "data": {
      "text/html": [
       "<div>\n",
       "<style scoped>\n",
       "    .dataframe tbody tr th:only-of-type {\n",
       "        vertical-align: middle;\n",
       "    }\n",
       "\n",
       "    .dataframe tbody tr th {\n",
       "        vertical-align: top;\n",
       "    }\n",
       "\n",
       "    .dataframe thead th {\n",
       "        text-align: right;\n",
       "    }\n",
       "</style>\n",
       "<table border=\"1\" class=\"dataframe\">\n",
       "  <thead>\n",
       "    <tr style=\"text-align: right;\">\n",
       "      <th></th>\n",
       "      <th></th>\n",
       "      <th>A</th>\n",
       "      <th>B</th>\n",
       "    </tr>\n",
       "  </thead>\n",
       "  <tbody>\n",
       "    <tr>\n",
       "      <th rowspan=\"3\" valign=\"top\">G1</th>\n",
       "      <th>1</th>\n",
       "      <td>0.302665</td>\n",
       "      <td>1.693723</td>\n",
       "    </tr>\n",
       "    <tr>\n",
       "      <th>2</th>\n",
       "      <td>-1.706086</td>\n",
       "      <td>-1.159119</td>\n",
       "    </tr>\n",
       "    <tr>\n",
       "      <th>3</th>\n",
       "      <td>-0.134841</td>\n",
       "      <td>0.390528</td>\n",
       "    </tr>\n",
       "    <tr>\n",
       "      <th rowspan=\"3\" valign=\"top\">G2</th>\n",
       "      <th>1</th>\n",
       "      <td>0.166905</td>\n",
       "      <td>0.184502</td>\n",
       "    </tr>\n",
       "    <tr>\n",
       "      <th>2</th>\n",
       "      <td>0.807706</td>\n",
       "      <td>0.072960</td>\n",
       "    </tr>\n",
       "    <tr>\n",
       "      <th>3</th>\n",
       "      <td>0.638787</td>\n",
       "      <td>0.329646</td>\n",
       "    </tr>\n",
       "  </tbody>\n",
       "</table>\n",
       "</div>"
      ],
      "text/plain": [
       "             A         B\n",
       "G1 1  0.302665  1.693723\n",
       "   2 -1.706086 -1.159119\n",
       "   3 -0.134841  0.390528\n",
       "G2 1  0.166905  0.184502\n",
       "   2  0.807706  0.072960\n",
       "   3  0.638787  0.329646"
      ]
     },
     "execution_count": 52,
     "metadata": {},
     "output_type": "execute_result"
    }
   ],
   "source": [
    "df"
   ]
  },
  {
   "cell_type": "code",
   "execution_count": 53,
   "id": "64f48c51",
   "metadata": {
    "execution": {
     "iopub.execute_input": "2022-12-05T11:01:43.034187Z",
     "iopub.status.busy": "2022-12-05T11:01:43.032721Z",
     "iopub.status.idle": "2022-12-05T11:01:43.044224Z",
     "shell.execute_reply": "2022-12-05T11:01:43.043074Z"
    },
    "papermill": {
     "duration": 0.034515,
     "end_time": "2022-12-05T11:01:43.046630",
     "exception": false,
     "start_time": "2022-12-05T11:01:43.012115",
     "status": "completed"
    },
    "tags": []
   },
   "outputs": [
    {
     "data": {
      "text/html": [
       "<div>\n",
       "<style scoped>\n",
       "    .dataframe tbody tr th:only-of-type {\n",
       "        vertical-align: middle;\n",
       "    }\n",
       "\n",
       "    .dataframe tbody tr th {\n",
       "        vertical-align: top;\n",
       "    }\n",
       "\n",
       "    .dataframe thead th {\n",
       "        text-align: right;\n",
       "    }\n",
       "</style>\n",
       "<table border=\"1\" class=\"dataframe\">\n",
       "  <thead>\n",
       "    <tr style=\"text-align: right;\">\n",
       "      <th></th>\n",
       "      <th>A</th>\n",
       "      <th>B</th>\n",
       "    </tr>\n",
       "  </thead>\n",
       "  <tbody>\n",
       "    <tr>\n",
       "      <th>1</th>\n",
       "      <td>0.302665</td>\n",
       "      <td>1.693723</td>\n",
       "    </tr>\n",
       "    <tr>\n",
       "      <th>2</th>\n",
       "      <td>-1.706086</td>\n",
       "      <td>-1.159119</td>\n",
       "    </tr>\n",
       "    <tr>\n",
       "      <th>3</th>\n",
       "      <td>-0.134841</td>\n",
       "      <td>0.390528</td>\n",
       "    </tr>\n",
       "  </tbody>\n",
       "</table>\n",
       "</div>"
      ],
      "text/plain": [
       "          A         B\n",
       "1  0.302665  1.693723\n",
       "2 -1.706086 -1.159119\n",
       "3 -0.134841  0.390528"
      ]
     },
     "execution_count": 53,
     "metadata": {},
     "output_type": "execute_result"
    }
   ],
   "source": [
    "df.loc['G1']"
   ]
  },
  {
   "cell_type": "code",
   "execution_count": 54,
   "id": "cbf18f75",
   "metadata": {
    "execution": {
     "iopub.execute_input": "2022-12-05T11:01:43.087962Z",
     "iopub.status.busy": "2022-12-05T11:01:43.087202Z",
     "iopub.status.idle": "2022-12-05T11:01:43.095367Z",
     "shell.execute_reply": "2022-12-05T11:01:43.094536Z"
    },
    "papermill": {
     "duration": 0.031831,
     "end_time": "2022-12-05T11:01:43.097707",
     "exception": false,
     "start_time": "2022-12-05T11:01:43.065876",
     "status": "completed"
    },
    "tags": []
   },
   "outputs": [
    {
     "data": {
      "text/plain": [
       "A    0.302665\n",
       "B    1.693723\n",
       "Name: 1, dtype: float64"
      ]
     },
     "execution_count": 54,
     "metadata": {},
     "output_type": "execute_result"
    }
   ],
   "source": [
    "df.loc['G1'].loc[1]"
   ]
  },
  {
   "cell_type": "code",
   "execution_count": 55,
   "id": "9bcc8f32",
   "metadata": {
    "execution": {
     "iopub.execute_input": "2022-12-05T11:01:43.138825Z",
     "iopub.status.busy": "2022-12-05T11:01:43.138315Z",
     "iopub.status.idle": "2022-12-05T11:01:43.146383Z",
     "shell.execute_reply": "2022-12-05T11:01:43.145399Z"
    },
    "papermill": {
     "duration": 0.031349,
     "end_time": "2022-12-05T11:01:43.148410",
     "exception": false,
     "start_time": "2022-12-05T11:01:43.117061",
     "status": "completed"
    },
    "tags": []
   },
   "outputs": [
    {
     "data": {
      "text/plain": [
       "FrozenList([None, None])"
      ]
     },
     "execution_count": 55,
     "metadata": {},
     "output_type": "execute_result"
    }
   ],
   "source": [
    "df.index.names"
   ]
  },
  {
   "cell_type": "code",
   "execution_count": 56,
   "id": "4e88c374",
   "metadata": {
    "execution": {
     "iopub.execute_input": "2022-12-05T11:01:43.189730Z",
     "iopub.status.busy": "2022-12-05T11:01:43.189011Z",
     "iopub.status.idle": "2022-12-05T11:01:43.194344Z",
     "shell.execute_reply": "2022-12-05T11:01:43.192821Z"
    },
    "papermill": {
     "duration": 0.028886,
     "end_time": "2022-12-05T11:01:43.196675",
     "exception": false,
     "start_time": "2022-12-05T11:01:43.167789",
     "status": "completed"
    },
    "tags": []
   },
   "outputs": [],
   "source": [
    "df.index.names=['Groups','Numbers']"
   ]
  },
  {
   "cell_type": "code",
   "execution_count": 57,
   "id": "9adf05fa",
   "metadata": {
    "execution": {
     "iopub.execute_input": "2022-12-05T11:01:43.238445Z",
     "iopub.status.busy": "2022-12-05T11:01:43.237110Z",
     "iopub.status.idle": "2022-12-05T11:01:43.251059Z",
     "shell.execute_reply": "2022-12-05T11:01:43.249810Z"
    },
    "papermill": {
     "duration": 0.037474,
     "end_time": "2022-12-05T11:01:43.253577",
     "exception": false,
     "start_time": "2022-12-05T11:01:43.216103",
     "status": "completed"
    },
    "tags": []
   },
   "outputs": [
    {
     "data": {
      "text/html": [
       "<div>\n",
       "<style scoped>\n",
       "    .dataframe tbody tr th:only-of-type {\n",
       "        vertical-align: middle;\n",
       "    }\n",
       "\n",
       "    .dataframe tbody tr th {\n",
       "        vertical-align: top;\n",
       "    }\n",
       "\n",
       "    .dataframe thead th {\n",
       "        text-align: right;\n",
       "    }\n",
       "</style>\n",
       "<table border=\"1\" class=\"dataframe\">\n",
       "  <thead>\n",
       "    <tr style=\"text-align: right;\">\n",
       "      <th></th>\n",
       "      <th></th>\n",
       "      <th>A</th>\n",
       "      <th>B</th>\n",
       "    </tr>\n",
       "    <tr>\n",
       "      <th>Groups</th>\n",
       "      <th>Numbers</th>\n",
       "      <th></th>\n",
       "      <th></th>\n",
       "    </tr>\n",
       "  </thead>\n",
       "  <tbody>\n",
       "    <tr>\n",
       "      <th rowspan=\"3\" valign=\"top\">G1</th>\n",
       "      <th>1</th>\n",
       "      <td>0.302665</td>\n",
       "      <td>1.693723</td>\n",
       "    </tr>\n",
       "    <tr>\n",
       "      <th>2</th>\n",
       "      <td>-1.706086</td>\n",
       "      <td>-1.159119</td>\n",
       "    </tr>\n",
       "    <tr>\n",
       "      <th>3</th>\n",
       "      <td>-0.134841</td>\n",
       "      <td>0.390528</td>\n",
       "    </tr>\n",
       "    <tr>\n",
       "      <th rowspan=\"3\" valign=\"top\">G2</th>\n",
       "      <th>1</th>\n",
       "      <td>0.166905</td>\n",
       "      <td>0.184502</td>\n",
       "    </tr>\n",
       "    <tr>\n",
       "      <th>2</th>\n",
       "      <td>0.807706</td>\n",
       "      <td>0.072960</td>\n",
       "    </tr>\n",
       "    <tr>\n",
       "      <th>3</th>\n",
       "      <td>0.638787</td>\n",
       "      <td>0.329646</td>\n",
       "    </tr>\n",
       "  </tbody>\n",
       "</table>\n",
       "</div>"
      ],
      "text/plain": [
       "                       A         B\n",
       "Groups Numbers                    \n",
       "G1     1        0.302665  1.693723\n",
       "       2       -1.706086 -1.159119\n",
       "       3       -0.134841  0.390528\n",
       "G2     1        0.166905  0.184502\n",
       "       2        0.807706  0.072960\n",
       "       3        0.638787  0.329646"
      ]
     },
     "execution_count": 57,
     "metadata": {},
     "output_type": "execute_result"
    }
   ],
   "source": [
    "df"
   ]
  },
  {
   "cell_type": "code",
   "execution_count": 58,
   "id": "17981075",
   "metadata": {
    "execution": {
     "iopub.execute_input": "2022-12-05T11:01:43.296425Z",
     "iopub.status.busy": "2022-12-05T11:01:43.296014Z",
     "iopub.status.idle": "2022-12-05T11:01:43.305206Z",
     "shell.execute_reply": "2022-12-05T11:01:43.304059Z"
    },
    "papermill": {
     "duration": 0.033519,
     "end_time": "2022-12-05T11:01:43.307570",
     "exception": false,
     "start_time": "2022-12-05T11:01:43.274051",
     "status": "completed"
    },
    "tags": []
   },
   "outputs": [
    {
     "data": {
      "text/plain": [
       "0.07295967531703869"
      ]
     },
     "execution_count": 58,
     "metadata": {},
     "output_type": "execute_result"
    }
   ],
   "source": [
    "df.loc['G2'].loc[2]['B']"
   ]
  },
  {
   "cell_type": "code",
   "execution_count": 59,
   "id": "56024f73",
   "metadata": {
    "execution": {
     "iopub.execute_input": "2022-12-05T11:01:43.350415Z",
     "iopub.status.busy": "2022-12-05T11:01:43.349185Z",
     "iopub.status.idle": "2022-12-05T11:01:43.361199Z",
     "shell.execute_reply": "2022-12-05T11:01:43.359913Z"
    },
    "papermill": {
     "duration": 0.036022,
     "end_time": "2022-12-05T11:01:43.363697",
     "exception": false,
     "start_time": "2022-12-05T11:01:43.327675",
     "status": "completed"
    },
    "tags": []
   },
   "outputs": [
    {
     "data": {
      "text/html": [
       "<div>\n",
       "<style scoped>\n",
       "    .dataframe tbody tr th:only-of-type {\n",
       "        vertical-align: middle;\n",
       "    }\n",
       "\n",
       "    .dataframe tbody tr th {\n",
       "        vertical-align: top;\n",
       "    }\n",
       "\n",
       "    .dataframe thead th {\n",
       "        text-align: right;\n",
       "    }\n",
       "</style>\n",
       "<table border=\"1\" class=\"dataframe\">\n",
       "  <thead>\n",
       "    <tr style=\"text-align: right;\">\n",
       "      <th></th>\n",
       "      <th>A</th>\n",
       "      <th>B</th>\n",
       "    </tr>\n",
       "    <tr>\n",
       "      <th>Numbers</th>\n",
       "      <th></th>\n",
       "      <th></th>\n",
       "    </tr>\n",
       "  </thead>\n",
       "  <tbody>\n",
       "    <tr>\n",
       "      <th>1</th>\n",
       "      <td>0.302665</td>\n",
       "      <td>1.693723</td>\n",
       "    </tr>\n",
       "    <tr>\n",
       "      <th>2</th>\n",
       "      <td>-1.706086</td>\n",
       "      <td>-1.159119</td>\n",
       "    </tr>\n",
       "    <tr>\n",
       "      <th>3</th>\n",
       "      <td>-0.134841</td>\n",
       "      <td>0.390528</td>\n",
       "    </tr>\n",
       "  </tbody>\n",
       "</table>\n",
       "</div>"
      ],
      "text/plain": [
       "                A         B\n",
       "Numbers                    \n",
       "1        0.302665  1.693723\n",
       "2       -1.706086 -1.159119\n",
       "3       -0.134841  0.390528"
      ]
     },
     "execution_count": 59,
     "metadata": {},
     "output_type": "execute_result"
    }
   ],
   "source": [
    "#cross function\n",
    "#grab everything under G1\n",
    "df.xs('G1')\n"
   ]
  },
  {
   "cell_type": "code",
   "execution_count": 60,
   "id": "ba0d5ba2",
   "metadata": {
    "execution": {
     "iopub.execute_input": "2022-12-05T11:01:43.406352Z",
     "iopub.status.busy": "2022-12-05T11:01:43.405969Z",
     "iopub.status.idle": "2022-12-05T11:01:43.417402Z",
     "shell.execute_reply": "2022-12-05T11:01:43.416499Z"
    },
    "papermill": {
     "duration": 0.035421,
     "end_time": "2022-12-05T11:01:43.419939",
     "exception": false,
     "start_time": "2022-12-05T11:01:43.384518",
     "status": "completed"
    },
    "tags": []
   },
   "outputs": [
    {
     "data": {
      "text/html": [
       "<div>\n",
       "<style scoped>\n",
       "    .dataframe tbody tr th:only-of-type {\n",
       "        vertical-align: middle;\n",
       "    }\n",
       "\n",
       "    .dataframe tbody tr th {\n",
       "        vertical-align: top;\n",
       "    }\n",
       "\n",
       "    .dataframe thead th {\n",
       "        text-align: right;\n",
       "    }\n",
       "</style>\n",
       "<table border=\"1\" class=\"dataframe\">\n",
       "  <thead>\n",
       "    <tr style=\"text-align: right;\">\n",
       "      <th></th>\n",
       "      <th>A</th>\n",
       "      <th>B</th>\n",
       "    </tr>\n",
       "    <tr>\n",
       "      <th>Numbers</th>\n",
       "      <th></th>\n",
       "      <th></th>\n",
       "    </tr>\n",
       "  </thead>\n",
       "  <tbody>\n",
       "    <tr>\n",
       "      <th>1</th>\n",
       "      <td>0.302665</td>\n",
       "      <td>1.693723</td>\n",
       "    </tr>\n",
       "    <tr>\n",
       "      <th>2</th>\n",
       "      <td>-1.706086</td>\n",
       "      <td>-1.159119</td>\n",
       "    </tr>\n",
       "    <tr>\n",
       "      <th>3</th>\n",
       "      <td>-0.134841</td>\n",
       "      <td>0.390528</td>\n",
       "    </tr>\n",
       "  </tbody>\n",
       "</table>\n",
       "</div>"
      ],
      "text/plain": [
       "                A         B\n",
       "Numbers                    \n",
       "1        0.302665  1.693723\n",
       "2       -1.706086 -1.159119\n",
       "3       -0.134841  0.390528"
      ]
     },
     "execution_count": 60,
     "metadata": {},
     "output_type": "execute_result"
    }
   ],
   "source": [
    "#or\n",
    "df.loc['G1']"
   ]
  },
  {
   "cell_type": "code",
   "execution_count": 61,
   "id": "8d4debec",
   "metadata": {
    "execution": {
     "iopub.execute_input": "2022-12-05T11:01:43.467970Z",
     "iopub.status.busy": "2022-12-05T11:01:43.467550Z",
     "iopub.status.idle": "2022-12-05T11:01:43.478632Z",
     "shell.execute_reply": "2022-12-05T11:01:43.477880Z"
    },
    "papermill": {
     "duration": 0.03606,
     "end_time": "2022-12-05T11:01:43.480765",
     "exception": false,
     "start_time": "2022-12-05T11:01:43.444705",
     "status": "completed"
    },
    "tags": []
   },
   "outputs": [
    {
     "data": {
      "text/html": [
       "<div>\n",
       "<style scoped>\n",
       "    .dataframe tbody tr th:only-of-type {\n",
       "        vertical-align: middle;\n",
       "    }\n",
       "\n",
       "    .dataframe tbody tr th {\n",
       "        vertical-align: top;\n",
       "    }\n",
       "\n",
       "    .dataframe thead th {\n",
       "        text-align: right;\n",
       "    }\n",
       "</style>\n",
       "<table border=\"1\" class=\"dataframe\">\n",
       "  <thead>\n",
       "    <tr style=\"text-align: right;\">\n",
       "      <th></th>\n",
       "      <th>A</th>\n",
       "      <th>B</th>\n",
       "    </tr>\n",
       "    <tr>\n",
       "      <th>Groups</th>\n",
       "      <th></th>\n",
       "      <th></th>\n",
       "    </tr>\n",
       "  </thead>\n",
       "  <tbody>\n",
       "    <tr>\n",
       "      <th>G1</th>\n",
       "      <td>0.302665</td>\n",
       "      <td>1.693723</td>\n",
       "    </tr>\n",
       "    <tr>\n",
       "      <th>G2</th>\n",
       "      <td>0.166905</td>\n",
       "      <td>0.184502</td>\n",
       "    </tr>\n",
       "  </tbody>\n",
       "</table>\n",
       "</div>"
      ],
      "text/plain": [
       "               A         B\n",
       "Groups                    \n",
       "G1      0.302665  1.693723\n",
       "G2      0.166905  0.184502"
      ]
     },
     "execution_count": 61,
     "metadata": {},
     "output_type": "execute_result"
    }
   ],
   "source": [
    "#grab everything umder number 1\n",
    "df.xs(1,level='Numbers')"
   ]
  },
  {
   "cell_type": "code",
   "execution_count": null,
   "id": "7700b68b",
   "metadata": {
    "papermill": {
     "duration": 0.021893,
     "end_time": "2022-12-05T11:01:43.524665",
     "exception": false,
     "start_time": "2022-12-05T11:01:43.502772",
     "status": "completed"
    },
    "tags": []
   },
   "outputs": [],
   "source": []
  }
 ],
 "metadata": {
  "kernelspec": {
   "display_name": "Python 3",
   "language": "python",
   "name": "python3"
  },
  "language_info": {
   "codemirror_mode": {
    "name": "ipython",
    "version": 3
   },
   "file_extension": ".py",
   "mimetype": "text/x-python",
   "name": "python",
   "nbconvert_exporter": "python",
   "pygments_lexer": "ipython3",
   "version": "3.7.12"
  },
  "papermill": {
   "default_parameters": {},
   "duration": 12.514965,
   "end_time": "2022-12-05T11:01:44.168679",
   "environment_variables": {},
   "exception": null,
   "input_path": "__notebook__.ipynb",
   "output_path": "__notebook__.ipynb",
   "parameters": {},
   "start_time": "2022-12-05T11:01:31.653714",
   "version": "2.3.4"
  }
 },
 "nbformat": 4,
 "nbformat_minor": 5
}
