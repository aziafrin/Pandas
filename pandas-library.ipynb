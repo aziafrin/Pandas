{
 "cells": [
  {
   "cell_type": "markdown",
   "id": "dceb087c",
   "metadata": {
    "_cell_guid": "b1076dfc-b9ad-4769-8c92-a6c4dae69d19",
    "_uuid": "8f2839f25d086af736a60e9eeb907d3b93b6e0e5",
    "papermill": {
     "duration": 0.003402,
     "end_time": "2022-12-02T07:43:09.926460",
     "exception": false,
     "start_time": "2022-12-02T07:43:09.923058",
     "status": "completed"
    },
    "tags": []
   },
   "source": [
    "Working with series data type in python"
   ]
  },
  {
   "cell_type": "code",
   "execution_count": 1,
   "id": "3b3e1fc3",
   "metadata": {
    "execution": {
     "iopub.execute_input": "2022-12-02T07:43:09.933998Z",
     "iopub.status.busy": "2022-12-02T07:43:09.933446Z",
     "iopub.status.idle": "2022-12-02T07:43:09.945086Z",
     "shell.execute_reply": "2022-12-02T07:43:09.943431Z"
    },
    "papermill": {
     "duration": 0.018671,
     "end_time": "2022-12-02T07:43:09.947892",
     "exception": false,
     "start_time": "2022-12-02T07:43:09.929221",
     "status": "completed"
    },
    "tags": []
   },
   "outputs": [],
   "source": [
    "import numpy as np"
   ]
  },
  {
   "cell_type": "code",
   "execution_count": 2,
   "id": "33a9436c",
   "metadata": {
    "execution": {
     "iopub.execute_input": "2022-12-02T07:43:09.955783Z",
     "iopub.status.busy": "2022-12-02T07:43:09.955326Z",
     "iopub.status.idle": "2022-12-02T07:43:09.960818Z",
     "shell.execute_reply": "2022-12-02T07:43:09.959592Z"
    },
    "papermill": {
     "duration": 0.011732,
     "end_time": "2022-12-02T07:43:09.962831",
     "exception": false,
     "start_time": "2022-12-02T07:43:09.951099",
     "status": "completed"
    },
    "tags": []
   },
   "outputs": [],
   "source": [
    "import pandas as pd"
   ]
  },
  {
   "cell_type": "code",
   "execution_count": 3,
   "id": "3d2f53db",
   "metadata": {
    "execution": {
     "iopub.execute_input": "2022-12-02T07:43:09.969929Z",
     "iopub.status.busy": "2022-12-02T07:43:09.969528Z",
     "iopub.status.idle": "2022-12-02T07:43:09.975409Z",
     "shell.execute_reply": "2022-12-02T07:43:09.973789Z"
    },
    "papermill": {
     "duration": 0.012286,
     "end_time": "2022-12-02T07:43:09.977849",
     "exception": false,
     "start_time": "2022-12-02T07:43:09.965563",
     "status": "completed"
    },
    "tags": []
   },
   "outputs": [],
   "source": [
    "a1=['a','b','c']\n",
    "my_data=[50,70,30]\n",
    "ar=np.array(my_data)\n",
    "d={'a':50,'b':70,'c':30}"
   ]
  },
  {
   "cell_type": "code",
   "execution_count": 4,
   "id": "f37404a3",
   "metadata": {
    "execution": {
     "iopub.execute_input": "2022-12-02T07:43:09.986172Z",
     "iopub.status.busy": "2022-12-02T07:43:09.984582Z",
     "iopub.status.idle": "2022-12-02T07:43:10.002887Z",
     "shell.execute_reply": "2022-12-02T07:43:10.001733Z"
    },
    "papermill": {
     "duration": 0.024249,
     "end_time": "2022-12-02T07:43:10.004914",
     "exception": false,
     "start_time": "2022-12-02T07:43:09.980665",
     "status": "completed"
    },
    "tags": []
   },
   "outputs": [
    {
     "data": {
      "text/plain": [
       "a    50\n",
       "b    70\n",
       "c    30\n",
       "dtype: int64"
      ]
     },
     "execution_count": 4,
     "metadata": {},
     "output_type": "execute_result"
    }
   ],
   "source": [
    "pd.Series(data=my_data, index=a1)"
   ]
  },
  {
   "cell_type": "code",
   "execution_count": 5,
   "id": "4f506097",
   "metadata": {
    "execution": {
     "iopub.execute_input": "2022-12-02T07:43:10.012379Z",
     "iopub.status.busy": "2022-12-02T07:43:10.011796Z",
     "iopub.status.idle": "2022-12-02T07:43:10.018374Z",
     "shell.execute_reply": "2022-12-02T07:43:10.017589Z"
    },
    "papermill": {
     "duration": 0.013014,
     "end_time": "2022-12-02T07:43:10.020709",
     "exception": false,
     "start_time": "2022-12-02T07:43:10.007695",
     "status": "completed"
    },
    "tags": []
   },
   "outputs": [
    {
     "data": {
      "text/plain": [
       "a    50\n",
       "b    70\n",
       "c    30\n",
       "dtype: int64"
      ]
     },
     "execution_count": 5,
     "metadata": {},
     "output_type": "execute_result"
    }
   ],
   "source": [
    "#same thing could be done with\n",
    "pd.Series(my_data,a1)"
   ]
  },
  {
   "cell_type": "code",
   "execution_count": 6,
   "id": "36ef70d2",
   "metadata": {
    "execution": {
     "iopub.execute_input": "2022-12-02T07:43:10.028277Z",
     "iopub.status.busy": "2022-12-02T07:43:10.027620Z",
     "iopub.status.idle": "2022-12-02T07:43:10.034476Z",
     "shell.execute_reply": "2022-12-02T07:43:10.033678Z"
    },
    "papermill": {
     "duration": 0.013152,
     "end_time": "2022-12-02T07:43:10.036611",
     "exception": false,
     "start_time": "2022-12-02T07:43:10.023459",
     "status": "completed"
    },
    "tags": []
   },
   "outputs": [
    {
     "data": {
      "text/plain": [
       "a    50\n",
       "b    70\n",
       "c    30\n",
       "dtype: int64"
      ]
     },
     "execution_count": 6,
     "metadata": {},
     "output_type": "execute_result"
    }
   ],
   "source": [
    "pd.Series(d)"
   ]
  },
  {
   "cell_type": "code",
   "execution_count": null,
   "id": "9df58634",
   "metadata": {
    "papermill": {
     "duration": 0.00299,
     "end_time": "2022-12-02T07:43:10.042519",
     "exception": false,
     "start_time": "2022-12-02T07:43:10.039529",
     "status": "completed"
    },
    "tags": []
   },
   "outputs": [],
   "source": []
  }
 ],
 "metadata": {
  "kernelspec": {
   "display_name": "Python 3",
   "language": "python",
   "name": "python3"
  },
  "language_info": {
   "codemirror_mode": {
    "name": "ipython",
    "version": 3
   },
   "file_extension": ".py",
   "mimetype": "text/x-python",
   "name": "python",
   "nbconvert_exporter": "python",
   "pygments_lexer": "ipython3",
   "version": "3.7.12"
  },
  "papermill": {
   "default_parameters": {},
   "duration": 9.333808,
   "end_time": "2022-12-02T07:43:10.768368",
   "environment_variables": {},
   "exception": null,
   "input_path": "__notebook__.ipynb",
   "output_path": "__notebook__.ipynb",
   "parameters": {},
   "start_time": "2022-12-02T07:43:01.434560",
   "version": "2.3.4"
  }
 },
 "nbformat": 4,
 "nbformat_minor": 5
}
