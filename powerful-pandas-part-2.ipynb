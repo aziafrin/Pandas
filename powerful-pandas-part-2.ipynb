{
 "cells": [
  {
   "cell_type": "markdown",
   "id": "897ecf83",
   "metadata": {
    "_cell_guid": "b1076dfc-b9ad-4769-8c92-a6c4dae69d19",
    "_uuid": "8f2839f25d086af736a60e9eeb907d3b93b6e0e5",
    "papermill": {
     "duration": 0.013606,
     "end_time": "2022-12-09T05:53:57.416753",
     "exception": false,
     "start_time": "2022-12-09T05:53:57.403147",
     "status": "completed"
    },
    "tags": []
   },
   "source": [
    "## While analysing data we often face a problem of missing values in our data. Let's see how can we deal with that in python with pandas library."
   ]
  },
  {
   "cell_type": "code",
   "execution_count": 1,
   "id": "2d485df0",
   "metadata": {
    "execution": {
     "iopub.execute_input": "2022-12-09T05:53:57.445166Z",
     "iopub.status.busy": "2022-12-09T05:53:57.444672Z",
     "iopub.status.idle": "2022-12-09T05:53:57.455028Z",
     "shell.execute_reply": "2022-12-09T05:53:57.454127Z"
    },
    "papermill": {
     "duration": 0.028554,
     "end_time": "2022-12-09T05:53:57.457553",
     "exception": false,
     "start_time": "2022-12-09T05:53:57.428999",
     "status": "completed"
    },
    "tags": []
   },
   "outputs": [],
   "source": [
    "import numpy as np\n",
    "import pandas as pd"
   ]
  },
  {
   "cell_type": "code",
   "execution_count": 2,
   "id": "67ce9017",
   "metadata": {
    "execution": {
     "iopub.execute_input": "2022-12-09T05:53:57.483071Z",
     "iopub.status.busy": "2022-12-09T05:53:57.482562Z",
     "iopub.status.idle": "2022-12-09T05:53:57.488550Z",
     "shell.execute_reply": "2022-12-09T05:53:57.487388Z"
    },
    "papermill": {
     "duration": 0.021404,
     "end_time": "2022-12-09T05:53:57.491087",
     "exception": false,
     "start_time": "2022-12-09T05:53:57.469683",
     "status": "completed"
    },
    "tags": []
   },
   "outputs": [],
   "source": [
    "d={'A':[1,2,np.nan],'B':[5,np.nan,np.nan],'C':[1,2,3]}"
   ]
  },
  {
   "cell_type": "code",
   "execution_count": 3,
   "id": "4623dcce",
   "metadata": {
    "execution": {
     "iopub.execute_input": "2022-12-09T05:53:57.517481Z",
     "iopub.status.busy": "2022-12-09T05:53:57.516635Z",
     "iopub.status.idle": "2022-12-09T05:53:57.525847Z",
     "shell.execute_reply": "2022-12-09T05:53:57.524878Z"
    },
    "papermill": {
     "duration": 0.025806,
     "end_time": "2022-12-09T05:53:57.528538",
     "exception": false,
     "start_time": "2022-12-09T05:53:57.502732",
     "status": "completed"
    },
    "tags": []
   },
   "outputs": [],
   "source": [
    "df=pd.DataFrame(d)"
   ]
  },
  {
   "cell_type": "code",
   "execution_count": 4,
   "id": "29a6d045",
   "metadata": {
    "execution": {
     "iopub.execute_input": "2022-12-09T05:53:57.554434Z",
     "iopub.status.busy": "2022-12-09T05:53:57.553593Z",
     "iopub.status.idle": "2022-12-09T05:53:57.583749Z",
     "shell.execute_reply": "2022-12-09T05:53:57.582486Z"
    },
    "papermill": {
     "duration": 0.046533,
     "end_time": "2022-12-09T05:53:57.586582",
     "exception": false,
     "start_time": "2022-12-09T05:53:57.540049",
     "status": "completed"
    },
    "tags": []
   },
   "outputs": [
    {
     "data": {
      "text/html": [
       "<div>\n",
       "<style scoped>\n",
       "    .dataframe tbody tr th:only-of-type {\n",
       "        vertical-align: middle;\n",
       "    }\n",
       "\n",
       "    .dataframe tbody tr th {\n",
       "        vertical-align: top;\n",
       "    }\n",
       "\n",
       "    .dataframe thead th {\n",
       "        text-align: right;\n",
       "    }\n",
       "</style>\n",
       "<table border=\"1\" class=\"dataframe\">\n",
       "  <thead>\n",
       "    <tr style=\"text-align: right;\">\n",
       "      <th></th>\n",
       "      <th>A</th>\n",
       "      <th>B</th>\n",
       "      <th>C</th>\n",
       "    </tr>\n",
       "  </thead>\n",
       "  <tbody>\n",
       "    <tr>\n",
       "      <th>0</th>\n",
       "      <td>1.0</td>\n",
       "      <td>5.0</td>\n",
       "      <td>1</td>\n",
       "    </tr>\n",
       "    <tr>\n",
       "      <th>1</th>\n",
       "      <td>2.0</td>\n",
       "      <td>NaN</td>\n",
       "      <td>2</td>\n",
       "    </tr>\n",
       "    <tr>\n",
       "      <th>2</th>\n",
       "      <td>NaN</td>\n",
       "      <td>NaN</td>\n",
       "      <td>3</td>\n",
       "    </tr>\n",
       "  </tbody>\n",
       "</table>\n",
       "</div>"
      ],
      "text/plain": [
       "     A    B  C\n",
       "0  1.0  5.0  1\n",
       "1  2.0  NaN  2\n",
       "2  NaN  NaN  3"
      ]
     },
     "execution_count": 4,
     "metadata": {},
     "output_type": "execute_result"
    }
   ],
   "source": [
    "df"
   ]
  },
  {
   "cell_type": "code",
   "execution_count": 5,
   "id": "c86a8469",
   "metadata": {
    "execution": {
     "iopub.execute_input": "2022-12-09T05:53:57.613782Z",
     "iopub.status.busy": "2022-12-09T05:53:57.613061Z",
     "iopub.status.idle": "2022-12-09T05:53:57.630052Z",
     "shell.execute_reply": "2022-12-09T05:53:57.629110Z"
    },
    "papermill": {
     "duration": 0.034044,
     "end_time": "2022-12-09T05:53:57.632615",
     "exception": false,
     "start_time": "2022-12-09T05:53:57.598571",
     "status": "completed"
    },
    "tags": []
   },
   "outputs": [
    {
     "data": {
      "text/html": [
       "<div>\n",
       "<style scoped>\n",
       "    .dataframe tbody tr th:only-of-type {\n",
       "        vertical-align: middle;\n",
       "    }\n",
       "\n",
       "    .dataframe tbody tr th {\n",
       "        vertical-align: top;\n",
       "    }\n",
       "\n",
       "    .dataframe thead th {\n",
       "        text-align: right;\n",
       "    }\n",
       "</style>\n",
       "<table border=\"1\" class=\"dataframe\">\n",
       "  <thead>\n",
       "    <tr style=\"text-align: right;\">\n",
       "      <th></th>\n",
       "      <th>C</th>\n",
       "    </tr>\n",
       "  </thead>\n",
       "  <tbody>\n",
       "    <tr>\n",
       "      <th>0</th>\n",
       "      <td>1</td>\n",
       "    </tr>\n",
       "    <tr>\n",
       "      <th>1</th>\n",
       "      <td>2</td>\n",
       "    </tr>\n",
       "    <tr>\n",
       "      <th>2</th>\n",
       "      <td>3</td>\n",
       "    </tr>\n",
       "  </tbody>\n",
       "</table>\n",
       "</div>"
      ],
      "text/plain": [
       "   C\n",
       "0  1\n",
       "1  2\n",
       "2  3"
      ]
     },
     "execution_count": 5,
     "metadata": {},
     "output_type": "execute_result"
    }
   ],
   "source": [
    "df.dropna(axis=1)"
   ]
  },
  {
   "cell_type": "code",
   "execution_count": 6,
   "id": "38d0180f",
   "metadata": {
    "execution": {
     "iopub.execute_input": "2022-12-09T05:53:57.658740Z",
     "iopub.status.busy": "2022-12-09T05:53:57.657694Z",
     "iopub.status.idle": "2022-12-09T05:53:57.671372Z",
     "shell.execute_reply": "2022-12-09T05:53:57.670509Z"
    },
    "papermill": {
     "duration": 0.029182,
     "end_time": "2022-12-09T05:53:57.673940",
     "exception": false,
     "start_time": "2022-12-09T05:53:57.644758",
     "status": "completed"
    },
    "tags": []
   },
   "outputs": [
    {
     "data": {
      "text/html": [
       "<div>\n",
       "<style scoped>\n",
       "    .dataframe tbody tr th:only-of-type {\n",
       "        vertical-align: middle;\n",
       "    }\n",
       "\n",
       "    .dataframe tbody tr th {\n",
       "        vertical-align: top;\n",
       "    }\n",
       "\n",
       "    .dataframe thead th {\n",
       "        text-align: right;\n",
       "    }\n",
       "</style>\n",
       "<table border=\"1\" class=\"dataframe\">\n",
       "  <thead>\n",
       "    <tr style=\"text-align: right;\">\n",
       "      <th></th>\n",
       "      <th>A</th>\n",
       "      <th>B</th>\n",
       "      <th>C</th>\n",
       "    </tr>\n",
       "  </thead>\n",
       "  <tbody>\n",
       "    <tr>\n",
       "      <th>0</th>\n",
       "      <td>1.0</td>\n",
       "      <td>5.0</td>\n",
       "      <td>1</td>\n",
       "    </tr>\n",
       "  </tbody>\n",
       "</table>\n",
       "</div>"
      ],
      "text/plain": [
       "     A    B  C\n",
       "0  1.0  5.0  1"
      ]
     },
     "execution_count": 6,
     "metadata": {},
     "output_type": "execute_result"
    }
   ],
   "source": [
    "df.dropna()"
   ]
  },
  {
   "cell_type": "code",
   "execution_count": 7,
   "id": "6b521e81",
   "metadata": {
    "execution": {
     "iopub.execute_input": "2022-12-09T05:53:57.699867Z",
     "iopub.status.busy": "2022-12-09T05:53:57.698994Z",
     "iopub.status.idle": "2022-12-09T05:53:57.712600Z",
     "shell.execute_reply": "2022-12-09T05:53:57.711399Z"
    },
    "papermill": {
     "duration": 0.029902,
     "end_time": "2022-12-09T05:53:57.715668",
     "exception": false,
     "start_time": "2022-12-09T05:53:57.685766",
     "status": "completed"
    },
    "tags": []
   },
   "outputs": [
    {
     "data": {
      "text/html": [
       "<div>\n",
       "<style scoped>\n",
       "    .dataframe tbody tr th:only-of-type {\n",
       "        vertical-align: middle;\n",
       "    }\n",
       "\n",
       "    .dataframe tbody tr th {\n",
       "        vertical-align: top;\n",
       "    }\n",
       "\n",
       "    .dataframe thead th {\n",
       "        text-align: right;\n",
       "    }\n",
       "</style>\n",
       "<table border=\"1\" class=\"dataframe\">\n",
       "  <thead>\n",
       "    <tr style=\"text-align: right;\">\n",
       "      <th></th>\n",
       "      <th>A</th>\n",
       "      <th>B</th>\n",
       "      <th>C</th>\n",
       "    </tr>\n",
       "  </thead>\n",
       "  <tbody>\n",
       "    <tr>\n",
       "      <th>0</th>\n",
       "      <td>1.0</td>\n",
       "      <td>5.0</td>\n",
       "      <td>1</td>\n",
       "    </tr>\n",
       "    <tr>\n",
       "      <th>1</th>\n",
       "      <td>2.0</td>\n",
       "      <td>NaN</td>\n",
       "      <td>2</td>\n",
       "    </tr>\n",
       "  </tbody>\n",
       "</table>\n",
       "</div>"
      ],
      "text/plain": [
       "     A    B  C\n",
       "0  1.0  5.0  1\n",
       "1  2.0  NaN  2"
      ]
     },
     "execution_count": 7,
     "metadata": {},
     "output_type": "execute_result"
    }
   ],
   "source": [
    "#it keeps row 1, as it has at lest 2 not NaN entry\n",
    "df.dropna(thresh=2)"
   ]
  },
  {
   "cell_type": "code",
   "execution_count": 8,
   "id": "85936787",
   "metadata": {
    "execution": {
     "iopub.execute_input": "2022-12-09T05:53:57.744751Z",
     "iopub.status.busy": "2022-12-09T05:53:57.743681Z",
     "iopub.status.idle": "2022-12-09T05:53:57.754786Z",
     "shell.execute_reply": "2022-12-09T05:53:57.753939Z"
    },
    "papermill": {
     "duration": 0.02695,
     "end_time": "2022-12-09T05:53:57.757147",
     "exception": false,
     "start_time": "2022-12-09T05:53:57.730197",
     "status": "completed"
    },
    "tags": []
   },
   "outputs": [
    {
     "data": {
      "text/plain": [
       "0    1.0\n",
       "1    2.0\n",
       "2    1.5\n",
       "Name: A, dtype: float64"
      ]
     },
     "execution_count": 8,
     "metadata": {},
     "output_type": "execute_result"
    }
   ],
   "source": [
    "#replacing missing values\n",
    "df['A'].fillna(value=df['A'].mean())"
   ]
  },
  {
   "cell_type": "code",
   "execution_count": 9,
   "id": "6ac0210e",
   "metadata": {
    "execution": {
     "iopub.execute_input": "2022-12-09T05:53:57.784593Z",
     "iopub.status.busy": "2022-12-09T05:53:57.783828Z",
     "iopub.status.idle": "2022-12-09T05:53:57.794794Z",
     "shell.execute_reply": "2022-12-09T05:53:57.793949Z"
    },
    "papermill": {
     "duration": 0.027833,
     "end_time": "2022-12-09T05:53:57.797072",
     "exception": false,
     "start_time": "2022-12-09T05:53:57.769239",
     "status": "completed"
    },
    "tags": []
   },
   "outputs": [
    {
     "data": {
      "text/html": [
       "<div>\n",
       "<style scoped>\n",
       "    .dataframe tbody tr th:only-of-type {\n",
       "        vertical-align: middle;\n",
       "    }\n",
       "\n",
       "    .dataframe tbody tr th {\n",
       "        vertical-align: top;\n",
       "    }\n",
       "\n",
       "    .dataframe thead th {\n",
       "        text-align: right;\n",
       "    }\n",
       "</style>\n",
       "<table border=\"1\" class=\"dataframe\">\n",
       "  <thead>\n",
       "    <tr style=\"text-align: right;\">\n",
       "      <th></th>\n",
       "      <th>A</th>\n",
       "      <th>B</th>\n",
       "      <th>C</th>\n",
       "    </tr>\n",
       "  </thead>\n",
       "  <tbody>\n",
       "    <tr>\n",
       "      <th>0</th>\n",
       "      <td>1.0</td>\n",
       "      <td>5.0</td>\n",
       "      <td>1</td>\n",
       "    </tr>\n",
       "    <tr>\n",
       "      <th>1</th>\n",
       "      <td>2.0</td>\n",
       "      <td>value</td>\n",
       "      <td>2</td>\n",
       "    </tr>\n",
       "    <tr>\n",
       "      <th>2</th>\n",
       "      <td>value</td>\n",
       "      <td>value</td>\n",
       "      <td>3</td>\n",
       "    </tr>\n",
       "  </tbody>\n",
       "</table>\n",
       "</div>"
      ],
      "text/plain": [
       "       A      B  C\n",
       "0    1.0    5.0  1\n",
       "1    2.0  value  2\n",
       "2  value  value  3"
      ]
     },
     "execution_count": 9,
     "metadata": {},
     "output_type": "execute_result"
    }
   ],
   "source": [
    "#replacing with a string\n",
    "df.fillna(value=\"value\")"
   ]
  },
  {
   "cell_type": "markdown",
   "id": "94b1eb62",
   "metadata": {
    "papermill": {
     "duration": 0.012595,
     "end_time": "2022-12-09T05:53:57.822390",
     "exception": false,
     "start_time": "2022-12-09T05:53:57.809795",
     "status": "completed"
    },
    "tags": []
   },
   "source": [
    "# Groupby\n",
    "## Using group by method to light a group rows of data together and call aggregate functions\n",
    "### Groupby allows you to group together rows based off of a column and perform an aggregate function on them"
   ]
  },
  {
   "cell_type": "code",
   "execution_count": 10,
   "id": "74d84e4a",
   "metadata": {
    "execution": {
     "iopub.execute_input": "2022-12-09T05:53:57.851591Z",
     "iopub.status.busy": "2022-12-09T05:53:57.850658Z",
     "iopub.status.idle": "2022-12-09T05:53:57.855820Z",
     "shell.execute_reply": "2022-12-09T05:53:57.854745Z"
    },
    "papermill": {
     "duration": 0.022123,
     "end_time": "2022-12-09T05:53:57.858116",
     "exception": false,
     "start_time": "2022-12-09T05:53:57.835993",
     "status": "completed"
    },
    "tags": []
   },
   "outputs": [],
   "source": [
    "import numpy as np\n",
    "import pandas as pd"
   ]
  },
  {
   "cell_type": "code",
   "execution_count": 11,
   "id": "cb5cf956",
   "metadata": {
    "execution": {
     "iopub.execute_input": "2022-12-09T05:53:57.886251Z",
     "iopub.status.busy": "2022-12-09T05:53:57.885488Z",
     "iopub.status.idle": "2022-12-09T05:53:57.891069Z",
     "shell.execute_reply": "2022-12-09T05:53:57.890217Z"
    },
    "papermill": {
     "duration": 0.022338,
     "end_time": "2022-12-09T05:53:57.893397",
     "exception": false,
     "start_time": "2022-12-09T05:53:57.871059",
     "status": "completed"
    },
    "tags": []
   },
   "outputs": [],
   "source": [
    "data={'Company':['Gp','Gp','Teletalk','Teletal','Robi','Robi'],\n",
    "                'Person':['Alam','Mim','Tina','Rimi','Rafi','Pranto'],\n",
    "                'Sales':[200,170,225,439,410,324]}"
   ]
  },
  {
   "cell_type": "code",
   "execution_count": 12,
   "id": "aa301077",
   "metadata": {
    "execution": {
     "iopub.execute_input": "2022-12-09T05:53:57.920659Z",
     "iopub.status.busy": "2022-12-09T05:53:57.919914Z",
     "iopub.status.idle": "2022-12-09T05:53:57.925281Z",
     "shell.execute_reply": "2022-12-09T05:53:57.924401Z"
    },
    "papermill": {
     "duration": 0.021568,
     "end_time": "2022-12-09T05:53:57.927580",
     "exception": false,
     "start_time": "2022-12-09T05:53:57.906012",
     "status": "completed"
    },
    "tags": []
   },
   "outputs": [],
   "source": [
    "df=pd.DataFrame(data)"
   ]
  },
  {
   "cell_type": "code",
   "execution_count": 13,
   "id": "87444d18",
   "metadata": {
    "execution": {
     "iopub.execute_input": "2022-12-09T05:53:57.954952Z",
     "iopub.status.busy": "2022-12-09T05:53:57.954552Z",
     "iopub.status.idle": "2022-12-09T05:53:57.965233Z",
     "shell.execute_reply": "2022-12-09T05:53:57.964360Z"
    },
    "papermill": {
     "duration": 0.026577,
     "end_time": "2022-12-09T05:53:57.967407",
     "exception": false,
     "start_time": "2022-12-09T05:53:57.940830",
     "status": "completed"
    },
    "tags": []
   },
   "outputs": [
    {
     "data": {
      "text/html": [
       "<div>\n",
       "<style scoped>\n",
       "    .dataframe tbody tr th:only-of-type {\n",
       "        vertical-align: middle;\n",
       "    }\n",
       "\n",
       "    .dataframe tbody tr th {\n",
       "        vertical-align: top;\n",
       "    }\n",
       "\n",
       "    .dataframe thead th {\n",
       "        text-align: right;\n",
       "    }\n",
       "</style>\n",
       "<table border=\"1\" class=\"dataframe\">\n",
       "  <thead>\n",
       "    <tr style=\"text-align: right;\">\n",
       "      <th></th>\n",
       "      <th>Company</th>\n",
       "      <th>Person</th>\n",
       "      <th>Sales</th>\n",
       "    </tr>\n",
       "  </thead>\n",
       "  <tbody>\n",
       "    <tr>\n",
       "      <th>0</th>\n",
       "      <td>Gp</td>\n",
       "      <td>Alam</td>\n",
       "      <td>200</td>\n",
       "    </tr>\n",
       "    <tr>\n",
       "      <th>1</th>\n",
       "      <td>Gp</td>\n",
       "      <td>Mim</td>\n",
       "      <td>170</td>\n",
       "    </tr>\n",
       "    <tr>\n",
       "      <th>2</th>\n",
       "      <td>Teletalk</td>\n",
       "      <td>Tina</td>\n",
       "      <td>225</td>\n",
       "    </tr>\n",
       "    <tr>\n",
       "      <th>3</th>\n",
       "      <td>Teletal</td>\n",
       "      <td>Rimi</td>\n",
       "      <td>439</td>\n",
       "    </tr>\n",
       "    <tr>\n",
       "      <th>4</th>\n",
       "      <td>Robi</td>\n",
       "      <td>Rafi</td>\n",
       "      <td>410</td>\n",
       "    </tr>\n",
       "    <tr>\n",
       "      <th>5</th>\n",
       "      <td>Robi</td>\n",
       "      <td>Pranto</td>\n",
       "      <td>324</td>\n",
       "    </tr>\n",
       "  </tbody>\n",
       "</table>\n",
       "</div>"
      ],
      "text/plain": [
       "    Company  Person  Sales\n",
       "0        Gp    Alam    200\n",
       "1        Gp     Mim    170\n",
       "2  Teletalk    Tina    225\n",
       "3   Teletal    Rimi    439\n",
       "4      Robi    Rafi    410\n",
       "5      Robi  Pranto    324"
      ]
     },
     "execution_count": 13,
     "metadata": {},
     "output_type": "execute_result"
    }
   ],
   "source": [
    "df"
   ]
  },
  {
   "cell_type": "code",
   "execution_count": 14,
   "id": "f8f0c569",
   "metadata": {
    "execution": {
     "iopub.execute_input": "2022-12-09T05:53:57.994927Z",
     "iopub.status.busy": "2022-12-09T05:53:57.994270Z",
     "iopub.status.idle": "2022-12-09T05:53:57.999019Z",
     "shell.execute_reply": "2022-12-09T05:53:57.998188Z"
    },
    "papermill": {
     "duration": 0.021569,
     "end_time": "2022-12-09T05:53:58.001478",
     "exception": false,
     "start_time": "2022-12-09T05:53:57.979909",
     "status": "completed"
    },
    "tags": []
   },
   "outputs": [],
   "source": [
    "df_new=df.groupby('Company')"
   ]
  },
  {
   "cell_type": "code",
   "execution_count": 15,
   "id": "ed9e3dd2",
   "metadata": {
    "execution": {
     "iopub.execute_input": "2022-12-09T05:53:58.030891Z",
     "iopub.status.busy": "2022-12-09T05:53:58.030246Z",
     "iopub.status.idle": "2022-12-09T05:53:58.045973Z",
     "shell.execute_reply": "2022-12-09T05:53:58.044764Z"
    },
    "papermill": {
     "duration": 0.033307,
     "end_time": "2022-12-09T05:53:58.048730",
     "exception": false,
     "start_time": "2022-12-09T05:53:58.015423",
     "status": "completed"
    },
    "tags": []
   },
   "outputs": [
    {
     "data": {
      "text/html": [
       "<div>\n",
       "<style scoped>\n",
       "    .dataframe tbody tr th:only-of-type {\n",
       "        vertical-align: middle;\n",
       "    }\n",
       "\n",
       "    .dataframe tbody tr th {\n",
       "        vertical-align: top;\n",
       "    }\n",
       "\n",
       "    .dataframe thead th {\n",
       "        text-align: right;\n",
       "    }\n",
       "</style>\n",
       "<table border=\"1\" class=\"dataframe\">\n",
       "  <thead>\n",
       "    <tr style=\"text-align: right;\">\n",
       "      <th></th>\n",
       "      <th>Sales</th>\n",
       "    </tr>\n",
       "    <tr>\n",
       "      <th>Company</th>\n",
       "      <th></th>\n",
       "    </tr>\n",
       "  </thead>\n",
       "  <tbody>\n",
       "    <tr>\n",
       "      <th>Gp</th>\n",
       "      <td>185.0</td>\n",
       "    </tr>\n",
       "    <tr>\n",
       "      <th>Robi</th>\n",
       "      <td>367.0</td>\n",
       "    </tr>\n",
       "    <tr>\n",
       "      <th>Teletal</th>\n",
       "      <td>439.0</td>\n",
       "    </tr>\n",
       "    <tr>\n",
       "      <th>Teletalk</th>\n",
       "      <td>225.0</td>\n",
       "    </tr>\n",
       "  </tbody>\n",
       "</table>\n",
       "</div>"
      ],
      "text/plain": [
       "          Sales\n",
       "Company        \n",
       "Gp        185.0\n",
       "Robi      367.0\n",
       "Teletal   439.0\n",
       "Teletalk  225.0"
      ]
     },
     "execution_count": 15,
     "metadata": {},
     "output_type": "execute_result"
    }
   ],
   "source": [
    "df_new.mean()"
   ]
  },
  {
   "cell_type": "code",
   "execution_count": 16,
   "id": "5ab6a7f8",
   "metadata": {
    "execution": {
     "iopub.execute_input": "2022-12-09T05:53:58.076128Z",
     "iopub.status.busy": "2022-12-09T05:53:58.075751Z",
     "iopub.status.idle": "2022-12-09T05:53:58.082200Z",
     "shell.execute_reply": "2022-12-09T05:53:58.081337Z"
    },
    "papermill": {
     "duration": 0.02289,
     "end_time": "2022-12-09T05:53:58.084432",
     "exception": false,
     "start_time": "2022-12-09T05:53:58.061542",
     "status": "completed"
    },
    "tags": []
   },
   "outputs": [
    {
     "data": {
      "text/plain": [
       "<bound method GroupBy.std of <pandas.core.groupby.generic.DataFrameGroupBy object at 0x7fdcd1a76d90>>"
      ]
     },
     "execution_count": 16,
     "metadata": {},
     "output_type": "execute_result"
    }
   ],
   "source": [
    "df_new.sum\n",
    "df_new.std"
   ]
  },
  {
   "cell_type": "code",
   "execution_count": 17,
   "id": "fe4401b5",
   "metadata": {
    "execution": {
     "iopub.execute_input": "2022-12-09T05:53:58.112190Z",
     "iopub.status.busy": "2022-12-09T05:53:58.111786Z",
     "iopub.status.idle": "2022-12-09T05:53:58.122680Z",
     "shell.execute_reply": "2022-12-09T05:53:58.121780Z"
    },
    "papermill": {
     "duration": 0.027743,
     "end_time": "2022-12-09T05:53:58.124927",
     "exception": false,
     "start_time": "2022-12-09T05:53:58.097184",
     "status": "completed"
    },
    "tags": []
   },
   "outputs": [
    {
     "data": {
      "text/plain": [
       "Sales    370\n",
       "Name: Gp, dtype: int64"
      ]
     },
     "execution_count": 17,
     "metadata": {},
     "output_type": "execute_result"
    }
   ],
   "source": [
    "df_new.sum().loc['Gp']"
   ]
  },
  {
   "cell_type": "code",
   "execution_count": 18,
   "id": "6af0fe75",
   "metadata": {
    "execution": {
     "iopub.execute_input": "2022-12-09T05:53:58.154075Z",
     "iopub.status.busy": "2022-12-09T05:53:58.153366Z",
     "iopub.status.idle": "2022-12-09T05:53:58.163238Z",
     "shell.execute_reply": "2022-12-09T05:53:58.162297Z"
    },
    "papermill": {
     "duration": 0.02751,
     "end_time": "2022-12-09T05:53:58.165613",
     "exception": false,
     "start_time": "2022-12-09T05:53:58.138103",
     "status": "completed"
    },
    "tags": []
   },
   "outputs": [
    {
     "data": {
      "text/plain": [
       "Sales    370\n",
       "Name: Gp, dtype: int64"
      ]
     },
     "execution_count": 18,
     "metadata": {},
     "output_type": "execute_result"
    }
   ],
   "source": [
    "df.groupby('Company').sum().loc['Gp']"
   ]
  },
  {
   "cell_type": "code",
   "execution_count": 19,
   "id": "9841f1d0",
   "metadata": {
    "execution": {
     "iopub.execute_input": "2022-12-09T05:53:58.194150Z",
     "iopub.status.busy": "2022-12-09T05:53:58.193460Z",
     "iopub.status.idle": "2022-12-09T05:53:58.204321Z",
     "shell.execute_reply": "2022-12-09T05:53:58.203175Z"
    },
    "papermill": {
     "duration": 0.028001,
     "end_time": "2022-12-09T05:53:58.206787",
     "exception": false,
     "start_time": "2022-12-09T05:53:58.178786",
     "status": "completed"
    },
    "tags": []
   },
   "outputs": [
    {
     "data": {
      "text/html": [
       "<div>\n",
       "<style scoped>\n",
       "    .dataframe tbody tr th:only-of-type {\n",
       "        vertical-align: middle;\n",
       "    }\n",
       "\n",
       "    .dataframe tbody tr th {\n",
       "        vertical-align: top;\n",
       "    }\n",
       "\n",
       "    .dataframe thead th {\n",
       "        text-align: right;\n",
       "    }\n",
       "</style>\n",
       "<table border=\"1\" class=\"dataframe\">\n",
       "  <thead>\n",
       "    <tr style=\"text-align: right;\">\n",
       "      <th></th>\n",
       "      <th>Person</th>\n",
       "      <th>Sales</th>\n",
       "    </tr>\n",
       "    <tr>\n",
       "      <th>Company</th>\n",
       "      <th></th>\n",
       "      <th></th>\n",
       "    </tr>\n",
       "  </thead>\n",
       "  <tbody>\n",
       "    <tr>\n",
       "      <th>Gp</th>\n",
       "      <td>2</td>\n",
       "      <td>2</td>\n",
       "    </tr>\n",
       "    <tr>\n",
       "      <th>Robi</th>\n",
       "      <td>2</td>\n",
       "      <td>2</td>\n",
       "    </tr>\n",
       "    <tr>\n",
       "      <th>Teletal</th>\n",
       "      <td>1</td>\n",
       "      <td>1</td>\n",
       "    </tr>\n",
       "    <tr>\n",
       "      <th>Teletalk</th>\n",
       "      <td>1</td>\n",
       "      <td>1</td>\n",
       "    </tr>\n",
       "  </tbody>\n",
       "</table>\n",
       "</div>"
      ],
      "text/plain": [
       "          Person  Sales\n",
       "Company                \n",
       "Gp             2      2\n",
       "Robi           2      2\n",
       "Teletal        1      1\n",
       "Teletalk       1      1"
      ]
     },
     "execution_count": 19,
     "metadata": {},
     "output_type": "execute_result"
    }
   ],
   "source": [
    "df.groupby('Company').count() "
   ]
  },
  {
   "cell_type": "code",
   "execution_count": 20,
   "id": "1b71b551",
   "metadata": {
    "execution": {
     "iopub.execute_input": "2022-12-09T05:53:58.236027Z",
     "iopub.status.busy": "2022-12-09T05:53:58.235329Z",
     "iopub.status.idle": "2022-12-09T05:53:58.253519Z",
     "shell.execute_reply": "2022-12-09T05:53:58.252567Z"
    },
    "papermill": {
     "duration": 0.036475,
     "end_time": "2022-12-09T05:53:58.256516",
     "exception": false,
     "start_time": "2022-12-09T05:53:58.220041",
     "status": "completed"
    },
    "tags": []
   },
   "outputs": [
    {
     "data": {
      "text/html": [
       "<div>\n",
       "<style scoped>\n",
       "    .dataframe tbody tr th:only-of-type {\n",
       "        vertical-align: middle;\n",
       "    }\n",
       "\n",
       "    .dataframe tbody tr th {\n",
       "        vertical-align: top;\n",
       "    }\n",
       "\n",
       "    .dataframe thead th {\n",
       "        text-align: right;\n",
       "    }\n",
       "</style>\n",
       "<table border=\"1\" class=\"dataframe\">\n",
       "  <thead>\n",
       "    <tr style=\"text-align: right;\">\n",
       "      <th></th>\n",
       "      <th>Person</th>\n",
       "      <th>Sales</th>\n",
       "    </tr>\n",
       "    <tr>\n",
       "      <th>Company</th>\n",
       "      <th></th>\n",
       "      <th></th>\n",
       "    </tr>\n",
       "  </thead>\n",
       "  <tbody>\n",
       "    <tr>\n",
       "      <th>Gp</th>\n",
       "      <td>Mim</td>\n",
       "      <td>200</td>\n",
       "    </tr>\n",
       "    <tr>\n",
       "      <th>Robi</th>\n",
       "      <td>Rafi</td>\n",
       "      <td>410</td>\n",
       "    </tr>\n",
       "    <tr>\n",
       "      <th>Teletal</th>\n",
       "      <td>Rimi</td>\n",
       "      <td>439</td>\n",
       "    </tr>\n",
       "    <tr>\n",
       "      <th>Teletalk</th>\n",
       "      <td>Tina</td>\n",
       "      <td>225</td>\n",
       "    </tr>\n",
       "  </tbody>\n",
       "</table>\n",
       "</div>"
      ],
      "text/plain": [
       "         Person  Sales\n",
       "Company               \n",
       "Gp          Mim    200\n",
       "Robi       Rafi    410\n",
       "Teletal    Rimi    439\n",
       "Teletalk   Tina    225"
      ]
     },
     "execution_count": 20,
     "metadata": {},
     "output_type": "execute_result"
    }
   ],
   "source": [
    "df.groupby('Company').max() "
   ]
  },
  {
   "cell_type": "code",
   "execution_count": 21,
   "id": "58730938",
   "metadata": {
    "execution": {
     "iopub.execute_input": "2022-12-09T05:53:58.286660Z",
     "iopub.status.busy": "2022-12-09T05:53:58.285945Z",
     "iopub.status.idle": "2022-12-09T05:53:58.320806Z",
     "shell.execute_reply": "2022-12-09T05:53:58.319473Z"
    },
    "papermill": {
     "duration": 0.052375,
     "end_time": "2022-12-09T05:53:58.323222",
     "exception": false,
     "start_time": "2022-12-09T05:53:58.270847",
     "status": "completed"
    },
    "tags": []
   },
   "outputs": [
    {
     "data": {
      "text/plain": [
       "Sales  count      2.000000\n",
       "       mean     185.000000\n",
       "       std       21.213203\n",
       "       min      170.000000\n",
       "       25%      177.500000\n",
       "       50%      185.000000\n",
       "       75%      192.500000\n",
       "       max      200.000000\n",
       "Name: Gp, dtype: float64"
      ]
     },
     "execution_count": 21,
     "metadata": {},
     "output_type": "execute_result"
    }
   ],
   "source": [
    "df.groupby('Company').describe().transpose()['Gp']"
   ]
  },
  {
   "cell_type": "markdown",
   "id": "267f1d7f",
   "metadata": {
    "papermill": {
     "duration": 0.013141,
     "end_time": "2022-12-09T05:53:58.350090",
     "exception": false,
     "start_time": "2022-12-09T05:53:58.336949",
     "status": "completed"
    },
    "tags": []
   },
   "source": [
    "## Merging joining and concatenating\n",
    "There are 3 main ways of combining DataFrames together: Merging, Joining and Concatenating. In this lecture we will discuss these 3 methods with examples."
   ]
  },
  {
   "cell_type": "code",
   "execution_count": 22,
   "id": "839f9c63",
   "metadata": {
    "execution": {
     "iopub.execute_input": "2022-12-09T05:53:58.379899Z",
     "iopub.status.busy": "2022-12-09T05:53:58.379184Z",
     "iopub.status.idle": "2022-12-09T05:53:58.383921Z",
     "shell.execute_reply": "2022-12-09T05:53:58.382943Z"
    },
    "papermill": {
     "duration": 0.022474,
     "end_time": "2022-12-09T05:53:58.386238",
     "exception": false,
     "start_time": "2022-12-09T05:53:58.363764",
     "status": "completed"
    },
    "tags": []
   },
   "outputs": [],
   "source": [
    "import pandas as pd"
   ]
  },
  {
   "cell_type": "code",
   "execution_count": 23,
   "id": "571d6e75",
   "metadata": {
    "execution": {
     "iopub.execute_input": "2022-12-09T05:53:58.415446Z",
     "iopub.status.busy": "2022-12-09T05:53:58.415014Z",
     "iopub.status.idle": "2022-12-09T05:53:58.422820Z",
     "shell.execute_reply": "2022-12-09T05:53:58.421574Z"
    },
    "papermill": {
     "duration": 0.025584,
     "end_time": "2022-12-09T05:53:58.425515",
     "exception": false,
     "start_time": "2022-12-09T05:53:58.399931",
     "status": "completed"
    },
    "tags": []
   },
   "outputs": [],
   "source": [
    "df1 = pd.DataFrame({'A': ['A0', 'A1', 'A2', 'A3'],\n",
    "                        'B': ['B0', 'B1', 'B2', 'B3'],\n",
    "                        'C': ['C0', 'C1', 'C2', 'C3'],\n",
    "                        'D': ['D0', 'D1', 'D2', 'D3']},\n",
    "                        index=[0, 1, 2, 3])"
   ]
  },
  {
   "cell_type": "code",
   "execution_count": 24,
   "id": "18bd4c60",
   "metadata": {
    "execution": {
     "iopub.execute_input": "2022-12-09T05:53:58.455804Z",
     "iopub.status.busy": "2022-12-09T05:53:58.454585Z",
     "iopub.status.idle": "2022-12-09T05:53:58.462021Z",
     "shell.execute_reply": "2022-12-09T05:53:58.461122Z"
    },
    "papermill": {
     "duration": 0.025307,
     "end_time": "2022-12-09T05:53:58.464423",
     "exception": false,
     "start_time": "2022-12-09T05:53:58.439116",
     "status": "completed"
    },
    "tags": []
   },
   "outputs": [],
   "source": [
    "df2 = pd.DataFrame({'A': ['A4', 'A5', 'A6', 'A7'],\n",
    "                        'B': ['B4', 'B5', 'B6', 'B7'],\n",
    "                        'C': ['C4', 'C5', 'C6', 'C7'],\n",
    "                        'D': ['D4', 'D5', 'D6', 'D7']},\n",
    "                         index=[4, 5, 6, 7]) "
   ]
  },
  {
   "cell_type": "code",
   "execution_count": 25,
   "id": "00be1aa2",
   "metadata": {
    "execution": {
     "iopub.execute_input": "2022-12-09T05:53:58.495345Z",
     "iopub.status.busy": "2022-12-09T05:53:58.494447Z",
     "iopub.status.idle": "2022-12-09T05:53:58.502107Z",
     "shell.execute_reply": "2022-12-09T05:53:58.501146Z"
    },
    "papermill": {
     "duration": 0.026518,
     "end_time": "2022-12-09T05:53:58.504540",
     "exception": false,
     "start_time": "2022-12-09T05:53:58.478022",
     "status": "completed"
    },
    "tags": []
   },
   "outputs": [],
   "source": [
    "df3 = pd.DataFrame({'A': ['A8', 'A9', 'A10', 'A11'],\n",
    "                        'B': ['B8', 'B9', 'B10', 'B11'],\n",
    "                        'C': ['C8', 'C9', 'C10', 'C11'],\n",
    "                        'D': ['D8', 'D9', 'D10', 'D11']},\n",
    "                        index=[8, 9, 10, 11])"
   ]
  },
  {
   "cell_type": "code",
   "execution_count": 26,
   "id": "f5b14888",
   "metadata": {
    "execution": {
     "iopub.execute_input": "2022-12-09T05:53:58.534807Z",
     "iopub.status.busy": "2022-12-09T05:53:58.534026Z",
     "iopub.status.idle": "2022-12-09T05:53:58.547992Z",
     "shell.execute_reply": "2022-12-09T05:53:58.546754Z"
    },
    "papermill": {
     "duration": 0.032118,
     "end_time": "2022-12-09T05:53:58.550821",
     "exception": false,
     "start_time": "2022-12-09T05:53:58.518703",
     "status": "completed"
    },
    "tags": []
   },
   "outputs": [
    {
     "data": {
      "text/html": [
       "<div>\n",
       "<style scoped>\n",
       "    .dataframe tbody tr th:only-of-type {\n",
       "        vertical-align: middle;\n",
       "    }\n",
       "\n",
       "    .dataframe tbody tr th {\n",
       "        vertical-align: top;\n",
       "    }\n",
       "\n",
       "    .dataframe thead th {\n",
       "        text-align: right;\n",
       "    }\n",
       "</style>\n",
       "<table border=\"1\" class=\"dataframe\">\n",
       "  <thead>\n",
       "    <tr style=\"text-align: right;\">\n",
       "      <th></th>\n",
       "      <th>A</th>\n",
       "      <th>B</th>\n",
       "      <th>C</th>\n",
       "      <th>D</th>\n",
       "    </tr>\n",
       "  </thead>\n",
       "  <tbody>\n",
       "    <tr>\n",
       "      <th>8</th>\n",
       "      <td>A8</td>\n",
       "      <td>B8</td>\n",
       "      <td>C8</td>\n",
       "      <td>D8</td>\n",
       "    </tr>\n",
       "    <tr>\n",
       "      <th>9</th>\n",
       "      <td>A9</td>\n",
       "      <td>B9</td>\n",
       "      <td>C9</td>\n",
       "      <td>D9</td>\n",
       "    </tr>\n",
       "    <tr>\n",
       "      <th>10</th>\n",
       "      <td>A10</td>\n",
       "      <td>B10</td>\n",
       "      <td>C10</td>\n",
       "      <td>D10</td>\n",
       "    </tr>\n",
       "    <tr>\n",
       "      <th>11</th>\n",
       "      <td>A11</td>\n",
       "      <td>B11</td>\n",
       "      <td>C11</td>\n",
       "      <td>D11</td>\n",
       "    </tr>\n",
       "  </tbody>\n",
       "</table>\n",
       "</div>"
      ],
      "text/plain": [
       "      A    B    C    D\n",
       "8    A8   B8   C8   D8\n",
       "9    A9   B9   C9   D9\n",
       "10  A10  B10  C10  D10\n",
       "11  A11  B11  C11  D11"
      ]
     },
     "execution_count": 26,
     "metadata": {},
     "output_type": "execute_result"
    }
   ],
   "source": [
    "df3"
   ]
  },
  {
   "cell_type": "markdown",
   "id": "c198a789",
   "metadata": {
    "papermill": {
     "duration": 0.014485,
     "end_time": "2022-12-09T05:53:58.579847",
     "exception": false,
     "start_time": "2022-12-09T05:53:58.565362",
     "status": "completed"
    },
    "tags": []
   },
   "source": [
    "# Concatenation\n",
    "Concatenation basically glues together DataFrames. Keep in mind that dimensions should match along the axis you are concatenating on. You can use pd.concat and pass in a list of DataFrames to concatenate together:"
   ]
  },
  {
   "cell_type": "code",
   "execution_count": 27,
   "id": "e9e44136",
   "metadata": {
    "execution": {
     "iopub.execute_input": "2022-12-09T05:53:58.609094Z",
     "iopub.status.busy": "2022-12-09T05:53:58.608700Z",
     "iopub.status.idle": "2022-12-09T05:53:58.622879Z",
     "shell.execute_reply": "2022-12-09T05:53:58.621620Z"
    },
    "papermill": {
     "duration": 0.031471,
     "end_time": "2022-12-09T05:53:58.625181",
     "exception": false,
     "start_time": "2022-12-09T05:53:58.593710",
     "status": "completed"
    },
    "tags": []
   },
   "outputs": [
    {
     "data": {
      "text/html": [
       "<div>\n",
       "<style scoped>\n",
       "    .dataframe tbody tr th:only-of-type {\n",
       "        vertical-align: middle;\n",
       "    }\n",
       "\n",
       "    .dataframe tbody tr th {\n",
       "        vertical-align: top;\n",
       "    }\n",
       "\n",
       "    .dataframe thead th {\n",
       "        text-align: right;\n",
       "    }\n",
       "</style>\n",
       "<table border=\"1\" class=\"dataframe\">\n",
       "  <thead>\n",
       "    <tr style=\"text-align: right;\">\n",
       "      <th></th>\n",
       "      <th>A</th>\n",
       "      <th>B</th>\n",
       "      <th>C</th>\n",
       "      <th>D</th>\n",
       "    </tr>\n",
       "  </thead>\n",
       "  <tbody>\n",
       "    <tr>\n",
       "      <th>0</th>\n",
       "      <td>A0</td>\n",
       "      <td>B0</td>\n",
       "      <td>C0</td>\n",
       "      <td>D0</td>\n",
       "    </tr>\n",
       "    <tr>\n",
       "      <th>1</th>\n",
       "      <td>A1</td>\n",
       "      <td>B1</td>\n",
       "      <td>C1</td>\n",
       "      <td>D1</td>\n",
       "    </tr>\n",
       "    <tr>\n",
       "      <th>2</th>\n",
       "      <td>A2</td>\n",
       "      <td>B2</td>\n",
       "      <td>C2</td>\n",
       "      <td>D2</td>\n",
       "    </tr>\n",
       "    <tr>\n",
       "      <th>3</th>\n",
       "      <td>A3</td>\n",
       "      <td>B3</td>\n",
       "      <td>C3</td>\n",
       "      <td>D3</td>\n",
       "    </tr>\n",
       "    <tr>\n",
       "      <th>4</th>\n",
       "      <td>A4</td>\n",
       "      <td>B4</td>\n",
       "      <td>C4</td>\n",
       "      <td>D4</td>\n",
       "    </tr>\n",
       "    <tr>\n",
       "      <th>5</th>\n",
       "      <td>A5</td>\n",
       "      <td>B5</td>\n",
       "      <td>C5</td>\n",
       "      <td>D5</td>\n",
       "    </tr>\n",
       "    <tr>\n",
       "      <th>6</th>\n",
       "      <td>A6</td>\n",
       "      <td>B6</td>\n",
       "      <td>C6</td>\n",
       "      <td>D6</td>\n",
       "    </tr>\n",
       "    <tr>\n",
       "      <th>7</th>\n",
       "      <td>A7</td>\n",
       "      <td>B7</td>\n",
       "      <td>C7</td>\n",
       "      <td>D7</td>\n",
       "    </tr>\n",
       "    <tr>\n",
       "      <th>8</th>\n",
       "      <td>A8</td>\n",
       "      <td>B8</td>\n",
       "      <td>C8</td>\n",
       "      <td>D8</td>\n",
       "    </tr>\n",
       "    <tr>\n",
       "      <th>9</th>\n",
       "      <td>A9</td>\n",
       "      <td>B9</td>\n",
       "      <td>C9</td>\n",
       "      <td>D9</td>\n",
       "    </tr>\n",
       "    <tr>\n",
       "      <th>10</th>\n",
       "      <td>A10</td>\n",
       "      <td>B10</td>\n",
       "      <td>C10</td>\n",
       "      <td>D10</td>\n",
       "    </tr>\n",
       "    <tr>\n",
       "      <th>11</th>\n",
       "      <td>A11</td>\n",
       "      <td>B11</td>\n",
       "      <td>C11</td>\n",
       "      <td>D11</td>\n",
       "    </tr>\n",
       "  </tbody>\n",
       "</table>\n",
       "</div>"
      ],
      "text/plain": [
       "      A    B    C    D\n",
       "0    A0   B0   C0   D0\n",
       "1    A1   B1   C1   D1\n",
       "2    A2   B2   C2   D2\n",
       "3    A3   B3   C3   D3\n",
       "4    A4   B4   C4   D4\n",
       "5    A5   B5   C5   D5\n",
       "6    A6   B6   C6   D6\n",
       "7    A7   B7   C7   D7\n",
       "8    A8   B8   C8   D8\n",
       "9    A9   B9   C9   D9\n",
       "10  A10  B10  C10  D10\n",
       "11  A11  B11  C11  D11"
      ]
     },
     "execution_count": 27,
     "metadata": {},
     "output_type": "execute_result"
    }
   ],
   "source": [
    "pd.concat([df1,df2,df3])\n",
    "#automaticly join across rows"
   ]
  },
  {
   "cell_type": "code",
   "execution_count": 28,
   "id": "971321ef",
   "metadata": {
    "execution": {
     "iopub.execute_input": "2022-12-09T05:53:58.654892Z",
     "iopub.status.busy": "2022-12-09T05:53:58.654472Z",
     "iopub.status.idle": "2022-12-09T05:53:58.679953Z",
     "shell.execute_reply": "2022-12-09T05:53:58.678832Z"
    },
    "papermill": {
     "duration": 0.043292,
     "end_time": "2022-12-09T05:53:58.682494",
     "exception": false,
     "start_time": "2022-12-09T05:53:58.639202",
     "status": "completed"
    },
    "tags": []
   },
   "outputs": [
    {
     "data": {
      "text/html": [
       "<div>\n",
       "<style scoped>\n",
       "    .dataframe tbody tr th:only-of-type {\n",
       "        vertical-align: middle;\n",
       "    }\n",
       "\n",
       "    .dataframe tbody tr th {\n",
       "        vertical-align: top;\n",
       "    }\n",
       "\n",
       "    .dataframe thead th {\n",
       "        text-align: right;\n",
       "    }\n",
       "</style>\n",
       "<table border=\"1\" class=\"dataframe\">\n",
       "  <thead>\n",
       "    <tr style=\"text-align: right;\">\n",
       "      <th></th>\n",
       "      <th>A</th>\n",
       "      <th>B</th>\n",
       "      <th>C</th>\n",
       "      <th>D</th>\n",
       "      <th>A</th>\n",
       "      <th>B</th>\n",
       "      <th>C</th>\n",
       "      <th>D</th>\n",
       "      <th>A</th>\n",
       "      <th>B</th>\n",
       "      <th>C</th>\n",
       "      <th>D</th>\n",
       "    </tr>\n",
       "  </thead>\n",
       "  <tbody>\n",
       "    <tr>\n",
       "      <th>0</th>\n",
       "      <td>A0</td>\n",
       "      <td>B0</td>\n",
       "      <td>C0</td>\n",
       "      <td>D0</td>\n",
       "      <td>NaN</td>\n",
       "      <td>NaN</td>\n",
       "      <td>NaN</td>\n",
       "      <td>NaN</td>\n",
       "      <td>NaN</td>\n",
       "      <td>NaN</td>\n",
       "      <td>NaN</td>\n",
       "      <td>NaN</td>\n",
       "    </tr>\n",
       "    <tr>\n",
       "      <th>1</th>\n",
       "      <td>A1</td>\n",
       "      <td>B1</td>\n",
       "      <td>C1</td>\n",
       "      <td>D1</td>\n",
       "      <td>NaN</td>\n",
       "      <td>NaN</td>\n",
       "      <td>NaN</td>\n",
       "      <td>NaN</td>\n",
       "      <td>NaN</td>\n",
       "      <td>NaN</td>\n",
       "      <td>NaN</td>\n",
       "      <td>NaN</td>\n",
       "    </tr>\n",
       "    <tr>\n",
       "      <th>2</th>\n",
       "      <td>A2</td>\n",
       "      <td>B2</td>\n",
       "      <td>C2</td>\n",
       "      <td>D2</td>\n",
       "      <td>NaN</td>\n",
       "      <td>NaN</td>\n",
       "      <td>NaN</td>\n",
       "      <td>NaN</td>\n",
       "      <td>NaN</td>\n",
       "      <td>NaN</td>\n",
       "      <td>NaN</td>\n",
       "      <td>NaN</td>\n",
       "    </tr>\n",
       "    <tr>\n",
       "      <th>3</th>\n",
       "      <td>A3</td>\n",
       "      <td>B3</td>\n",
       "      <td>C3</td>\n",
       "      <td>D3</td>\n",
       "      <td>NaN</td>\n",
       "      <td>NaN</td>\n",
       "      <td>NaN</td>\n",
       "      <td>NaN</td>\n",
       "      <td>NaN</td>\n",
       "      <td>NaN</td>\n",
       "      <td>NaN</td>\n",
       "      <td>NaN</td>\n",
       "    </tr>\n",
       "    <tr>\n",
       "      <th>4</th>\n",
       "      <td>NaN</td>\n",
       "      <td>NaN</td>\n",
       "      <td>NaN</td>\n",
       "      <td>NaN</td>\n",
       "      <td>A4</td>\n",
       "      <td>B4</td>\n",
       "      <td>C4</td>\n",
       "      <td>D4</td>\n",
       "      <td>NaN</td>\n",
       "      <td>NaN</td>\n",
       "      <td>NaN</td>\n",
       "      <td>NaN</td>\n",
       "    </tr>\n",
       "    <tr>\n",
       "      <th>5</th>\n",
       "      <td>NaN</td>\n",
       "      <td>NaN</td>\n",
       "      <td>NaN</td>\n",
       "      <td>NaN</td>\n",
       "      <td>A5</td>\n",
       "      <td>B5</td>\n",
       "      <td>C5</td>\n",
       "      <td>D5</td>\n",
       "      <td>NaN</td>\n",
       "      <td>NaN</td>\n",
       "      <td>NaN</td>\n",
       "      <td>NaN</td>\n",
       "    </tr>\n",
       "    <tr>\n",
       "      <th>6</th>\n",
       "      <td>NaN</td>\n",
       "      <td>NaN</td>\n",
       "      <td>NaN</td>\n",
       "      <td>NaN</td>\n",
       "      <td>A6</td>\n",
       "      <td>B6</td>\n",
       "      <td>C6</td>\n",
       "      <td>D6</td>\n",
       "      <td>NaN</td>\n",
       "      <td>NaN</td>\n",
       "      <td>NaN</td>\n",
       "      <td>NaN</td>\n",
       "    </tr>\n",
       "    <tr>\n",
       "      <th>7</th>\n",
       "      <td>NaN</td>\n",
       "      <td>NaN</td>\n",
       "      <td>NaN</td>\n",
       "      <td>NaN</td>\n",
       "      <td>A7</td>\n",
       "      <td>B7</td>\n",
       "      <td>C7</td>\n",
       "      <td>D7</td>\n",
       "      <td>NaN</td>\n",
       "      <td>NaN</td>\n",
       "      <td>NaN</td>\n",
       "      <td>NaN</td>\n",
       "    </tr>\n",
       "    <tr>\n",
       "      <th>8</th>\n",
       "      <td>NaN</td>\n",
       "      <td>NaN</td>\n",
       "      <td>NaN</td>\n",
       "      <td>NaN</td>\n",
       "      <td>NaN</td>\n",
       "      <td>NaN</td>\n",
       "      <td>NaN</td>\n",
       "      <td>NaN</td>\n",
       "      <td>A8</td>\n",
       "      <td>B8</td>\n",
       "      <td>C8</td>\n",
       "      <td>D8</td>\n",
       "    </tr>\n",
       "    <tr>\n",
       "      <th>9</th>\n",
       "      <td>NaN</td>\n",
       "      <td>NaN</td>\n",
       "      <td>NaN</td>\n",
       "      <td>NaN</td>\n",
       "      <td>NaN</td>\n",
       "      <td>NaN</td>\n",
       "      <td>NaN</td>\n",
       "      <td>NaN</td>\n",
       "      <td>A9</td>\n",
       "      <td>B9</td>\n",
       "      <td>C9</td>\n",
       "      <td>D9</td>\n",
       "    </tr>\n",
       "    <tr>\n",
       "      <th>10</th>\n",
       "      <td>NaN</td>\n",
       "      <td>NaN</td>\n",
       "      <td>NaN</td>\n",
       "      <td>NaN</td>\n",
       "      <td>NaN</td>\n",
       "      <td>NaN</td>\n",
       "      <td>NaN</td>\n",
       "      <td>NaN</td>\n",
       "      <td>A10</td>\n",
       "      <td>B10</td>\n",
       "      <td>C10</td>\n",
       "      <td>D10</td>\n",
       "    </tr>\n",
       "    <tr>\n",
       "      <th>11</th>\n",
       "      <td>NaN</td>\n",
       "      <td>NaN</td>\n",
       "      <td>NaN</td>\n",
       "      <td>NaN</td>\n",
       "      <td>NaN</td>\n",
       "      <td>NaN</td>\n",
       "      <td>NaN</td>\n",
       "      <td>NaN</td>\n",
       "      <td>A11</td>\n",
       "      <td>B11</td>\n",
       "      <td>C11</td>\n",
       "      <td>D11</td>\n",
       "    </tr>\n",
       "  </tbody>\n",
       "</table>\n",
       "</div>"
      ],
      "text/plain": [
       "      A    B    C    D    A    B    C    D    A    B    C    D\n",
       "0    A0   B0   C0   D0  NaN  NaN  NaN  NaN  NaN  NaN  NaN  NaN\n",
       "1    A1   B1   C1   D1  NaN  NaN  NaN  NaN  NaN  NaN  NaN  NaN\n",
       "2    A2   B2   C2   D2  NaN  NaN  NaN  NaN  NaN  NaN  NaN  NaN\n",
       "3    A3   B3   C3   D3  NaN  NaN  NaN  NaN  NaN  NaN  NaN  NaN\n",
       "4   NaN  NaN  NaN  NaN   A4   B4   C4   D4  NaN  NaN  NaN  NaN\n",
       "5   NaN  NaN  NaN  NaN   A5   B5   C5   D5  NaN  NaN  NaN  NaN\n",
       "6   NaN  NaN  NaN  NaN   A6   B6   C6   D6  NaN  NaN  NaN  NaN\n",
       "7   NaN  NaN  NaN  NaN   A7   B7   C7   D7  NaN  NaN  NaN  NaN\n",
       "8   NaN  NaN  NaN  NaN  NaN  NaN  NaN  NaN   A8   B8   C8   D8\n",
       "9   NaN  NaN  NaN  NaN  NaN  NaN  NaN  NaN   A9   B9   C9   D9\n",
       "10  NaN  NaN  NaN  NaN  NaN  NaN  NaN  NaN  A10  B10  C10  D10\n",
       "11  NaN  NaN  NaN  NaN  NaN  NaN  NaN  NaN  A11  B11  C11  D11"
      ]
     },
     "execution_count": 28,
     "metadata": {},
     "output_type": "execute_result"
    }
   ],
   "source": [
    "#joining across column\n",
    "pd.concat([df1,df2,df3],axis=1)\n"
   ]
  },
  {
   "cell_type": "code",
   "execution_count": 29,
   "id": "20c595c0",
   "metadata": {
    "execution": {
     "iopub.execute_input": "2022-12-09T05:53:58.714404Z",
     "iopub.status.busy": "2022-12-09T05:53:58.713569Z",
     "iopub.status.idle": "2022-12-09T05:53:58.721885Z",
     "shell.execute_reply": "2022-12-09T05:53:58.720934Z"
    },
    "papermill": {
     "duration": 0.027039,
     "end_time": "2022-12-09T05:53:58.724510",
     "exception": false,
     "start_time": "2022-12-09T05:53:58.697471",
     "status": "completed"
    },
    "tags": []
   },
   "outputs": [],
   "source": [
    "#data frames\n",
    "left = pd.DataFrame({'key': ['K0', 'K1', 'K2', 'K3'],\n",
    "                     'A': ['A0', 'A1', 'A2', 'A3'],\n",
    "                     'B': ['B0', 'B1', 'B2', 'B3']})\n",
    "   \n",
    "right = pd.DataFrame({'key': ['K0', 'K1', 'K2', 'K3'],\n",
    "                          'C': ['C0', 'C1', 'C2', 'C3'],\n",
    "                          'D': ['D0', 'D1', 'D2', 'D3']})    "
   ]
  },
  {
   "cell_type": "code",
   "execution_count": 30,
   "id": "09d8e60c",
   "metadata": {
    "execution": {
     "iopub.execute_input": "2022-12-09T05:53:58.764200Z",
     "iopub.status.busy": "2022-12-09T05:53:58.763431Z",
     "iopub.status.idle": "2022-12-09T05:53:58.777693Z",
     "shell.execute_reply": "2022-12-09T05:53:58.776485Z"
    },
    "papermill": {
     "duration": 0.039158,
     "end_time": "2022-12-09T05:53:58.780202",
     "exception": false,
     "start_time": "2022-12-09T05:53:58.741044",
     "status": "completed"
    },
    "tags": []
   },
   "outputs": [
    {
     "data": {
      "text/html": [
       "<div>\n",
       "<style scoped>\n",
       "    .dataframe tbody tr th:only-of-type {\n",
       "        vertical-align: middle;\n",
       "    }\n",
       "\n",
       "    .dataframe tbody tr th {\n",
       "        vertical-align: top;\n",
       "    }\n",
       "\n",
       "    .dataframe thead th {\n",
       "        text-align: right;\n",
       "    }\n",
       "</style>\n",
       "<table border=\"1\" class=\"dataframe\">\n",
       "  <thead>\n",
       "    <tr style=\"text-align: right;\">\n",
       "      <th></th>\n",
       "      <th>key</th>\n",
       "      <th>A</th>\n",
       "      <th>B</th>\n",
       "    </tr>\n",
       "  </thead>\n",
       "  <tbody>\n",
       "    <tr>\n",
       "      <th>0</th>\n",
       "      <td>K0</td>\n",
       "      <td>A0</td>\n",
       "      <td>B0</td>\n",
       "    </tr>\n",
       "    <tr>\n",
       "      <th>1</th>\n",
       "      <td>K1</td>\n",
       "      <td>A1</td>\n",
       "      <td>B1</td>\n",
       "    </tr>\n",
       "    <tr>\n",
       "      <th>2</th>\n",
       "      <td>K2</td>\n",
       "      <td>A2</td>\n",
       "      <td>B2</td>\n",
       "    </tr>\n",
       "    <tr>\n",
       "      <th>3</th>\n",
       "      <td>K3</td>\n",
       "      <td>A3</td>\n",
       "      <td>B3</td>\n",
       "    </tr>\n",
       "  </tbody>\n",
       "</table>\n",
       "</div>"
      ],
      "text/plain": [
       "  key   A   B\n",
       "0  K0  A0  B0\n",
       "1  K1  A1  B1\n",
       "2  K2  A2  B2\n",
       "3  K3  A3  B3"
      ]
     },
     "execution_count": 30,
     "metadata": {},
     "output_type": "execute_result"
    }
   ],
   "source": [
    "left"
   ]
  },
  {
   "cell_type": "markdown",
   "id": "3b951c88",
   "metadata": {
    "papermill": {
     "duration": 0.017978,
     "end_time": "2022-12-09T05:53:58.816094",
     "exception": false,
     "start_time": "2022-12-09T05:53:58.798116",
     "status": "completed"
    },
    "tags": []
   },
   "source": [
    "### The merge function allows you to merge DataFrames together using a similar logic as merging SQL Tables together. For example:"
   ]
  },
  {
   "cell_type": "code",
   "execution_count": 31,
   "id": "8f9cd387",
   "metadata": {
    "execution": {
     "iopub.execute_input": "2022-12-09T05:53:58.847255Z",
     "iopub.status.busy": "2022-12-09T05:53:58.846453Z",
     "iopub.status.idle": "2022-12-09T05:53:58.866452Z",
     "shell.execute_reply": "2022-12-09T05:53:58.865557Z"
    },
    "papermill": {
     "duration": 0.038074,
     "end_time": "2022-12-09T05:53:58.868664",
     "exception": false,
     "start_time": "2022-12-09T05:53:58.830590",
     "status": "completed"
    },
    "tags": []
   },
   "outputs": [
    {
     "data": {
      "text/html": [
       "<div>\n",
       "<style scoped>\n",
       "    .dataframe tbody tr th:only-of-type {\n",
       "        vertical-align: middle;\n",
       "    }\n",
       "\n",
       "    .dataframe tbody tr th {\n",
       "        vertical-align: top;\n",
       "    }\n",
       "\n",
       "    .dataframe thead th {\n",
       "        text-align: right;\n",
       "    }\n",
       "</style>\n",
       "<table border=\"1\" class=\"dataframe\">\n",
       "  <thead>\n",
       "    <tr style=\"text-align: right;\">\n",
       "      <th></th>\n",
       "      <th>key</th>\n",
       "      <th>A</th>\n",
       "      <th>B</th>\n",
       "      <th>C</th>\n",
       "      <th>D</th>\n",
       "    </tr>\n",
       "  </thead>\n",
       "  <tbody>\n",
       "    <tr>\n",
       "      <th>0</th>\n",
       "      <td>K0</td>\n",
       "      <td>A0</td>\n",
       "      <td>B0</td>\n",
       "      <td>C0</td>\n",
       "      <td>D0</td>\n",
       "    </tr>\n",
       "    <tr>\n",
       "      <th>1</th>\n",
       "      <td>K1</td>\n",
       "      <td>A1</td>\n",
       "      <td>B1</td>\n",
       "      <td>C1</td>\n",
       "      <td>D1</td>\n",
       "    </tr>\n",
       "    <tr>\n",
       "      <th>2</th>\n",
       "      <td>K2</td>\n",
       "      <td>A2</td>\n",
       "      <td>B2</td>\n",
       "      <td>C2</td>\n",
       "      <td>D2</td>\n",
       "    </tr>\n",
       "    <tr>\n",
       "      <th>3</th>\n",
       "      <td>K3</td>\n",
       "      <td>A3</td>\n",
       "      <td>B3</td>\n",
       "      <td>C3</td>\n",
       "      <td>D3</td>\n",
       "    </tr>\n",
       "  </tbody>\n",
       "</table>\n",
       "</div>"
      ],
      "text/plain": [
       "  key   A   B   C   D\n",
       "0  K0  A0  B0  C0  D0\n",
       "1  K1  A1  B1  C1  D1\n",
       "2  K2  A2  B2  C2  D2\n",
       "3  K3  A3  B3  C3  D3"
      ]
     },
     "execution_count": 31,
     "metadata": {},
     "output_type": "execute_result"
    }
   ],
   "source": [
    "pd.merge(left,right,how='inner',on='key')"
   ]
  },
  {
   "cell_type": "code",
   "execution_count": 32,
   "id": "a6ffddfc",
   "metadata": {
    "execution": {
     "iopub.execute_input": "2022-12-09T05:53:58.901405Z",
     "iopub.status.busy": "2022-12-09T05:53:58.900633Z",
     "iopub.status.idle": "2022-12-09T05:53:58.908745Z",
     "shell.execute_reply": "2022-12-09T05:53:58.907745Z"
    },
    "papermill": {
     "duration": 0.027979,
     "end_time": "2022-12-09T05:53:58.911464",
     "exception": false,
     "start_time": "2022-12-09T05:53:58.883485",
     "status": "completed"
    },
    "tags": []
   },
   "outputs": [],
   "source": [
    "left = pd.DataFrame({'key1': ['K0', 'K0', 'K1', 'K2'],\n",
    "                     'key2': ['K0', 'K1', 'K0', 'K1'],\n",
    "                        'A': ['A0', 'A1', 'A2', 'A3'],\n",
    "                        'B': ['B0', 'B1', 'B2', 'B3']})\n",
    "    \n",
    "right = pd.DataFrame({'key1': ['K0', 'K1', 'K1', 'K2'],\n",
    "                               'key2': ['K0', 'K0', 'K0', 'K0'],\n",
    "                                  'C': ['C0', 'C1', 'C2', 'C3'],\n",
    "                                  'D': ['D0', 'D1', 'D2', 'D3']})"
   ]
  },
  {
   "cell_type": "code",
   "execution_count": 33,
   "id": "6fd8d64f",
   "metadata": {
    "execution": {
     "iopub.execute_input": "2022-12-09T05:53:58.945147Z",
     "iopub.status.busy": "2022-12-09T05:53:58.944214Z",
     "iopub.status.idle": "2022-12-09T05:53:58.959248Z",
     "shell.execute_reply": "2022-12-09T05:53:58.958354Z"
    },
    "papermill": {
     "duration": 0.034188,
     "end_time": "2022-12-09T05:53:58.961588",
     "exception": false,
     "start_time": "2022-12-09T05:53:58.927400",
     "status": "completed"
    },
    "tags": []
   },
   "outputs": [
    {
     "data": {
      "text/html": [
       "<div>\n",
       "<style scoped>\n",
       "    .dataframe tbody tr th:only-of-type {\n",
       "        vertical-align: middle;\n",
       "    }\n",
       "\n",
       "    .dataframe tbody tr th {\n",
       "        vertical-align: top;\n",
       "    }\n",
       "\n",
       "    .dataframe thead th {\n",
       "        text-align: right;\n",
       "    }\n",
       "</style>\n",
       "<table border=\"1\" class=\"dataframe\">\n",
       "  <thead>\n",
       "    <tr style=\"text-align: right;\">\n",
       "      <th></th>\n",
       "      <th>key1</th>\n",
       "      <th>key2</th>\n",
       "      <th>A</th>\n",
       "      <th>B</th>\n",
       "      <th>C</th>\n",
       "      <th>D</th>\n",
       "    </tr>\n",
       "  </thead>\n",
       "  <tbody>\n",
       "    <tr>\n",
       "      <th>0</th>\n",
       "      <td>K0</td>\n",
       "      <td>K0</td>\n",
       "      <td>A0</td>\n",
       "      <td>B0</td>\n",
       "      <td>C0</td>\n",
       "      <td>D0</td>\n",
       "    </tr>\n",
       "    <tr>\n",
       "      <th>1</th>\n",
       "      <td>K1</td>\n",
       "      <td>K0</td>\n",
       "      <td>A2</td>\n",
       "      <td>B2</td>\n",
       "      <td>C1</td>\n",
       "      <td>D1</td>\n",
       "    </tr>\n",
       "    <tr>\n",
       "      <th>2</th>\n",
       "      <td>K1</td>\n",
       "      <td>K0</td>\n",
       "      <td>A2</td>\n",
       "      <td>B2</td>\n",
       "      <td>C2</td>\n",
       "      <td>D2</td>\n",
       "    </tr>\n",
       "  </tbody>\n",
       "</table>\n",
       "</div>"
      ],
      "text/plain": [
       "  key1 key2   A   B   C   D\n",
       "0   K0   K0  A0  B0  C0  D0\n",
       "1   K1   K0  A2  B2  C1  D1\n",
       "2   K1   K0  A2  B2  C2  D2"
      ]
     },
     "execution_count": 33,
     "metadata": {},
     "output_type": "execute_result"
    }
   ],
   "source": [
    "pd.merge(left, right, on=['key1', 'key2'])"
   ]
  },
  {
   "cell_type": "code",
   "execution_count": 34,
   "id": "f3d3ddcb",
   "metadata": {
    "execution": {
     "iopub.execute_input": "2022-12-09T05:53:58.994930Z",
     "iopub.status.busy": "2022-12-09T05:53:58.994481Z",
     "iopub.status.idle": "2022-12-09T05:53:59.012905Z",
     "shell.execute_reply": "2022-12-09T05:53:59.012014Z"
    },
    "papermill": {
     "duration": 0.036937,
     "end_time": "2022-12-09T05:53:59.015091",
     "exception": false,
     "start_time": "2022-12-09T05:53:58.978154",
     "status": "completed"
    },
    "tags": []
   },
   "outputs": [
    {
     "data": {
      "text/html": [
       "<div>\n",
       "<style scoped>\n",
       "    .dataframe tbody tr th:only-of-type {\n",
       "        vertical-align: middle;\n",
       "    }\n",
       "\n",
       "    .dataframe tbody tr th {\n",
       "        vertical-align: top;\n",
       "    }\n",
       "\n",
       "    .dataframe thead th {\n",
       "        text-align: right;\n",
       "    }\n",
       "</style>\n",
       "<table border=\"1\" class=\"dataframe\">\n",
       "  <thead>\n",
       "    <tr style=\"text-align: right;\">\n",
       "      <th></th>\n",
       "      <th>key1</th>\n",
       "      <th>key2</th>\n",
       "      <th>A</th>\n",
       "      <th>B</th>\n",
       "      <th>C</th>\n",
       "      <th>D</th>\n",
       "    </tr>\n",
       "  </thead>\n",
       "  <tbody>\n",
       "    <tr>\n",
       "      <th>0</th>\n",
       "      <td>K0</td>\n",
       "      <td>K0</td>\n",
       "      <td>A0</td>\n",
       "      <td>B0</td>\n",
       "      <td>C0</td>\n",
       "      <td>D0</td>\n",
       "    </tr>\n",
       "    <tr>\n",
       "      <th>1</th>\n",
       "      <td>K0</td>\n",
       "      <td>K1</td>\n",
       "      <td>A1</td>\n",
       "      <td>B1</td>\n",
       "      <td>NaN</td>\n",
       "      <td>NaN</td>\n",
       "    </tr>\n",
       "    <tr>\n",
       "      <th>2</th>\n",
       "      <td>K1</td>\n",
       "      <td>K0</td>\n",
       "      <td>A2</td>\n",
       "      <td>B2</td>\n",
       "      <td>C1</td>\n",
       "      <td>D1</td>\n",
       "    </tr>\n",
       "    <tr>\n",
       "      <th>3</th>\n",
       "      <td>K1</td>\n",
       "      <td>K0</td>\n",
       "      <td>A2</td>\n",
       "      <td>B2</td>\n",
       "      <td>C2</td>\n",
       "      <td>D2</td>\n",
       "    </tr>\n",
       "    <tr>\n",
       "      <th>4</th>\n",
       "      <td>K2</td>\n",
       "      <td>K1</td>\n",
       "      <td>A3</td>\n",
       "      <td>B3</td>\n",
       "      <td>NaN</td>\n",
       "      <td>NaN</td>\n",
       "    </tr>\n",
       "    <tr>\n",
       "      <th>5</th>\n",
       "      <td>K2</td>\n",
       "      <td>K0</td>\n",
       "      <td>NaN</td>\n",
       "      <td>NaN</td>\n",
       "      <td>C3</td>\n",
       "      <td>D3</td>\n",
       "    </tr>\n",
       "  </tbody>\n",
       "</table>\n",
       "</div>"
      ],
      "text/plain": [
       "  key1 key2    A    B    C    D\n",
       "0   K0   K0   A0   B0   C0   D0\n",
       "1   K0   K1   A1   B1  NaN  NaN\n",
       "2   K1   K0   A2   B2   C1   D1\n",
       "3   K1   K0   A2   B2   C2   D2\n",
       "4   K2   K1   A3   B3  NaN  NaN\n",
       "5   K2   K0  NaN  NaN   C3   D3"
      ]
     },
     "execution_count": 34,
     "metadata": {},
     "output_type": "execute_result"
    }
   ],
   "source": [
    "pd.merge(left, right, how='outer', on=['key1', 'key2'])"
   ]
  },
  {
   "cell_type": "code",
   "execution_count": 35,
   "id": "cf7283cb",
   "metadata": {
    "execution": {
     "iopub.execute_input": "2022-12-09T05:53:59.048007Z",
     "iopub.status.busy": "2022-12-09T05:53:59.047294Z",
     "iopub.status.idle": "2022-12-09T05:53:59.063823Z",
     "shell.execute_reply": "2022-12-09T05:53:59.062573Z"
    },
    "papermill": {
     "duration": 0.035745,
     "end_time": "2022-12-09T05:53:59.066281",
     "exception": false,
     "start_time": "2022-12-09T05:53:59.030536",
     "status": "completed"
    },
    "tags": []
   },
   "outputs": [
    {
     "data": {
      "text/html": [
       "<div>\n",
       "<style scoped>\n",
       "    .dataframe tbody tr th:only-of-type {\n",
       "        vertical-align: middle;\n",
       "    }\n",
       "\n",
       "    .dataframe tbody tr th {\n",
       "        vertical-align: top;\n",
       "    }\n",
       "\n",
       "    .dataframe thead th {\n",
       "        text-align: right;\n",
       "    }\n",
       "</style>\n",
       "<table border=\"1\" class=\"dataframe\">\n",
       "  <thead>\n",
       "    <tr style=\"text-align: right;\">\n",
       "      <th></th>\n",
       "      <th>key1</th>\n",
       "      <th>key2</th>\n",
       "      <th>A</th>\n",
       "      <th>B</th>\n",
       "      <th>C</th>\n",
       "      <th>D</th>\n",
       "    </tr>\n",
       "  </thead>\n",
       "  <tbody>\n",
       "    <tr>\n",
       "      <th>0</th>\n",
       "      <td>K0</td>\n",
       "      <td>K0</td>\n",
       "      <td>A0</td>\n",
       "      <td>B0</td>\n",
       "      <td>C0</td>\n",
       "      <td>D0</td>\n",
       "    </tr>\n",
       "    <tr>\n",
       "      <th>1</th>\n",
       "      <td>K1</td>\n",
       "      <td>K0</td>\n",
       "      <td>A2</td>\n",
       "      <td>B2</td>\n",
       "      <td>C1</td>\n",
       "      <td>D1</td>\n",
       "    </tr>\n",
       "    <tr>\n",
       "      <th>2</th>\n",
       "      <td>K1</td>\n",
       "      <td>K0</td>\n",
       "      <td>A2</td>\n",
       "      <td>B2</td>\n",
       "      <td>C2</td>\n",
       "      <td>D2</td>\n",
       "    </tr>\n",
       "    <tr>\n",
       "      <th>3</th>\n",
       "      <td>K2</td>\n",
       "      <td>K0</td>\n",
       "      <td>NaN</td>\n",
       "      <td>NaN</td>\n",
       "      <td>C3</td>\n",
       "      <td>D3</td>\n",
       "    </tr>\n",
       "  </tbody>\n",
       "</table>\n",
       "</div>"
      ],
      "text/plain": [
       "  key1 key2    A    B   C   D\n",
       "0   K0   K0   A0   B0  C0  D0\n",
       "1   K1   K0   A2   B2  C1  D1\n",
       "2   K1   K0   A2   B2  C2  D2\n",
       "3   K2   K0  NaN  NaN  C3  D3"
      ]
     },
     "execution_count": 35,
     "metadata": {},
     "output_type": "execute_result"
    }
   ],
   "source": [
    "pd.merge(left, right, how='right', on=['key1', 'key2'])"
   ]
  },
  {
   "cell_type": "code",
   "execution_count": 36,
   "id": "50ecec04",
   "metadata": {
    "execution": {
     "iopub.execute_input": "2022-12-09T05:53:59.099300Z",
     "iopub.status.busy": "2022-12-09T05:53:59.098873Z",
     "iopub.status.idle": "2022-12-09T05:53:59.120365Z",
     "shell.execute_reply": "2022-12-09T05:53:59.118721Z"
    },
    "papermill": {
     "duration": 0.042137,
     "end_time": "2022-12-09T05:53:59.124290",
     "exception": false,
     "start_time": "2022-12-09T05:53:59.082153",
     "status": "completed"
    },
    "tags": []
   },
   "outputs": [
    {
     "data": {
      "text/html": [
       "<div>\n",
       "<style scoped>\n",
       "    .dataframe tbody tr th:only-of-type {\n",
       "        vertical-align: middle;\n",
       "    }\n",
       "\n",
       "    .dataframe tbody tr th {\n",
       "        vertical-align: top;\n",
       "    }\n",
       "\n",
       "    .dataframe thead th {\n",
       "        text-align: right;\n",
       "    }\n",
       "</style>\n",
       "<table border=\"1\" class=\"dataframe\">\n",
       "  <thead>\n",
       "    <tr style=\"text-align: right;\">\n",
       "      <th></th>\n",
       "      <th>key1</th>\n",
       "      <th>key2</th>\n",
       "      <th>A</th>\n",
       "      <th>B</th>\n",
       "      <th>C</th>\n",
       "      <th>D</th>\n",
       "    </tr>\n",
       "  </thead>\n",
       "  <tbody>\n",
       "    <tr>\n",
       "      <th>0</th>\n",
       "      <td>K0</td>\n",
       "      <td>K0</td>\n",
       "      <td>A0</td>\n",
       "      <td>B0</td>\n",
       "      <td>C0</td>\n",
       "      <td>D0</td>\n",
       "    </tr>\n",
       "    <tr>\n",
       "      <th>1</th>\n",
       "      <td>K0</td>\n",
       "      <td>K1</td>\n",
       "      <td>A1</td>\n",
       "      <td>B1</td>\n",
       "      <td>NaN</td>\n",
       "      <td>NaN</td>\n",
       "    </tr>\n",
       "    <tr>\n",
       "      <th>2</th>\n",
       "      <td>K1</td>\n",
       "      <td>K0</td>\n",
       "      <td>A2</td>\n",
       "      <td>B2</td>\n",
       "      <td>C1</td>\n",
       "      <td>D1</td>\n",
       "    </tr>\n",
       "    <tr>\n",
       "      <th>3</th>\n",
       "      <td>K1</td>\n",
       "      <td>K0</td>\n",
       "      <td>A2</td>\n",
       "      <td>B2</td>\n",
       "      <td>C2</td>\n",
       "      <td>D2</td>\n",
       "    </tr>\n",
       "    <tr>\n",
       "      <th>4</th>\n",
       "      <td>K2</td>\n",
       "      <td>K1</td>\n",
       "      <td>A3</td>\n",
       "      <td>B3</td>\n",
       "      <td>NaN</td>\n",
       "      <td>NaN</td>\n",
       "    </tr>\n",
       "  </tbody>\n",
       "</table>\n",
       "</div>"
      ],
      "text/plain": [
       "  key1 key2   A   B    C    D\n",
       "0   K0   K0  A0  B0   C0   D0\n",
       "1   K0   K1  A1  B1  NaN  NaN\n",
       "2   K1   K0  A2  B2   C1   D1\n",
       "3   K1   K0  A2  B2   C2   D2\n",
       "4   K2   K1  A3  B3  NaN  NaN"
      ]
     },
     "execution_count": 36,
     "metadata": {},
     "output_type": "execute_result"
    }
   ],
   "source": [
    "pd.merge(left, right, how='left', on=['key1', 'key2'])"
   ]
  },
  {
   "cell_type": "markdown",
   "id": "23b57f81",
   "metadata": {
    "papermill": {
     "duration": 0.01688,
     "end_time": "2022-12-09T05:53:59.158591",
     "exception": false,
     "start_time": "2022-12-09T05:53:59.141711",
     "status": "completed"
    },
    "tags": []
   },
   "source": [
    "### Joining is a convenient method for combining the columns of two potentially differently-indexed DataFrames into a single result DataFrame.\n",
    "\n"
   ]
  },
  {
   "cell_type": "code",
   "execution_count": 37,
   "id": "d2f3d612",
   "metadata": {
    "execution": {
     "iopub.execute_input": "2022-12-09T05:53:59.204029Z",
     "iopub.status.busy": "2022-12-09T05:53:59.203488Z",
     "iopub.status.idle": "2022-12-09T05:53:59.212823Z",
     "shell.execute_reply": "2022-12-09T05:53:59.211640Z"
    },
    "papermill": {
     "duration": 0.033721,
     "end_time": "2022-12-09T05:53:59.215283",
     "exception": false,
     "start_time": "2022-12-09T05:53:59.181562",
     "status": "completed"
    },
    "tags": []
   },
   "outputs": [],
   "source": [
    "left = pd.DataFrame({'A': ['A0', 'A1', 'A2'],\n",
    "                     'B': ['B0', 'B1', 'B2']},\n",
    "                      index=['K0', 'K1', 'K2']) \n",
    "\n",
    "right = pd.DataFrame({'C': ['C0', 'C2', 'C3'],\n",
    "                    'D': ['D0', 'D2', 'D3']},\n",
    "                      index=['K0', 'K2', 'K3'])"
   ]
  },
  {
   "cell_type": "code",
   "execution_count": 38,
   "id": "e31705ea",
   "metadata": {
    "execution": {
     "iopub.execute_input": "2022-12-09T05:53:59.252288Z",
     "iopub.status.busy": "2022-12-09T05:53:59.251892Z",
     "iopub.status.idle": "2022-12-09T05:53:59.265975Z",
     "shell.execute_reply": "2022-12-09T05:53:59.264834Z"
    },
    "papermill": {
     "duration": 0.034276,
     "end_time": "2022-12-09T05:53:59.268515",
     "exception": false,
     "start_time": "2022-12-09T05:53:59.234239",
     "status": "completed"
    },
    "tags": []
   },
   "outputs": [
    {
     "data": {
      "text/html": [
       "<div>\n",
       "<style scoped>\n",
       "    .dataframe tbody tr th:only-of-type {\n",
       "        vertical-align: middle;\n",
       "    }\n",
       "\n",
       "    .dataframe tbody tr th {\n",
       "        vertical-align: top;\n",
       "    }\n",
       "\n",
       "    .dataframe thead th {\n",
       "        text-align: right;\n",
       "    }\n",
       "</style>\n",
       "<table border=\"1\" class=\"dataframe\">\n",
       "  <thead>\n",
       "    <tr style=\"text-align: right;\">\n",
       "      <th></th>\n",
       "      <th>A</th>\n",
       "      <th>B</th>\n",
       "      <th>C</th>\n",
       "      <th>D</th>\n",
       "    </tr>\n",
       "  </thead>\n",
       "  <tbody>\n",
       "    <tr>\n",
       "      <th>K0</th>\n",
       "      <td>A0</td>\n",
       "      <td>B0</td>\n",
       "      <td>C0</td>\n",
       "      <td>D0</td>\n",
       "    </tr>\n",
       "    <tr>\n",
       "      <th>K1</th>\n",
       "      <td>A1</td>\n",
       "      <td>B1</td>\n",
       "      <td>NaN</td>\n",
       "      <td>NaN</td>\n",
       "    </tr>\n",
       "    <tr>\n",
       "      <th>K2</th>\n",
       "      <td>A2</td>\n",
       "      <td>B2</td>\n",
       "      <td>C2</td>\n",
       "      <td>D2</td>\n",
       "    </tr>\n",
       "  </tbody>\n",
       "</table>\n",
       "</div>"
      ],
      "text/plain": [
       "     A   B    C    D\n",
       "K0  A0  B0   C0   D0\n",
       "K1  A1  B1  NaN  NaN\n",
       "K2  A2  B2   C2   D2"
      ]
     },
     "execution_count": 38,
     "metadata": {},
     "output_type": "execute_result"
    }
   ],
   "source": [
    "left.join(right)"
   ]
  },
  {
   "cell_type": "code",
   "execution_count": 39,
   "id": "a2eeb00f",
   "metadata": {
    "execution": {
     "iopub.execute_input": "2022-12-09T05:53:59.303474Z",
     "iopub.status.busy": "2022-12-09T05:53:59.302218Z",
     "iopub.status.idle": "2022-12-09T05:53:59.316828Z",
     "shell.execute_reply": "2022-12-09T05:53:59.315690Z"
    },
    "papermill": {
     "duration": 0.034551,
     "end_time": "2022-12-09T05:53:59.319482",
     "exception": false,
     "start_time": "2022-12-09T05:53:59.284931",
     "status": "completed"
    },
    "tags": []
   },
   "outputs": [
    {
     "data": {
      "text/html": [
       "<div>\n",
       "<style scoped>\n",
       "    .dataframe tbody tr th:only-of-type {\n",
       "        vertical-align: middle;\n",
       "    }\n",
       "\n",
       "    .dataframe tbody tr th {\n",
       "        vertical-align: top;\n",
       "    }\n",
       "\n",
       "    .dataframe thead th {\n",
       "        text-align: right;\n",
       "    }\n",
       "</style>\n",
       "<table border=\"1\" class=\"dataframe\">\n",
       "  <thead>\n",
       "    <tr style=\"text-align: right;\">\n",
       "      <th></th>\n",
       "      <th>A</th>\n",
       "      <th>B</th>\n",
       "      <th>C</th>\n",
       "      <th>D</th>\n",
       "    </tr>\n",
       "  </thead>\n",
       "  <tbody>\n",
       "    <tr>\n",
       "      <th>K0</th>\n",
       "      <td>A0</td>\n",
       "      <td>B0</td>\n",
       "      <td>C0</td>\n",
       "      <td>D0</td>\n",
       "    </tr>\n",
       "    <tr>\n",
       "      <th>K1</th>\n",
       "      <td>A1</td>\n",
       "      <td>B1</td>\n",
       "      <td>NaN</td>\n",
       "      <td>NaN</td>\n",
       "    </tr>\n",
       "    <tr>\n",
       "      <th>K2</th>\n",
       "      <td>A2</td>\n",
       "      <td>B2</td>\n",
       "      <td>C2</td>\n",
       "      <td>D2</td>\n",
       "    </tr>\n",
       "    <tr>\n",
       "      <th>K3</th>\n",
       "      <td>NaN</td>\n",
       "      <td>NaN</td>\n",
       "      <td>C3</td>\n",
       "      <td>D3</td>\n",
       "    </tr>\n",
       "  </tbody>\n",
       "</table>\n",
       "</div>"
      ],
      "text/plain": [
       "      A    B    C    D\n",
       "K0   A0   B0   C0   D0\n",
       "K1   A1   B1  NaN  NaN\n",
       "K2   A2   B2   C2   D2\n",
       "K3  NaN  NaN   C3   D3"
      ]
     },
     "execution_count": 39,
     "metadata": {},
     "output_type": "execute_result"
    }
   ],
   "source": [
    "left.join(right, how='outer')"
   ]
  },
  {
   "cell_type": "markdown",
   "id": "0139c75c",
   "metadata": {
    "papermill": {
     "duration": 0.015669,
     "end_time": "2022-12-09T05:53:59.351876",
     "exception": false,
     "start_time": "2022-12-09T05:53:59.336207",
     "status": "completed"
    },
    "tags": []
   },
   "source": [
    "## Operations"
   ]
  },
  {
   "cell_type": "code",
   "execution_count": 40,
   "id": "226b6e4b",
   "metadata": {
    "execution": {
     "iopub.execute_input": "2022-12-09T05:53:59.385783Z",
     "iopub.status.busy": "2022-12-09T05:53:59.385346Z",
     "iopub.status.idle": "2022-12-09T05:53:59.390704Z",
     "shell.execute_reply": "2022-12-09T05:53:59.389601Z"
    },
    "papermill": {
     "duration": 0.025104,
     "end_time": "2022-12-09T05:53:59.392929",
     "exception": false,
     "start_time": "2022-12-09T05:53:59.367825",
     "status": "completed"
    },
    "tags": []
   },
   "outputs": [],
   "source": [
    "import numpy as np\n",
    "import pandas as pd\n"
   ]
  },
  {
   "cell_type": "code",
   "execution_count": 41,
   "id": "c090096a",
   "metadata": {
    "execution": {
     "iopub.execute_input": "2022-12-09T05:53:59.427020Z",
     "iopub.status.busy": "2022-12-09T05:53:59.426602Z",
     "iopub.status.idle": "2022-12-09T05:53:59.439137Z",
     "shell.execute_reply": "2022-12-09T05:53:59.438102Z"
    },
    "papermill": {
     "duration": 0.032304,
     "end_time": "2022-12-09T05:53:59.441475",
     "exception": false,
     "start_time": "2022-12-09T05:53:59.409171",
     "status": "completed"
    },
    "tags": []
   },
   "outputs": [
    {
     "data": {
      "text/html": [
       "<div>\n",
       "<style scoped>\n",
       "    .dataframe tbody tr th:only-of-type {\n",
       "        vertical-align: middle;\n",
       "    }\n",
       "\n",
       "    .dataframe tbody tr th {\n",
       "        vertical-align: top;\n",
       "    }\n",
       "\n",
       "    .dataframe thead th {\n",
       "        text-align: right;\n",
       "    }\n",
       "</style>\n",
       "<table border=\"1\" class=\"dataframe\">\n",
       "  <thead>\n",
       "    <tr style=\"text-align: right;\">\n",
       "      <th></th>\n",
       "      <th>col1</th>\n",
       "      <th>col2</th>\n",
       "      <th>col3</th>\n",
       "    </tr>\n",
       "  </thead>\n",
       "  <tbody>\n",
       "    <tr>\n",
       "      <th>0</th>\n",
       "      <td>1</td>\n",
       "      <td>444</td>\n",
       "      <td>abc</td>\n",
       "    </tr>\n",
       "    <tr>\n",
       "      <th>1</th>\n",
       "      <td>2</td>\n",
       "      <td>555</td>\n",
       "      <td>def</td>\n",
       "    </tr>\n",
       "    <tr>\n",
       "      <th>2</th>\n",
       "      <td>3</td>\n",
       "      <td>666</td>\n",
       "      <td>ghi</td>\n",
       "    </tr>\n",
       "    <tr>\n",
       "      <th>3</th>\n",
       "      <td>4</td>\n",
       "      <td>444</td>\n",
       "      <td>xyz</td>\n",
       "    </tr>\n",
       "  </tbody>\n",
       "</table>\n",
       "</div>"
      ],
      "text/plain": [
       "   col1  col2 col3\n",
       "0     1   444  abc\n",
       "1     2   555  def\n",
       "2     3   666  ghi\n",
       "3     4   444  xyz"
      ]
     },
     "execution_count": 41,
     "metadata": {},
     "output_type": "execute_result"
    }
   ],
   "source": [
    "import pandas as pd\n",
    "df = pd.DataFrame({'col1':[1,2,3,4],'col2':[444,555,666,444],'col3':['abc','def','ghi','xyz']})\n",
    "df.head()"
   ]
  },
  {
   "cell_type": "markdown",
   "id": "d6a1d9a3",
   "metadata": {
    "papermill": {
     "duration": 0.016489,
     "end_time": "2022-12-09T05:53:59.474708",
     "exception": false,
     "start_time": "2022-12-09T05:53:59.458219",
     "status": "completed"
    },
    "tags": []
   },
   "source": [
    "### Info on Unique Values"
   ]
  },
  {
   "cell_type": "code",
   "execution_count": 42,
   "id": "4b186a89",
   "metadata": {
    "execution": {
     "iopub.execute_input": "2022-12-09T05:53:59.509845Z",
     "iopub.status.busy": "2022-12-09T05:53:59.509389Z",
     "iopub.status.idle": "2022-12-09T05:53:59.522412Z",
     "shell.execute_reply": "2022-12-09T05:53:59.521303Z"
    },
    "papermill": {
     "duration": 0.033868,
     "end_time": "2022-12-09T05:53:59.524807",
     "exception": false,
     "start_time": "2022-12-09T05:53:59.490939",
     "status": "completed"
    },
    "tags": []
   },
   "outputs": [
    {
     "data": {
      "text/html": [
       "<div>\n",
       "<style scoped>\n",
       "    .dataframe tbody tr th:only-of-type {\n",
       "        vertical-align: middle;\n",
       "    }\n",
       "\n",
       "    .dataframe tbody tr th {\n",
       "        vertical-align: top;\n",
       "    }\n",
       "\n",
       "    .dataframe thead th {\n",
       "        text-align: right;\n",
       "    }\n",
       "</style>\n",
       "<table border=\"1\" class=\"dataframe\">\n",
       "  <thead>\n",
       "    <tr style=\"text-align: right;\">\n",
       "      <th></th>\n",
       "      <th>col1</th>\n",
       "      <th>col2</th>\n",
       "      <th>col3</th>\n",
       "    </tr>\n",
       "  </thead>\n",
       "  <tbody>\n",
       "    <tr>\n",
       "      <th>0</th>\n",
       "      <td>1</td>\n",
       "      <td>444</td>\n",
       "      <td>abc</td>\n",
       "    </tr>\n",
       "    <tr>\n",
       "      <th>1</th>\n",
       "      <td>2</td>\n",
       "      <td>555</td>\n",
       "      <td>def</td>\n",
       "    </tr>\n",
       "    <tr>\n",
       "      <th>2</th>\n",
       "      <td>3</td>\n",
       "      <td>666</td>\n",
       "      <td>ghi</td>\n",
       "    </tr>\n",
       "    <tr>\n",
       "      <th>3</th>\n",
       "      <td>4</td>\n",
       "      <td>444</td>\n",
       "      <td>xyz</td>\n",
       "    </tr>\n",
       "  </tbody>\n",
       "</table>\n",
       "</div>"
      ],
      "text/plain": [
       "   col1  col2 col3\n",
       "0     1   444  abc\n",
       "1     2   555  def\n",
       "2     3   666  ghi\n",
       "3     4   444  xyz"
      ]
     },
     "execution_count": 42,
     "metadata": {},
     "output_type": "execute_result"
    }
   ],
   "source": [
    "import pandas as pd\n",
    "df = pd.DataFrame({'col1':[1,2,3,4],'col2':[444,555,666,444],'col3':['abc','def','ghi','xyz']})\n",
    "df.head()"
   ]
  },
  {
   "cell_type": "code",
   "execution_count": 43,
   "id": "85936adb",
   "metadata": {
    "execution": {
     "iopub.execute_input": "2022-12-09T05:53:59.560739Z",
     "iopub.status.busy": "2022-12-09T05:53:59.560272Z",
     "iopub.status.idle": "2022-12-09T05:53:59.567606Z",
     "shell.execute_reply": "2022-12-09T05:53:59.566388Z"
    },
    "papermill": {
     "duration": 0.02803,
     "end_time": "2022-12-09T05:53:59.569980",
     "exception": false,
     "start_time": "2022-12-09T05:53:59.541950",
     "status": "completed"
    },
    "tags": []
   },
   "outputs": [
    {
     "data": {
      "text/plain": [
       "3"
      ]
     },
     "execution_count": 43,
     "metadata": {},
     "output_type": "execute_result"
    }
   ],
   "source": [
    "#number of unique values in a column\n",
    "len(df['col2'].unique())"
   ]
  },
  {
   "cell_type": "code",
   "execution_count": 44,
   "id": "bf0c2521",
   "metadata": {
    "execution": {
     "iopub.execute_input": "2022-12-09T05:53:59.606246Z",
     "iopub.status.busy": "2022-12-09T05:53:59.605846Z",
     "iopub.status.idle": "2022-12-09T05:53:59.613302Z",
     "shell.execute_reply": "2022-12-09T05:53:59.612144Z"
    },
    "papermill": {
     "duration": 0.028245,
     "end_time": "2022-12-09T05:53:59.615522",
     "exception": false,
     "start_time": "2022-12-09T05:53:59.587277",
     "status": "completed"
    },
    "tags": []
   },
   "outputs": [
    {
     "data": {
      "text/plain": [
       "array([444, 555, 666])"
      ]
     },
     "execution_count": 44,
     "metadata": {},
     "output_type": "execute_result"
    }
   ],
   "source": [
    "#to get the array of unique value\n",
    "df['col2'].unique()"
   ]
  },
  {
   "cell_type": "code",
   "execution_count": 45,
   "id": "73a16842",
   "metadata": {
    "execution": {
     "iopub.execute_input": "2022-12-09T05:53:59.650777Z",
     "iopub.status.busy": "2022-12-09T05:53:59.650391Z",
     "iopub.status.idle": "2022-12-09T05:53:59.658473Z",
     "shell.execute_reply": "2022-12-09T05:53:59.657342Z"
    },
    "papermill": {
     "duration": 0.028417,
     "end_time": "2022-12-09T05:53:59.660704",
     "exception": false,
     "start_time": "2022-12-09T05:53:59.632287",
     "status": "completed"
    },
    "tags": []
   },
   "outputs": [
    {
     "data": {
      "text/plain": [
       "444    2\n",
       "555    1\n",
       "666    1\n",
       "Name: col2, dtype: int64"
      ]
     },
     "execution_count": 45,
     "metadata": {},
     "output_type": "execute_result"
    }
   ],
   "source": [
    "df['col2'].value_counts()"
   ]
  },
  {
   "cell_type": "markdown",
   "id": "d4267eee",
   "metadata": {
    "papermill": {
     "duration": 0.01663,
     "end_time": "2022-12-09T05:53:59.694277",
     "exception": false,
     "start_time": "2022-12-09T05:53:59.677647",
     "status": "completed"
    },
    "tags": []
   },
   "source": [
    "## Selecting Data"
   ]
  },
  {
   "cell_type": "code",
   "execution_count": 46,
   "id": "766926a5",
   "metadata": {
    "execution": {
     "iopub.execute_input": "2022-12-09T05:53:59.737344Z",
     "iopub.status.busy": "2022-12-09T05:53:59.736925Z",
     "iopub.status.idle": "2022-12-09T05:53:59.744585Z",
     "shell.execute_reply": "2022-12-09T05:53:59.742416Z"
    },
    "papermill": {
     "duration": 0.031821,
     "end_time": "2022-12-09T05:53:59.747406",
     "exception": false,
     "start_time": "2022-12-09T05:53:59.715585",
     "status": "completed"
    },
    "tags": []
   },
   "outputs": [],
   "source": [
    "#Select from DataFrame using criteria from multiple columns\n",
    "newdf = df[(df['col1']>2) & (df['col2']==444)]"
   ]
  },
  {
   "cell_type": "code",
   "execution_count": 47,
   "id": "b4e7be21",
   "metadata": {
    "execution": {
     "iopub.execute_input": "2022-12-09T05:53:59.800197Z",
     "iopub.status.busy": "2022-12-09T05:53:59.799795Z",
     "iopub.status.idle": "2022-12-09T05:53:59.810205Z",
     "shell.execute_reply": "2022-12-09T05:53:59.809034Z"
    },
    "papermill": {
     "duration": 0.037931,
     "end_time": "2022-12-09T05:53:59.813051",
     "exception": false,
     "start_time": "2022-12-09T05:53:59.775120",
     "status": "completed"
    },
    "tags": []
   },
   "outputs": [
    {
     "data": {
      "text/html": [
       "<div>\n",
       "<style scoped>\n",
       "    .dataframe tbody tr th:only-of-type {\n",
       "        vertical-align: middle;\n",
       "    }\n",
       "\n",
       "    .dataframe tbody tr th {\n",
       "        vertical-align: top;\n",
       "    }\n",
       "\n",
       "    .dataframe thead th {\n",
       "        text-align: right;\n",
       "    }\n",
       "</style>\n",
       "<table border=\"1\" class=\"dataframe\">\n",
       "  <thead>\n",
       "    <tr style=\"text-align: right;\">\n",
       "      <th></th>\n",
       "      <th>col1</th>\n",
       "      <th>col2</th>\n",
       "      <th>col3</th>\n",
       "    </tr>\n",
       "  </thead>\n",
       "  <tbody>\n",
       "    <tr>\n",
       "      <th>3</th>\n",
       "      <td>4</td>\n",
       "      <td>444</td>\n",
       "      <td>xyz</td>\n",
       "    </tr>\n",
       "  </tbody>\n",
       "</table>\n",
       "</div>"
      ],
      "text/plain": [
       "   col1  col2 col3\n",
       "3     4   444  xyz"
      ]
     },
     "execution_count": 47,
     "metadata": {},
     "output_type": "execute_result"
    }
   ],
   "source": [
    "newdf"
   ]
  },
  {
   "cell_type": "code",
   "execution_count": null,
   "id": "15981a6a",
   "metadata": {
    "papermill": {
     "duration": 0.016778,
     "end_time": "2022-12-09T05:53:59.847997",
     "exception": false,
     "start_time": "2022-12-09T05:53:59.831219",
     "status": "completed"
    },
    "tags": []
   },
   "outputs": [],
   "source": []
  }
 ],
 "metadata": {
  "kernelspec": {
   "display_name": "Python 3",
   "language": "python",
   "name": "python3"
  },
  "language_info": {
   "codemirror_mode": {
    "name": "ipython",
    "version": 3
   },
   "file_extension": ".py",
   "mimetype": "text/x-python",
   "name": "python",
   "nbconvert_exporter": "python",
   "pygments_lexer": "ipython3",
   "version": "3.7.12"
  },
  "papermill": {
   "default_parameters": {},
   "duration": 12.001899,
   "end_time": "2022-12-09T05:54:00.589705",
   "environment_variables": {},
   "exception": null,
   "input_path": "__notebook__.ipynb",
   "output_path": "__notebook__.ipynb",
   "parameters": {},
   "start_time": "2022-12-09T05:53:48.587806",
   "version": "2.3.4"
  }
 },
 "nbformat": 4,
 "nbformat_minor": 5
}
