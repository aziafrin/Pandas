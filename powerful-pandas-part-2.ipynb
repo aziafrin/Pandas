{
 "cells": [
  {
   "cell_type": "markdown",
   "id": "1af83968",
   "metadata": {
    "_cell_guid": "b1076dfc-b9ad-4769-8c92-a6c4dae69d19",
    "_uuid": "8f2839f25d086af736a60e9eeb907d3b93b6e0e5",
    "papermill": {
     "duration": 0.016822,
     "end_time": "2022-12-09T05:51:57.751435",
     "exception": false,
     "start_time": "2022-12-09T05:51:57.734613",
     "status": "completed"
    },
    "tags": []
   },
   "source": [
    "## While analysing data we often face a problem of missing values in our data. Let's see how can we deal with that in python with pandas library."
   ]
  },
  {
   "cell_type": "code",
   "execution_count": 1,
   "id": "0e720e42",
   "metadata": {
    "execution": {
     "iopub.execute_input": "2022-12-09T05:51:57.783097Z",
     "iopub.status.busy": "2022-12-09T05:51:57.782471Z",
     "iopub.status.idle": "2022-12-09T05:51:57.799636Z",
     "shell.execute_reply": "2022-12-09T05:51:57.798322Z"
    },
    "papermill": {
     "duration": 0.035536,
     "end_time": "2022-12-09T05:51:57.802562",
     "exception": false,
     "start_time": "2022-12-09T05:51:57.767026",
     "status": "completed"
    },
    "tags": []
   },
   "outputs": [],
   "source": [
    "import numpy as np\n",
    "import pandas as pd"
   ]
  },
  {
   "cell_type": "code",
   "execution_count": 2,
   "id": "63be55bf",
   "metadata": {
    "execution": {
     "iopub.execute_input": "2022-12-09T05:51:57.836323Z",
     "iopub.status.busy": "2022-12-09T05:51:57.835211Z",
     "iopub.status.idle": "2022-12-09T05:51:57.841802Z",
     "shell.execute_reply": "2022-12-09T05:51:57.840706Z"
    },
    "papermill": {
     "duration": 0.027277,
     "end_time": "2022-12-09T05:51:57.845409",
     "exception": false,
     "start_time": "2022-12-09T05:51:57.818132",
     "status": "completed"
    },
    "tags": []
   },
   "outputs": [],
   "source": [
    "d={'A':[1,2,np.nan],'B':[5,np.nan,np.nan],'C':[1,2,3]}"
   ]
  },
  {
   "cell_type": "code",
   "execution_count": 3,
   "id": "ed5217b0",
   "metadata": {
    "execution": {
     "iopub.execute_input": "2022-12-09T05:51:57.873916Z",
     "iopub.status.busy": "2022-12-09T05:51:57.873177Z",
     "iopub.status.idle": "2022-12-09T05:51:57.883136Z",
     "shell.execute_reply": "2022-12-09T05:51:57.881599Z"
    },
    "papermill": {
     "duration": 0.026419,
     "end_time": "2022-12-09T05:51:57.886101",
     "exception": false,
     "start_time": "2022-12-09T05:51:57.859682",
     "status": "completed"
    },
    "tags": []
   },
   "outputs": [],
   "source": [
    "df=pd.DataFrame(d)"
   ]
  },
  {
   "cell_type": "code",
   "execution_count": 4,
   "id": "b7683977",
   "metadata": {
    "execution": {
     "iopub.execute_input": "2022-12-09T05:51:57.911761Z",
     "iopub.status.busy": "2022-12-09T05:51:57.911305Z",
     "iopub.status.idle": "2022-12-09T05:51:57.944425Z",
     "shell.execute_reply": "2022-12-09T05:51:57.943202Z"
    },
    "papermill": {
     "duration": 0.051317,
     "end_time": "2022-12-09T05:51:57.949300",
     "exception": false,
     "start_time": "2022-12-09T05:51:57.897983",
     "status": "completed"
    },
    "tags": []
   },
   "outputs": [
    {
     "data": {
      "text/html": [
       "<div>\n",
       "<style scoped>\n",
       "    .dataframe tbody tr th:only-of-type {\n",
       "        vertical-align: middle;\n",
       "    }\n",
       "\n",
       "    .dataframe tbody tr th {\n",
       "        vertical-align: top;\n",
       "    }\n",
       "\n",
       "    .dataframe thead th {\n",
       "        text-align: right;\n",
       "    }\n",
       "</style>\n",
       "<table border=\"1\" class=\"dataframe\">\n",
       "  <thead>\n",
       "    <tr style=\"text-align: right;\">\n",
       "      <th></th>\n",
       "      <th>A</th>\n",
       "      <th>B</th>\n",
       "      <th>C</th>\n",
       "    </tr>\n",
       "  </thead>\n",
       "  <tbody>\n",
       "    <tr>\n",
       "      <th>0</th>\n",
       "      <td>1.0</td>\n",
       "      <td>5.0</td>\n",
       "      <td>1</td>\n",
       "    </tr>\n",
       "    <tr>\n",
       "      <th>1</th>\n",
       "      <td>2.0</td>\n",
       "      <td>NaN</td>\n",
       "      <td>2</td>\n",
       "    </tr>\n",
       "    <tr>\n",
       "      <th>2</th>\n",
       "      <td>NaN</td>\n",
       "      <td>NaN</td>\n",
       "      <td>3</td>\n",
       "    </tr>\n",
       "  </tbody>\n",
       "</table>\n",
       "</div>"
      ],
      "text/plain": [
       "     A    B  C\n",
       "0  1.0  5.0  1\n",
       "1  2.0  NaN  2\n",
       "2  NaN  NaN  3"
      ]
     },
     "execution_count": 4,
     "metadata": {},
     "output_type": "execute_result"
    }
   ],
   "source": [
    "df"
   ]
  },
  {
   "cell_type": "code",
   "execution_count": 5,
   "id": "6cd519aa",
   "metadata": {
    "execution": {
     "iopub.execute_input": "2022-12-09T05:51:57.984760Z",
     "iopub.status.busy": "2022-12-09T05:51:57.984332Z",
     "iopub.status.idle": "2022-12-09T05:51:58.000886Z",
     "shell.execute_reply": "2022-12-09T05:51:57.999723Z"
    },
    "papermill": {
     "duration": 0.04065,
     "end_time": "2022-12-09T05:51:58.003738",
     "exception": false,
     "start_time": "2022-12-09T05:51:57.963088",
     "status": "completed"
    },
    "tags": []
   },
   "outputs": [
    {
     "data": {
      "text/html": [
       "<div>\n",
       "<style scoped>\n",
       "    .dataframe tbody tr th:only-of-type {\n",
       "        vertical-align: middle;\n",
       "    }\n",
       "\n",
       "    .dataframe tbody tr th {\n",
       "        vertical-align: top;\n",
       "    }\n",
       "\n",
       "    .dataframe thead th {\n",
       "        text-align: right;\n",
       "    }\n",
       "</style>\n",
       "<table border=\"1\" class=\"dataframe\">\n",
       "  <thead>\n",
       "    <tr style=\"text-align: right;\">\n",
       "      <th></th>\n",
       "      <th>C</th>\n",
       "    </tr>\n",
       "  </thead>\n",
       "  <tbody>\n",
       "    <tr>\n",
       "      <th>0</th>\n",
       "      <td>1</td>\n",
       "    </tr>\n",
       "    <tr>\n",
       "      <th>1</th>\n",
       "      <td>2</td>\n",
       "    </tr>\n",
       "    <tr>\n",
       "      <th>2</th>\n",
       "      <td>3</td>\n",
       "    </tr>\n",
       "  </tbody>\n",
       "</table>\n",
       "</div>"
      ],
      "text/plain": [
       "   C\n",
       "0  1\n",
       "1  2\n",
       "2  3"
      ]
     },
     "execution_count": 5,
     "metadata": {},
     "output_type": "execute_result"
    }
   ],
   "source": [
    "df.dropna(axis=1)"
   ]
  },
  {
   "cell_type": "code",
   "execution_count": 6,
   "id": "0c5285a9",
   "metadata": {
    "execution": {
     "iopub.execute_input": "2022-12-09T05:51:58.036289Z",
     "iopub.status.busy": "2022-12-09T05:51:58.035837Z",
     "iopub.status.idle": "2022-12-09T05:51:58.050795Z",
     "shell.execute_reply": "2022-12-09T05:51:58.049465Z"
    },
    "papermill": {
     "duration": 0.032306,
     "end_time": "2022-12-09T05:51:58.053109",
     "exception": false,
     "start_time": "2022-12-09T05:51:58.020803",
     "status": "completed"
    },
    "tags": []
   },
   "outputs": [
    {
     "data": {
      "text/html": [
       "<div>\n",
       "<style scoped>\n",
       "    .dataframe tbody tr th:only-of-type {\n",
       "        vertical-align: middle;\n",
       "    }\n",
       "\n",
       "    .dataframe tbody tr th {\n",
       "        vertical-align: top;\n",
       "    }\n",
       "\n",
       "    .dataframe thead th {\n",
       "        text-align: right;\n",
       "    }\n",
       "</style>\n",
       "<table border=\"1\" class=\"dataframe\">\n",
       "  <thead>\n",
       "    <tr style=\"text-align: right;\">\n",
       "      <th></th>\n",
       "      <th>A</th>\n",
       "      <th>B</th>\n",
       "      <th>C</th>\n",
       "    </tr>\n",
       "  </thead>\n",
       "  <tbody>\n",
       "    <tr>\n",
       "      <th>0</th>\n",
       "      <td>1.0</td>\n",
       "      <td>5.0</td>\n",
       "      <td>1</td>\n",
       "    </tr>\n",
       "  </tbody>\n",
       "</table>\n",
       "</div>"
      ],
      "text/plain": [
       "     A    B  C\n",
       "0  1.0  5.0  1"
      ]
     },
     "execution_count": 6,
     "metadata": {},
     "output_type": "execute_result"
    }
   ],
   "source": [
    "df.dropna()"
   ]
  },
  {
   "cell_type": "code",
   "execution_count": 7,
   "id": "528c8bdc",
   "metadata": {
    "execution": {
     "iopub.execute_input": "2022-12-09T05:51:58.079117Z",
     "iopub.status.busy": "2022-12-09T05:51:58.078713Z",
     "iopub.status.idle": "2022-12-09T05:51:58.092166Z",
     "shell.execute_reply": "2022-12-09T05:51:58.090671Z"
    },
    "papermill": {
     "duration": 0.029657,
     "end_time": "2022-12-09T05:51:58.094802",
     "exception": false,
     "start_time": "2022-12-09T05:51:58.065145",
     "status": "completed"
    },
    "tags": []
   },
   "outputs": [
    {
     "data": {
      "text/html": [
       "<div>\n",
       "<style scoped>\n",
       "    .dataframe tbody tr th:only-of-type {\n",
       "        vertical-align: middle;\n",
       "    }\n",
       "\n",
       "    .dataframe tbody tr th {\n",
       "        vertical-align: top;\n",
       "    }\n",
       "\n",
       "    .dataframe thead th {\n",
       "        text-align: right;\n",
       "    }\n",
       "</style>\n",
       "<table border=\"1\" class=\"dataframe\">\n",
       "  <thead>\n",
       "    <tr style=\"text-align: right;\">\n",
       "      <th></th>\n",
       "      <th>A</th>\n",
       "      <th>B</th>\n",
       "      <th>C</th>\n",
       "    </tr>\n",
       "  </thead>\n",
       "  <tbody>\n",
       "    <tr>\n",
       "      <th>0</th>\n",
       "      <td>1.0</td>\n",
       "      <td>5.0</td>\n",
       "      <td>1</td>\n",
       "    </tr>\n",
       "    <tr>\n",
       "      <th>1</th>\n",
       "      <td>2.0</td>\n",
       "      <td>NaN</td>\n",
       "      <td>2</td>\n",
       "    </tr>\n",
       "  </tbody>\n",
       "</table>\n",
       "</div>"
      ],
      "text/plain": [
       "     A    B  C\n",
       "0  1.0  5.0  1\n",
       "1  2.0  NaN  2"
      ]
     },
     "execution_count": 7,
     "metadata": {},
     "output_type": "execute_result"
    }
   ],
   "source": [
    "#it keeps row 1, as it has at lest 2 not NaN entry\n",
    "df.dropna(thresh=2)"
   ]
  },
  {
   "cell_type": "code",
   "execution_count": 8,
   "id": "3ff9a08a",
   "metadata": {
    "execution": {
     "iopub.execute_input": "2022-12-09T05:51:58.121165Z",
     "iopub.status.busy": "2022-12-09T05:51:58.120715Z",
     "iopub.status.idle": "2022-12-09T05:51:58.133615Z",
     "shell.execute_reply": "2022-12-09T05:51:58.132370Z"
    },
    "papermill": {
     "duration": 0.029588,
     "end_time": "2022-12-09T05:51:58.136556",
     "exception": false,
     "start_time": "2022-12-09T05:51:58.106968",
     "status": "completed"
    },
    "tags": []
   },
   "outputs": [
    {
     "data": {
      "text/plain": [
       "0    1.0\n",
       "1    2.0\n",
       "2    1.5\n",
       "Name: A, dtype: float64"
      ]
     },
     "execution_count": 8,
     "metadata": {},
     "output_type": "execute_result"
    }
   ],
   "source": [
    "#replacing missing values\n",
    "df['A'].fillna(value=df['A'].mean())"
   ]
  },
  {
   "cell_type": "code",
   "execution_count": 9,
   "id": "9b39f8a4",
   "metadata": {
    "execution": {
     "iopub.execute_input": "2022-12-09T05:51:58.163087Z",
     "iopub.status.busy": "2022-12-09T05:51:58.162664Z",
     "iopub.status.idle": "2022-12-09T05:51:58.175220Z",
     "shell.execute_reply": "2022-12-09T05:51:58.173948Z"
    },
    "papermill": {
     "duration": 0.028496,
     "end_time": "2022-12-09T05:51:58.177663",
     "exception": false,
     "start_time": "2022-12-09T05:51:58.149167",
     "status": "completed"
    },
    "tags": []
   },
   "outputs": [
    {
     "data": {
      "text/html": [
       "<div>\n",
       "<style scoped>\n",
       "    .dataframe tbody tr th:only-of-type {\n",
       "        vertical-align: middle;\n",
       "    }\n",
       "\n",
       "    .dataframe tbody tr th {\n",
       "        vertical-align: top;\n",
       "    }\n",
       "\n",
       "    .dataframe thead th {\n",
       "        text-align: right;\n",
       "    }\n",
       "</style>\n",
       "<table border=\"1\" class=\"dataframe\">\n",
       "  <thead>\n",
       "    <tr style=\"text-align: right;\">\n",
       "      <th></th>\n",
       "      <th>A</th>\n",
       "      <th>B</th>\n",
       "      <th>C</th>\n",
       "    </tr>\n",
       "  </thead>\n",
       "  <tbody>\n",
       "    <tr>\n",
       "      <th>0</th>\n",
       "      <td>1.0</td>\n",
       "      <td>5.0</td>\n",
       "      <td>1</td>\n",
       "    </tr>\n",
       "    <tr>\n",
       "      <th>1</th>\n",
       "      <td>2.0</td>\n",
       "      <td>value</td>\n",
       "      <td>2</td>\n",
       "    </tr>\n",
       "    <tr>\n",
       "      <th>2</th>\n",
       "      <td>value</td>\n",
       "      <td>value</td>\n",
       "      <td>3</td>\n",
       "    </tr>\n",
       "  </tbody>\n",
       "</table>\n",
       "</div>"
      ],
      "text/plain": [
       "       A      B  C\n",
       "0    1.0    5.0  1\n",
       "1    2.0  value  2\n",
       "2  value  value  3"
      ]
     },
     "execution_count": 9,
     "metadata": {},
     "output_type": "execute_result"
    }
   ],
   "source": [
    "#replacing with a string\n",
    "df.fillna(value=\"value\")"
   ]
  },
  {
   "cell_type": "markdown",
   "id": "1f015db0",
   "metadata": {
    "papermill": {
     "duration": 0.012011,
     "end_time": "2022-12-09T05:51:58.202060",
     "exception": false,
     "start_time": "2022-12-09T05:51:58.190049",
     "status": "completed"
    },
    "tags": []
   },
   "source": [
    "# Groupby\n",
    "## Using group by method to light a group rows of data together and call aggregate functions\n",
    "### Groupby allows you to group together rows based off of a column and perform an aggregate function on them"
   ]
  },
  {
   "cell_type": "code",
   "execution_count": 10,
   "id": "5fee54cd",
   "metadata": {
    "execution": {
     "iopub.execute_input": "2022-12-09T05:51:58.229512Z",
     "iopub.status.busy": "2022-12-09T05:51:58.228116Z",
     "iopub.status.idle": "2022-12-09T05:51:58.234001Z",
     "shell.execute_reply": "2022-12-09T05:51:58.232854Z"
    },
    "papermill": {
     "duration": 0.022313,
     "end_time": "2022-12-09T05:51:58.236591",
     "exception": false,
     "start_time": "2022-12-09T05:51:58.214278",
     "status": "completed"
    },
    "tags": []
   },
   "outputs": [],
   "source": [
    "import numpy as np\n",
    "import pandas as pd"
   ]
  },
  {
   "cell_type": "code",
   "execution_count": 11,
   "id": "2ad32589",
   "metadata": {
    "execution": {
     "iopub.execute_input": "2022-12-09T05:51:58.263305Z",
     "iopub.status.busy": "2022-12-09T05:51:58.262859Z",
     "iopub.status.idle": "2022-12-09T05:51:58.269473Z",
     "shell.execute_reply": "2022-12-09T05:51:58.268218Z"
    },
    "papermill": {
     "duration": 0.022707,
     "end_time": "2022-12-09T05:51:58.271793",
     "exception": false,
     "start_time": "2022-12-09T05:51:58.249086",
     "status": "completed"
    },
    "tags": []
   },
   "outputs": [],
   "source": [
    "data={'Company':['Gp','Gp','Teletalk','Teletal','Robi','Robi'],\n",
    "                'Person':['Alam','Mim','Tina','Rimi','Rafi','Pranto'],\n",
    "                'Sales':[200,170,225,439,410,324]}"
   ]
  },
  {
   "cell_type": "code",
   "execution_count": 12,
   "id": "db7d1f0e",
   "metadata": {
    "execution": {
     "iopub.execute_input": "2022-12-09T05:51:58.298579Z",
     "iopub.status.busy": "2022-12-09T05:51:58.297835Z",
     "iopub.status.idle": "2022-12-09T05:51:58.303251Z",
     "shell.execute_reply": "2022-12-09T05:51:58.302420Z"
    },
    "papermill": {
     "duration": 0.021044,
     "end_time": "2022-12-09T05:51:58.305361",
     "exception": false,
     "start_time": "2022-12-09T05:51:58.284317",
     "status": "completed"
    },
    "tags": []
   },
   "outputs": [],
   "source": [
    "df=pd.DataFrame(data)"
   ]
  },
  {
   "cell_type": "code",
   "execution_count": 13,
   "id": "2a73822a",
   "metadata": {
    "execution": {
     "iopub.execute_input": "2022-12-09T05:51:58.331977Z",
     "iopub.status.busy": "2022-12-09T05:51:58.331543Z",
     "iopub.status.idle": "2022-12-09T05:51:58.342723Z",
     "shell.execute_reply": "2022-12-09T05:51:58.341538Z"
    },
    "papermill": {
     "duration": 0.027282,
     "end_time": "2022-12-09T05:51:58.345054",
     "exception": false,
     "start_time": "2022-12-09T05:51:58.317772",
     "status": "completed"
    },
    "tags": []
   },
   "outputs": [
    {
     "data": {
      "text/html": [
       "<div>\n",
       "<style scoped>\n",
       "    .dataframe tbody tr th:only-of-type {\n",
       "        vertical-align: middle;\n",
       "    }\n",
       "\n",
       "    .dataframe tbody tr th {\n",
       "        vertical-align: top;\n",
       "    }\n",
       "\n",
       "    .dataframe thead th {\n",
       "        text-align: right;\n",
       "    }\n",
       "</style>\n",
       "<table border=\"1\" class=\"dataframe\">\n",
       "  <thead>\n",
       "    <tr style=\"text-align: right;\">\n",
       "      <th></th>\n",
       "      <th>Company</th>\n",
       "      <th>Person</th>\n",
       "      <th>Sales</th>\n",
       "    </tr>\n",
       "  </thead>\n",
       "  <tbody>\n",
       "    <tr>\n",
       "      <th>0</th>\n",
       "      <td>Gp</td>\n",
       "      <td>Alam</td>\n",
       "      <td>200</td>\n",
       "    </tr>\n",
       "    <tr>\n",
       "      <th>1</th>\n",
       "      <td>Gp</td>\n",
       "      <td>Mim</td>\n",
       "      <td>170</td>\n",
       "    </tr>\n",
       "    <tr>\n",
       "      <th>2</th>\n",
       "      <td>Teletalk</td>\n",
       "      <td>Tina</td>\n",
       "      <td>225</td>\n",
       "    </tr>\n",
       "    <tr>\n",
       "      <th>3</th>\n",
       "      <td>Teletal</td>\n",
       "      <td>Rimi</td>\n",
       "      <td>439</td>\n",
       "    </tr>\n",
       "    <tr>\n",
       "      <th>4</th>\n",
       "      <td>Robi</td>\n",
       "      <td>Rafi</td>\n",
       "      <td>410</td>\n",
       "    </tr>\n",
       "    <tr>\n",
       "      <th>5</th>\n",
       "      <td>Robi</td>\n",
       "      <td>Pranto</td>\n",
       "      <td>324</td>\n",
       "    </tr>\n",
       "  </tbody>\n",
       "</table>\n",
       "</div>"
      ],
      "text/plain": [
       "    Company  Person  Sales\n",
       "0        Gp    Alam    200\n",
       "1        Gp     Mim    170\n",
       "2  Teletalk    Tina    225\n",
       "3   Teletal    Rimi    439\n",
       "4      Robi    Rafi    410\n",
       "5      Robi  Pranto    324"
      ]
     },
     "execution_count": 13,
     "metadata": {},
     "output_type": "execute_result"
    }
   ],
   "source": [
    "df"
   ]
  },
  {
   "cell_type": "code",
   "execution_count": 14,
   "id": "16e3b883",
   "metadata": {
    "execution": {
     "iopub.execute_input": "2022-12-09T05:51:58.372341Z",
     "iopub.status.busy": "2022-12-09T05:51:58.371934Z",
     "iopub.status.idle": "2022-12-09T05:51:58.377710Z",
     "shell.execute_reply": "2022-12-09T05:51:58.376286Z"
    },
    "papermill": {
     "duration": 0.022592,
     "end_time": "2022-12-09T05:51:58.380364",
     "exception": false,
     "start_time": "2022-12-09T05:51:58.357772",
     "status": "completed"
    },
    "tags": []
   },
   "outputs": [],
   "source": [
    "df_new=df.groupby('Company')"
   ]
  },
  {
   "cell_type": "code",
   "execution_count": 15,
   "id": "30df3a7a",
   "metadata": {
    "execution": {
     "iopub.execute_input": "2022-12-09T05:51:58.408218Z",
     "iopub.status.busy": "2022-12-09T05:51:58.407790Z",
     "iopub.status.idle": "2022-12-09T05:51:58.424051Z",
     "shell.execute_reply": "2022-12-09T05:51:58.422630Z"
    },
    "papermill": {
     "duration": 0.033434,
     "end_time": "2022-12-09T05:51:58.426954",
     "exception": false,
     "start_time": "2022-12-09T05:51:58.393520",
     "status": "completed"
    },
    "tags": []
   },
   "outputs": [
    {
     "data": {
      "text/html": [
       "<div>\n",
       "<style scoped>\n",
       "    .dataframe tbody tr th:only-of-type {\n",
       "        vertical-align: middle;\n",
       "    }\n",
       "\n",
       "    .dataframe tbody tr th {\n",
       "        vertical-align: top;\n",
       "    }\n",
       "\n",
       "    .dataframe thead th {\n",
       "        text-align: right;\n",
       "    }\n",
       "</style>\n",
       "<table border=\"1\" class=\"dataframe\">\n",
       "  <thead>\n",
       "    <tr style=\"text-align: right;\">\n",
       "      <th></th>\n",
       "      <th>Sales</th>\n",
       "    </tr>\n",
       "    <tr>\n",
       "      <th>Company</th>\n",
       "      <th></th>\n",
       "    </tr>\n",
       "  </thead>\n",
       "  <tbody>\n",
       "    <tr>\n",
       "      <th>Gp</th>\n",
       "      <td>185.0</td>\n",
       "    </tr>\n",
       "    <tr>\n",
       "      <th>Robi</th>\n",
       "      <td>367.0</td>\n",
       "    </tr>\n",
       "    <tr>\n",
       "      <th>Teletal</th>\n",
       "      <td>439.0</td>\n",
       "    </tr>\n",
       "    <tr>\n",
       "      <th>Teletalk</th>\n",
       "      <td>225.0</td>\n",
       "    </tr>\n",
       "  </tbody>\n",
       "</table>\n",
       "</div>"
      ],
      "text/plain": [
       "          Sales\n",
       "Company        \n",
       "Gp        185.0\n",
       "Robi      367.0\n",
       "Teletal   439.0\n",
       "Teletalk  225.0"
      ]
     },
     "execution_count": 15,
     "metadata": {},
     "output_type": "execute_result"
    }
   ],
   "source": [
    "df_new.mean()"
   ]
  },
  {
   "cell_type": "code",
   "execution_count": 16,
   "id": "934d808e",
   "metadata": {
    "execution": {
     "iopub.execute_input": "2022-12-09T05:51:58.454712Z",
     "iopub.status.busy": "2022-12-09T05:51:58.454301Z",
     "iopub.status.idle": "2022-12-09T05:51:58.461902Z",
     "shell.execute_reply": "2022-12-09T05:51:58.460539Z"
    },
    "papermill": {
     "duration": 0.024124,
     "end_time": "2022-12-09T05:51:58.464233",
     "exception": false,
     "start_time": "2022-12-09T05:51:58.440109",
     "status": "completed"
    },
    "tags": []
   },
   "outputs": [
    {
     "data": {
      "text/plain": [
       "<bound method GroupBy.std of <pandas.core.groupby.generic.DataFrameGroupBy object at 0x7f994e71f150>>"
      ]
     },
     "execution_count": 16,
     "metadata": {},
     "output_type": "execute_result"
    }
   ],
   "source": [
    "df_new.sum\n",
    "df_new.std"
   ]
  },
  {
   "cell_type": "code",
   "execution_count": 17,
   "id": "c3dfc485",
   "metadata": {
    "execution": {
     "iopub.execute_input": "2022-12-09T05:51:58.492034Z",
     "iopub.status.busy": "2022-12-09T05:51:58.491582Z",
     "iopub.status.idle": "2022-12-09T05:51:58.504074Z",
     "shell.execute_reply": "2022-12-09T05:51:58.502665Z"
    },
    "papermill": {
     "duration": 0.029469,
     "end_time": "2022-12-09T05:51:58.506590",
     "exception": false,
     "start_time": "2022-12-09T05:51:58.477121",
     "status": "completed"
    },
    "tags": []
   },
   "outputs": [
    {
     "data": {
      "text/plain": [
       "Sales    370\n",
       "Name: Gp, dtype: int64"
      ]
     },
     "execution_count": 17,
     "metadata": {},
     "output_type": "execute_result"
    }
   ],
   "source": [
    "df_new.sum().loc['Gp']"
   ]
  },
  {
   "cell_type": "code",
   "execution_count": 18,
   "id": "aaa74e32",
   "metadata": {
    "execution": {
     "iopub.execute_input": "2022-12-09T05:51:58.535401Z",
     "iopub.status.busy": "2022-12-09T05:51:58.534955Z",
     "iopub.status.idle": "2022-12-09T05:51:58.546290Z",
     "shell.execute_reply": "2022-12-09T05:51:58.545043Z"
    },
    "papermill": {
     "duration": 0.029284,
     "end_time": "2022-12-09T05:51:58.549092",
     "exception": false,
     "start_time": "2022-12-09T05:51:58.519808",
     "status": "completed"
    },
    "tags": []
   },
   "outputs": [
    {
     "data": {
      "text/plain": [
       "Sales    370\n",
       "Name: Gp, dtype: int64"
      ]
     },
     "execution_count": 18,
     "metadata": {},
     "output_type": "execute_result"
    }
   ],
   "source": [
    "df.groupby('Company').sum().loc['Gp']"
   ]
  },
  {
   "cell_type": "code",
   "execution_count": 19,
   "id": "ffa807b1",
   "metadata": {
    "execution": {
     "iopub.execute_input": "2022-12-09T05:51:58.580540Z",
     "iopub.status.busy": "2022-12-09T05:51:58.580130Z",
     "iopub.status.idle": "2022-12-09T05:51:58.593077Z",
     "shell.execute_reply": "2022-12-09T05:51:58.591927Z"
    },
    "papermill": {
     "duration": 0.030204,
     "end_time": "2022-12-09T05:51:58.595524",
     "exception": false,
     "start_time": "2022-12-09T05:51:58.565320",
     "status": "completed"
    },
    "tags": []
   },
   "outputs": [
    {
     "data": {
      "text/html": [
       "<div>\n",
       "<style scoped>\n",
       "    .dataframe tbody tr th:only-of-type {\n",
       "        vertical-align: middle;\n",
       "    }\n",
       "\n",
       "    .dataframe tbody tr th {\n",
       "        vertical-align: top;\n",
       "    }\n",
       "\n",
       "    .dataframe thead th {\n",
       "        text-align: right;\n",
       "    }\n",
       "</style>\n",
       "<table border=\"1\" class=\"dataframe\">\n",
       "  <thead>\n",
       "    <tr style=\"text-align: right;\">\n",
       "      <th></th>\n",
       "      <th>Person</th>\n",
       "      <th>Sales</th>\n",
       "    </tr>\n",
       "    <tr>\n",
       "      <th>Company</th>\n",
       "      <th></th>\n",
       "      <th></th>\n",
       "    </tr>\n",
       "  </thead>\n",
       "  <tbody>\n",
       "    <tr>\n",
       "      <th>Gp</th>\n",
       "      <td>2</td>\n",
       "      <td>2</td>\n",
       "    </tr>\n",
       "    <tr>\n",
       "      <th>Robi</th>\n",
       "      <td>2</td>\n",
       "      <td>2</td>\n",
       "    </tr>\n",
       "    <tr>\n",
       "      <th>Teletal</th>\n",
       "      <td>1</td>\n",
       "      <td>1</td>\n",
       "    </tr>\n",
       "    <tr>\n",
       "      <th>Teletalk</th>\n",
       "      <td>1</td>\n",
       "      <td>1</td>\n",
       "    </tr>\n",
       "  </tbody>\n",
       "</table>\n",
       "</div>"
      ],
      "text/plain": [
       "          Person  Sales\n",
       "Company                \n",
       "Gp             2      2\n",
       "Robi           2      2\n",
       "Teletal        1      1\n",
       "Teletalk       1      1"
      ]
     },
     "execution_count": 19,
     "metadata": {},
     "output_type": "execute_result"
    }
   ],
   "source": [
    "df.groupby('Company').count() "
   ]
  },
  {
   "cell_type": "code",
   "execution_count": 20,
   "id": "f68f2455",
   "metadata": {
    "execution": {
     "iopub.execute_input": "2022-12-09T05:51:58.624481Z",
     "iopub.status.busy": "2022-12-09T05:51:58.624071Z",
     "iopub.status.idle": "2022-12-09T05:51:58.643372Z",
     "shell.execute_reply": "2022-12-09T05:51:58.642194Z"
    },
    "papermill": {
     "duration": 0.036755,
     "end_time": "2022-12-09T05:51:58.646077",
     "exception": false,
     "start_time": "2022-12-09T05:51:58.609322",
     "status": "completed"
    },
    "tags": []
   },
   "outputs": [
    {
     "data": {
      "text/html": [
       "<div>\n",
       "<style scoped>\n",
       "    .dataframe tbody tr th:only-of-type {\n",
       "        vertical-align: middle;\n",
       "    }\n",
       "\n",
       "    .dataframe tbody tr th {\n",
       "        vertical-align: top;\n",
       "    }\n",
       "\n",
       "    .dataframe thead th {\n",
       "        text-align: right;\n",
       "    }\n",
       "</style>\n",
       "<table border=\"1\" class=\"dataframe\">\n",
       "  <thead>\n",
       "    <tr style=\"text-align: right;\">\n",
       "      <th></th>\n",
       "      <th>Person</th>\n",
       "      <th>Sales</th>\n",
       "    </tr>\n",
       "    <tr>\n",
       "      <th>Company</th>\n",
       "      <th></th>\n",
       "      <th></th>\n",
       "    </tr>\n",
       "  </thead>\n",
       "  <tbody>\n",
       "    <tr>\n",
       "      <th>Gp</th>\n",
       "      <td>Mim</td>\n",
       "      <td>200</td>\n",
       "    </tr>\n",
       "    <tr>\n",
       "      <th>Robi</th>\n",
       "      <td>Rafi</td>\n",
       "      <td>410</td>\n",
       "    </tr>\n",
       "    <tr>\n",
       "      <th>Teletal</th>\n",
       "      <td>Rimi</td>\n",
       "      <td>439</td>\n",
       "    </tr>\n",
       "    <tr>\n",
       "      <th>Teletalk</th>\n",
       "      <td>Tina</td>\n",
       "      <td>225</td>\n",
       "    </tr>\n",
       "  </tbody>\n",
       "</table>\n",
       "</div>"
      ],
      "text/plain": [
       "         Person  Sales\n",
       "Company               \n",
       "Gp          Mim    200\n",
       "Robi       Rafi    410\n",
       "Teletal    Rimi    439\n",
       "Teletalk   Tina    225"
      ]
     },
     "execution_count": 20,
     "metadata": {},
     "output_type": "execute_result"
    }
   ],
   "source": [
    "df.groupby('Company').max() "
   ]
  },
  {
   "cell_type": "code",
   "execution_count": 21,
   "id": "2e73d208",
   "metadata": {
    "execution": {
     "iopub.execute_input": "2022-12-09T05:51:58.675075Z",
     "iopub.status.busy": "2022-12-09T05:51:58.674651Z",
     "iopub.status.idle": "2022-12-09T05:51:58.711610Z",
     "shell.execute_reply": "2022-12-09T05:51:58.710411Z"
    },
    "papermill": {
     "duration": 0.054214,
     "end_time": "2022-12-09T05:51:58.714124",
     "exception": false,
     "start_time": "2022-12-09T05:51:58.659910",
     "status": "completed"
    },
    "tags": []
   },
   "outputs": [
    {
     "data": {
      "text/plain": [
       "Sales  count      2.000000\n",
       "       mean     185.000000\n",
       "       std       21.213203\n",
       "       min      170.000000\n",
       "       25%      177.500000\n",
       "       50%      185.000000\n",
       "       75%      192.500000\n",
       "       max      200.000000\n",
       "Name: Gp, dtype: float64"
      ]
     },
     "execution_count": 21,
     "metadata": {},
     "output_type": "execute_result"
    }
   ],
   "source": [
    "df.groupby('Company').describe().transpose()['Gp']"
   ]
  },
  {
   "cell_type": "markdown",
   "id": "2b97d49b",
   "metadata": {
    "papermill": {
     "duration": 0.013245,
     "end_time": "2022-12-09T05:51:58.741054",
     "exception": false,
     "start_time": "2022-12-09T05:51:58.727809",
     "status": "completed"
    },
    "tags": []
   },
   "source": [
    "## Merging joining and concatenating\n",
    "There are 3 main ways of combining DataFrames together: Merging, Joining and Concatenating. In this lecture we will discuss these 3 methods with examples."
   ]
  },
  {
   "cell_type": "code",
   "execution_count": 22,
   "id": "270d3e3b",
   "metadata": {
    "execution": {
     "iopub.execute_input": "2022-12-09T05:51:58.771003Z",
     "iopub.status.busy": "2022-12-09T05:51:58.770340Z",
     "iopub.status.idle": "2022-12-09T05:51:58.775932Z",
     "shell.execute_reply": "2022-12-09T05:51:58.774644Z"
    },
    "papermill": {
     "duration": 0.023299,
     "end_time": "2022-12-09T05:51:58.778086",
     "exception": false,
     "start_time": "2022-12-09T05:51:58.754787",
     "status": "completed"
    },
    "tags": []
   },
   "outputs": [],
   "source": [
    "import pandas as pd"
   ]
  },
  {
   "cell_type": "code",
   "execution_count": 23,
   "id": "5d2df4a6",
   "metadata": {
    "execution": {
     "iopub.execute_input": "2022-12-09T05:51:58.807964Z",
     "iopub.status.busy": "2022-12-09T05:51:58.807467Z",
     "iopub.status.idle": "2022-12-09T05:51:58.815214Z",
     "shell.execute_reply": "2022-12-09T05:51:58.813857Z"
    },
    "papermill": {
     "duration": 0.025733,
     "end_time": "2022-12-09T05:51:58.817957",
     "exception": false,
     "start_time": "2022-12-09T05:51:58.792224",
     "status": "completed"
    },
    "tags": []
   },
   "outputs": [],
   "source": [
    "df1 = pd.DataFrame({'A': ['A0', 'A1', 'A2', 'A3'],\n",
    "                        'B': ['B0', 'B1', 'B2', 'B3'],\n",
    "                        'C': ['C0', 'C1', 'C2', 'C3'],\n",
    "                        'D': ['D0', 'D1', 'D2', 'D3']},\n",
    "                        index=[0, 1, 2, 3])"
   ]
  },
  {
   "cell_type": "code",
   "execution_count": 24,
   "id": "d047c49f",
   "metadata": {
    "execution": {
     "iopub.execute_input": "2022-12-09T05:51:58.848407Z",
     "iopub.status.busy": "2022-12-09T05:51:58.847986Z",
     "iopub.status.idle": "2022-12-09T05:51:58.855881Z",
     "shell.execute_reply": "2022-12-09T05:51:58.854635Z"
    },
    "papermill": {
     "duration": 0.026165,
     "end_time": "2022-12-09T05:51:58.858687",
     "exception": false,
     "start_time": "2022-12-09T05:51:58.832522",
     "status": "completed"
    },
    "tags": []
   },
   "outputs": [],
   "source": [
    "df2 = pd.DataFrame({'A': ['A4', 'A5', 'A6', 'A7'],\n",
    "                        'B': ['B4', 'B5', 'B6', 'B7'],\n",
    "                        'C': ['C4', 'C5', 'C6', 'C7'],\n",
    "                        'D': ['D4', 'D5', 'D6', 'D7']},\n",
    "                         index=[4, 5, 6, 7]) "
   ]
  },
  {
   "cell_type": "code",
   "execution_count": 25,
   "id": "c27b230d",
   "metadata": {
    "execution": {
     "iopub.execute_input": "2022-12-09T05:51:58.888324Z",
     "iopub.status.busy": "2022-12-09T05:51:58.887931Z",
     "iopub.status.idle": "2022-12-09T05:51:58.895399Z",
     "shell.execute_reply": "2022-12-09T05:51:58.894149Z"
    },
    "papermill": {
     "duration": 0.025243,
     "end_time": "2022-12-09T05:51:58.897669",
     "exception": false,
     "start_time": "2022-12-09T05:51:58.872426",
     "status": "completed"
    },
    "tags": []
   },
   "outputs": [],
   "source": [
    "df3 = pd.DataFrame({'A': ['A8', 'A9', 'A10', 'A11'],\n",
    "                        'B': ['B8', 'B9', 'B10', 'B11'],\n",
    "                        'C': ['C8', 'C9', 'C10', 'C11'],\n",
    "                        'D': ['D8', 'D9', 'D10', 'D11']},\n",
    "                        index=[8, 9, 10, 11])"
   ]
  },
  {
   "cell_type": "code",
   "execution_count": 26,
   "id": "f1a59c98",
   "metadata": {
    "execution": {
     "iopub.execute_input": "2022-12-09T05:51:58.926667Z",
     "iopub.status.busy": "2022-12-09T05:51:58.925837Z",
     "iopub.status.idle": "2022-12-09T05:51:58.938413Z",
     "shell.execute_reply": "2022-12-09T05:51:58.937259Z"
    },
    "papermill": {
     "duration": 0.029781,
     "end_time": "2022-12-09T05:51:58.940983",
     "exception": false,
     "start_time": "2022-12-09T05:51:58.911202",
     "status": "completed"
    },
    "tags": []
   },
   "outputs": [
    {
     "data": {
      "text/html": [
       "<div>\n",
       "<style scoped>\n",
       "    .dataframe tbody tr th:only-of-type {\n",
       "        vertical-align: middle;\n",
       "    }\n",
       "\n",
       "    .dataframe tbody tr th {\n",
       "        vertical-align: top;\n",
       "    }\n",
       "\n",
       "    .dataframe thead th {\n",
       "        text-align: right;\n",
       "    }\n",
       "</style>\n",
       "<table border=\"1\" class=\"dataframe\">\n",
       "  <thead>\n",
       "    <tr style=\"text-align: right;\">\n",
       "      <th></th>\n",
       "      <th>A</th>\n",
       "      <th>B</th>\n",
       "      <th>C</th>\n",
       "      <th>D</th>\n",
       "    </tr>\n",
       "  </thead>\n",
       "  <tbody>\n",
       "    <tr>\n",
       "      <th>8</th>\n",
       "      <td>A8</td>\n",
       "      <td>B8</td>\n",
       "      <td>C8</td>\n",
       "      <td>D8</td>\n",
       "    </tr>\n",
       "    <tr>\n",
       "      <th>9</th>\n",
       "      <td>A9</td>\n",
       "      <td>B9</td>\n",
       "      <td>C9</td>\n",
       "      <td>D9</td>\n",
       "    </tr>\n",
       "    <tr>\n",
       "      <th>10</th>\n",
       "      <td>A10</td>\n",
       "      <td>B10</td>\n",
       "      <td>C10</td>\n",
       "      <td>D10</td>\n",
       "    </tr>\n",
       "    <tr>\n",
       "      <th>11</th>\n",
       "      <td>A11</td>\n",
       "      <td>B11</td>\n",
       "      <td>C11</td>\n",
       "      <td>D11</td>\n",
       "    </tr>\n",
       "  </tbody>\n",
       "</table>\n",
       "</div>"
      ],
      "text/plain": [
       "      A    B    C    D\n",
       "8    A8   B8   C8   D8\n",
       "9    A9   B9   C9   D9\n",
       "10  A10  B10  C10  D10\n",
       "11  A11  B11  C11  D11"
      ]
     },
     "execution_count": 26,
     "metadata": {},
     "output_type": "execute_result"
    }
   ],
   "source": [
    "df3"
   ]
  },
  {
   "cell_type": "markdown",
   "id": "adb9bc12",
   "metadata": {
    "papermill": {
     "duration": 0.013504,
     "end_time": "2022-12-09T05:51:58.968406",
     "exception": false,
     "start_time": "2022-12-09T05:51:58.954902",
     "status": "completed"
    },
    "tags": []
   },
   "source": [
    "# Concatenation\n",
    "Concatenation basically glues together DataFrames. Keep in mind that dimensions should match along the axis you are concatenating on. You can use pd.concat and pass in a list of DataFrames to concatenate together:"
   ]
  },
  {
   "cell_type": "code",
   "execution_count": 27,
   "id": "f7a4ff34",
   "metadata": {
    "execution": {
     "iopub.execute_input": "2022-12-09T05:51:58.997804Z",
     "iopub.status.busy": "2022-12-09T05:51:58.997402Z",
     "iopub.status.idle": "2022-12-09T05:51:59.010800Z",
     "shell.execute_reply": "2022-12-09T05:51:59.009935Z"
    },
    "papermill": {
     "duration": 0.031012,
     "end_time": "2022-12-09T05:51:59.013272",
     "exception": false,
     "start_time": "2022-12-09T05:51:58.982260",
     "status": "completed"
    },
    "tags": []
   },
   "outputs": [
    {
     "data": {
      "text/html": [
       "<div>\n",
       "<style scoped>\n",
       "    .dataframe tbody tr th:only-of-type {\n",
       "        vertical-align: middle;\n",
       "    }\n",
       "\n",
       "    .dataframe tbody tr th {\n",
       "        vertical-align: top;\n",
       "    }\n",
       "\n",
       "    .dataframe thead th {\n",
       "        text-align: right;\n",
       "    }\n",
       "</style>\n",
       "<table border=\"1\" class=\"dataframe\">\n",
       "  <thead>\n",
       "    <tr style=\"text-align: right;\">\n",
       "      <th></th>\n",
       "      <th>A</th>\n",
       "      <th>B</th>\n",
       "      <th>C</th>\n",
       "      <th>D</th>\n",
       "    </tr>\n",
       "  </thead>\n",
       "  <tbody>\n",
       "    <tr>\n",
       "      <th>0</th>\n",
       "      <td>A0</td>\n",
       "      <td>B0</td>\n",
       "      <td>C0</td>\n",
       "      <td>D0</td>\n",
       "    </tr>\n",
       "    <tr>\n",
       "      <th>1</th>\n",
       "      <td>A1</td>\n",
       "      <td>B1</td>\n",
       "      <td>C1</td>\n",
       "      <td>D1</td>\n",
       "    </tr>\n",
       "    <tr>\n",
       "      <th>2</th>\n",
       "      <td>A2</td>\n",
       "      <td>B2</td>\n",
       "      <td>C2</td>\n",
       "      <td>D2</td>\n",
       "    </tr>\n",
       "    <tr>\n",
       "      <th>3</th>\n",
       "      <td>A3</td>\n",
       "      <td>B3</td>\n",
       "      <td>C3</td>\n",
       "      <td>D3</td>\n",
       "    </tr>\n",
       "    <tr>\n",
       "      <th>4</th>\n",
       "      <td>A4</td>\n",
       "      <td>B4</td>\n",
       "      <td>C4</td>\n",
       "      <td>D4</td>\n",
       "    </tr>\n",
       "    <tr>\n",
       "      <th>5</th>\n",
       "      <td>A5</td>\n",
       "      <td>B5</td>\n",
       "      <td>C5</td>\n",
       "      <td>D5</td>\n",
       "    </tr>\n",
       "    <tr>\n",
       "      <th>6</th>\n",
       "      <td>A6</td>\n",
       "      <td>B6</td>\n",
       "      <td>C6</td>\n",
       "      <td>D6</td>\n",
       "    </tr>\n",
       "    <tr>\n",
       "      <th>7</th>\n",
       "      <td>A7</td>\n",
       "      <td>B7</td>\n",
       "      <td>C7</td>\n",
       "      <td>D7</td>\n",
       "    </tr>\n",
       "    <tr>\n",
       "      <th>8</th>\n",
       "      <td>A8</td>\n",
       "      <td>B8</td>\n",
       "      <td>C8</td>\n",
       "      <td>D8</td>\n",
       "    </tr>\n",
       "    <tr>\n",
       "      <th>9</th>\n",
       "      <td>A9</td>\n",
       "      <td>B9</td>\n",
       "      <td>C9</td>\n",
       "      <td>D9</td>\n",
       "    </tr>\n",
       "    <tr>\n",
       "      <th>10</th>\n",
       "      <td>A10</td>\n",
       "      <td>B10</td>\n",
       "      <td>C10</td>\n",
       "      <td>D10</td>\n",
       "    </tr>\n",
       "    <tr>\n",
       "      <th>11</th>\n",
       "      <td>A11</td>\n",
       "      <td>B11</td>\n",
       "      <td>C11</td>\n",
       "      <td>D11</td>\n",
       "    </tr>\n",
       "  </tbody>\n",
       "</table>\n",
       "</div>"
      ],
      "text/plain": [
       "      A    B    C    D\n",
       "0    A0   B0   C0   D0\n",
       "1    A1   B1   C1   D1\n",
       "2    A2   B2   C2   D2\n",
       "3    A3   B3   C3   D3\n",
       "4    A4   B4   C4   D4\n",
       "5    A5   B5   C5   D5\n",
       "6    A6   B6   C6   D6\n",
       "7    A7   B7   C7   D7\n",
       "8    A8   B8   C8   D8\n",
       "9    A9   B9   C9   D9\n",
       "10  A10  B10  C10  D10\n",
       "11  A11  B11  C11  D11"
      ]
     },
     "execution_count": 27,
     "metadata": {},
     "output_type": "execute_result"
    }
   ],
   "source": [
    "pd.concat([df1,df2,df3])\n",
    "#automaticly join across rows"
   ]
  },
  {
   "cell_type": "code",
   "execution_count": 28,
   "id": "d1d17a95",
   "metadata": {
    "execution": {
     "iopub.execute_input": "2022-12-09T05:51:59.044099Z",
     "iopub.status.busy": "2022-12-09T05:51:59.043654Z",
     "iopub.status.idle": "2022-12-09T05:51:59.071384Z",
     "shell.execute_reply": "2022-12-09T05:51:59.070034Z"
    },
    "papermill": {
     "duration": 0.046143,
     "end_time": "2022-12-09T05:51:59.073965",
     "exception": false,
     "start_time": "2022-12-09T05:51:59.027822",
     "status": "completed"
    },
    "tags": []
   },
   "outputs": [
    {
     "data": {
      "text/html": [
       "<div>\n",
       "<style scoped>\n",
       "    .dataframe tbody tr th:only-of-type {\n",
       "        vertical-align: middle;\n",
       "    }\n",
       "\n",
       "    .dataframe tbody tr th {\n",
       "        vertical-align: top;\n",
       "    }\n",
       "\n",
       "    .dataframe thead th {\n",
       "        text-align: right;\n",
       "    }\n",
       "</style>\n",
       "<table border=\"1\" class=\"dataframe\">\n",
       "  <thead>\n",
       "    <tr style=\"text-align: right;\">\n",
       "      <th></th>\n",
       "      <th>A</th>\n",
       "      <th>B</th>\n",
       "      <th>C</th>\n",
       "      <th>D</th>\n",
       "      <th>A</th>\n",
       "      <th>B</th>\n",
       "      <th>C</th>\n",
       "      <th>D</th>\n",
       "      <th>A</th>\n",
       "      <th>B</th>\n",
       "      <th>C</th>\n",
       "      <th>D</th>\n",
       "    </tr>\n",
       "  </thead>\n",
       "  <tbody>\n",
       "    <tr>\n",
       "      <th>0</th>\n",
       "      <td>A0</td>\n",
       "      <td>B0</td>\n",
       "      <td>C0</td>\n",
       "      <td>D0</td>\n",
       "      <td>NaN</td>\n",
       "      <td>NaN</td>\n",
       "      <td>NaN</td>\n",
       "      <td>NaN</td>\n",
       "      <td>NaN</td>\n",
       "      <td>NaN</td>\n",
       "      <td>NaN</td>\n",
       "      <td>NaN</td>\n",
       "    </tr>\n",
       "    <tr>\n",
       "      <th>1</th>\n",
       "      <td>A1</td>\n",
       "      <td>B1</td>\n",
       "      <td>C1</td>\n",
       "      <td>D1</td>\n",
       "      <td>NaN</td>\n",
       "      <td>NaN</td>\n",
       "      <td>NaN</td>\n",
       "      <td>NaN</td>\n",
       "      <td>NaN</td>\n",
       "      <td>NaN</td>\n",
       "      <td>NaN</td>\n",
       "      <td>NaN</td>\n",
       "    </tr>\n",
       "    <tr>\n",
       "      <th>2</th>\n",
       "      <td>A2</td>\n",
       "      <td>B2</td>\n",
       "      <td>C2</td>\n",
       "      <td>D2</td>\n",
       "      <td>NaN</td>\n",
       "      <td>NaN</td>\n",
       "      <td>NaN</td>\n",
       "      <td>NaN</td>\n",
       "      <td>NaN</td>\n",
       "      <td>NaN</td>\n",
       "      <td>NaN</td>\n",
       "      <td>NaN</td>\n",
       "    </tr>\n",
       "    <tr>\n",
       "      <th>3</th>\n",
       "      <td>A3</td>\n",
       "      <td>B3</td>\n",
       "      <td>C3</td>\n",
       "      <td>D3</td>\n",
       "      <td>NaN</td>\n",
       "      <td>NaN</td>\n",
       "      <td>NaN</td>\n",
       "      <td>NaN</td>\n",
       "      <td>NaN</td>\n",
       "      <td>NaN</td>\n",
       "      <td>NaN</td>\n",
       "      <td>NaN</td>\n",
       "    </tr>\n",
       "    <tr>\n",
       "      <th>4</th>\n",
       "      <td>NaN</td>\n",
       "      <td>NaN</td>\n",
       "      <td>NaN</td>\n",
       "      <td>NaN</td>\n",
       "      <td>A4</td>\n",
       "      <td>B4</td>\n",
       "      <td>C4</td>\n",
       "      <td>D4</td>\n",
       "      <td>NaN</td>\n",
       "      <td>NaN</td>\n",
       "      <td>NaN</td>\n",
       "      <td>NaN</td>\n",
       "    </tr>\n",
       "    <tr>\n",
       "      <th>5</th>\n",
       "      <td>NaN</td>\n",
       "      <td>NaN</td>\n",
       "      <td>NaN</td>\n",
       "      <td>NaN</td>\n",
       "      <td>A5</td>\n",
       "      <td>B5</td>\n",
       "      <td>C5</td>\n",
       "      <td>D5</td>\n",
       "      <td>NaN</td>\n",
       "      <td>NaN</td>\n",
       "      <td>NaN</td>\n",
       "      <td>NaN</td>\n",
       "    </tr>\n",
       "    <tr>\n",
       "      <th>6</th>\n",
       "      <td>NaN</td>\n",
       "      <td>NaN</td>\n",
       "      <td>NaN</td>\n",
       "      <td>NaN</td>\n",
       "      <td>A6</td>\n",
       "      <td>B6</td>\n",
       "      <td>C6</td>\n",
       "      <td>D6</td>\n",
       "      <td>NaN</td>\n",
       "      <td>NaN</td>\n",
       "      <td>NaN</td>\n",
       "      <td>NaN</td>\n",
       "    </tr>\n",
       "    <tr>\n",
       "      <th>7</th>\n",
       "      <td>NaN</td>\n",
       "      <td>NaN</td>\n",
       "      <td>NaN</td>\n",
       "      <td>NaN</td>\n",
       "      <td>A7</td>\n",
       "      <td>B7</td>\n",
       "      <td>C7</td>\n",
       "      <td>D7</td>\n",
       "      <td>NaN</td>\n",
       "      <td>NaN</td>\n",
       "      <td>NaN</td>\n",
       "      <td>NaN</td>\n",
       "    </tr>\n",
       "    <tr>\n",
       "      <th>8</th>\n",
       "      <td>NaN</td>\n",
       "      <td>NaN</td>\n",
       "      <td>NaN</td>\n",
       "      <td>NaN</td>\n",
       "      <td>NaN</td>\n",
       "      <td>NaN</td>\n",
       "      <td>NaN</td>\n",
       "      <td>NaN</td>\n",
       "      <td>A8</td>\n",
       "      <td>B8</td>\n",
       "      <td>C8</td>\n",
       "      <td>D8</td>\n",
       "    </tr>\n",
       "    <tr>\n",
       "      <th>9</th>\n",
       "      <td>NaN</td>\n",
       "      <td>NaN</td>\n",
       "      <td>NaN</td>\n",
       "      <td>NaN</td>\n",
       "      <td>NaN</td>\n",
       "      <td>NaN</td>\n",
       "      <td>NaN</td>\n",
       "      <td>NaN</td>\n",
       "      <td>A9</td>\n",
       "      <td>B9</td>\n",
       "      <td>C9</td>\n",
       "      <td>D9</td>\n",
       "    </tr>\n",
       "    <tr>\n",
       "      <th>10</th>\n",
       "      <td>NaN</td>\n",
       "      <td>NaN</td>\n",
       "      <td>NaN</td>\n",
       "      <td>NaN</td>\n",
       "      <td>NaN</td>\n",
       "      <td>NaN</td>\n",
       "      <td>NaN</td>\n",
       "      <td>NaN</td>\n",
       "      <td>A10</td>\n",
       "      <td>B10</td>\n",
       "      <td>C10</td>\n",
       "      <td>D10</td>\n",
       "    </tr>\n",
       "    <tr>\n",
       "      <th>11</th>\n",
       "      <td>NaN</td>\n",
       "      <td>NaN</td>\n",
       "      <td>NaN</td>\n",
       "      <td>NaN</td>\n",
       "      <td>NaN</td>\n",
       "      <td>NaN</td>\n",
       "      <td>NaN</td>\n",
       "      <td>NaN</td>\n",
       "      <td>A11</td>\n",
       "      <td>B11</td>\n",
       "      <td>C11</td>\n",
       "      <td>D11</td>\n",
       "    </tr>\n",
       "  </tbody>\n",
       "</table>\n",
       "</div>"
      ],
      "text/plain": [
       "      A    B    C    D    A    B    C    D    A    B    C    D\n",
       "0    A0   B0   C0   D0  NaN  NaN  NaN  NaN  NaN  NaN  NaN  NaN\n",
       "1    A1   B1   C1   D1  NaN  NaN  NaN  NaN  NaN  NaN  NaN  NaN\n",
       "2    A2   B2   C2   D2  NaN  NaN  NaN  NaN  NaN  NaN  NaN  NaN\n",
       "3    A3   B3   C3   D3  NaN  NaN  NaN  NaN  NaN  NaN  NaN  NaN\n",
       "4   NaN  NaN  NaN  NaN   A4   B4   C4   D4  NaN  NaN  NaN  NaN\n",
       "5   NaN  NaN  NaN  NaN   A5   B5   C5   D5  NaN  NaN  NaN  NaN\n",
       "6   NaN  NaN  NaN  NaN   A6   B6   C6   D6  NaN  NaN  NaN  NaN\n",
       "7   NaN  NaN  NaN  NaN   A7   B7   C7   D7  NaN  NaN  NaN  NaN\n",
       "8   NaN  NaN  NaN  NaN  NaN  NaN  NaN  NaN   A8   B8   C8   D8\n",
       "9   NaN  NaN  NaN  NaN  NaN  NaN  NaN  NaN   A9   B9   C9   D9\n",
       "10  NaN  NaN  NaN  NaN  NaN  NaN  NaN  NaN  A10  B10  C10  D10\n",
       "11  NaN  NaN  NaN  NaN  NaN  NaN  NaN  NaN  A11  B11  C11  D11"
      ]
     },
     "execution_count": 28,
     "metadata": {},
     "output_type": "execute_result"
    }
   ],
   "source": [
    "#joining across column\n",
    "pd.concat([df1,df2,df3],axis=1)\n"
   ]
  },
  {
   "cell_type": "code",
   "execution_count": 29,
   "id": "e9da691e",
   "metadata": {
    "execution": {
     "iopub.execute_input": "2022-12-09T05:51:59.105332Z",
     "iopub.status.busy": "2022-12-09T05:51:59.104277Z",
     "iopub.status.idle": "2022-12-09T05:51:59.112233Z",
     "shell.execute_reply": "2022-12-09T05:51:59.110967Z"
    },
    "papermill": {
     "duration": 0.026431,
     "end_time": "2022-12-09T05:51:59.114963",
     "exception": false,
     "start_time": "2022-12-09T05:51:59.088532",
     "status": "completed"
    },
    "tags": []
   },
   "outputs": [],
   "source": [
    "#data frames\n",
    "left = pd.DataFrame({'key': ['K0', 'K1', 'K2', 'K3'],\n",
    "                     'A': ['A0', 'A1', 'A2', 'A3'],\n",
    "                     'B': ['B0', 'B1', 'B2', 'B3']})\n",
    "   \n",
    "right = pd.DataFrame({'key': ['K0', 'K1', 'K2', 'K3'],\n",
    "                          'C': ['C0', 'C1', 'C2', 'C3'],\n",
    "                          'D': ['D0', 'D1', 'D2', 'D3']})    "
   ]
  },
  {
   "cell_type": "code",
   "execution_count": 30,
   "id": "43c48d24",
   "metadata": {
    "execution": {
     "iopub.execute_input": "2022-12-09T05:51:59.145484Z",
     "iopub.status.busy": "2022-12-09T05:51:59.145073Z",
     "iopub.status.idle": "2022-12-09T05:51:59.156275Z",
     "shell.execute_reply": "2022-12-09T05:51:59.155030Z"
    },
    "papermill": {
     "duration": 0.029339,
     "end_time": "2022-12-09T05:51:59.158702",
     "exception": false,
     "start_time": "2022-12-09T05:51:59.129363",
     "status": "completed"
    },
    "tags": []
   },
   "outputs": [
    {
     "data": {
      "text/html": [
       "<div>\n",
       "<style scoped>\n",
       "    .dataframe tbody tr th:only-of-type {\n",
       "        vertical-align: middle;\n",
       "    }\n",
       "\n",
       "    .dataframe tbody tr th {\n",
       "        vertical-align: top;\n",
       "    }\n",
       "\n",
       "    .dataframe thead th {\n",
       "        text-align: right;\n",
       "    }\n",
       "</style>\n",
       "<table border=\"1\" class=\"dataframe\">\n",
       "  <thead>\n",
       "    <tr style=\"text-align: right;\">\n",
       "      <th></th>\n",
       "      <th>key</th>\n",
       "      <th>A</th>\n",
       "      <th>B</th>\n",
       "    </tr>\n",
       "  </thead>\n",
       "  <tbody>\n",
       "    <tr>\n",
       "      <th>0</th>\n",
       "      <td>K0</td>\n",
       "      <td>A0</td>\n",
       "      <td>B0</td>\n",
       "    </tr>\n",
       "    <tr>\n",
       "      <th>1</th>\n",
       "      <td>K1</td>\n",
       "      <td>A1</td>\n",
       "      <td>B1</td>\n",
       "    </tr>\n",
       "    <tr>\n",
       "      <th>2</th>\n",
       "      <td>K2</td>\n",
       "      <td>A2</td>\n",
       "      <td>B2</td>\n",
       "    </tr>\n",
       "    <tr>\n",
       "      <th>3</th>\n",
       "      <td>K3</td>\n",
       "      <td>A3</td>\n",
       "      <td>B3</td>\n",
       "    </tr>\n",
       "  </tbody>\n",
       "</table>\n",
       "</div>"
      ],
      "text/plain": [
       "  key   A   B\n",
       "0  K0  A0  B0\n",
       "1  K1  A1  B1\n",
       "2  K2  A2  B2\n",
       "3  K3  A3  B3"
      ]
     },
     "execution_count": 30,
     "metadata": {},
     "output_type": "execute_result"
    }
   ],
   "source": [
    "left"
   ]
  },
  {
   "cell_type": "markdown",
   "id": "d1d6cd1d",
   "metadata": {
    "papermill": {
     "duration": 0.014183,
     "end_time": "2022-12-09T05:51:59.188080",
     "exception": false,
     "start_time": "2022-12-09T05:51:59.173897",
     "status": "completed"
    },
    "tags": []
   },
   "source": [
    "### The merge function allows you to merge DataFrames together using a similar logic as merging SQL Tables together. For example:"
   ]
  },
  {
   "cell_type": "code",
   "execution_count": 31,
   "id": "35d0fee5",
   "metadata": {
    "execution": {
     "iopub.execute_input": "2022-12-09T05:51:59.220051Z",
     "iopub.status.busy": "2022-12-09T05:51:59.219275Z",
     "iopub.status.idle": "2022-12-09T05:51:59.241378Z",
     "shell.execute_reply": "2022-12-09T05:51:59.239859Z"
    },
    "papermill": {
     "duration": 0.0414,
     "end_time": "2022-12-09T05:51:59.244194",
     "exception": false,
     "start_time": "2022-12-09T05:51:59.202794",
     "status": "completed"
    },
    "tags": []
   },
   "outputs": [
    {
     "data": {
      "text/html": [
       "<div>\n",
       "<style scoped>\n",
       "    .dataframe tbody tr th:only-of-type {\n",
       "        vertical-align: middle;\n",
       "    }\n",
       "\n",
       "    .dataframe tbody tr th {\n",
       "        vertical-align: top;\n",
       "    }\n",
       "\n",
       "    .dataframe thead th {\n",
       "        text-align: right;\n",
       "    }\n",
       "</style>\n",
       "<table border=\"1\" class=\"dataframe\">\n",
       "  <thead>\n",
       "    <tr style=\"text-align: right;\">\n",
       "      <th></th>\n",
       "      <th>key</th>\n",
       "      <th>A</th>\n",
       "      <th>B</th>\n",
       "      <th>C</th>\n",
       "      <th>D</th>\n",
       "    </tr>\n",
       "  </thead>\n",
       "  <tbody>\n",
       "    <tr>\n",
       "      <th>0</th>\n",
       "      <td>K0</td>\n",
       "      <td>A0</td>\n",
       "      <td>B0</td>\n",
       "      <td>C0</td>\n",
       "      <td>D0</td>\n",
       "    </tr>\n",
       "    <tr>\n",
       "      <th>1</th>\n",
       "      <td>K1</td>\n",
       "      <td>A1</td>\n",
       "      <td>B1</td>\n",
       "      <td>C1</td>\n",
       "      <td>D1</td>\n",
       "    </tr>\n",
       "    <tr>\n",
       "      <th>2</th>\n",
       "      <td>K2</td>\n",
       "      <td>A2</td>\n",
       "      <td>B2</td>\n",
       "      <td>C2</td>\n",
       "      <td>D2</td>\n",
       "    </tr>\n",
       "    <tr>\n",
       "      <th>3</th>\n",
       "      <td>K3</td>\n",
       "      <td>A3</td>\n",
       "      <td>B3</td>\n",
       "      <td>C3</td>\n",
       "      <td>D3</td>\n",
       "    </tr>\n",
       "  </tbody>\n",
       "</table>\n",
       "</div>"
      ],
      "text/plain": [
       "  key   A   B   C   D\n",
       "0  K0  A0  B0  C0  D0\n",
       "1  K1  A1  B1  C1  D1\n",
       "2  K2  A2  B2  C2  D2\n",
       "3  K3  A3  B3  C3  D3"
      ]
     },
     "execution_count": 31,
     "metadata": {},
     "output_type": "execute_result"
    }
   ],
   "source": [
    "pd.merge(left,right,how='inner',on='key')"
   ]
  },
  {
   "cell_type": "code",
   "execution_count": 32,
   "id": "717d566c",
   "metadata": {
    "execution": {
     "iopub.execute_input": "2022-12-09T05:51:59.277216Z",
     "iopub.status.busy": "2022-12-09T05:51:59.276790Z",
     "iopub.status.idle": "2022-12-09T05:51:59.285671Z",
     "shell.execute_reply": "2022-12-09T05:51:59.284094Z"
    },
    "papermill": {
     "duration": 0.028302,
     "end_time": "2022-12-09T05:51:59.288400",
     "exception": false,
     "start_time": "2022-12-09T05:51:59.260098",
     "status": "completed"
    },
    "tags": []
   },
   "outputs": [],
   "source": [
    "left = pd.DataFrame({'key1': ['K0', 'K0', 'K1', 'K2'],\n",
    "                     'key2': ['K0', 'K1', 'K0', 'K1'],\n",
    "                        'A': ['A0', 'A1', 'A2', 'A3'],\n",
    "                        'B': ['B0', 'B1', 'B2', 'B3']})\n",
    "    \n",
    "right = pd.DataFrame({'key1': ['K0', 'K1', 'K1', 'K2'],\n",
    "                               'key2': ['K0', 'K0', 'K0', 'K0'],\n",
    "                                  'C': ['C0', 'C1', 'C2', 'C3'],\n",
    "                                  'D': ['D0', 'D1', 'D2', 'D3']})"
   ]
  },
  {
   "cell_type": "code",
   "execution_count": 33,
   "id": "bee9edce",
   "metadata": {
    "execution": {
     "iopub.execute_input": "2022-12-09T05:51:59.320782Z",
     "iopub.status.busy": "2022-12-09T05:51:59.320145Z",
     "iopub.status.idle": "2022-12-09T05:51:59.336206Z",
     "shell.execute_reply": "2022-12-09T05:51:59.334932Z"
    },
    "papermill": {
     "duration": 0.036092,
     "end_time": "2022-12-09T05:51:59.339498",
     "exception": false,
     "start_time": "2022-12-09T05:51:59.303406",
     "status": "completed"
    },
    "tags": []
   },
   "outputs": [
    {
     "data": {
      "text/html": [
       "<div>\n",
       "<style scoped>\n",
       "    .dataframe tbody tr th:only-of-type {\n",
       "        vertical-align: middle;\n",
       "    }\n",
       "\n",
       "    .dataframe tbody tr th {\n",
       "        vertical-align: top;\n",
       "    }\n",
       "\n",
       "    .dataframe thead th {\n",
       "        text-align: right;\n",
       "    }\n",
       "</style>\n",
       "<table border=\"1\" class=\"dataframe\">\n",
       "  <thead>\n",
       "    <tr style=\"text-align: right;\">\n",
       "      <th></th>\n",
       "      <th>key1</th>\n",
       "      <th>key2</th>\n",
       "      <th>A</th>\n",
       "      <th>B</th>\n",
       "      <th>C</th>\n",
       "      <th>D</th>\n",
       "    </tr>\n",
       "  </thead>\n",
       "  <tbody>\n",
       "    <tr>\n",
       "      <th>0</th>\n",
       "      <td>K0</td>\n",
       "      <td>K0</td>\n",
       "      <td>A0</td>\n",
       "      <td>B0</td>\n",
       "      <td>C0</td>\n",
       "      <td>D0</td>\n",
       "    </tr>\n",
       "    <tr>\n",
       "      <th>1</th>\n",
       "      <td>K1</td>\n",
       "      <td>K0</td>\n",
       "      <td>A2</td>\n",
       "      <td>B2</td>\n",
       "      <td>C1</td>\n",
       "      <td>D1</td>\n",
       "    </tr>\n",
       "    <tr>\n",
       "      <th>2</th>\n",
       "      <td>K1</td>\n",
       "      <td>K0</td>\n",
       "      <td>A2</td>\n",
       "      <td>B2</td>\n",
       "      <td>C2</td>\n",
       "      <td>D2</td>\n",
       "    </tr>\n",
       "  </tbody>\n",
       "</table>\n",
       "</div>"
      ],
      "text/plain": [
       "  key1 key2   A   B   C   D\n",
       "0   K0   K0  A0  B0  C0  D0\n",
       "1   K1   K0  A2  B2  C1  D1\n",
       "2   K1   K0  A2  B2  C2  D2"
      ]
     },
     "execution_count": 33,
     "metadata": {},
     "output_type": "execute_result"
    }
   ],
   "source": [
    "pd.merge(left, right, on=['key1', 'key2'])"
   ]
  },
  {
   "cell_type": "code",
   "execution_count": 34,
   "id": "beed32cc",
   "metadata": {
    "execution": {
     "iopub.execute_input": "2022-12-09T05:51:59.372242Z",
     "iopub.status.busy": "2022-12-09T05:51:59.371803Z",
     "iopub.status.idle": "2022-12-09T05:51:59.390484Z",
     "shell.execute_reply": "2022-12-09T05:51:59.389273Z"
    },
    "papermill": {
     "duration": 0.038237,
     "end_time": "2022-12-09T05:51:59.393239",
     "exception": false,
     "start_time": "2022-12-09T05:51:59.355002",
     "status": "completed"
    },
    "tags": []
   },
   "outputs": [
    {
     "data": {
      "text/html": [
       "<div>\n",
       "<style scoped>\n",
       "    .dataframe tbody tr th:only-of-type {\n",
       "        vertical-align: middle;\n",
       "    }\n",
       "\n",
       "    .dataframe tbody tr th {\n",
       "        vertical-align: top;\n",
       "    }\n",
       "\n",
       "    .dataframe thead th {\n",
       "        text-align: right;\n",
       "    }\n",
       "</style>\n",
       "<table border=\"1\" class=\"dataframe\">\n",
       "  <thead>\n",
       "    <tr style=\"text-align: right;\">\n",
       "      <th></th>\n",
       "      <th>key1</th>\n",
       "      <th>key2</th>\n",
       "      <th>A</th>\n",
       "      <th>B</th>\n",
       "      <th>C</th>\n",
       "      <th>D</th>\n",
       "    </tr>\n",
       "  </thead>\n",
       "  <tbody>\n",
       "    <tr>\n",
       "      <th>0</th>\n",
       "      <td>K0</td>\n",
       "      <td>K0</td>\n",
       "      <td>A0</td>\n",
       "      <td>B0</td>\n",
       "      <td>C0</td>\n",
       "      <td>D0</td>\n",
       "    </tr>\n",
       "    <tr>\n",
       "      <th>1</th>\n",
       "      <td>K0</td>\n",
       "      <td>K1</td>\n",
       "      <td>A1</td>\n",
       "      <td>B1</td>\n",
       "      <td>NaN</td>\n",
       "      <td>NaN</td>\n",
       "    </tr>\n",
       "    <tr>\n",
       "      <th>2</th>\n",
       "      <td>K1</td>\n",
       "      <td>K0</td>\n",
       "      <td>A2</td>\n",
       "      <td>B2</td>\n",
       "      <td>C1</td>\n",
       "      <td>D1</td>\n",
       "    </tr>\n",
       "    <tr>\n",
       "      <th>3</th>\n",
       "      <td>K1</td>\n",
       "      <td>K0</td>\n",
       "      <td>A2</td>\n",
       "      <td>B2</td>\n",
       "      <td>C2</td>\n",
       "      <td>D2</td>\n",
       "    </tr>\n",
       "    <tr>\n",
       "      <th>4</th>\n",
       "      <td>K2</td>\n",
       "      <td>K1</td>\n",
       "      <td>A3</td>\n",
       "      <td>B3</td>\n",
       "      <td>NaN</td>\n",
       "      <td>NaN</td>\n",
       "    </tr>\n",
       "    <tr>\n",
       "      <th>5</th>\n",
       "      <td>K2</td>\n",
       "      <td>K0</td>\n",
       "      <td>NaN</td>\n",
       "      <td>NaN</td>\n",
       "      <td>C3</td>\n",
       "      <td>D3</td>\n",
       "    </tr>\n",
       "  </tbody>\n",
       "</table>\n",
       "</div>"
      ],
      "text/plain": [
       "  key1 key2    A    B    C    D\n",
       "0   K0   K0   A0   B0   C0   D0\n",
       "1   K0   K1   A1   B1  NaN  NaN\n",
       "2   K1   K0   A2   B2   C1   D1\n",
       "3   K1   K0   A2   B2   C2   D2\n",
       "4   K2   K1   A3   B3  NaN  NaN\n",
       "5   K2   K0  NaN  NaN   C3   D3"
      ]
     },
     "execution_count": 34,
     "metadata": {},
     "output_type": "execute_result"
    }
   ],
   "source": [
    "pd.merge(left, right, how='outer', on=['key1', 'key2'])"
   ]
  },
  {
   "cell_type": "code",
   "execution_count": 35,
   "id": "f2c4d078",
   "metadata": {
    "execution": {
     "iopub.execute_input": "2022-12-09T05:51:59.428066Z",
     "iopub.status.busy": "2022-12-09T05:51:59.426795Z",
     "iopub.status.idle": "2022-12-09T05:51:59.445392Z",
     "shell.execute_reply": "2022-12-09T05:51:59.444261Z"
    },
    "papermill": {
     "duration": 0.038487,
     "end_time": "2022-12-09T05:51:59.447774",
     "exception": false,
     "start_time": "2022-12-09T05:51:59.409287",
     "status": "completed"
    },
    "tags": []
   },
   "outputs": [
    {
     "data": {
      "text/html": [
       "<div>\n",
       "<style scoped>\n",
       "    .dataframe tbody tr th:only-of-type {\n",
       "        vertical-align: middle;\n",
       "    }\n",
       "\n",
       "    .dataframe tbody tr th {\n",
       "        vertical-align: top;\n",
       "    }\n",
       "\n",
       "    .dataframe thead th {\n",
       "        text-align: right;\n",
       "    }\n",
       "</style>\n",
       "<table border=\"1\" class=\"dataframe\">\n",
       "  <thead>\n",
       "    <tr style=\"text-align: right;\">\n",
       "      <th></th>\n",
       "      <th>key1</th>\n",
       "      <th>key2</th>\n",
       "      <th>A</th>\n",
       "      <th>B</th>\n",
       "      <th>C</th>\n",
       "      <th>D</th>\n",
       "    </tr>\n",
       "  </thead>\n",
       "  <tbody>\n",
       "    <tr>\n",
       "      <th>0</th>\n",
       "      <td>K0</td>\n",
       "      <td>K0</td>\n",
       "      <td>A0</td>\n",
       "      <td>B0</td>\n",
       "      <td>C0</td>\n",
       "      <td>D0</td>\n",
       "    </tr>\n",
       "    <tr>\n",
       "      <th>1</th>\n",
       "      <td>K1</td>\n",
       "      <td>K0</td>\n",
       "      <td>A2</td>\n",
       "      <td>B2</td>\n",
       "      <td>C1</td>\n",
       "      <td>D1</td>\n",
       "    </tr>\n",
       "    <tr>\n",
       "      <th>2</th>\n",
       "      <td>K1</td>\n",
       "      <td>K0</td>\n",
       "      <td>A2</td>\n",
       "      <td>B2</td>\n",
       "      <td>C2</td>\n",
       "      <td>D2</td>\n",
       "    </tr>\n",
       "    <tr>\n",
       "      <th>3</th>\n",
       "      <td>K2</td>\n",
       "      <td>K0</td>\n",
       "      <td>NaN</td>\n",
       "      <td>NaN</td>\n",
       "      <td>C3</td>\n",
       "      <td>D3</td>\n",
       "    </tr>\n",
       "  </tbody>\n",
       "</table>\n",
       "</div>"
      ],
      "text/plain": [
       "  key1 key2    A    B   C   D\n",
       "0   K0   K0   A0   B0  C0  D0\n",
       "1   K1   K0   A2   B2  C1  D1\n",
       "2   K1   K0   A2   B2  C2  D2\n",
       "3   K2   K0  NaN  NaN  C3  D3"
      ]
     },
     "execution_count": 35,
     "metadata": {},
     "output_type": "execute_result"
    }
   ],
   "source": [
    "pd.merge(left, right, how='right', on=['key1', 'key2'])"
   ]
  },
  {
   "cell_type": "code",
   "execution_count": 36,
   "id": "cac8af14",
   "metadata": {
    "execution": {
     "iopub.execute_input": "2022-12-09T05:51:59.481012Z",
     "iopub.status.busy": "2022-12-09T05:51:59.480563Z",
     "iopub.status.idle": "2022-12-09T05:51:59.499418Z",
     "shell.execute_reply": "2022-12-09T05:51:59.498183Z"
    },
    "papermill": {
     "duration": 0.038484,
     "end_time": "2022-12-09T05:51:59.501925",
     "exception": false,
     "start_time": "2022-12-09T05:51:59.463441",
     "status": "completed"
    },
    "tags": []
   },
   "outputs": [
    {
     "data": {
      "text/html": [
       "<div>\n",
       "<style scoped>\n",
       "    .dataframe tbody tr th:only-of-type {\n",
       "        vertical-align: middle;\n",
       "    }\n",
       "\n",
       "    .dataframe tbody tr th {\n",
       "        vertical-align: top;\n",
       "    }\n",
       "\n",
       "    .dataframe thead th {\n",
       "        text-align: right;\n",
       "    }\n",
       "</style>\n",
       "<table border=\"1\" class=\"dataframe\">\n",
       "  <thead>\n",
       "    <tr style=\"text-align: right;\">\n",
       "      <th></th>\n",
       "      <th>key1</th>\n",
       "      <th>key2</th>\n",
       "      <th>A</th>\n",
       "      <th>B</th>\n",
       "      <th>C</th>\n",
       "      <th>D</th>\n",
       "    </tr>\n",
       "  </thead>\n",
       "  <tbody>\n",
       "    <tr>\n",
       "      <th>0</th>\n",
       "      <td>K0</td>\n",
       "      <td>K0</td>\n",
       "      <td>A0</td>\n",
       "      <td>B0</td>\n",
       "      <td>C0</td>\n",
       "      <td>D0</td>\n",
       "    </tr>\n",
       "    <tr>\n",
       "      <th>1</th>\n",
       "      <td>K0</td>\n",
       "      <td>K1</td>\n",
       "      <td>A1</td>\n",
       "      <td>B1</td>\n",
       "      <td>NaN</td>\n",
       "      <td>NaN</td>\n",
       "    </tr>\n",
       "    <tr>\n",
       "      <th>2</th>\n",
       "      <td>K1</td>\n",
       "      <td>K0</td>\n",
       "      <td>A2</td>\n",
       "      <td>B2</td>\n",
       "      <td>C1</td>\n",
       "      <td>D1</td>\n",
       "    </tr>\n",
       "    <tr>\n",
       "      <th>3</th>\n",
       "      <td>K1</td>\n",
       "      <td>K0</td>\n",
       "      <td>A2</td>\n",
       "      <td>B2</td>\n",
       "      <td>C2</td>\n",
       "      <td>D2</td>\n",
       "    </tr>\n",
       "    <tr>\n",
       "      <th>4</th>\n",
       "      <td>K2</td>\n",
       "      <td>K1</td>\n",
       "      <td>A3</td>\n",
       "      <td>B3</td>\n",
       "      <td>NaN</td>\n",
       "      <td>NaN</td>\n",
       "    </tr>\n",
       "  </tbody>\n",
       "</table>\n",
       "</div>"
      ],
      "text/plain": [
       "  key1 key2   A   B    C    D\n",
       "0   K0   K0  A0  B0   C0   D0\n",
       "1   K0   K1  A1  B1  NaN  NaN\n",
       "2   K1   K0  A2  B2   C1   D1\n",
       "3   K1   K0  A2  B2   C2   D2\n",
       "4   K2   K1  A3  B3  NaN  NaN"
      ]
     },
     "execution_count": 36,
     "metadata": {},
     "output_type": "execute_result"
    }
   ],
   "source": [
    "pd.merge(left, right, how='left', on=['key1', 'key2'])"
   ]
  },
  {
   "cell_type": "markdown",
   "id": "8433c6fc",
   "metadata": {
    "papermill": {
     "duration": 0.015951,
     "end_time": "2022-12-09T05:51:59.534066",
     "exception": false,
     "start_time": "2022-12-09T05:51:59.518115",
     "status": "completed"
    },
    "tags": []
   },
   "source": [
    "### Joining is a convenient method for combining the columns of two potentially differently-indexed DataFrames into a single result DataFrame.\n",
    "\n"
   ]
  },
  {
   "cell_type": "code",
   "execution_count": 37,
   "id": "6e023975",
   "metadata": {
    "execution": {
     "iopub.execute_input": "2022-12-09T05:51:59.574133Z",
     "iopub.status.busy": "2022-12-09T05:51:59.573589Z",
     "iopub.status.idle": "2022-12-09T05:51:59.581377Z",
     "shell.execute_reply": "2022-12-09T05:51:59.580010Z"
    },
    "papermill": {
     "duration": 0.033983,
     "end_time": "2022-12-09T05:51:59.583946",
     "exception": false,
     "start_time": "2022-12-09T05:51:59.549963",
     "status": "completed"
    },
    "tags": []
   },
   "outputs": [],
   "source": [
    "left = pd.DataFrame({'A': ['A0', 'A1', 'A2'],\n",
    "                     'B': ['B0', 'B1', 'B2']},\n",
    "                      index=['K0', 'K1', 'K2']) \n",
    "\n",
    "right = pd.DataFrame({'C': ['C0', 'C2', 'C3'],\n",
    "                    'D': ['D0', 'D2', 'D3']},\n",
    "                      index=['K0', 'K2', 'K3'])"
   ]
  },
  {
   "cell_type": "code",
   "execution_count": 38,
   "id": "251aed01",
   "metadata": {
    "execution": {
     "iopub.execute_input": "2022-12-09T05:51:59.629352Z",
     "iopub.status.busy": "2022-12-09T05:51:59.628232Z",
     "iopub.status.idle": "2022-12-09T05:51:59.647667Z",
     "shell.execute_reply": "2022-12-09T05:51:59.646120Z"
    },
    "papermill": {
     "duration": 0.050216,
     "end_time": "2022-12-09T05:51:59.651458",
     "exception": false,
     "start_time": "2022-12-09T05:51:59.601242",
     "status": "completed"
    },
    "tags": []
   },
   "outputs": [
    {
     "data": {
      "text/html": [
       "<div>\n",
       "<style scoped>\n",
       "    .dataframe tbody tr th:only-of-type {\n",
       "        vertical-align: middle;\n",
       "    }\n",
       "\n",
       "    .dataframe tbody tr th {\n",
       "        vertical-align: top;\n",
       "    }\n",
       "\n",
       "    .dataframe thead th {\n",
       "        text-align: right;\n",
       "    }\n",
       "</style>\n",
       "<table border=\"1\" class=\"dataframe\">\n",
       "  <thead>\n",
       "    <tr style=\"text-align: right;\">\n",
       "      <th></th>\n",
       "      <th>A</th>\n",
       "      <th>B</th>\n",
       "      <th>C</th>\n",
       "      <th>D</th>\n",
       "    </tr>\n",
       "  </thead>\n",
       "  <tbody>\n",
       "    <tr>\n",
       "      <th>K0</th>\n",
       "      <td>A0</td>\n",
       "      <td>B0</td>\n",
       "      <td>C0</td>\n",
       "      <td>D0</td>\n",
       "    </tr>\n",
       "    <tr>\n",
       "      <th>K1</th>\n",
       "      <td>A1</td>\n",
       "      <td>B1</td>\n",
       "      <td>NaN</td>\n",
       "      <td>NaN</td>\n",
       "    </tr>\n",
       "    <tr>\n",
       "      <th>K2</th>\n",
       "      <td>A2</td>\n",
       "      <td>B2</td>\n",
       "      <td>C2</td>\n",
       "      <td>D2</td>\n",
       "    </tr>\n",
       "  </tbody>\n",
       "</table>\n",
       "</div>"
      ],
      "text/plain": [
       "     A   B    C    D\n",
       "K0  A0  B0   C0   D0\n",
       "K1  A1  B1  NaN  NaN\n",
       "K2  A2  B2   C2   D2"
      ]
     },
     "execution_count": 38,
     "metadata": {},
     "output_type": "execute_result"
    }
   ],
   "source": [
    "left.join(right)"
   ]
  },
  {
   "cell_type": "code",
   "execution_count": 39,
   "id": "99b5e589",
   "metadata": {
    "execution": {
     "iopub.execute_input": "2022-12-09T05:51:59.689452Z",
     "iopub.status.busy": "2022-12-09T05:51:59.688555Z",
     "iopub.status.idle": "2022-12-09T05:51:59.703552Z",
     "shell.execute_reply": "2022-12-09T05:51:59.702374Z"
    },
    "papermill": {
     "duration": 0.034991,
     "end_time": "2022-12-09T05:51:59.705857",
     "exception": false,
     "start_time": "2022-12-09T05:51:59.670866",
     "status": "completed"
    },
    "tags": []
   },
   "outputs": [
    {
     "data": {
      "text/html": [
       "<div>\n",
       "<style scoped>\n",
       "    .dataframe tbody tr th:only-of-type {\n",
       "        vertical-align: middle;\n",
       "    }\n",
       "\n",
       "    .dataframe tbody tr th {\n",
       "        vertical-align: top;\n",
       "    }\n",
       "\n",
       "    .dataframe thead th {\n",
       "        text-align: right;\n",
       "    }\n",
       "</style>\n",
       "<table border=\"1\" class=\"dataframe\">\n",
       "  <thead>\n",
       "    <tr style=\"text-align: right;\">\n",
       "      <th></th>\n",
       "      <th>A</th>\n",
       "      <th>B</th>\n",
       "      <th>C</th>\n",
       "      <th>D</th>\n",
       "    </tr>\n",
       "  </thead>\n",
       "  <tbody>\n",
       "    <tr>\n",
       "      <th>K0</th>\n",
       "      <td>A0</td>\n",
       "      <td>B0</td>\n",
       "      <td>C0</td>\n",
       "      <td>D0</td>\n",
       "    </tr>\n",
       "    <tr>\n",
       "      <th>K1</th>\n",
       "      <td>A1</td>\n",
       "      <td>B1</td>\n",
       "      <td>NaN</td>\n",
       "      <td>NaN</td>\n",
       "    </tr>\n",
       "    <tr>\n",
       "      <th>K2</th>\n",
       "      <td>A2</td>\n",
       "      <td>B2</td>\n",
       "      <td>C2</td>\n",
       "      <td>D2</td>\n",
       "    </tr>\n",
       "    <tr>\n",
       "      <th>K3</th>\n",
       "      <td>NaN</td>\n",
       "      <td>NaN</td>\n",
       "      <td>C3</td>\n",
       "      <td>D3</td>\n",
       "    </tr>\n",
       "  </tbody>\n",
       "</table>\n",
       "</div>"
      ],
      "text/plain": [
       "      A    B    C    D\n",
       "K0   A0   B0   C0   D0\n",
       "K1   A1   B1  NaN  NaN\n",
       "K2   A2   B2   C2   D2\n",
       "K3  NaN  NaN   C3   D3"
      ]
     },
     "execution_count": 39,
     "metadata": {},
     "output_type": "execute_result"
    }
   ],
   "source": [
    "left.join(right, how='outer')"
   ]
  },
  {
   "cell_type": "markdown",
   "id": "37e3ce53",
   "metadata": {
    "papermill": {
     "duration": 0.01696,
     "end_time": "2022-12-09T05:51:59.739356",
     "exception": false,
     "start_time": "2022-12-09T05:51:59.722396",
     "status": "completed"
    },
    "tags": []
   },
   "source": [
    "## Operations"
   ]
  },
  {
   "cell_type": "code",
   "execution_count": 40,
   "id": "9aa71c3f",
   "metadata": {
    "execution": {
     "iopub.execute_input": "2022-12-09T05:51:59.776465Z",
     "iopub.status.busy": "2022-12-09T05:51:59.775587Z",
     "iopub.status.idle": "2022-12-09T05:51:59.779994Z",
     "shell.execute_reply": "2022-12-09T05:51:59.779106Z"
    },
    "papermill": {
     "duration": 0.025627,
     "end_time": "2022-12-09T05:51:59.782208",
     "exception": false,
     "start_time": "2022-12-09T05:51:59.756581",
     "status": "completed"
    },
    "tags": []
   },
   "outputs": [],
   "source": [
    "import numpy as np\n",
    "import pandas as pd\n"
   ]
  },
  {
   "cell_type": "code",
   "execution_count": 41,
   "id": "1f51b8db",
   "metadata": {
    "execution": {
     "iopub.execute_input": "2022-12-09T05:51:59.817275Z",
     "iopub.status.busy": "2022-12-09T05:51:59.816665Z",
     "iopub.status.idle": "2022-12-09T05:51:59.829255Z",
     "shell.execute_reply": "2022-12-09T05:51:59.827902Z"
    },
    "papermill": {
     "duration": 0.033064,
     "end_time": "2022-12-09T05:51:59.831772",
     "exception": false,
     "start_time": "2022-12-09T05:51:59.798708",
     "status": "completed"
    },
    "tags": []
   },
   "outputs": [
    {
     "data": {
      "text/html": [
       "<div>\n",
       "<style scoped>\n",
       "    .dataframe tbody tr th:only-of-type {\n",
       "        vertical-align: middle;\n",
       "    }\n",
       "\n",
       "    .dataframe tbody tr th {\n",
       "        vertical-align: top;\n",
       "    }\n",
       "\n",
       "    .dataframe thead th {\n",
       "        text-align: right;\n",
       "    }\n",
       "</style>\n",
       "<table border=\"1\" class=\"dataframe\">\n",
       "  <thead>\n",
       "    <tr style=\"text-align: right;\">\n",
       "      <th></th>\n",
       "      <th>col1</th>\n",
       "      <th>col2</th>\n",
       "      <th>col3</th>\n",
       "    </tr>\n",
       "  </thead>\n",
       "  <tbody>\n",
       "    <tr>\n",
       "      <th>0</th>\n",
       "      <td>1</td>\n",
       "      <td>444</td>\n",
       "      <td>abc</td>\n",
       "    </tr>\n",
       "    <tr>\n",
       "      <th>1</th>\n",
       "      <td>2</td>\n",
       "      <td>555</td>\n",
       "      <td>def</td>\n",
       "    </tr>\n",
       "    <tr>\n",
       "      <th>2</th>\n",
       "      <td>3</td>\n",
       "      <td>666</td>\n",
       "      <td>ghi</td>\n",
       "    </tr>\n",
       "    <tr>\n",
       "      <th>3</th>\n",
       "      <td>4</td>\n",
       "      <td>444</td>\n",
       "      <td>xyz</td>\n",
       "    </tr>\n",
       "  </tbody>\n",
       "</table>\n",
       "</div>"
      ],
      "text/plain": [
       "   col1  col2 col3\n",
       "0     1   444  abc\n",
       "1     2   555  def\n",
       "2     3   666  ghi\n",
       "3     4   444  xyz"
      ]
     },
     "execution_count": 41,
     "metadata": {},
     "output_type": "execute_result"
    }
   ],
   "source": [
    "import pandas as pd\n",
    "df = pd.DataFrame({'col1':[1,2,3,4],'col2':[444,555,666,444],'col3':['abc','def','ghi','xyz']})\n",
    "df.head()"
   ]
  },
  {
   "cell_type": "markdown",
   "id": "b3565d3b",
   "metadata": {
    "papermill": {
     "duration": 0.016603,
     "end_time": "2022-12-09T05:51:59.865176",
     "exception": false,
     "start_time": "2022-12-09T05:51:59.848573",
     "status": "completed"
    },
    "tags": []
   },
   "source": [
    "### Info on Unique Values"
   ]
  },
  {
   "cell_type": "code",
   "execution_count": 42,
   "id": "96e5d27f",
   "metadata": {
    "execution": {
     "iopub.execute_input": "2022-12-09T05:51:59.901576Z",
     "iopub.status.busy": "2022-12-09T05:51:59.900785Z",
     "iopub.status.idle": "2022-12-09T05:51:59.912726Z",
     "shell.execute_reply": "2022-12-09T05:51:59.911920Z"
    },
    "papermill": {
     "duration": 0.032793,
     "end_time": "2022-12-09T05:51:59.914928",
     "exception": false,
     "start_time": "2022-12-09T05:51:59.882135",
     "status": "completed"
    },
    "tags": []
   },
   "outputs": [
    {
     "data": {
      "text/html": [
       "<div>\n",
       "<style scoped>\n",
       "    .dataframe tbody tr th:only-of-type {\n",
       "        vertical-align: middle;\n",
       "    }\n",
       "\n",
       "    .dataframe tbody tr th {\n",
       "        vertical-align: top;\n",
       "    }\n",
       "\n",
       "    .dataframe thead th {\n",
       "        text-align: right;\n",
       "    }\n",
       "</style>\n",
       "<table border=\"1\" class=\"dataframe\">\n",
       "  <thead>\n",
       "    <tr style=\"text-align: right;\">\n",
       "      <th></th>\n",
       "      <th>col1</th>\n",
       "      <th>col2</th>\n",
       "      <th>col3</th>\n",
       "    </tr>\n",
       "  </thead>\n",
       "  <tbody>\n",
       "    <tr>\n",
       "      <th>0</th>\n",
       "      <td>1</td>\n",
       "      <td>444</td>\n",
       "      <td>abc</td>\n",
       "    </tr>\n",
       "    <tr>\n",
       "      <th>1</th>\n",
       "      <td>2</td>\n",
       "      <td>555</td>\n",
       "      <td>def</td>\n",
       "    </tr>\n",
       "    <tr>\n",
       "      <th>2</th>\n",
       "      <td>3</td>\n",
       "      <td>666</td>\n",
       "      <td>ghi</td>\n",
       "    </tr>\n",
       "    <tr>\n",
       "      <th>3</th>\n",
       "      <td>4</td>\n",
       "      <td>444</td>\n",
       "      <td>xyz</td>\n",
       "    </tr>\n",
       "  </tbody>\n",
       "</table>\n",
       "</div>"
      ],
      "text/plain": [
       "   col1  col2 col3\n",
       "0     1   444  abc\n",
       "1     2   555  def\n",
       "2     3   666  ghi\n",
       "3     4   444  xyz"
      ]
     },
     "execution_count": 42,
     "metadata": {},
     "output_type": "execute_result"
    }
   ],
   "source": [
    "import pandas as pd\n",
    "df = pd.DataFrame({'col1':[1,2,3,4],'col2':[444,555,666,444],'col3':['abc','def','ghi','xyz']})\n",
    "df.head()"
   ]
  },
  {
   "cell_type": "code",
   "execution_count": 43,
   "id": "2811323d",
   "metadata": {
    "execution": {
     "iopub.execute_input": "2022-12-09T05:51:59.951171Z",
     "iopub.status.busy": "2022-12-09T05:51:59.950185Z",
     "iopub.status.idle": "2022-12-09T05:51:59.958453Z",
     "shell.execute_reply": "2022-12-09T05:51:59.957136Z"
    },
    "papermill": {
     "duration": 0.029159,
     "end_time": "2022-12-09T05:51:59.960956",
     "exception": false,
     "start_time": "2022-12-09T05:51:59.931797",
     "status": "completed"
    },
    "tags": []
   },
   "outputs": [
    {
     "data": {
      "text/plain": [
       "3"
      ]
     },
     "execution_count": 43,
     "metadata": {},
     "output_type": "execute_result"
    }
   ],
   "source": [
    "#number of unique values in a column\n",
    "len(df['col2'].unique())"
   ]
  },
  {
   "cell_type": "code",
   "execution_count": 44,
   "id": "de747593",
   "metadata": {
    "execution": {
     "iopub.execute_input": "2022-12-09T05:51:59.996602Z",
     "iopub.status.busy": "2022-12-09T05:51:59.996208Z",
     "iopub.status.idle": "2022-12-09T05:52:00.004183Z",
     "shell.execute_reply": "2022-12-09T05:52:00.002942Z"
    },
    "papermill": {
     "duration": 0.028813,
     "end_time": "2022-12-09T05:52:00.006699",
     "exception": false,
     "start_time": "2022-12-09T05:51:59.977886",
     "status": "completed"
    },
    "tags": []
   },
   "outputs": [
    {
     "data": {
      "text/plain": [
       "array([444, 555, 666])"
      ]
     },
     "execution_count": 44,
     "metadata": {},
     "output_type": "execute_result"
    }
   ],
   "source": [
    "#to get the array of unique value\n",
    "df['col2'].unique()"
   ]
  },
  {
   "cell_type": "code",
   "execution_count": 45,
   "id": "8d60a050",
   "metadata": {
    "execution": {
     "iopub.execute_input": "2022-12-09T05:52:00.042693Z",
     "iopub.status.busy": "2022-12-09T05:52:00.042292Z",
     "iopub.status.idle": "2022-12-09T05:52:00.051311Z",
     "shell.execute_reply": "2022-12-09T05:52:00.050440Z"
    },
    "papermill": {
     "duration": 0.029698,
     "end_time": "2022-12-09T05:52:00.053530",
     "exception": false,
     "start_time": "2022-12-09T05:52:00.023832",
     "status": "completed"
    },
    "tags": []
   },
   "outputs": [
    {
     "data": {
      "text/plain": [
       "444    2\n",
       "555    1\n",
       "666    1\n",
       "Name: col2, dtype: int64"
      ]
     },
     "execution_count": 45,
     "metadata": {},
     "output_type": "execute_result"
    }
   ],
   "source": [
    "df['col2'].value_counts()"
   ]
  },
  {
   "cell_type": "markdown",
   "id": "192991e9",
   "metadata": {
    "papermill": {
     "duration": 0.017792,
     "end_time": "2022-12-09T05:52:00.088607",
     "exception": false,
     "start_time": "2022-12-09T05:52:00.070815",
     "status": "completed"
    },
    "tags": []
   },
   "source": [
    "## Selecting Data"
   ]
  },
  {
   "cell_type": "code",
   "execution_count": 46,
   "id": "af17663c",
   "metadata": {
    "execution": {
     "iopub.execute_input": "2022-12-09T05:52:00.125341Z",
     "iopub.status.busy": "2022-12-09T05:52:00.124893Z",
     "iopub.status.idle": "2022-12-09T05:52:00.132240Z",
     "shell.execute_reply": "2022-12-09T05:52:00.130736Z"
    },
    "papermill": {
     "duration": 0.028512,
     "end_time": "2022-12-09T05:52:00.134830",
     "exception": false,
     "start_time": "2022-12-09T05:52:00.106318",
     "status": "completed"
    },
    "tags": []
   },
   "outputs": [],
   "source": [
    "#Select from DataFrame using criteria from multiple columns\n",
    "newdf = df[(df['col1']>2) & (df['col2']==444)]"
   ]
  },
  {
   "cell_type": "code",
   "execution_count": 47,
   "id": "94a87a43",
   "metadata": {
    "execution": {
     "iopub.execute_input": "2022-12-09T05:52:00.171045Z",
     "iopub.status.busy": "2022-12-09T05:52:00.170546Z",
     "iopub.status.idle": "2022-12-09T05:52:00.182254Z",
     "shell.execute_reply": "2022-12-09T05:52:00.180791Z"
    },
    "papermill": {
     "duration": 0.032834,
     "end_time": "2022-12-09T05:52:00.184771",
     "exception": false,
     "start_time": "2022-12-09T05:52:00.151937",
     "status": "completed"
    },
    "tags": []
   },
   "outputs": [
    {
     "data": {
      "text/html": [
       "<div>\n",
       "<style scoped>\n",
       "    .dataframe tbody tr th:only-of-type {\n",
       "        vertical-align: middle;\n",
       "    }\n",
       "\n",
       "    .dataframe tbody tr th {\n",
       "        vertical-align: top;\n",
       "    }\n",
       "\n",
       "    .dataframe thead th {\n",
       "        text-align: right;\n",
       "    }\n",
       "</style>\n",
       "<table border=\"1\" class=\"dataframe\">\n",
       "  <thead>\n",
       "    <tr style=\"text-align: right;\">\n",
       "      <th></th>\n",
       "      <th>col1</th>\n",
       "      <th>col2</th>\n",
       "      <th>col3</th>\n",
       "    </tr>\n",
       "  </thead>\n",
       "  <tbody>\n",
       "    <tr>\n",
       "      <th>3</th>\n",
       "      <td>4</td>\n",
       "      <td>444</td>\n",
       "      <td>xyz</td>\n",
       "    </tr>\n",
       "  </tbody>\n",
       "</table>\n",
       "</div>"
      ],
      "text/plain": [
       "   col1  col2 col3\n",
       "3     4   444  xyz"
      ]
     },
     "execution_count": 47,
     "metadata": {},
     "output_type": "execute_result"
    }
   ],
   "source": [
    "newdf"
   ]
  },
  {
   "cell_type": "code",
   "execution_count": null,
   "id": "d0f823a0",
   "metadata": {
    "papermill": {
     "duration": 0.017183,
     "end_time": "2022-12-09T05:52:00.220589",
     "exception": false,
     "start_time": "2022-12-09T05:52:00.203406",
     "status": "completed"
    },
    "tags": []
   },
   "outputs": [],
   "source": []
  }
 ],
 "metadata": {
  "kernelspec": {
   "display_name": "Python 3",
   "language": "python",
   "name": "python3"
  },
  "language_info": {
   "codemirror_mode": {
    "name": "ipython",
    "version": 3
   },
   "file_extension": ".py",
   "mimetype": "text/x-python",
   "name": "python",
   "nbconvert_exporter": "python",
   "pygments_lexer": "ipython3",
   "version": "3.7.12"
  },
  "papermill": {
   "default_parameters": {},
   "duration": 12.28406,
   "end_time": "2022-12-09T05:52:00.961333",
   "environment_variables": {},
   "exception": null,
   "input_path": "__notebook__.ipynb",
   "output_path": "__notebook__.ipynb",
   "parameters": {},
   "start_time": "2022-12-09T05:51:48.677273",
   "version": "2.3.4"
  }
 },
 "nbformat": 4,
 "nbformat_minor": 5
}
