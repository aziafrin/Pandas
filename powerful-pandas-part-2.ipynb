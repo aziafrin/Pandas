{
 "cells": [
  {
   "cell_type": "markdown",
   "id": "05dd3bd9",
   "metadata": {
    "_cell_guid": "b1076dfc-b9ad-4769-8c92-a6c4dae69d19",
    "_uuid": "8f2839f25d086af736a60e9eeb907d3b93b6e0e5",
    "papermill": {
     "duration": 0.004746,
     "end_time": "2022-12-05T18:35:18.828846",
     "exception": false,
     "start_time": "2022-12-05T18:35:18.824100",
     "status": "completed"
    },
    "tags": []
   },
   "source": [
    "## While analysing data we often face a problem of missing values in our data. Let's see how can we deal with that in python with pandas library."
   ]
  },
  {
   "cell_type": "code",
   "execution_count": 1,
   "id": "59394b39",
   "metadata": {
    "execution": {
     "iopub.execute_input": "2022-12-05T18:35:18.840006Z",
     "iopub.status.busy": "2022-12-05T18:35:18.839104Z",
     "iopub.status.idle": "2022-12-05T18:35:18.849712Z",
     "shell.execute_reply": "2022-12-05T18:35:18.848649Z"
    },
    "papermill": {
     "duration": 0.020057,
     "end_time": "2022-12-05T18:35:18.852492",
     "exception": false,
     "start_time": "2022-12-05T18:35:18.832435",
     "status": "completed"
    },
    "tags": []
   },
   "outputs": [],
   "source": [
    "import numpy as np\n",
    "import pandas as pd"
   ]
  },
  {
   "cell_type": "code",
   "execution_count": 2,
   "id": "37395e8d",
   "metadata": {
    "execution": {
     "iopub.execute_input": "2022-12-05T18:35:18.861644Z",
     "iopub.status.busy": "2022-12-05T18:35:18.861188Z",
     "iopub.status.idle": "2022-12-05T18:35:18.868382Z",
     "shell.execute_reply": "2022-12-05T18:35:18.866229Z"
    },
    "papermill": {
     "duration": 0.015258,
     "end_time": "2022-12-05T18:35:18.871245",
     "exception": false,
     "start_time": "2022-12-05T18:35:18.855987",
     "status": "completed"
    },
    "tags": []
   },
   "outputs": [],
   "source": [
    "d={'A':[1,2,np.nan],'B':[5,np.nan,np.nan],'C':[1,2,3]}"
   ]
  },
  {
   "cell_type": "code",
   "execution_count": 3,
   "id": "70b33dac",
   "metadata": {
    "execution": {
     "iopub.execute_input": "2022-12-05T18:35:18.880695Z",
     "iopub.status.busy": "2022-12-05T18:35:18.880236Z",
     "iopub.status.idle": "2022-12-05T18:35:18.891984Z",
     "shell.execute_reply": "2022-12-05T18:35:18.891009Z"
    },
    "papermill": {
     "duration": 0.019799,
     "end_time": "2022-12-05T18:35:18.894864",
     "exception": false,
     "start_time": "2022-12-05T18:35:18.875065",
     "status": "completed"
    },
    "tags": []
   },
   "outputs": [],
   "source": [
    "df=pd.DataFrame(d)"
   ]
  },
  {
   "cell_type": "code",
   "execution_count": 4,
   "id": "9b9e5247",
   "metadata": {
    "execution": {
     "iopub.execute_input": "2022-12-05T18:35:18.905749Z",
     "iopub.status.busy": "2022-12-05T18:35:18.904762Z",
     "iopub.status.idle": "2022-12-05T18:35:18.942246Z",
     "shell.execute_reply": "2022-12-05T18:35:18.940054Z"
    },
    "papermill": {
     "duration": 0.047358,
     "end_time": "2022-12-05T18:35:18.946530",
     "exception": false,
     "start_time": "2022-12-05T18:35:18.899172",
     "status": "completed"
    },
    "tags": []
   },
   "outputs": [
    {
     "data": {
      "text/html": [
       "<div>\n",
       "<style scoped>\n",
       "    .dataframe tbody tr th:only-of-type {\n",
       "        vertical-align: middle;\n",
       "    }\n",
       "\n",
       "    .dataframe tbody tr th {\n",
       "        vertical-align: top;\n",
       "    }\n",
       "\n",
       "    .dataframe thead th {\n",
       "        text-align: right;\n",
       "    }\n",
       "</style>\n",
       "<table border=\"1\" class=\"dataframe\">\n",
       "  <thead>\n",
       "    <tr style=\"text-align: right;\">\n",
       "      <th></th>\n",
       "      <th>A</th>\n",
       "      <th>B</th>\n",
       "      <th>C</th>\n",
       "    </tr>\n",
       "  </thead>\n",
       "  <tbody>\n",
       "    <tr>\n",
       "      <th>0</th>\n",
       "      <td>1.0</td>\n",
       "      <td>5.0</td>\n",
       "      <td>1</td>\n",
       "    </tr>\n",
       "    <tr>\n",
       "      <th>1</th>\n",
       "      <td>2.0</td>\n",
       "      <td>NaN</td>\n",
       "      <td>2</td>\n",
       "    </tr>\n",
       "    <tr>\n",
       "      <th>2</th>\n",
       "      <td>NaN</td>\n",
       "      <td>NaN</td>\n",
       "      <td>3</td>\n",
       "    </tr>\n",
       "  </tbody>\n",
       "</table>\n",
       "</div>"
      ],
      "text/plain": [
       "     A    B  C\n",
       "0  1.0  5.0  1\n",
       "1  2.0  NaN  2\n",
       "2  NaN  NaN  3"
      ]
     },
     "execution_count": 4,
     "metadata": {},
     "output_type": "execute_result"
    }
   ],
   "source": [
    "df"
   ]
  },
  {
   "cell_type": "code",
   "execution_count": 5,
   "id": "f3716f54",
   "metadata": {
    "execution": {
     "iopub.execute_input": "2022-12-05T18:35:18.957610Z",
     "iopub.status.busy": "2022-12-05T18:35:18.957166Z",
     "iopub.status.idle": "2022-12-05T18:35:18.976446Z",
     "shell.execute_reply": "2022-12-05T18:35:18.974982Z"
    },
    "papermill": {
     "duration": 0.029066,
     "end_time": "2022-12-05T18:35:18.980218",
     "exception": false,
     "start_time": "2022-12-05T18:35:18.951152",
     "status": "completed"
    },
    "tags": []
   },
   "outputs": [
    {
     "data": {
      "text/html": [
       "<div>\n",
       "<style scoped>\n",
       "    .dataframe tbody tr th:only-of-type {\n",
       "        vertical-align: middle;\n",
       "    }\n",
       "\n",
       "    .dataframe tbody tr th {\n",
       "        vertical-align: top;\n",
       "    }\n",
       "\n",
       "    .dataframe thead th {\n",
       "        text-align: right;\n",
       "    }\n",
       "</style>\n",
       "<table border=\"1\" class=\"dataframe\">\n",
       "  <thead>\n",
       "    <tr style=\"text-align: right;\">\n",
       "      <th></th>\n",
       "      <th>C</th>\n",
       "    </tr>\n",
       "  </thead>\n",
       "  <tbody>\n",
       "    <tr>\n",
       "      <th>0</th>\n",
       "      <td>1</td>\n",
       "    </tr>\n",
       "    <tr>\n",
       "      <th>1</th>\n",
       "      <td>2</td>\n",
       "    </tr>\n",
       "    <tr>\n",
       "      <th>2</th>\n",
       "      <td>3</td>\n",
       "    </tr>\n",
       "  </tbody>\n",
       "</table>\n",
       "</div>"
      ],
      "text/plain": [
       "   C\n",
       "0  1\n",
       "1  2\n",
       "2  3"
      ]
     },
     "execution_count": 5,
     "metadata": {},
     "output_type": "execute_result"
    }
   ],
   "source": [
    "df.dropna(axis=1)"
   ]
  },
  {
   "cell_type": "code",
   "execution_count": 6,
   "id": "86d10644",
   "metadata": {
    "execution": {
     "iopub.execute_input": "2022-12-05T18:35:18.991424Z",
     "iopub.status.busy": "2022-12-05T18:35:18.990284Z",
     "iopub.status.idle": "2022-12-05T18:35:19.012275Z",
     "shell.execute_reply": "2022-12-05T18:35:19.009363Z"
    },
    "papermill": {
     "duration": 0.031112,
     "end_time": "2022-12-05T18:35:19.015500",
     "exception": false,
     "start_time": "2022-12-05T18:35:18.984388",
     "status": "completed"
    },
    "tags": []
   },
   "outputs": [
    {
     "data": {
      "text/html": [
       "<div>\n",
       "<style scoped>\n",
       "    .dataframe tbody tr th:only-of-type {\n",
       "        vertical-align: middle;\n",
       "    }\n",
       "\n",
       "    .dataframe tbody tr th {\n",
       "        vertical-align: top;\n",
       "    }\n",
       "\n",
       "    .dataframe thead th {\n",
       "        text-align: right;\n",
       "    }\n",
       "</style>\n",
       "<table border=\"1\" class=\"dataframe\">\n",
       "  <thead>\n",
       "    <tr style=\"text-align: right;\">\n",
       "      <th></th>\n",
       "      <th>A</th>\n",
       "      <th>B</th>\n",
       "      <th>C</th>\n",
       "    </tr>\n",
       "  </thead>\n",
       "  <tbody>\n",
       "    <tr>\n",
       "      <th>0</th>\n",
       "      <td>1.0</td>\n",
       "      <td>5.0</td>\n",
       "      <td>1</td>\n",
       "    </tr>\n",
       "  </tbody>\n",
       "</table>\n",
       "</div>"
      ],
      "text/plain": [
       "     A    B  C\n",
       "0  1.0  5.0  1"
      ]
     },
     "execution_count": 6,
     "metadata": {},
     "output_type": "execute_result"
    }
   ],
   "source": [
    "df.dropna()"
   ]
  },
  {
   "cell_type": "code",
   "execution_count": 7,
   "id": "9b83b5f1",
   "metadata": {
    "execution": {
     "iopub.execute_input": "2022-12-05T18:35:19.026833Z",
     "iopub.status.busy": "2022-12-05T18:35:19.026421Z",
     "iopub.status.idle": "2022-12-05T18:35:19.051481Z",
     "shell.execute_reply": "2022-12-05T18:35:19.049098Z"
    },
    "papermill": {
     "duration": 0.03413,
     "end_time": "2022-12-05T18:35:19.054701",
     "exception": false,
     "start_time": "2022-12-05T18:35:19.020571",
     "status": "completed"
    },
    "tags": []
   },
   "outputs": [
    {
     "data": {
      "text/html": [
       "<div>\n",
       "<style scoped>\n",
       "    .dataframe tbody tr th:only-of-type {\n",
       "        vertical-align: middle;\n",
       "    }\n",
       "\n",
       "    .dataframe tbody tr th {\n",
       "        vertical-align: top;\n",
       "    }\n",
       "\n",
       "    .dataframe thead th {\n",
       "        text-align: right;\n",
       "    }\n",
       "</style>\n",
       "<table border=\"1\" class=\"dataframe\">\n",
       "  <thead>\n",
       "    <tr style=\"text-align: right;\">\n",
       "      <th></th>\n",
       "      <th>A</th>\n",
       "      <th>B</th>\n",
       "      <th>C</th>\n",
       "    </tr>\n",
       "  </thead>\n",
       "  <tbody>\n",
       "    <tr>\n",
       "      <th>0</th>\n",
       "      <td>1.0</td>\n",
       "      <td>5.0</td>\n",
       "      <td>1</td>\n",
       "    </tr>\n",
       "    <tr>\n",
       "      <th>1</th>\n",
       "      <td>2.0</td>\n",
       "      <td>NaN</td>\n",
       "      <td>2</td>\n",
       "    </tr>\n",
       "  </tbody>\n",
       "</table>\n",
       "</div>"
      ],
      "text/plain": [
       "     A    B  C\n",
       "0  1.0  5.0  1\n",
       "1  2.0  NaN  2"
      ]
     },
     "execution_count": 7,
     "metadata": {},
     "output_type": "execute_result"
    }
   ],
   "source": [
    "#it keeps row 1, as it has at lest 2 not NaN entry\n",
    "df.dropna(thresh=2)"
   ]
  },
  {
   "cell_type": "code",
   "execution_count": 8,
   "id": "388c70fa",
   "metadata": {
    "execution": {
     "iopub.execute_input": "2022-12-05T18:35:19.065609Z",
     "iopub.status.busy": "2022-12-05T18:35:19.065179Z",
     "iopub.status.idle": "2022-12-05T18:35:19.083396Z",
     "shell.execute_reply": "2022-12-05T18:35:19.081889Z"
    },
    "papermill": {
     "duration": 0.027225,
     "end_time": "2022-12-05T18:35:19.086727",
     "exception": false,
     "start_time": "2022-12-05T18:35:19.059502",
     "status": "completed"
    },
    "tags": []
   },
   "outputs": [
    {
     "data": {
      "text/plain": [
       "0    1.0\n",
       "1    2.0\n",
       "2    1.5\n",
       "Name: A, dtype: float64"
      ]
     },
     "execution_count": 8,
     "metadata": {},
     "output_type": "execute_result"
    }
   ],
   "source": [
    "#replacing missing values\n",
    "df['A'].fillna(value=df['A'].mean())"
   ]
  },
  {
   "cell_type": "code",
   "execution_count": 9,
   "id": "00dc2be3",
   "metadata": {
    "execution": {
     "iopub.execute_input": "2022-12-05T18:35:19.100822Z",
     "iopub.status.busy": "2022-12-05T18:35:19.100271Z",
     "iopub.status.idle": "2022-12-05T18:35:19.117754Z",
     "shell.execute_reply": "2022-12-05T18:35:19.115547Z"
    },
    "papermill": {
     "duration": 0.029659,
     "end_time": "2022-12-05T18:35:19.121258",
     "exception": false,
     "start_time": "2022-12-05T18:35:19.091599",
     "status": "completed"
    },
    "tags": []
   },
   "outputs": [
    {
     "data": {
      "text/html": [
       "<div>\n",
       "<style scoped>\n",
       "    .dataframe tbody tr th:only-of-type {\n",
       "        vertical-align: middle;\n",
       "    }\n",
       "\n",
       "    .dataframe tbody tr th {\n",
       "        vertical-align: top;\n",
       "    }\n",
       "\n",
       "    .dataframe thead th {\n",
       "        text-align: right;\n",
       "    }\n",
       "</style>\n",
       "<table border=\"1\" class=\"dataframe\">\n",
       "  <thead>\n",
       "    <tr style=\"text-align: right;\">\n",
       "      <th></th>\n",
       "      <th>A</th>\n",
       "      <th>B</th>\n",
       "      <th>C</th>\n",
       "    </tr>\n",
       "  </thead>\n",
       "  <tbody>\n",
       "    <tr>\n",
       "      <th>0</th>\n",
       "      <td>1.0</td>\n",
       "      <td>5.0</td>\n",
       "      <td>1</td>\n",
       "    </tr>\n",
       "    <tr>\n",
       "      <th>1</th>\n",
       "      <td>2.0</td>\n",
       "      <td>value</td>\n",
       "      <td>2</td>\n",
       "    </tr>\n",
       "    <tr>\n",
       "      <th>2</th>\n",
       "      <td>value</td>\n",
       "      <td>value</td>\n",
       "      <td>3</td>\n",
       "    </tr>\n",
       "  </tbody>\n",
       "</table>\n",
       "</div>"
      ],
      "text/plain": [
       "       A      B  C\n",
       "0    1.0    5.0  1\n",
       "1    2.0  value  2\n",
       "2  value  value  3"
      ]
     },
     "execution_count": 9,
     "metadata": {},
     "output_type": "execute_result"
    }
   ],
   "source": [
    "#replacing with a string\n",
    "df.fillna(value=\"value\")"
   ]
  }
 ],
 "metadata": {
  "kernelspec": {
   "display_name": "Python 3",
   "language": "python",
   "name": "python3"
  },
  "language_info": {
   "codemirror_mode": {
    "name": "ipython",
    "version": 3
   },
   "file_extension": ".py",
   "mimetype": "text/x-python",
   "name": "python",
   "nbconvert_exporter": "python",
   "pygments_lexer": "ipython3",
   "version": "3.7.12"
  },
  "papermill": {
   "default_parameters": {},
   "duration": 13.328537,
   "end_time": "2022-12-05T18:35:20.053057",
   "environment_variables": {},
   "exception": null,
   "input_path": "__notebook__.ipynb",
   "output_path": "__notebook__.ipynb",
   "parameters": {},
   "start_time": "2022-12-05T18:35:06.724520",
   "version": "2.3.4"
  }
 },
 "nbformat": 4,
 "nbformat_minor": 5
}
