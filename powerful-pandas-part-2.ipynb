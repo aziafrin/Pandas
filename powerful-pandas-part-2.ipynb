{
 "cells": [
  {
   "cell_type": "markdown",
   "id": "3207505b",
   "metadata": {
    "_cell_guid": "b1076dfc-b9ad-4769-8c92-a6c4dae69d19",
    "_uuid": "8f2839f25d086af736a60e9eeb907d3b93b6e0e5",
    "papermill": {
     "duration": 0.007162,
     "end_time": "2022-12-06T08:05:37.859003",
     "exception": false,
     "start_time": "2022-12-06T08:05:37.851841",
     "status": "completed"
    },
    "tags": []
   },
   "source": [
    "## While analysing data we often face a problem of missing values in our data. Let's see how can we deal with that in python with pandas library."
   ]
  },
  {
   "cell_type": "code",
   "execution_count": 1,
   "id": "a799fe2c",
   "metadata": {
    "execution": {
     "iopub.execute_input": "2022-12-06T08:05:37.874645Z",
     "iopub.status.busy": "2022-12-06T08:05:37.873777Z",
     "iopub.status.idle": "2022-12-06T08:05:37.883824Z",
     "shell.execute_reply": "2022-12-06T08:05:37.882967Z"
    },
    "papermill": {
     "duration": 0.021171,
     "end_time": "2022-12-06T08:05:37.886358",
     "exception": false,
     "start_time": "2022-12-06T08:05:37.865187",
     "status": "completed"
    },
    "tags": []
   },
   "outputs": [],
   "source": [
    "import numpy as np\n",
    "import pandas as pd"
   ]
  },
  {
   "cell_type": "code",
   "execution_count": 2,
   "id": "be569898",
   "metadata": {
    "execution": {
     "iopub.execute_input": "2022-12-06T08:05:37.900715Z",
     "iopub.status.busy": "2022-12-06T08:05:37.900236Z",
     "iopub.status.idle": "2022-12-06T08:05:37.906038Z",
     "shell.execute_reply": "2022-12-06T08:05:37.904610Z"
    },
    "papermill": {
     "duration": 0.015592,
     "end_time": "2022-12-06T08:05:37.908454",
     "exception": false,
     "start_time": "2022-12-06T08:05:37.892862",
     "status": "completed"
    },
    "tags": []
   },
   "outputs": [],
   "source": [
    "d={'A':[1,2,np.nan],'B':[5,np.nan,np.nan],'C':[1,2,3]}"
   ]
  },
  {
   "cell_type": "code",
   "execution_count": 3,
   "id": "1d8f4c1d",
   "metadata": {
    "execution": {
     "iopub.execute_input": "2022-12-06T08:05:37.923575Z",
     "iopub.status.busy": "2022-12-06T08:05:37.922298Z",
     "iopub.status.idle": "2022-12-06T08:05:37.932037Z",
     "shell.execute_reply": "2022-12-06T08:05:37.930821Z"
    },
    "papermill": {
     "duration": 0.020444,
     "end_time": "2022-12-06T08:05:37.934984",
     "exception": false,
     "start_time": "2022-12-06T08:05:37.914540",
     "status": "completed"
    },
    "tags": []
   },
   "outputs": [],
   "source": [
    "df=pd.DataFrame(d)"
   ]
  },
  {
   "cell_type": "code",
   "execution_count": 4,
   "id": "f324cc48",
   "metadata": {
    "execution": {
     "iopub.execute_input": "2022-12-06T08:05:37.949761Z",
     "iopub.status.busy": "2022-12-06T08:05:37.948400Z",
     "iopub.status.idle": "2022-12-06T08:05:37.981235Z",
     "shell.execute_reply": "2022-12-06T08:05:37.979771Z"
    },
    "papermill": {
     "duration": 0.043605,
     "end_time": "2022-12-06T08:05:37.984729",
     "exception": false,
     "start_time": "2022-12-06T08:05:37.941124",
     "status": "completed"
    },
    "tags": []
   },
   "outputs": [
    {
     "data": {
      "text/html": [
       "<div>\n",
       "<style scoped>\n",
       "    .dataframe tbody tr th:only-of-type {\n",
       "        vertical-align: middle;\n",
       "    }\n",
       "\n",
       "    .dataframe tbody tr th {\n",
       "        vertical-align: top;\n",
       "    }\n",
       "\n",
       "    .dataframe thead th {\n",
       "        text-align: right;\n",
       "    }\n",
       "</style>\n",
       "<table border=\"1\" class=\"dataframe\">\n",
       "  <thead>\n",
       "    <tr style=\"text-align: right;\">\n",
       "      <th></th>\n",
       "      <th>A</th>\n",
       "      <th>B</th>\n",
       "      <th>C</th>\n",
       "    </tr>\n",
       "  </thead>\n",
       "  <tbody>\n",
       "    <tr>\n",
       "      <th>0</th>\n",
       "      <td>1.0</td>\n",
       "      <td>5.0</td>\n",
       "      <td>1</td>\n",
       "    </tr>\n",
       "    <tr>\n",
       "      <th>1</th>\n",
       "      <td>2.0</td>\n",
       "      <td>NaN</td>\n",
       "      <td>2</td>\n",
       "    </tr>\n",
       "    <tr>\n",
       "      <th>2</th>\n",
       "      <td>NaN</td>\n",
       "      <td>NaN</td>\n",
       "      <td>3</td>\n",
       "    </tr>\n",
       "  </tbody>\n",
       "</table>\n",
       "</div>"
      ],
      "text/plain": [
       "     A    B  C\n",
       "0  1.0  5.0  1\n",
       "1  2.0  NaN  2\n",
       "2  NaN  NaN  3"
      ]
     },
     "execution_count": 4,
     "metadata": {},
     "output_type": "execute_result"
    }
   ],
   "source": [
    "df"
   ]
  },
  {
   "cell_type": "code",
   "execution_count": 5,
   "id": "20b22cfe",
   "metadata": {
    "execution": {
     "iopub.execute_input": "2022-12-06T08:05:37.999190Z",
     "iopub.status.busy": "2022-12-06T08:05:37.998532Z",
     "iopub.status.idle": "2022-12-06T08:05:38.013511Z",
     "shell.execute_reply": "2022-12-06T08:05:38.012599Z"
    },
    "papermill": {
     "duration": 0.024777,
     "end_time": "2022-12-06T08:05:38.015695",
     "exception": false,
     "start_time": "2022-12-06T08:05:37.990918",
     "status": "completed"
    },
    "tags": []
   },
   "outputs": [
    {
     "data": {
      "text/html": [
       "<div>\n",
       "<style scoped>\n",
       "    .dataframe tbody tr th:only-of-type {\n",
       "        vertical-align: middle;\n",
       "    }\n",
       "\n",
       "    .dataframe tbody tr th {\n",
       "        vertical-align: top;\n",
       "    }\n",
       "\n",
       "    .dataframe thead th {\n",
       "        text-align: right;\n",
       "    }\n",
       "</style>\n",
       "<table border=\"1\" class=\"dataframe\">\n",
       "  <thead>\n",
       "    <tr style=\"text-align: right;\">\n",
       "      <th></th>\n",
       "      <th>C</th>\n",
       "    </tr>\n",
       "  </thead>\n",
       "  <tbody>\n",
       "    <tr>\n",
       "      <th>0</th>\n",
       "      <td>1</td>\n",
       "    </tr>\n",
       "    <tr>\n",
       "      <th>1</th>\n",
       "      <td>2</td>\n",
       "    </tr>\n",
       "    <tr>\n",
       "      <th>2</th>\n",
       "      <td>3</td>\n",
       "    </tr>\n",
       "  </tbody>\n",
       "</table>\n",
       "</div>"
      ],
      "text/plain": [
       "   C\n",
       "0  1\n",
       "1  2\n",
       "2  3"
      ]
     },
     "execution_count": 5,
     "metadata": {},
     "output_type": "execute_result"
    }
   ],
   "source": [
    "df.dropna(axis=1)"
   ]
  },
  {
   "cell_type": "code",
   "execution_count": 6,
   "id": "963102f6",
   "metadata": {
    "execution": {
     "iopub.execute_input": "2022-12-06T08:05:38.030331Z",
     "iopub.status.busy": "2022-12-06T08:05:38.029676Z",
     "iopub.status.idle": "2022-12-06T08:05:38.043490Z",
     "shell.execute_reply": "2022-12-06T08:05:38.042302Z"
    },
    "papermill": {
     "duration": 0.024027,
     "end_time": "2022-12-06T08:05:38.045918",
     "exception": false,
     "start_time": "2022-12-06T08:05:38.021891",
     "status": "completed"
    },
    "tags": []
   },
   "outputs": [
    {
     "data": {
      "text/html": [
       "<div>\n",
       "<style scoped>\n",
       "    .dataframe tbody tr th:only-of-type {\n",
       "        vertical-align: middle;\n",
       "    }\n",
       "\n",
       "    .dataframe tbody tr th {\n",
       "        vertical-align: top;\n",
       "    }\n",
       "\n",
       "    .dataframe thead th {\n",
       "        text-align: right;\n",
       "    }\n",
       "</style>\n",
       "<table border=\"1\" class=\"dataframe\">\n",
       "  <thead>\n",
       "    <tr style=\"text-align: right;\">\n",
       "      <th></th>\n",
       "      <th>A</th>\n",
       "      <th>B</th>\n",
       "      <th>C</th>\n",
       "    </tr>\n",
       "  </thead>\n",
       "  <tbody>\n",
       "    <tr>\n",
       "      <th>0</th>\n",
       "      <td>1.0</td>\n",
       "      <td>5.0</td>\n",
       "      <td>1</td>\n",
       "    </tr>\n",
       "  </tbody>\n",
       "</table>\n",
       "</div>"
      ],
      "text/plain": [
       "     A    B  C\n",
       "0  1.0  5.0  1"
      ]
     },
     "execution_count": 6,
     "metadata": {},
     "output_type": "execute_result"
    }
   ],
   "source": [
    "df.dropna()"
   ]
  },
  {
   "cell_type": "code",
   "execution_count": 7,
   "id": "b09a6910",
   "metadata": {
    "execution": {
     "iopub.execute_input": "2022-12-06T08:05:38.060815Z",
     "iopub.status.busy": "2022-12-06T08:05:38.060345Z",
     "iopub.status.idle": "2022-12-06T08:05:38.075589Z",
     "shell.execute_reply": "2022-12-06T08:05:38.074262Z"
    },
    "papermill": {
     "duration": 0.025918,
     "end_time": "2022-12-06T08:05:38.078294",
     "exception": false,
     "start_time": "2022-12-06T08:05:38.052376",
     "status": "completed"
    },
    "tags": []
   },
   "outputs": [
    {
     "data": {
      "text/html": [
       "<div>\n",
       "<style scoped>\n",
       "    .dataframe tbody tr th:only-of-type {\n",
       "        vertical-align: middle;\n",
       "    }\n",
       "\n",
       "    .dataframe tbody tr th {\n",
       "        vertical-align: top;\n",
       "    }\n",
       "\n",
       "    .dataframe thead th {\n",
       "        text-align: right;\n",
       "    }\n",
       "</style>\n",
       "<table border=\"1\" class=\"dataframe\">\n",
       "  <thead>\n",
       "    <tr style=\"text-align: right;\">\n",
       "      <th></th>\n",
       "      <th>A</th>\n",
       "      <th>B</th>\n",
       "      <th>C</th>\n",
       "    </tr>\n",
       "  </thead>\n",
       "  <tbody>\n",
       "    <tr>\n",
       "      <th>0</th>\n",
       "      <td>1.0</td>\n",
       "      <td>5.0</td>\n",
       "      <td>1</td>\n",
       "    </tr>\n",
       "    <tr>\n",
       "      <th>1</th>\n",
       "      <td>2.0</td>\n",
       "      <td>NaN</td>\n",
       "      <td>2</td>\n",
       "    </tr>\n",
       "  </tbody>\n",
       "</table>\n",
       "</div>"
      ],
      "text/plain": [
       "     A    B  C\n",
       "0  1.0  5.0  1\n",
       "1  2.0  NaN  2"
      ]
     },
     "execution_count": 7,
     "metadata": {},
     "output_type": "execute_result"
    }
   ],
   "source": [
    "#it keeps row 1, as it has at lest 2 not NaN entry\n",
    "df.dropna(thresh=2)"
   ]
  },
  {
   "cell_type": "code",
   "execution_count": 8,
   "id": "add44f4c",
   "metadata": {
    "execution": {
     "iopub.execute_input": "2022-12-06T08:05:38.095611Z",
     "iopub.status.busy": "2022-12-06T08:05:38.094456Z",
     "iopub.status.idle": "2022-12-06T08:05:38.106299Z",
     "shell.execute_reply": "2022-12-06T08:05:38.105131Z"
    },
    "papermill": {
     "duration": 0.022301,
     "end_time": "2022-12-06T08:05:38.108856",
     "exception": false,
     "start_time": "2022-12-06T08:05:38.086555",
     "status": "completed"
    },
    "tags": []
   },
   "outputs": [
    {
     "data": {
      "text/plain": [
       "0    1.0\n",
       "1    2.0\n",
       "2    1.5\n",
       "Name: A, dtype: float64"
      ]
     },
     "execution_count": 8,
     "metadata": {},
     "output_type": "execute_result"
    }
   ],
   "source": [
    "#replacing missing values\n",
    "df['A'].fillna(value=df['A'].mean())"
   ]
  },
  {
   "cell_type": "code",
   "execution_count": 9,
   "id": "6a8ba441",
   "metadata": {
    "execution": {
     "iopub.execute_input": "2022-12-06T08:05:38.124053Z",
     "iopub.status.busy": "2022-12-06T08:05:38.123634Z",
     "iopub.status.idle": "2022-12-06T08:05:38.136514Z",
     "shell.execute_reply": "2022-12-06T08:05:38.135087Z"
    },
    "papermill": {
     "duration": 0.023384,
     "end_time": "2022-12-06T08:05:38.138997",
     "exception": false,
     "start_time": "2022-12-06T08:05:38.115613",
     "status": "completed"
    },
    "tags": []
   },
   "outputs": [
    {
     "data": {
      "text/html": [
       "<div>\n",
       "<style scoped>\n",
       "    .dataframe tbody tr th:only-of-type {\n",
       "        vertical-align: middle;\n",
       "    }\n",
       "\n",
       "    .dataframe tbody tr th {\n",
       "        vertical-align: top;\n",
       "    }\n",
       "\n",
       "    .dataframe thead th {\n",
       "        text-align: right;\n",
       "    }\n",
       "</style>\n",
       "<table border=\"1\" class=\"dataframe\">\n",
       "  <thead>\n",
       "    <tr style=\"text-align: right;\">\n",
       "      <th></th>\n",
       "      <th>A</th>\n",
       "      <th>B</th>\n",
       "      <th>C</th>\n",
       "    </tr>\n",
       "  </thead>\n",
       "  <tbody>\n",
       "    <tr>\n",
       "      <th>0</th>\n",
       "      <td>1.0</td>\n",
       "      <td>5.0</td>\n",
       "      <td>1</td>\n",
       "    </tr>\n",
       "    <tr>\n",
       "      <th>1</th>\n",
       "      <td>2.0</td>\n",
       "      <td>value</td>\n",
       "      <td>2</td>\n",
       "    </tr>\n",
       "    <tr>\n",
       "      <th>2</th>\n",
       "      <td>value</td>\n",
       "      <td>value</td>\n",
       "      <td>3</td>\n",
       "    </tr>\n",
       "  </tbody>\n",
       "</table>\n",
       "</div>"
      ],
      "text/plain": [
       "       A      B  C\n",
       "0    1.0    5.0  1\n",
       "1    2.0  value  2\n",
       "2  value  value  3"
      ]
     },
     "execution_count": 9,
     "metadata": {},
     "output_type": "execute_result"
    }
   ],
   "source": [
    "#replacing with a string\n",
    "df.fillna(value=\"value\")"
   ]
  },
  {
   "cell_type": "markdown",
   "id": "3a119e38",
   "metadata": {
    "papermill": {
     "duration": 0.006543,
     "end_time": "2022-12-06T08:05:38.152413",
     "exception": false,
     "start_time": "2022-12-06T08:05:38.145870",
     "status": "completed"
    },
    "tags": []
   },
   "source": [
    "# Groupby\n",
    "## Using group by method to light a group rows of data together and call aggregate functions\n",
    "### Groupby allows you to group together rows based off of a column and perform an aggregate function on them"
   ]
  },
  {
   "cell_type": "code",
   "execution_count": 10,
   "id": "7011a856",
   "metadata": {
    "execution": {
     "iopub.execute_input": "2022-12-06T08:05:38.168073Z",
     "iopub.status.busy": "2022-12-06T08:05:38.167639Z",
     "iopub.status.idle": "2022-12-06T08:05:38.172355Z",
     "shell.execute_reply": "2022-12-06T08:05:38.171492Z"
    },
    "papermill": {
     "duration": 0.015641,
     "end_time": "2022-12-06T08:05:38.174885",
     "exception": false,
     "start_time": "2022-12-06T08:05:38.159244",
     "status": "completed"
    },
    "tags": []
   },
   "outputs": [],
   "source": [
    "import numpy as np\n",
    "import pandas as pd"
   ]
  },
  {
   "cell_type": "code",
   "execution_count": 11,
   "id": "7a33fcc5",
   "metadata": {
    "execution": {
     "iopub.execute_input": "2022-12-06T08:05:38.191198Z",
     "iopub.status.busy": "2022-12-06T08:05:38.190754Z",
     "iopub.status.idle": "2022-12-06T08:05:38.197107Z",
     "shell.execute_reply": "2022-12-06T08:05:38.195734Z"
    },
    "papermill": {
     "duration": 0.017722,
     "end_time": "2022-12-06T08:05:38.199816",
     "exception": false,
     "start_time": "2022-12-06T08:05:38.182094",
     "status": "completed"
    },
    "tags": []
   },
   "outputs": [],
   "source": [
    "data={'Company':['Gp','Gp','Teletalk','Teletal','Robi','Robi'],\n",
    "                'Person':['Alam','Mim','Tina','Rimi','Rafi','Pranto'],\n",
    "                'Sales':[200,170,225,439,410,324]}"
   ]
  },
  {
   "cell_type": "code",
   "execution_count": 12,
   "id": "2062d2ae",
   "metadata": {
    "execution": {
     "iopub.execute_input": "2022-12-06T08:05:38.216253Z",
     "iopub.status.busy": "2022-12-06T08:05:38.215708Z",
     "iopub.status.idle": "2022-12-06T08:05:38.221726Z",
     "shell.execute_reply": "2022-12-06T08:05:38.220747Z"
    },
    "papermill": {
     "duration": 0.017469,
     "end_time": "2022-12-06T08:05:38.224190",
     "exception": false,
     "start_time": "2022-12-06T08:05:38.206721",
     "status": "completed"
    },
    "tags": []
   },
   "outputs": [],
   "source": [
    "df=pd.DataFrame(data)"
   ]
  },
  {
   "cell_type": "code",
   "execution_count": 13,
   "id": "78f20c77",
   "metadata": {
    "execution": {
     "iopub.execute_input": "2022-12-06T08:05:38.240599Z",
     "iopub.status.busy": "2022-12-06T08:05:38.239809Z",
     "iopub.status.idle": "2022-12-06T08:05:38.250537Z",
     "shell.execute_reply": "2022-12-06T08:05:38.249370Z"
    },
    "papermill": {
     "duration": 0.021894,
     "end_time": "2022-12-06T08:05:38.253018",
     "exception": false,
     "start_time": "2022-12-06T08:05:38.231124",
     "status": "completed"
    },
    "tags": []
   },
   "outputs": [
    {
     "data": {
      "text/html": [
       "<div>\n",
       "<style scoped>\n",
       "    .dataframe tbody tr th:only-of-type {\n",
       "        vertical-align: middle;\n",
       "    }\n",
       "\n",
       "    .dataframe tbody tr th {\n",
       "        vertical-align: top;\n",
       "    }\n",
       "\n",
       "    .dataframe thead th {\n",
       "        text-align: right;\n",
       "    }\n",
       "</style>\n",
       "<table border=\"1\" class=\"dataframe\">\n",
       "  <thead>\n",
       "    <tr style=\"text-align: right;\">\n",
       "      <th></th>\n",
       "      <th>Company</th>\n",
       "      <th>Person</th>\n",
       "      <th>Sales</th>\n",
       "    </tr>\n",
       "  </thead>\n",
       "  <tbody>\n",
       "    <tr>\n",
       "      <th>0</th>\n",
       "      <td>Gp</td>\n",
       "      <td>Alam</td>\n",
       "      <td>200</td>\n",
       "    </tr>\n",
       "    <tr>\n",
       "      <th>1</th>\n",
       "      <td>Gp</td>\n",
       "      <td>Mim</td>\n",
       "      <td>170</td>\n",
       "    </tr>\n",
       "    <tr>\n",
       "      <th>2</th>\n",
       "      <td>Teletalk</td>\n",
       "      <td>Tina</td>\n",
       "      <td>225</td>\n",
       "    </tr>\n",
       "    <tr>\n",
       "      <th>3</th>\n",
       "      <td>Teletal</td>\n",
       "      <td>Rimi</td>\n",
       "      <td>439</td>\n",
       "    </tr>\n",
       "    <tr>\n",
       "      <th>4</th>\n",
       "      <td>Robi</td>\n",
       "      <td>Rafi</td>\n",
       "      <td>410</td>\n",
       "    </tr>\n",
       "    <tr>\n",
       "      <th>5</th>\n",
       "      <td>Robi</td>\n",
       "      <td>Pranto</td>\n",
       "      <td>324</td>\n",
       "    </tr>\n",
       "  </tbody>\n",
       "</table>\n",
       "</div>"
      ],
      "text/plain": [
       "    Company  Person  Sales\n",
       "0        Gp    Alam    200\n",
       "1        Gp     Mim    170\n",
       "2  Teletalk    Tina    225\n",
       "3   Teletal    Rimi    439\n",
       "4      Robi    Rafi    410\n",
       "5      Robi  Pranto    324"
      ]
     },
     "execution_count": 13,
     "metadata": {},
     "output_type": "execute_result"
    }
   ],
   "source": [
    "df"
   ]
  },
  {
   "cell_type": "code",
   "execution_count": 14,
   "id": "6fca5e7d",
   "metadata": {
    "execution": {
     "iopub.execute_input": "2022-12-06T08:05:38.269567Z",
     "iopub.status.busy": "2022-12-06T08:05:38.268773Z",
     "iopub.status.idle": "2022-12-06T08:05:38.273666Z",
     "shell.execute_reply": "2022-12-06T08:05:38.272774Z"
    },
    "papermill": {
     "duration": 0.016,
     "end_time": "2022-12-06T08:05:38.276085",
     "exception": false,
     "start_time": "2022-12-06T08:05:38.260085",
     "status": "completed"
    },
    "tags": []
   },
   "outputs": [],
   "source": [
    "df_new=df.groupby('Company')"
   ]
  },
  {
   "cell_type": "code",
   "execution_count": 15,
   "id": "a17fbcf1",
   "metadata": {
    "execution": {
     "iopub.execute_input": "2022-12-06T08:05:38.292519Z",
     "iopub.status.busy": "2022-12-06T08:05:38.292070Z",
     "iopub.status.idle": "2022-12-06T08:05:38.308209Z",
     "shell.execute_reply": "2022-12-06T08:05:38.307179Z"
    },
    "papermill": {
     "duration": 0.026657,
     "end_time": "2022-12-06T08:05:38.310369",
     "exception": false,
     "start_time": "2022-12-06T08:05:38.283712",
     "status": "completed"
    },
    "tags": []
   },
   "outputs": [
    {
     "data": {
      "text/html": [
       "<div>\n",
       "<style scoped>\n",
       "    .dataframe tbody tr th:only-of-type {\n",
       "        vertical-align: middle;\n",
       "    }\n",
       "\n",
       "    .dataframe tbody tr th {\n",
       "        vertical-align: top;\n",
       "    }\n",
       "\n",
       "    .dataframe thead th {\n",
       "        text-align: right;\n",
       "    }\n",
       "</style>\n",
       "<table border=\"1\" class=\"dataframe\">\n",
       "  <thead>\n",
       "    <tr style=\"text-align: right;\">\n",
       "      <th></th>\n",
       "      <th>Sales</th>\n",
       "    </tr>\n",
       "    <tr>\n",
       "      <th>Company</th>\n",
       "      <th></th>\n",
       "    </tr>\n",
       "  </thead>\n",
       "  <tbody>\n",
       "    <tr>\n",
       "      <th>Gp</th>\n",
       "      <td>185.0</td>\n",
       "    </tr>\n",
       "    <tr>\n",
       "      <th>Robi</th>\n",
       "      <td>367.0</td>\n",
       "    </tr>\n",
       "    <tr>\n",
       "      <th>Teletal</th>\n",
       "      <td>439.0</td>\n",
       "    </tr>\n",
       "    <tr>\n",
       "      <th>Teletalk</th>\n",
       "      <td>225.0</td>\n",
       "    </tr>\n",
       "  </tbody>\n",
       "</table>\n",
       "</div>"
      ],
      "text/plain": [
       "          Sales\n",
       "Company        \n",
       "Gp        185.0\n",
       "Robi      367.0\n",
       "Teletal   439.0\n",
       "Teletalk  225.0"
      ]
     },
     "execution_count": 15,
     "metadata": {},
     "output_type": "execute_result"
    }
   ],
   "source": [
    "df_new.mean()"
   ]
  },
  {
   "cell_type": "code",
   "execution_count": 16,
   "id": "a1df8263",
   "metadata": {
    "execution": {
     "iopub.execute_input": "2022-12-06T08:05:38.326934Z",
     "iopub.status.busy": "2022-12-06T08:05:38.326128Z",
     "iopub.status.idle": "2022-12-06T08:05:38.333520Z",
     "shell.execute_reply": "2022-12-06T08:05:38.332254Z"
    },
    "papermill": {
     "duration": 0.019464,
     "end_time": "2022-12-06T08:05:38.336837",
     "exception": false,
     "start_time": "2022-12-06T08:05:38.317373",
     "status": "completed"
    },
    "tags": []
   },
   "outputs": [
    {
     "data": {
      "text/plain": [
       "<bound method GroupBy.std of <pandas.core.groupby.generic.DataFrameGroupBy object at 0x7fdcb79ea790>>"
      ]
     },
     "execution_count": 16,
     "metadata": {},
     "output_type": "execute_result"
    }
   ],
   "source": [
    "df_new.sum\n",
    "df_new.std"
   ]
  },
  {
   "cell_type": "code",
   "execution_count": 17,
   "id": "24b0615a",
   "metadata": {
    "execution": {
     "iopub.execute_input": "2022-12-06T08:05:38.353884Z",
     "iopub.status.busy": "2022-12-06T08:05:38.353414Z",
     "iopub.status.idle": "2022-12-06T08:05:38.367422Z",
     "shell.execute_reply": "2022-12-06T08:05:38.365640Z"
    },
    "papermill": {
     "duration": 0.025713,
     "end_time": "2022-12-06T08:05:38.369991",
     "exception": false,
     "start_time": "2022-12-06T08:05:38.344278",
     "status": "completed"
    },
    "tags": []
   },
   "outputs": [
    {
     "data": {
      "text/plain": [
       "Sales    370\n",
       "Name: Gp, dtype: int64"
      ]
     },
     "execution_count": 17,
     "metadata": {},
     "output_type": "execute_result"
    }
   ],
   "source": [
    "df_new.sum().loc['Gp']"
   ]
  },
  {
   "cell_type": "code",
   "execution_count": 18,
   "id": "9eca8598",
   "metadata": {
    "execution": {
     "iopub.execute_input": "2022-12-06T08:05:38.386962Z",
     "iopub.status.busy": "2022-12-06T08:05:38.386490Z",
     "iopub.status.idle": "2022-12-06T08:05:38.399373Z",
     "shell.execute_reply": "2022-12-06T08:05:38.397604Z"
    },
    "papermill": {
     "duration": 0.025194,
     "end_time": "2022-12-06T08:05:38.402610",
     "exception": false,
     "start_time": "2022-12-06T08:05:38.377416",
     "status": "completed"
    },
    "tags": []
   },
   "outputs": [
    {
     "data": {
      "text/plain": [
       "Sales    370\n",
       "Name: Gp, dtype: int64"
      ]
     },
     "execution_count": 18,
     "metadata": {},
     "output_type": "execute_result"
    }
   ],
   "source": [
    "df.groupby('Company').sum().loc['Gp']"
   ]
  },
  {
   "cell_type": "code",
   "execution_count": 19,
   "id": "32f57dd5",
   "metadata": {
    "execution": {
     "iopub.execute_input": "2022-12-06T08:05:38.420400Z",
     "iopub.status.busy": "2022-12-06T08:05:38.419851Z",
     "iopub.status.idle": "2022-12-06T08:05:38.431260Z",
     "shell.execute_reply": "2022-12-06T08:05:38.430310Z"
    },
    "papermill": {
     "duration": 0.023081,
     "end_time": "2022-12-06T08:05:38.433562",
     "exception": false,
     "start_time": "2022-12-06T08:05:38.410481",
     "status": "completed"
    },
    "tags": []
   },
   "outputs": [
    {
     "data": {
      "text/html": [
       "<div>\n",
       "<style scoped>\n",
       "    .dataframe tbody tr th:only-of-type {\n",
       "        vertical-align: middle;\n",
       "    }\n",
       "\n",
       "    .dataframe tbody tr th {\n",
       "        vertical-align: top;\n",
       "    }\n",
       "\n",
       "    .dataframe thead th {\n",
       "        text-align: right;\n",
       "    }\n",
       "</style>\n",
       "<table border=\"1\" class=\"dataframe\">\n",
       "  <thead>\n",
       "    <tr style=\"text-align: right;\">\n",
       "      <th></th>\n",
       "      <th>Person</th>\n",
       "      <th>Sales</th>\n",
       "    </tr>\n",
       "    <tr>\n",
       "      <th>Company</th>\n",
       "      <th></th>\n",
       "      <th></th>\n",
       "    </tr>\n",
       "  </thead>\n",
       "  <tbody>\n",
       "    <tr>\n",
       "      <th>Gp</th>\n",
       "      <td>2</td>\n",
       "      <td>2</td>\n",
       "    </tr>\n",
       "    <tr>\n",
       "      <th>Robi</th>\n",
       "      <td>2</td>\n",
       "      <td>2</td>\n",
       "    </tr>\n",
       "    <tr>\n",
       "      <th>Teletal</th>\n",
       "      <td>1</td>\n",
       "      <td>1</td>\n",
       "    </tr>\n",
       "    <tr>\n",
       "      <th>Teletalk</th>\n",
       "      <td>1</td>\n",
       "      <td>1</td>\n",
       "    </tr>\n",
       "  </tbody>\n",
       "</table>\n",
       "</div>"
      ],
      "text/plain": [
       "          Person  Sales\n",
       "Company                \n",
       "Gp             2      2\n",
       "Robi           2      2\n",
       "Teletal        1      1\n",
       "Teletalk       1      1"
      ]
     },
     "execution_count": 19,
     "metadata": {},
     "output_type": "execute_result"
    }
   ],
   "source": [
    "df.groupby('Company').count() "
   ]
  },
  {
   "cell_type": "code",
   "execution_count": 20,
   "id": "49735831",
   "metadata": {
    "execution": {
     "iopub.execute_input": "2022-12-06T08:05:38.451113Z",
     "iopub.status.busy": "2022-12-06T08:05:38.450653Z",
     "iopub.status.idle": "2022-12-06T08:05:38.471230Z",
     "shell.execute_reply": "2022-12-06T08:05:38.470015Z"
    },
    "papermill": {
     "duration": 0.0324,
     "end_time": "2022-12-06T08:05:38.473868",
     "exception": false,
     "start_time": "2022-12-06T08:05:38.441468",
     "status": "completed"
    },
    "tags": []
   },
   "outputs": [
    {
     "data": {
      "text/html": [
       "<div>\n",
       "<style scoped>\n",
       "    .dataframe tbody tr th:only-of-type {\n",
       "        vertical-align: middle;\n",
       "    }\n",
       "\n",
       "    .dataframe tbody tr th {\n",
       "        vertical-align: top;\n",
       "    }\n",
       "\n",
       "    .dataframe thead th {\n",
       "        text-align: right;\n",
       "    }\n",
       "</style>\n",
       "<table border=\"1\" class=\"dataframe\">\n",
       "  <thead>\n",
       "    <tr style=\"text-align: right;\">\n",
       "      <th></th>\n",
       "      <th>Person</th>\n",
       "      <th>Sales</th>\n",
       "    </tr>\n",
       "    <tr>\n",
       "      <th>Company</th>\n",
       "      <th></th>\n",
       "      <th></th>\n",
       "    </tr>\n",
       "  </thead>\n",
       "  <tbody>\n",
       "    <tr>\n",
       "      <th>Gp</th>\n",
       "      <td>Mim</td>\n",
       "      <td>200</td>\n",
       "    </tr>\n",
       "    <tr>\n",
       "      <th>Robi</th>\n",
       "      <td>Rafi</td>\n",
       "      <td>410</td>\n",
       "    </tr>\n",
       "    <tr>\n",
       "      <th>Teletal</th>\n",
       "      <td>Rimi</td>\n",
       "      <td>439</td>\n",
       "    </tr>\n",
       "    <tr>\n",
       "      <th>Teletalk</th>\n",
       "      <td>Tina</td>\n",
       "      <td>225</td>\n",
       "    </tr>\n",
       "  </tbody>\n",
       "</table>\n",
       "</div>"
      ],
      "text/plain": [
       "         Person  Sales\n",
       "Company               \n",
       "Gp          Mim    200\n",
       "Robi       Rafi    410\n",
       "Teletal    Rimi    439\n",
       "Teletalk   Tina    225"
      ]
     },
     "execution_count": 20,
     "metadata": {},
     "output_type": "execute_result"
    }
   ],
   "source": [
    "df.groupby('Company').max() "
   ]
  },
  {
   "cell_type": "code",
   "execution_count": 21,
   "id": "5eddcfa8",
   "metadata": {
    "execution": {
     "iopub.execute_input": "2022-12-06T08:05:38.492440Z",
     "iopub.status.busy": "2022-12-06T08:05:38.491680Z",
     "iopub.status.idle": "2022-12-06T08:05:38.525026Z",
     "shell.execute_reply": "2022-12-06T08:05:38.524213Z"
    },
    "papermill": {
     "duration": 0.045376,
     "end_time": "2022-12-06T08:05:38.527342",
     "exception": false,
     "start_time": "2022-12-06T08:05:38.481966",
     "status": "completed"
    },
    "tags": []
   },
   "outputs": [
    {
     "data": {
      "text/plain": [
       "Sales  count      2.000000\n",
       "       mean     185.000000\n",
       "       std       21.213203\n",
       "       min      170.000000\n",
       "       25%      177.500000\n",
       "       50%      185.000000\n",
       "       75%      192.500000\n",
       "       max      200.000000\n",
       "Name: Gp, dtype: float64"
      ]
     },
     "execution_count": 21,
     "metadata": {},
     "output_type": "execute_result"
    }
   ],
   "source": [
    "df.groupby('Company').describe().transpose()['Gp']"
   ]
  },
  {
   "cell_type": "code",
   "execution_count": null,
   "id": "149ef353",
   "metadata": {
    "papermill": {
     "duration": 0.007532,
     "end_time": "2022-12-06T08:05:38.542770",
     "exception": false,
     "start_time": "2022-12-06T08:05:38.535238",
     "status": "completed"
    },
    "tags": []
   },
   "outputs": [],
   "source": []
  }
 ],
 "metadata": {
  "kernelspec": {
   "display_name": "Python 3",
   "language": "python",
   "name": "python3"
  },
  "language_info": {
   "codemirror_mode": {
    "name": "ipython",
    "version": 3
   },
   "file_extension": ".py",
   "mimetype": "text/x-python",
   "name": "python",
   "nbconvert_exporter": "python",
   "pygments_lexer": "ipython3",
   "version": "3.7.12"
  },
  "papermill": {
   "default_parameters": {},
   "duration": 12.818228,
   "end_time": "2022-12-06T08:05:39.276000",
   "environment_variables": {},
   "exception": null,
   "input_path": "__notebook__.ipynb",
   "output_path": "__notebook__.ipynb",
   "parameters": {},
   "start_time": "2022-12-06T08:05:26.457772",
   "version": "2.3.4"
  }
 },
 "nbformat": 4,
 "nbformat_minor": 5
}
